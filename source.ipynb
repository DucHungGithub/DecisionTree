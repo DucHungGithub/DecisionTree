{
  "cells": [
    {
      "cell_type": "markdown",
      "metadata": {
        "id": "AYYOC8xwVz3c"
      },
      "source": [
        "# 1.Download dataset"
      ]
    },
    {
      "cell_type": "code",
      "execution_count": 6,
      "metadata": {
        "execution": {
          "iopub.execute_input": "2023-12-07T02:31:39.692345Z",
          "iopub.status.busy": "2023-12-07T02:31:39.691884Z",
          "iopub.status.idle": "2023-12-07T02:31:53.924347Z",
          "shell.execute_reply": "2023-12-07T02:31:53.922694Z",
          "shell.execute_reply.started": "2023-12-07T02:31:39.692307Z"
        },
        "trusted": true,
        "colab": {
          "base_uri": "https://localhost:8080/"
        },
        "id": "wem2PeejVz3k",
        "outputId": "2f5a5918-969e-484a-8315-2d623eca2ad9"
      },
      "outputs": [
        {
          "output_type": "stream",
          "name": "stdout",
          "text": [
            "Collecting ucimlrepo\n",
            "  Downloading ucimlrepo-0.0.3-py3-none-any.whl (7.0 kB)\n",
            "Installing collected packages: ucimlrepo\n",
            "Successfully installed ucimlrepo-0.0.3\n"
          ]
        }
      ],
      "source": [
        "pip install ucimlrepo"
      ]
    },
    {
      "cell_type": "code",
      "execution_count": 7,
      "metadata": {
        "execution": {
          "iopub.execute_input": "2023-12-07T02:31:57.338752Z",
          "iopub.status.busy": "2023-12-07T02:31:57.338332Z",
          "iopub.status.idle": "2023-12-07T02:31:57.344450Z",
          "shell.execute_reply": "2023-12-07T02:31:57.343434Z",
          "shell.execute_reply.started": "2023-12-07T02:31:57.338715Z"
        },
        "trusted": true,
        "id": "5n6UvRJ7Vz3u"
      },
      "outputs": [],
      "source": [
        "import os\n",
        "import pandas as pd"
      ]
    },
    {
      "cell_type": "code",
      "execution_count": 8,
      "metadata": {
        "execution": {
          "iopub.execute_input": "2023-12-07T02:31:59.951793Z",
          "iopub.status.busy": "2023-12-07T02:31:59.951420Z",
          "iopub.status.idle": "2023-12-07T02:31:59.957352Z",
          "shell.execute_reply": "2023-12-07T02:31:59.956321Z",
          "shell.execute_reply.started": "2023-12-07T02:31:59.951764Z"
        },
        "trusted": true,
        "id": "21_dMlR3Vz3w"
      },
      "outputs": [],
      "source": [
        "if not os.path.isdir(\"Data\"):\n",
        "    os.mkdir(\"Data\")"
      ]
    },
    {
      "cell_type": "code",
      "execution_count": 9,
      "metadata": {
        "execution": {
          "iopub.execute_input": "2023-12-07T02:32:09.231402Z",
          "iopub.status.busy": "2023-12-07T02:32:09.230877Z",
          "iopub.status.idle": "2023-12-07T02:32:10.820869Z",
          "shell.execute_reply": "2023-12-07T02:32:10.819719Z",
          "shell.execute_reply.started": "2023-12-07T02:32:09.231366Z"
        },
        "trusted": true,
        "colab": {
          "base_uri": "https://localhost:8080/"
        },
        "id": "Qm_FrVm3Vz3w",
        "outputId": "d74dabd5-aac5-4689-c8fa-95859c239246"
      },
      "outputs": [
        {
          "output_type": "stream",
          "name": "stdout",
          "text": [
            "{'uci_id': 109, 'name': 'Wine', 'repository_url': 'https://archive.ics.uci.edu/dataset/109/wine', 'data_url': 'https://archive.ics.uci.edu/static/public/109/data.csv', 'abstract': 'Using chemical analysis to determine the origin of wines', 'area': 'Physics and Chemistry', 'tasks': ['Classification'], 'characteristics': ['Tabular'], 'num_instances': 178, 'num_features': 13, 'feature_types': ['Integer', 'Real'], 'demographics': [], 'target_col': ['class'], 'index_col': None, 'has_missing_values': 'no', 'missing_values_symbol': None, 'year_of_dataset_creation': 1992, 'last_updated': 'Mon Aug 28 2023', 'dataset_doi': '10.24432/C5PC7J', 'creators': ['Stefan Aeberhard', 'M. Forina'], 'intro_paper': {'title': 'Comparative analysis of statistical pattern recognition methods in high dimensional settings', 'authors': 'S. Aeberhard, D. Coomans, O. Vel', 'published_in': 'Pattern Recognition', 'year': 1994, 'url': 'https://www.semanticscholar.org/paper/83dc3e4030d7b9fbdbb4bde03ce12ab70ca10528', 'doi': '10.1016/0031-3203(94)90145-7'}, 'additional_info': {'summary': 'These data are the results of a chemical analysis of wines grown in the same region in Italy but derived from three different cultivars. The analysis determined the quantities of 13 constituents found in each of the three types of wines. \\r\\n\\r\\nI think that the initial data set had around 30 variables, but for some reason I only have the 13 dimensional version. I had a list of what the 30 or so variables were, but a.)  I lost it, and b.), I would not know which 13 variables are included in the set.\\r\\n\\r\\nThe attributes are (dontated by Riccardo Leardi, riclea@anchem.unige.it )\\r\\n1) Alcohol\\r\\n2) Malic acid\\r\\n3) Ash\\r\\n4) Alcalinity of ash  \\r\\n5) Magnesium\\r\\n6) Total phenols\\r\\n7) Flavanoids\\r\\n8) Nonflavanoid phenols\\r\\n9) Proanthocyanins\\r\\n10)Color intensity\\r\\n11)Hue\\r\\n12)OD280/OD315 of diluted wines\\r\\n13)Proline \\r\\n\\r\\nIn a classification context, this is a well posed problem with \"well behaved\" class structures. A good data set for first testing of a new classifier, but not very challenging.           ', 'purpose': 'test', 'funded_by': None, 'instances_represent': None, 'recommended_data_splits': None, 'sensitive_data': None, 'preprocessing_description': None, 'variable_info': 'All attributes are continuous\\r\\n\\t\\r\\nNo statistics available, but suggest to standardise variables for certain uses (e.g. for us with classifiers which are NOT scale invariant)\\r\\n\\r\\nNOTE: 1st attribute is class identifier (1-3)', 'citation': None}}\n",
            "                            name     role         type demographic  \\\n",
            "0                          class   Target  Categorical        None   \n",
            "1                        Alcohol  Feature   Continuous        None   \n",
            "2                      Malicacid  Feature   Continuous        None   \n",
            "3                            Ash  Feature   Continuous        None   \n",
            "4              Alcalinity_of_ash  Feature   Continuous        None   \n",
            "5                      Magnesium  Feature      Integer        None   \n",
            "6                  Total_phenols  Feature   Continuous        None   \n",
            "7                     Flavanoids  Feature   Continuous        None   \n",
            "8           Nonflavanoid_phenols  Feature   Continuous        None   \n",
            "9                Proanthocyanins  Feature   Continuous        None   \n",
            "10               Color_intensity  Feature   Continuous        None   \n",
            "11                           Hue  Feature   Continuous        None   \n",
            "12  0D280_0D315_of_diluted_wines  Feature   Continuous        None   \n",
            "13                       Proline  Feature      Integer        None   \n",
            "\n",
            "   description units missing_values  \n",
            "0         None  None             no  \n",
            "1         None  None             no  \n",
            "2         None  None             no  \n",
            "3         None  None             no  \n",
            "4         None  None             no  \n",
            "5         None  None             no  \n",
            "6         None  None             no  \n",
            "7         None  None             no  \n",
            "8         None  None             no  \n",
            "9         None  None             no  \n",
            "10        None  None             no  \n",
            "11        None  None             no  \n",
            "12        None  None             no  \n",
            "13        None  None             no  \n"
          ]
        }
      ],
      "source": [
        "from ucimlrepo import fetch_ucirepo\n",
        "\n",
        "# fetch dataset\n",
        "wine = fetch_ucirepo(id=109)\n",
        "\n",
        "# data (as pandas dataframes)\n",
        "X = wine.data.features\n",
        "y = wine.data.targets\n",
        "\n",
        "# metadata\n",
        "print(wine.metadata)\n",
        "\n",
        "# variable information\n",
        "print(wine.variables)\n",
        "X.to_csv(\"Data/Features.csv\",index = False)\n",
        "y.to_csv(\"Data/Labels.csv\", index = False)"
      ]
    },
    {
      "cell_type": "markdown",
      "metadata": {
        "id": "mghpcjeYVz3y"
      },
      "source": [
        "# 2.Preparing the data sets"
      ]
    },
    {
      "cell_type": "markdown",
      "metadata": {
        "id": "gb6mSz1TVz3z"
      },
      "source": [
        "## SPLIT TRAIN TEST"
      ]
    },
    {
      "cell_type": "code",
      "execution_count": 10,
      "metadata": {
        "execution": {
          "iopub.execute_input": "2023-12-07T02:32:20.941548Z",
          "iopub.status.busy": "2023-12-07T02:32:20.941001Z",
          "iopub.status.idle": "2023-12-07T02:32:20.947838Z",
          "shell.execute_reply": "2023-12-07T02:32:20.946460Z",
          "shell.execute_reply.started": "2023-12-07T02:32:20.941470Z"
        },
        "trusted": true,
        "id": "Dkvt5MCHVz30"
      },
      "outputs": [],
      "source": [
        "from sklearn.model_selection import train_test_split"
      ]
    },
    {
      "cell_type": "code",
      "execution_count": 35,
      "metadata": {
        "execution": {
          "iopub.execute_input": "2023-12-07T02:32:23.292868Z",
          "iopub.status.busy": "2023-12-07T02:32:23.292426Z",
          "iopub.status.idle": "2023-12-07T02:32:23.299352Z",
          "shell.execute_reply": "2023-12-07T02:32:23.297793Z",
          "shell.execute_reply.started": "2023-12-07T02:32:23.292835Z"
        },
        "trusted": true,
        "id": "3QrQoSn6Vz31"
      },
      "outputs": [],
      "source": [
        "proportion_train_test = [(0.4,0.6),(0.6,0.4),(0.8,0.2),(0.9,0.1)]\n",
        "dataset = []"
      ]
    },
    {
      "cell_type": "code",
      "execution_count": 12,
      "metadata": {
        "execution": {
          "iopub.execute_input": "2023-12-07T02:58:28.171702Z",
          "iopub.status.busy": "2023-12-07T02:58:28.171224Z",
          "iopub.status.idle": "2023-12-07T02:58:28.227626Z",
          "shell.execute_reply": "2023-12-07T02:58:28.226517Z",
          "shell.execute_reply.started": "2023-12-07T02:58:28.171667Z"
        },
        "trusted": true,
        "id": "ykoLUDgxVz33"
      },
      "outputs": [],
      "source": [
        "for proportion in proportion_train_test:\n",
        "    feature_train, feature_test, label_train, label_test = train_test_split(X, y, test_size = proportion[1], random_state=28,stratify=y)\n",
        "    dataset.append((feature_train, feature_test, label_train, label_test))\n",
        "    filepath = f\"Data/Dataset_{round(proportion[0]*100)}_{round(proportion[1]*100)}\"\n",
        "    if not os.path.isdir(filepath):\n",
        "        os.mkdir(filepath)\n",
        "    feature_train.to_csv(f\"{filepath}/feature_train_{round(proportion[0]*100)}_{round(proportion[1]*100)}.csv\", index = False)\n",
        "    label_train.to_csv(f\"{filepath}/label_train_{round(proportion[0]*100)}_{round(proportion[1]*100)}.csv\", index = False)\n",
        "    feature_test.to_csv(f\"{filepath}/feature_test_{round(proportion[0]*100)}_{round(proportion[1]*100)}.csv\", index= False)\n",
        "    label_test.to_csv(f\"{filepath}/label_test_{round(proportion[0]*100)}_{round(proportion[1]*100)}.csv\", index = False)"
      ]
    },
    {
      "cell_type": "markdown",
      "metadata": {
        "id": "7zLSUNUOVz34"
      },
      "source": [
        "## VISUALIZE ALL CLASSES"
      ]
    },
    {
      "cell_type": "code",
      "execution_count": 13,
      "metadata": {
        "execution": {
          "iopub.execute_input": "2023-12-07T02:34:34.723293Z",
          "iopub.status.busy": "2023-12-07T02:34:34.722845Z",
          "iopub.status.idle": "2023-12-07T02:34:34.728189Z",
          "shell.execute_reply": "2023-12-07T02:34:34.727266Z",
          "shell.execute_reply.started": "2023-12-07T02:34:34.723255Z"
        },
        "trusted": true,
        "id": "k0wSJTjVVz34"
      },
      "outputs": [],
      "source": [
        "import matplotlib.pyplot as plt"
      ]
    },
    {
      "cell_type": "code",
      "source": [
        "filepath = \"Charts\"\n",
        "if not os.path.isdir(filepath):\n",
        "        os.mkdir(filepath)"
      ],
      "metadata": {
        "id": "ocKOvQm7DpJT"
      },
      "execution_count": 39,
      "outputs": []
    },
    {
      "cell_type": "markdown",
      "metadata": {
        "id": "B8YjKoTtVz35"
      },
      "source": [
        "### 40/60"
      ]
    },
    {
      "cell_type": "code",
      "execution_count": 40,
      "metadata": {
        "execution": {
          "iopub.execute_input": "2023-12-06T15:48:10.352982Z",
          "iopub.status.busy": "2023-12-06T15:48:10.352421Z",
          "iopub.status.idle": "2023-12-06T15:48:11.087217Z",
          "shell.execute_reply": "2023-12-06T15:48:11.085978Z",
          "shell.execute_reply.started": "2023-12-06T15:48:10.352942Z"
        },
        "trusted": true,
        "colab": {
          "base_uri": "https://localhost:8080/",
          "height": 487
        },
        "id": "HcS5pFyEVz35",
        "outputId": "38f34af3-b3bf-4be3-e806-f7228525c837"
      },
      "outputs": [
        {
          "output_type": "display_data",
          "data": {
            "text/plain": [
              "<Figure size 1000x500 with 3 Axes>"
            ],
            "image/png": "[encoded data removed]"
          },
          "metadata": {}
        }
      ],
      "source": [
        "fig, axis = plt.subplots(1,3, figsize=(10,5), gridspec_kw={'hspace': 0.5, 'wspace': 0.5})\n",
        "axis[0].hist(y, color = 'red')\n",
        "axis[0].set_title('Histogram of Original')\n",
        "axis[0].set_xlabel(\"class\")\n",
        "axis[0].set_ylabel(\"Freq\")\n",
        "axis[1].hist(dataset[0][2],color = 'green')\n",
        "axis[1].set_title('Histogram of Train')\n",
        "axis[1].set_xlabel(\"class\")\n",
        "axis[1].set_ylabel(\"Freq\")\n",
        "axis[2].hist(dataset[0][3], color = 'blue')\n",
        "axis[2].set_title('Histogram of Test')\n",
        "axis[2].set_xlabel(\"class\")\n",
        "axis[2].set_ylabel(\"Freq\")\n",
        "plt.savefig(\"Charts/chart_40_60\")\n",
        "plt.show()"
      ]
    },
    {
      "cell_type": "markdown",
      "metadata": {
        "id": "P8RwoFPiVz37"
      },
      "source": [
        "### 60/40"
      ]
    },
    {
      "cell_type": "code",
      "execution_count": 41,
      "metadata": {
        "execution": {
          "iopub.execute_input": "2023-12-06T15:50:03.077630Z",
          "iopub.status.busy": "2023-12-06T15:50:03.077155Z",
          "iopub.status.idle": "2023-12-06T15:50:03.745646Z",
          "shell.execute_reply": "2023-12-06T15:50:03.742215Z",
          "shell.execute_reply.started": "2023-12-06T15:50:03.077595Z"
        },
        "trusted": true,
        "colab": {
          "base_uri": "https://localhost:8080/",
          "height": 487
        },
        "id": "8GBAk3RlVz38",
        "outputId": "4b8513a1-df97-43f7-fe15-047253e130bf"
      },
      "outputs": [
        {
          "output_type": "display_data",
          "data": {
            "text/plain": [
              "<Figure size 1000x500 with 3 Axes>"
            ],
            "image/png": "[encoded data removed]"
          },
          "metadata": {}
        }
      ],
      "source": [
        "fig, axis = plt.subplots(1,3, figsize=(10,5), gridspec_kw={'hspace': 0.5, 'wspace': 0.5})\n",
        "axis[0].hist(y, color = 'red')\n",
        "axis[0].set_title('Histogram of Original')\n",
        "axis[0].set_xlabel(\"class\")\n",
        "axis[0].set_ylabel(\"Freq\")\n",
        "axis[1].hist(dataset[1][2],color = 'green')\n",
        "axis[1].set_title('Histogram of Train')\n",
        "axis[1].set_xlabel(\"class\")\n",
        "axis[1].set_ylabel(\"Freq\")\n",
        "axis[2].hist(dataset[1][3], color = 'blue')\n",
        "axis[2].set_title('Histogram of Test')\n",
        "axis[2].set_xlabel(\"class\")\n",
        "axis[2].set_ylabel(\"Freq\")\n",
        "plt.savefig(\"Charts/chart_60_40\")\n",
        "plt.show()"
      ]
    },
    {
      "cell_type": "markdown",
      "metadata": {
        "id": "l_EIzhRHVz38"
      },
      "source": [
        "### 80/20"
      ]
    },
    {
      "cell_type": "code",
      "execution_count": 42,
      "metadata": {
        "execution": {
          "iopub.execute_input": "2023-12-06T15:50:17.555668Z",
          "iopub.status.busy": "2023-12-06T15:50:17.554696Z",
          "iopub.status.idle": "2023-12-06T15:50:18.254687Z",
          "shell.execute_reply": "2023-12-06T15:50:18.253161Z",
          "shell.execute_reply.started": "2023-12-06T15:50:17.555627Z"
        },
        "trusted": true,
        "colab": {
          "base_uri": "https://localhost:8080/",
          "height": 487
        },
        "id": "LZUIcnFeVz39",
        "outputId": "e98b959f-8ff1-45f6-ff17-bfde3f5e5297"
      },
      "outputs": [
        {
          "output_type": "display_data",
          "data": {
            "text/plain": [
              "<Figure size 1000x500 with 3 Axes>"
            ],
            "image/png": "[encoded data removed]"
          },
          "metadata": {}
        }
      ],
      "source": [
        "fig, axis = plt.subplots(1,3, figsize=(10,5), gridspec_kw={'hspace': 0.5, 'wspace': 0.5})\n",
        "axis[0].hist(y, color = 'red')\n",
        "axis[0].set_title('Histogram of Original')\n",
        "axis[0].set_xlabel(\"class\")\n",
        "axis[0].set_ylabel(\"Freq\")\n",
        "axis[1].hist(dataset[2][2],color = 'green')\n",
        "axis[1].set_title('Histogram of Train')\n",
        "axis[1].set_xlabel(\"class\")\n",
        "axis[1].set_ylabel(\"Freq\")\n",
        "axis[2].hist(dataset[2][3], color = 'blue')\n",
        "axis[2].set_title('Histogram of Test')\n",
        "axis[2].set_xlabel(\"class\")\n",
        "axis[2].set_ylabel(\"Freq\")\n",
        "plt.savefig(\"Charts/chart_80_20\")\n",
        "plt.show()"
      ]
    },
    {
      "cell_type": "markdown",
      "metadata": {
        "id": "ba2KQlNnVz3-"
      },
      "source": [
        "### 90/10"
      ]
    },
    {
      "cell_type": "code",
      "execution_count": 43,
      "metadata": {
        "execution": {
          "iopub.execute_input": "2023-12-06T15:51:14.651437Z",
          "iopub.status.busy": "2023-12-06T15:51:14.650961Z",
          "iopub.status.idle": "2023-12-06T15:51:15.410534Z",
          "shell.execute_reply": "2023-12-06T15:51:15.409089Z",
          "shell.execute_reply.started": "2023-12-06T15:51:14.651402Z"
        },
        "trusted": true,
        "colab": {
          "base_uri": "https://localhost:8080/",
          "height": 487
        },
        "id": "6dY_arVoVz3-",
        "outputId": "07322630-31a1-49dd-987c-f7885bb32455"
      },
      "outputs": [
        {
          "output_type": "display_data",
          "data": {
            "text/plain": [
              "<Figure size 1000x500 with 3 Axes>"
            ],
            "image/png": "[encoded data removed]"
          },
          "metadata": {}
        }
      ],
      "source": [
        "fig, axis = plt.subplots(1,3, figsize=(10,5), gridspec_kw={'hspace': 0.5, 'wspace': 0.5})\n",
        "axis[0].hist(y, color = 'red')\n",
        "axis[0].set_title('Histogram of Original')\n",
        "axis[0].set_xlabel(\"class\")\n",
        "axis[0].set_ylabel(\"Freq\")\n",
        "axis[1].hist(dataset[3][2],color = 'green')\n",
        "axis[1].set_title('Histogram of Train')\n",
        "axis[1].set_xlabel(\"class\")\n",
        "axis[1].set_ylabel(\"Freq\")\n",
        "axis[2].hist(dataset[3][3], color = 'blue')\n",
        "axis[2].set_title('Histogram of Test')\n",
        "axis[2].set_xlabel(\"class\")\n",
        "axis[2].set_ylabel(\"Freq\")\n",
        "plt.savefig(\"Charts/chart_90_10\")\n",
        "plt.show()"
      ]
    },
    {
      "cell_type": "markdown",
      "metadata": {
        "id": "T9fBebZdVz3_"
      },
      "source": [
        "# 3.Building the decision tree classifiers\n"
      ]
    },
    {
      "cell_type": "markdown",
      "metadata": {
        "id": "um8L3tL1Vz4A"
      },
      "source": [
        "## Load dataset"
      ]
    },
    {
      "cell_type": "code",
      "execution_count": 37,
      "metadata": {
        "execution": {
          "iopub.execute_input": "2023-12-07T02:58:42.881330Z",
          "iopub.status.busy": "2023-12-07T02:58:42.880883Z",
          "iopub.status.idle": "2023-12-07T02:58:42.887490Z",
          "shell.execute_reply": "2023-12-07T02:58:42.886128Z",
          "shell.execute_reply.started": "2023-12-07T02:58:42.881294Z"
        },
        "trusted": true,
        "id": "BmlKLQ6zVz4A"
      },
      "outputs": [],
      "source": [
        "dataset = []"
      ]
    },
    {
      "cell_type": "code",
      "execution_count": 38,
      "metadata": {
        "execution": {
          "iopub.execute_input": "2023-12-07T02:58:44.875027Z",
          "iopub.status.busy": "2023-12-07T02:58:44.874223Z",
          "iopub.status.idle": "2023-12-07T02:58:44.914312Z",
          "shell.execute_reply": "2023-12-07T02:58:44.913241Z",
          "shell.execute_reply.started": "2023-12-07T02:58:44.874976Z"
        },
        "trusted": true,
        "id": "ayUZqUaWVz4A"
      },
      "outputs": [],
      "source": [
        "for proportion in proportion_train_test:\n",
        "    feature_train = pd.read_csv(f\"Data/Dataset_{round(proportion[0]*100)}_{round(proportion[1]*100)}/feature_train_{round(proportion[0]*100)}_{round(proportion[1]*100)}.csv\", header='infer')\n",
        "    feature_test = pd.read_csv(f\"Data/Dataset_{round(proportion[0]*100)}_{round(proportion[1]*100)}/feature_test_{round(proportion[0]*100)}_{round(proportion[1]*100)}.csv\", header='infer')\n",
        "    label_train = pd.read_csv(f\"Data/Dataset_{round(proportion[0]*100)}_{round(proportion[1]*100)}/label_train_{round(proportion[0]*100)}_{round(proportion[1]*100)}.csv\", header='infer')\n",
        "    label_test = pd.read_csv(f\"Data/Dataset_{round(proportion[0]*100)}_{round(proportion[1]*100)}/label_test_{round(proportion[0]*100)}_{round(proportion[1]*100)}.csv\", header='infer')\n",
        "    dataset.append((feature_train, feature_test, label_train, label_test))"
      ]
    },
    {
      "cell_type": "code",
      "execution_count": 19,
      "metadata": {
        "execution": {
          "iopub.execute_input": "2023-12-07T02:58:48.693125Z",
          "iopub.status.busy": "2023-12-07T02:58:48.692659Z",
          "iopub.status.idle": "2023-12-07T02:58:48.699214Z",
          "shell.execute_reply": "2023-12-07T02:58:48.697624Z",
          "shell.execute_reply.started": "2023-12-07T02:58:48.693086Z"
        },
        "trusted": true,
        "id": "fzAc0KkcVz4A"
      },
      "outputs": [],
      "source": [
        "from sklearn import tree\n",
        "import graphviz\n"
      ]
    },
    {
      "cell_type": "code",
      "execution_count": 44,
      "metadata": {
        "execution": {
          "iopub.execute_input": "2023-12-07T02:53:49.924264Z",
          "iopub.status.busy": "2023-12-07T02:53:49.923811Z",
          "iopub.status.idle": "2023-12-07T02:53:49.930244Z",
          "shell.execute_reply": "2023-12-07T02:53:49.928845Z",
          "shell.execute_reply.started": "2023-12-07T02:53:49.924227Z"
        },
        "trusted": true,
        "id": "T-PTGCMfVz4B"
      },
      "outputs": [],
      "source": [
        "filepathgraph = \"Graph\"\n",
        "if not os.path.isdir(filepathgraph):\n",
        "    os.mkdir(filepathgraph)\n",
        "\n"
      ]
    },
    {
      "cell_type": "markdown",
      "metadata": {
        "id": "CSURnX22Vz4B"
      },
      "source": [
        "### 40_60 train/test"
      ]
    },
    {
      "cell_type": "code",
      "execution_count": 52,
      "metadata": {
        "execution": {
          "iopub.execute_input": "2023-12-07T02:58:54.971840Z",
          "iopub.status.busy": "2023-12-07T02:58:54.971389Z",
          "iopub.status.idle": "2023-12-07T02:58:54.977777Z",
          "shell.execute_reply": "2023-12-07T02:58:54.976348Z",
          "shell.execute_reply.started": "2023-12-07T02:58:54.971804Z"
        },
        "trusted": true,
        "id": "osSFei9wVz4B"
      },
      "outputs": [],
      "source": [
        "feature_train, feature_test, label_train, label_test = dataset[0]"
      ]
    },
    {
      "cell_type": "code",
      "execution_count": 53,
      "metadata": {
        "execution": {
          "iopub.execute_input": "2023-12-07T02:58:59.985722Z",
          "iopub.status.busy": "2023-12-07T02:58:59.985302Z",
          "iopub.status.idle": "2023-12-07T02:59:00.000965Z",
          "shell.execute_reply": "2023-12-07T02:58:59.999658Z",
          "shell.execute_reply.started": "2023-12-07T02:58:59.985690Z"
        },
        "trusted": true,
        "colab": {
          "base_uri": "https://localhost:8080/",
          "height": 75
        },
        "id": "ti7237kMVz4C",
        "outputId": "31759f73-c3e9-4cb7-a271-563daecbe82c"
      },
      "outputs": [
        {
          "output_type": "execute_result",
          "data": {
            "text/plain": [
              "DecisionTreeClassifier(criterion='entropy')"
            ],
            "text/html": [
              "<style>#sk-container-id-4 {color: black;background-color: white;}#sk-container-id-4 pre{padding: 0;}#sk-container-id-4 div.sk-toggleable {background-color: white;}#sk-container-id-4 label.sk-toggleable__label {cursor: pointer;display: block;width: 100%;margin-bottom: 0;padding: 0.3em;box-sizing: border-box;text-align: center;}#sk-container-id-4 label.sk-toggleable__label-arrow:before {content: \"▸\";float: left;margin-right: 0.25em;color: #696969;}#sk-container-id-4 label.sk-toggleable__label-arrow:hover:before {color: black;}#sk-container-id-4 div.sk-estimator:hover label.sk-toggleable__label-arrow:before {color: black;}#sk-container-id-4 div.sk-toggleable__content {max-height: 0;max-width: 0;overflow: hidden;text-align: left;background-color: #f0f8ff;}#sk-container-id-4 div.sk-toggleable__content pre {margin: 0.2em;color: black;border-radius: 0.25em;background-color: #f0f8ff;}#sk-container-id-4 input.sk-toggleable__control:checked~div.sk-toggleable__content {max-height: 200px;max-width: 100%;overflow: auto;}#sk-container-id-4 input.sk-toggleable__control:checked~label.sk-toggleable__label-arrow:before {content: \"▾\";}#sk-container-id-4 div.sk-estimator input.sk-toggleable__control:checked~label.sk-toggleable__label {background-color: #d4ebff;}#sk-container-id-4 div.sk-label input.sk-toggleable__control:checked~label.sk-toggleable__label {background-color: #d4ebff;}#sk-container-id-4 input.sk-hidden--visually {border: 0;clip: rect(1px 1px 1px 1px);clip: rect(1px, 1px, 1px, 1px);height: 1px;margin: -1px;overflow: hidden;padding: 0;position: absolute;width: 1px;}#sk-container-id-4 div.sk-estimator {font-family: monospace;background-color: #f0f8ff;border: 1px dotted black;border-radius: 0.25em;box-sizing: border-box;margin-bottom: 0.5em;}#sk-container-id-4 div.sk-estimator:hover {background-color: #d4ebff;}#sk-container-id-4 div.sk-parallel-item::after {content: \"\";width: 100%;border-bottom: 1px solid gray;flex-grow: 1;}#sk-container-id-4 div.sk-label:hover label.sk-toggleable__label {background-color: #d4ebff;}#sk-container-id-4 div.sk-serial::before {content: \"\";position: absolute;border-left: 1px solid gray;box-sizing: border-box;top: 0;bottom: 0;left: 50%;z-index: 0;}#sk-container-id-4 div.sk-serial {display: flex;flex-direction: column;align-items: center;background-color: white;padding-right: 0.2em;padding-left: 0.2em;position: relative;}#sk-container-id-4 div.sk-item {position: relative;z-index: 1;}#sk-container-id-4 div.sk-parallel {display: flex;align-items: stretch;justify-content: center;background-color: white;position: relative;}#sk-container-id-4 div.sk-item::before, #sk-container-id-4 div.sk-parallel-item::before {content: \"\";position: absolute;border-left: 1px solid gray;box-sizing: border-box;top: 0;bottom: 0;left: 50%;z-index: -1;}#sk-container-id-4 div.sk-parallel-item {display: flex;flex-direction: column;z-index: 1;position: relative;background-color: white;}#sk-container-id-4 div.sk-parallel-item:first-child::after {align-self: flex-end;width: 50%;}#sk-container-id-4 div.sk-parallel-item:last-child::after {align-self: flex-start;width: 50%;}#sk-container-id-4 div.sk-parallel-item:only-child::after {width: 0;}#sk-container-id-4 div.sk-dashed-wrapped {border: 1px dashed gray;margin: 0 0.4em 0.5em 0.4em;box-sizing: border-box;padding-bottom: 0.4em;background-color: white;}#sk-container-id-4 div.sk-label label {font-family: monospace;font-weight: bold;display: inline-block;line-height: 1.2em;}#sk-container-id-4 div.sk-label-container {text-align: center;}#sk-container-id-4 div.sk-container {/* jupyter's `normalize.less` sets `[hidden] { display: none; }` but bootstrap.min.css set `[hidden] { display: none !important; }` so we also need the `!important` here to be able to override the default hidden behavior on the sphinx rendered scikit-learn.org. See: https://github.com/scikit-learn/scikit-learn/issues/21755 */display: inline-block !important;position: relative;}#sk-container-id-4 div.sk-text-repr-fallback {display: none;}</style><div id=\"sk-container-id-4\" class=\"sk-top-container\"><div class=\"sk-text-repr-fallback\"><pre>DecisionTreeClassifier(criterion=&#x27;entropy&#x27;)</pre><b>In a Jupyter environment, please rerun this cell to show the HTML representation or trust the notebook. <br />On GitHub, the HTML representation is unable to render, please try loading this page with nbviewer.org.</b></div><div class=\"sk-container\" hidden><div class=\"sk-item\"><div class=\"sk-estimator sk-toggleable\"><input class=\"sk-toggleable__control sk-hidden--visually\" id=\"sk-estimator-id-4\" type=\"checkbox\" checked><label for=\"sk-estimator-id-4\" class=\"sk-toggleable__label sk-toggleable__label-arrow\">DecisionTreeClassifier</label><div class=\"sk-toggleable__content\"><pre>DecisionTreeClassifier(criterion=&#x27;entropy&#x27;)</pre></div></div></div></div></div>"
            ]
          },
          "metadata": {},
          "execution_count": 53
        }
      ],
      "source": [
        "clf0 = tree.DecisionTreeClassifier(criterion='entropy')\n",
        "clf0.fit(feature_train,label_train)"
      ]
    },
    {
      "cell_type": "code",
      "execution_count": 54,
      "metadata": {
        "execution": {
          "iopub.execute_input": "2023-12-07T02:59:02.025606Z",
          "iopub.status.busy": "2023-12-07T02:59:02.024916Z",
          "iopub.status.idle": "2023-12-07T02:59:02.036412Z",
          "shell.execute_reply": "2023-12-07T02:59:02.034528Z",
          "shell.execute_reply.started": "2023-12-07T02:59:02.025565Z"
        },
        "trusted": true,
        "id": "Uyj2LOHAVz4C"
      },
      "outputs": [],
      "source": [
        "graph_data = tree.export_graphviz(clf0,\n",
        "                            filled=True,\n",
        "                            rounded=True,\n",
        "                            feature_names=X.columns,\n",
        "                            class_names=clf0.classes_.astype(str)\n",
        "                            )\n",
        "\n",
        "graph = graphviz.Source(graph_data)"
      ]
    },
    {
      "cell_type": "code",
      "execution_count": 55,
      "metadata": {
        "execution": {
          "iopub.execute_input": "2023-12-07T02:59:05.213103Z",
          "iopub.status.busy": "2023-12-07T02:59:05.212660Z",
          "iopub.status.idle": "2023-12-07T02:59:05.487180Z",
          "shell.execute_reply": "2023-12-07T02:59:05.486209Z",
          "shell.execute_reply.started": "2023-12-07T02:59:05.213039Z"
        },
        "trusted": true,
        "colab": {
          "base_uri": "https://localhost:8080/",
          "height": 599
        },
        "id": "dHkvPezhVz4C",
        "outputId": "d5f54095-07e0-49a6-ffa1-30b44ec4defd"
      },
      "outputs": [
        {
          "output_type": "execute_result",
          "data": {
            "image/svg+xml": "<?xml version=\"1.0\" encoding=\"UTF-8\" standalone=\"no\"?>\n<!DOCTYPE svg PUBLIC \"-//W3C//DTD SVG 1.1//EN\"\n \"http://www.w3.org/Graphics/SVG/1.1/DTD/svg11.dtd\">\n<!-- Generated by graphviz version 2.43.0 (0)\n -->\n<!-- Title: Tree Pages: 1 -->\n<svg width=\"617pt\" height=\"433pt\"\n viewBox=\"0.00 0.00 617.00 433.00\" xmlns=\"http://www.w3.org/2000/svg\" xmlns:xlink=\"http://www.w3.org/1999/xlink\">\n<g id=\"graph0\" class=\"graph\" transform=\"scale(1 1) rotate(0) translate(4 429)\">\n<title>Tree</title>\n<polygon fill=\"white\" stroke=\"transparent\" points=\"-4,4 -4,-429 613,-429 613,4 -4,4\"/>\n<!-- 0 -->\n<g id=\"node1\" class=\"node\">\n<title>0</title>\n<path fill=\"#eefdf4\" stroke=\"black\" d=\"M315.5,-425C315.5,-425 199.5,-425 199.5,-425 193.5,-425 187.5,-419 187.5,-413 187.5,-413 187.5,-354 187.5,-354 187.5,-348 193.5,-342 199.5,-342 199.5,-342 315.5,-342 315.5,-342 321.5,-342 327.5,-348 327.5,-354 327.5,-354 327.5,-413 327.5,-413 327.5,-419 321.5,-425 315.5,-425\"/>\n<text text-anchor=\"middle\" x=\"257.5\" y=\"-409.8\" font-family=\"Helvetica,sans-Serif\" font-size=\"14.00\">Flavanoids &lt;= 1.235</text>\n<text text-anchor=\"middle\" x=\"257.5\" y=\"-394.8\" font-family=\"Helvetica,sans-Serif\" font-size=\"14.00\">entropy = 1.567</text>\n<text text-anchor=\"middle\" x=\"257.5\" y=\"-379.8\" font-family=\"Helvetica,sans-Serif\" font-size=\"14.00\">samples = 71</text>\n<text text-anchor=\"middle\" x=\"257.5\" y=\"-364.8\" font-family=\"Helvetica,sans-Serif\" font-size=\"14.00\">value = [24, 28, 19]</text>\n<text text-anchor=\"middle\" x=\"257.5\" y=\"-349.8\" font-family=\"Helvetica,sans-Serif\" font-size=\"14.00\">class = 2</text>\n</g>\n<!-- 1 -->\n<g id=\"node2\" class=\"node\">\n<title>1</title>\n<path fill=\"#8e4ee8\" stroke=\"black\" d=\"M235,-306C235,-306 142,-306 142,-306 136,-306 130,-300 130,-294 130,-294 130,-235 130,-235 130,-229 136,-223 142,-223 142,-223 235,-223 235,-223 241,-223 247,-229 247,-235 247,-235 247,-294 247,-294 247,-300 241,-306 235,-306\"/>\n<text text-anchor=\"middle\" x=\"188.5\" y=\"-290.8\" font-family=\"Helvetica,sans-Serif\" font-size=\"14.00\">Hue &lt;= 0.91</text>\n<text text-anchor=\"middle\" x=\"188.5\" y=\"-275.8\" font-family=\"Helvetica,sans-Serif\" font-size=\"14.00\">entropy = 0.454</text>\n<text text-anchor=\"middle\" x=\"188.5\" y=\"-260.8\" font-family=\"Helvetica,sans-Serif\" font-size=\"14.00\">samples = 21</text>\n<text text-anchor=\"middle\" x=\"188.5\" y=\"-245.8\" font-family=\"Helvetica,sans-Serif\" font-size=\"14.00\">value = [0, 2, 19]</text>\n<text text-anchor=\"middle\" x=\"188.5\" y=\"-230.8\" font-family=\"Helvetica,sans-Serif\" font-size=\"14.00\">class = 3</text>\n</g>\n<!-- 0&#45;&gt;1 -->\n<g id=\"edge1\" class=\"edge\">\n<title>0&#45;&gt;1</title>\n<path fill=\"none\" stroke=\"black\" d=\"M233.56,-341.91C228.42,-333.2 222.94,-323.9 217.63,-314.89\"/>\n<polygon fill=\"black\" stroke=\"black\" points=\"220.49,-312.86 212.4,-306.02 214.46,-316.41 220.49,-312.86\"/>\n<text text-anchor=\"middle\" x=\"206.15\" y=\"-326.53\" font-family=\"Helvetica,sans-Serif\" font-size=\"14.00\">True</text>\n</g>\n<!-- 4 -->\n<g id=\"node5\" class=\"node\">\n<title>4</title>\n<path fill=\"#f0fdf5\" stroke=\"black\" d=\"M378,-306C378,-306 277,-306 277,-306 271,-306 265,-300 265,-294 265,-294 265,-235 265,-235 265,-229 271,-223 277,-223 277,-223 378,-223 378,-223 384,-223 390,-229 390,-235 390,-235 390,-294 390,-294 390,-300 384,-306 378,-306\"/>\n<text text-anchor=\"middle\" x=\"327.5\" y=\"-290.8\" font-family=\"Helvetica,sans-Serif\" font-size=\"14.00\">Proline &lt;= 760.0</text>\n<text text-anchor=\"middle\" x=\"327.5\" y=\"-275.8\" font-family=\"Helvetica,sans-Serif\" font-size=\"14.00\">entropy = 0.999</text>\n<text text-anchor=\"middle\" x=\"327.5\" y=\"-260.8\" font-family=\"Helvetica,sans-Serif\" font-size=\"14.00\">samples = 50</text>\n<text text-anchor=\"middle\" x=\"327.5\" y=\"-245.8\" font-family=\"Helvetica,sans-Serif\" font-size=\"14.00\">value = [24, 26, 0]</text>\n<text text-anchor=\"middle\" x=\"327.5\" y=\"-230.8\" font-family=\"Helvetica,sans-Serif\" font-size=\"14.00\">class = 2</text>\n</g>\n<!-- 0&#45;&gt;4 -->\n<g id=\"edge4\" class=\"edge\">\n<title>0&#45;&gt;4</title>\n<path fill=\"none\" stroke=\"black\" d=\"M281.79,-341.91C287.05,-333.1 292.68,-323.7 298.12,-314.61\"/>\n<polygon fill=\"black\" stroke=\"black\" points=\"301.13,-316.4 303.26,-306.02 295.12,-312.81 301.13,-316.4\"/>\n<text text-anchor=\"middle\" x=\"309.35\" y=\"-326.57\" font-family=\"Helvetica,sans-Serif\" font-size=\"14.00\">False</text>\n</g>\n<!-- 2 -->\n<g id=\"node3\" class=\"node\">\n<title>2</title>\n<path fill=\"#8139e5\" stroke=\"black\" d=\"M105,-179.5C105,-179.5 12,-179.5 12,-179.5 6,-179.5 0,-173.5 0,-167.5 0,-167.5 0,-123.5 0,-123.5 0,-117.5 6,-111.5 12,-111.5 12,-111.5 105,-111.5 105,-111.5 111,-111.5 117,-117.5 117,-123.5 117,-123.5 117,-167.5 117,-167.5 117,-173.5 111,-179.5 105,-179.5\"/>\n<text text-anchor=\"middle\" x=\"58.5\" y=\"-164.3\" font-family=\"Helvetica,sans-Serif\" font-size=\"14.00\">entropy = 0.0</text>\n<text text-anchor=\"middle\" x=\"58.5\" y=\"-149.3\" font-family=\"Helvetica,sans-Serif\" font-size=\"14.00\">samples = 19</text>\n<text text-anchor=\"middle\" x=\"58.5\" y=\"-134.3\" font-family=\"Helvetica,sans-Serif\" font-size=\"14.00\">value = [0, 0, 19]</text>\n<text text-anchor=\"middle\" x=\"58.5\" y=\"-119.3\" font-family=\"Helvetica,sans-Serif\" font-size=\"14.00\">class = 3</text>\n</g>\n<!-- 1&#45;&gt;2 -->\n<g id=\"edge2\" class=\"edge\">\n<title>1&#45;&gt;2</title>\n<path fill=\"none\" stroke=\"black\" d=\"M143.4,-222.91C130.28,-211.1 115.96,-198.22 102.89,-186.45\"/>\n<polygon fill=\"black\" stroke=\"black\" points=\"105.13,-183.76 95.35,-179.67 100.44,-188.96 105.13,-183.76\"/>\n</g>\n<!-- 3 -->\n<g id=\"node4\" class=\"node\">\n<title>3</title>\n<path fill=\"#39e581\" stroke=\"black\" d=\"M233.5,-179.5C233.5,-179.5 147.5,-179.5 147.5,-179.5 141.5,-179.5 135.5,-173.5 135.5,-167.5 135.5,-167.5 135.5,-123.5 135.5,-123.5 135.5,-117.5 141.5,-111.5 147.5,-111.5 147.5,-111.5 233.5,-111.5 233.5,-111.5 239.5,-111.5 245.5,-117.5 245.5,-123.5 245.5,-123.5 245.5,-167.5 245.5,-167.5 245.5,-173.5 239.5,-179.5 233.5,-179.5\"/>\n<text text-anchor=\"middle\" x=\"190.5\" y=\"-164.3\" font-family=\"Helvetica,sans-Serif\" font-size=\"14.00\">entropy = 0.0</text>\n<text text-anchor=\"middle\" x=\"190.5\" y=\"-149.3\" font-family=\"Helvetica,sans-Serif\" font-size=\"14.00\">samples = 2</text>\n<text text-anchor=\"middle\" x=\"190.5\" y=\"-134.3\" font-family=\"Helvetica,sans-Serif\" font-size=\"14.00\">value = [0, 2, 0]</text>\n<text text-anchor=\"middle\" x=\"190.5\" y=\"-119.3\" font-family=\"Helvetica,sans-Serif\" font-size=\"14.00\">class = 2</text>\n</g>\n<!-- 1&#45;&gt;3 -->\n<g id=\"edge3\" class=\"edge\">\n<title>1&#45;&gt;3</title>\n<path fill=\"none\" stroke=\"black\" d=\"M189.19,-222.91C189.38,-212.2 189.57,-200.62 189.76,-189.78\"/>\n<polygon fill=\"black\" stroke=\"black\" points=\"193.26,-189.73 189.93,-179.67 186.26,-189.61 193.26,-189.73\"/>\n</g>\n<!-- 5 -->\n<g id=\"node6\" class=\"node\">\n<title>5</title>\n<path fill=\"#39e581\" stroke=\"black\" d=\"M372,-179.5C372,-179.5 279,-179.5 279,-179.5 273,-179.5 267,-173.5 267,-167.5 267,-167.5 267,-123.5 267,-123.5 267,-117.5 273,-111.5 279,-111.5 279,-111.5 372,-111.5 372,-111.5 378,-111.5 384,-117.5 384,-123.5 384,-123.5 384,-167.5 384,-167.5 384,-173.5 378,-179.5 372,-179.5\"/>\n<text text-anchor=\"middle\" x=\"325.5\" y=\"-164.3\" font-family=\"Helvetica,sans-Serif\" font-size=\"14.00\">entropy = 0.0</text>\n<text text-anchor=\"middle\" x=\"325.5\" y=\"-149.3\" font-family=\"Helvetica,sans-Serif\" font-size=\"14.00\">samples = 23</text>\n<text text-anchor=\"middle\" x=\"325.5\" y=\"-134.3\" font-family=\"Helvetica,sans-Serif\" font-size=\"14.00\">value = [0, 23, 0]</text>\n<text text-anchor=\"middle\" x=\"325.5\" y=\"-119.3\" font-family=\"Helvetica,sans-Serif\" font-size=\"14.00\">class = 2</text>\n</g>\n<!-- 4&#45;&gt;5 -->\n<g id=\"edge5\" class=\"edge\">\n<title>4&#45;&gt;5</title>\n<path fill=\"none\" stroke=\"black\" d=\"M326.81,-222.91C326.62,-212.2 326.43,-200.62 326.24,-189.78\"/>\n<polygon fill=\"black\" stroke=\"black\" points=\"329.74,-189.61 326.07,-179.67 322.74,-189.73 329.74,-189.61\"/>\n</g>\n<!-- 6 -->\n<g id=\"node7\" class=\"node\">\n<title>6</title>\n<path fill=\"#e89152\" stroke=\"black\" d=\"M554.5,-187C554.5,-187 414.5,-187 414.5,-187 408.5,-187 402.5,-181 402.5,-175 402.5,-175 402.5,-116 402.5,-116 402.5,-110 408.5,-104 414.5,-104 414.5,-104 554.5,-104 554.5,-104 560.5,-104 566.5,-110 566.5,-116 566.5,-116 566.5,-175 566.5,-175 566.5,-181 560.5,-187 554.5,-187\"/>\n<text text-anchor=\"middle\" x=\"484.5\" y=\"-171.8\" font-family=\"Helvetica,sans-Serif\" font-size=\"14.00\">Color_intensity &lt;= 3.465</text>\n<text text-anchor=\"middle\" x=\"484.5\" y=\"-156.8\" font-family=\"Helvetica,sans-Serif\" font-size=\"14.00\">entropy = 0.503</text>\n<text text-anchor=\"middle\" x=\"484.5\" y=\"-141.8\" font-family=\"Helvetica,sans-Serif\" font-size=\"14.00\">samples = 27</text>\n<text text-anchor=\"middle\" x=\"484.5\" y=\"-126.8\" font-family=\"Helvetica,sans-Serif\" font-size=\"14.00\">value = [24, 3, 0]</text>\n<text text-anchor=\"middle\" x=\"484.5\" y=\"-111.8\" font-family=\"Helvetica,sans-Serif\" font-size=\"14.00\">class = 1</text>\n</g>\n<!-- 4&#45;&gt;6 -->\n<g id=\"edge6\" class=\"edge\">\n<title>4&#45;&gt;6</title>\n<path fill=\"none\" stroke=\"black\" d=\"M381.97,-222.91C394.88,-213.29 408.75,-202.95 421.98,-193.09\"/>\n<polygon fill=\"black\" stroke=\"black\" points=\"424.2,-195.8 430.13,-187.02 420.02,-190.19 424.2,-195.8\"/>\n</g>\n<!-- 7 -->\n<g id=\"node8\" class=\"node\">\n<title>7</title>\n<path fill=\"#39e581\" stroke=\"black\" d=\"M461.5,-68C461.5,-68 375.5,-68 375.5,-68 369.5,-68 363.5,-62 363.5,-56 363.5,-56 363.5,-12 363.5,-12 363.5,-6 369.5,0 375.5,0 375.5,0 461.5,0 461.5,0 467.5,0 473.5,-6 473.5,-12 473.5,-12 473.5,-56 473.5,-56 473.5,-62 467.5,-68 461.5,-68\"/>\n<text text-anchor=\"middle\" x=\"418.5\" y=\"-52.8\" font-family=\"Helvetica,sans-Serif\" font-size=\"14.00\">entropy = 0.0</text>\n<text text-anchor=\"middle\" x=\"418.5\" y=\"-37.8\" font-family=\"Helvetica,sans-Serif\" font-size=\"14.00\">samples = 3</text>\n<text text-anchor=\"middle\" x=\"418.5\" y=\"-22.8\" font-family=\"Helvetica,sans-Serif\" font-size=\"14.00\">value = [0, 3, 0]</text>\n<text text-anchor=\"middle\" x=\"418.5\" y=\"-7.8\" font-family=\"Helvetica,sans-Serif\" font-size=\"14.00\">class = 2</text>\n</g>\n<!-- 6&#45;&gt;7 -->\n<g id=\"edge7\" class=\"edge\">\n<title>6&#45;&gt;7</title>\n<path fill=\"none\" stroke=\"black\" d=\"M459.92,-103.73C454.65,-94.97 449.06,-85.7 443.76,-76.91\"/>\n<polygon fill=\"black\" stroke=\"black\" points=\"446.73,-75.06 438.57,-68.3 440.74,-78.67 446.73,-75.06\"/>\n</g>\n<!-- 8 -->\n<g id=\"node9\" class=\"node\">\n<title>8</title>\n<path fill=\"#e58139\" stroke=\"black\" d=\"M597,-68C597,-68 504,-68 504,-68 498,-68 492,-62 492,-56 492,-56 492,-12 492,-12 492,-6 498,0 504,0 504,0 597,0 597,0 603,0 609,-6 609,-12 609,-12 609,-56 609,-56 609,-62 603,-68 597,-68\"/>\n<text text-anchor=\"middle\" x=\"550.5\" y=\"-52.8\" font-family=\"Helvetica,sans-Serif\" font-size=\"14.00\">entropy = 0.0</text>\n<text text-anchor=\"middle\" x=\"550.5\" y=\"-37.8\" font-family=\"Helvetica,sans-Serif\" font-size=\"14.00\">samples = 24</text>\n<text text-anchor=\"middle\" x=\"550.5\" y=\"-22.8\" font-family=\"Helvetica,sans-Serif\" font-size=\"14.00\">value = [24, 0, 0]</text>\n<text text-anchor=\"middle\" x=\"550.5\" y=\"-7.8\" font-family=\"Helvetica,sans-Serif\" font-size=\"14.00\">class = 1</text>\n</g>\n<!-- 6&#45;&gt;8 -->\n<g id=\"edge8\" class=\"edge\">\n<title>6&#45;&gt;8</title>\n<path fill=\"none\" stroke=\"black\" d=\"M509.08,-103.73C514.35,-94.97 519.94,-85.7 525.24,-76.91\"/>\n<polygon fill=\"black\" stroke=\"black\" points=\"528.26,-78.67 530.43,-68.3 522.27,-75.06 528.26,-78.67\"/>\n</g>\n</g>\n</svg>\n",
            "text/plain": [
              "<graphviz.sources.Source at 0x7f8ce1f06860>"
            ]
          },
          "metadata": {},
          "execution_count": 55
        }
      ],
      "source": [
        "graph"
      ]
    },
    {
      "cell_type": "code",
      "execution_count": 56,
      "metadata": {
        "execution": {
          "iopub.execute_input": "2023-12-06T15:54:31.722470Z",
          "iopub.status.busy": "2023-12-06T15:54:31.722015Z",
          "iopub.status.idle": "2023-12-06T15:54:31.805276Z",
          "shell.execute_reply": "2023-12-06T15:54:31.803636Z",
          "shell.execute_reply.started": "2023-12-06T15:54:31.722438Z"
        },
        "trusted": true,
        "colab": {
          "base_uri": "https://localhost:8080/",
          "height": 35
        },
        "id": "cZ70eMRUVz4D",
        "outputId": "94e7e650-9505-4e73-9454-6350f8982b03"
      },
      "outputs": [
        {
          "output_type": "execute_result",
          "data": {
            "text/plain": [
              "'Graph/descision_tree_40_60.png'"
            ],
            "application/vnd.google.colaboratory.intrinsic+json": {
              "type": "string"
            }
          },
          "metadata": {},
          "execution_count": 56
        }
      ],
      "source": [
        "graph.render(filename=f'descision_tree_40_60',format='png',directory = f\"{filepathgraph}\")"
      ]
    },
    {
      "cell_type": "markdown",
      "metadata": {
        "id": "2NCR5neBVz4E"
      },
      "source": [
        "## 60/40 train/test"
      ]
    },
    {
      "cell_type": "code",
      "execution_count": 57,
      "metadata": {
        "execution": {
          "iopub.execute_input": "2023-12-07T02:59:14.002143Z",
          "iopub.status.busy": "2023-12-07T02:59:14.001676Z",
          "iopub.status.idle": "2023-12-07T02:59:14.007400Z",
          "shell.execute_reply": "2023-12-07T02:59:14.006445Z",
          "shell.execute_reply.started": "2023-12-07T02:59:14.002105Z"
        },
        "trusted": true,
        "id": "KyrFCEf1Vz4E"
      },
      "outputs": [],
      "source": [
        "feature_train, feature_test, label_train, label_test = dataset[1]"
      ]
    },
    {
      "cell_type": "code",
      "execution_count": 58,
      "metadata": {
        "execution": {
          "iopub.execute_input": "2023-12-07T02:59:16.216702Z",
          "iopub.status.busy": "2023-12-07T02:59:16.216226Z",
          "iopub.status.idle": "2023-12-07T02:59:16.231417Z",
          "shell.execute_reply": "2023-12-07T02:59:16.229888Z",
          "shell.execute_reply.started": "2023-12-07T02:59:16.216664Z"
        },
        "trusted": true,
        "colab": {
          "base_uri": "https://localhost:8080/",
          "height": 75
        },
        "id": "nj8KIWKUVz4F",
        "outputId": "ca38ab5e-fe3b-46c3-bd0a-8c6651cad8f1"
      },
      "outputs": [
        {
          "output_type": "execute_result",
          "data": {
            "text/plain": [
              "DecisionTreeClassifier(criterion='entropy')"
            ],
            "text/html": [
              "<style>#sk-container-id-5 {color: black;background-color: white;}#sk-container-id-5 pre{padding: 0;}#sk-container-id-5 div.sk-toggleable {background-color: white;}#sk-container-id-5 label.sk-toggleable__label {cursor: pointer;display: block;width: 100%;margin-bottom: 0;padding: 0.3em;box-sizing: border-box;text-align: center;}#sk-container-id-5 label.sk-toggleable__label-arrow:before {content: \"▸\";float: left;margin-right: 0.25em;color: #696969;}#sk-container-id-5 label.sk-toggleable__label-arrow:hover:before {color: black;}#sk-container-id-5 div.sk-estimator:hover label.sk-toggleable__label-arrow:before {color: black;}#sk-container-id-5 div.sk-toggleable__content {max-height: 0;max-width: 0;overflow: hidden;text-align: left;background-color: #f0f8ff;}#sk-container-id-5 div.sk-toggleable__content pre {margin: 0.2em;color: black;border-radius: 0.25em;background-color: #f0f8ff;}#sk-container-id-5 input.sk-toggleable__control:checked~div.sk-toggleable__content {max-height: 200px;max-width: 100%;overflow: auto;}#sk-container-id-5 input.sk-toggleable__control:checked~label.sk-toggleable__label-arrow:before {content: \"▾\";}#sk-container-id-5 div.sk-estimator input.sk-toggleable__control:checked~label.sk-toggleable__label {background-color: #d4ebff;}#sk-container-id-5 div.sk-label input.sk-toggleable__control:checked~label.sk-toggleable__label {background-color: #d4ebff;}#sk-container-id-5 input.sk-hidden--visually {border: 0;clip: rect(1px 1px 1px 1px);clip: rect(1px, 1px, 1px, 1px);height: 1px;margin: -1px;overflow: hidden;padding: 0;position: absolute;width: 1px;}#sk-container-id-5 div.sk-estimator {font-family: monospace;background-color: #f0f8ff;border: 1px dotted black;border-radius: 0.25em;box-sizing: border-box;margin-bottom: 0.5em;}#sk-container-id-5 div.sk-estimator:hover {background-color: #d4ebff;}#sk-container-id-5 div.sk-parallel-item::after {content: \"\";width: 100%;border-bottom: 1px solid gray;flex-grow: 1;}#sk-container-id-5 div.sk-label:hover label.sk-toggleable__label {background-color: #d4ebff;}#sk-container-id-5 div.sk-serial::before {content: \"\";position: absolute;border-left: 1px solid gray;box-sizing: border-box;top: 0;bottom: 0;left: 50%;z-index: 0;}#sk-container-id-5 div.sk-serial {display: flex;flex-direction: column;align-items: center;background-color: white;padding-right: 0.2em;padding-left: 0.2em;position: relative;}#sk-container-id-5 div.sk-item {position: relative;z-index: 1;}#sk-container-id-5 div.sk-parallel {display: flex;align-items: stretch;justify-content: center;background-color: white;position: relative;}#sk-container-id-5 div.sk-item::before, #sk-container-id-5 div.sk-parallel-item::before {content: \"\";position: absolute;border-left: 1px solid gray;box-sizing: border-box;top: 0;bottom: 0;left: 50%;z-index: -1;}#sk-container-id-5 div.sk-parallel-item {display: flex;flex-direction: column;z-index: 1;position: relative;background-color: white;}#sk-container-id-5 div.sk-parallel-item:first-child::after {align-self: flex-end;width: 50%;}#sk-container-id-5 div.sk-parallel-item:last-child::after {align-self: flex-start;width: 50%;}#sk-container-id-5 div.sk-parallel-item:only-child::after {width: 0;}#sk-container-id-5 div.sk-dashed-wrapped {border: 1px dashed gray;margin: 0 0.4em 0.5em 0.4em;box-sizing: border-box;padding-bottom: 0.4em;background-color: white;}#sk-container-id-5 div.sk-label label {font-family: monospace;font-weight: bold;display: inline-block;line-height: 1.2em;}#sk-container-id-5 div.sk-label-container {text-align: center;}#sk-container-id-5 div.sk-container {/* jupyter's `normalize.less` sets `[hidden] { display: none; }` but bootstrap.min.css set `[hidden] { display: none !important; }` so we also need the `!important` here to be able to override the default hidden behavior on the sphinx rendered scikit-learn.org. See: https://github.com/scikit-learn/scikit-learn/issues/21755 */display: inline-block !important;position: relative;}#sk-container-id-5 div.sk-text-repr-fallback {display: none;}</style><div id=\"sk-container-id-5\" class=\"sk-top-container\"><div class=\"sk-text-repr-fallback\"><pre>DecisionTreeClassifier(criterion=&#x27;entropy&#x27;)</pre><b>In a Jupyter environment, please rerun this cell to show the HTML representation or trust the notebook. <br />On GitHub, the HTML representation is unable to render, please try loading this page with nbviewer.org.</b></div><div class=\"sk-container\" hidden><div class=\"sk-item\"><div class=\"sk-estimator sk-toggleable\"><input class=\"sk-toggleable__control sk-hidden--visually\" id=\"sk-estimator-id-5\" type=\"checkbox\" checked><label for=\"sk-estimator-id-5\" class=\"sk-toggleable__label sk-toggleable__label-arrow\">DecisionTreeClassifier</label><div class=\"sk-toggleable__content\"><pre>DecisionTreeClassifier(criterion=&#x27;entropy&#x27;)</pre></div></div></div></div></div>"
            ]
          },
          "metadata": {},
          "execution_count": 58
        }
      ],
      "source": [
        "clf1 = tree.DecisionTreeClassifier(criterion='entropy')\n",
        "clf1.fit(feature_train,label_train)"
      ]
    },
    {
      "cell_type": "code",
      "execution_count": 59,
      "metadata": {
        "execution": {
          "iopub.execute_input": "2023-12-07T02:59:18.614281Z",
          "iopub.status.busy": "2023-12-07T02:59:18.613842Z",
          "iopub.status.idle": "2023-12-07T02:59:18.625826Z",
          "shell.execute_reply": "2023-12-07T02:59:18.624149Z",
          "shell.execute_reply.started": "2023-12-07T02:59:18.614247Z"
        },
        "trusted": true,
        "id": "tKbruiE9Vz4F"
      },
      "outputs": [],
      "source": [
        "graph_data = tree.export_graphviz(clf1,\n",
        "                            filled=True,\n",
        "                            rounded=True,\n",
        "                            feature_names=X.columns,\n",
        "                            class_names=clf1.classes_.astype(str)\n",
        "                            )\n",
        "\n",
        "graph = graphviz.Source(graph_data)"
      ]
    },
    {
      "cell_type": "code",
      "execution_count": 60,
      "metadata": {
        "execution": {
          "iopub.execute_input": "2023-12-07T02:59:21.971241Z",
          "iopub.status.busy": "2023-12-07T02:59:21.970770Z",
          "iopub.status.idle": "2023-12-07T02:59:22.007296Z",
          "shell.execute_reply": "2023-12-07T02:59:22.006118Z",
          "shell.execute_reply.started": "2023-12-07T02:59:21.971204Z"
        },
        "trusted": true,
        "colab": {
          "base_uri": "https://localhost:8080/",
          "height": 599
        },
        "id": "CJCty8tRVz4G",
        "outputId": "f03480cf-756a-464b-ed5a-dd01c5453c6f"
      },
      "outputs": [
        {
          "output_type": "execute_result",
          "data": {
            "image/svg+xml": "<?xml version=\"1.0\" encoding=\"UTF-8\" standalone=\"no\"?>\n<!DOCTYPE svg PUBLIC \"-//W3C//DTD SVG 1.1//EN\"\n \"http://www.w3.org/Graphics/SVG/1.1/DTD/svg11.dtd\">\n<!-- Generated by graphviz version 2.43.0 (0)\n -->\n<!-- Title: Tree Pages: 1 -->\n<svg width=\"628pt\" height=\"433pt\"\n viewBox=\"0.00 0.00 627.50 433.00\" xmlns=\"http://www.w3.org/2000/svg\" xmlns:xlink=\"http://www.w3.org/1999/xlink\">\n<g id=\"graph0\" class=\"graph\" transform=\"scale(1 1) rotate(0) translate(4 429)\">\n<title>Tree</title>\n<polygon fill=\"white\" stroke=\"transparent\" points=\"-4,4 -4,-429 623.5,-429 623.5,4 -4,4\"/>\n<!-- 0 -->\n<g id=\"node1\" class=\"node\">\n<title>0</title>\n<path fill=\"#ebfcf3\" stroke=\"black\" d=\"M315,-425C315,-425 207,-425 207,-425 201,-425 195,-419 195,-413 195,-413 195,-354 195,-354 195,-348 201,-342 207,-342 207,-342 315,-342 315,-342 321,-342 327,-348 327,-354 327,-354 327,-413 327,-413 327,-419 321,-425 315,-425\"/>\n<text text-anchor=\"middle\" x=\"261\" y=\"-409.8\" font-family=\"Helvetica,sans-Serif\" font-size=\"14.00\">Flavanoids &lt;= 1.29</text>\n<text text-anchor=\"middle\" x=\"261\" y=\"-394.8\" font-family=\"Helvetica,sans-Serif\" font-size=\"14.00\">entropy = 1.569</text>\n<text text-anchor=\"middle\" x=\"261\" y=\"-379.8\" font-family=\"Helvetica,sans-Serif\" font-size=\"14.00\">samples = 106</text>\n<text text-anchor=\"middle\" x=\"261\" y=\"-364.8\" font-family=\"Helvetica,sans-Serif\" font-size=\"14.00\">value = [35, 42, 29]</text>\n<text text-anchor=\"middle\" x=\"261\" y=\"-349.8\" font-family=\"Helvetica,sans-Serif\" font-size=\"14.00\">class = 2</text>\n</g>\n<!-- 1 -->\n<g id=\"node2\" class=\"node\">\n<title>1</title>\n<path fill=\"#975be9\" stroke=\"black\" d=\"M250,-306C250,-306 110,-306 110,-306 104,-306 98,-300 98,-294 98,-294 98,-235 98,-235 98,-229 104,-223 110,-223 110,-223 250,-223 250,-223 256,-223 262,-229 262,-235 262,-235 262,-294 262,-294 262,-300 256,-306 250,-306\"/>\n<text text-anchor=\"middle\" x=\"180\" y=\"-290.8\" font-family=\"Helvetica,sans-Serif\" font-size=\"14.00\">Color_intensity &lt;= 3.725</text>\n<text text-anchor=\"middle\" x=\"180\" y=\"-275.8\" font-family=\"Helvetica,sans-Serif\" font-size=\"14.00\">entropy = 0.602</text>\n<text text-anchor=\"middle\" x=\"180\" y=\"-260.8\" font-family=\"Helvetica,sans-Serif\" font-size=\"14.00\">samples = 34</text>\n<text text-anchor=\"middle\" x=\"180\" y=\"-245.8\" font-family=\"Helvetica,sans-Serif\" font-size=\"14.00\">value = [0, 5, 29]</text>\n<text text-anchor=\"middle\" x=\"180\" y=\"-230.8\" font-family=\"Helvetica,sans-Serif\" font-size=\"14.00\">class = 3</text>\n</g>\n<!-- 0&#45;&gt;1 -->\n<g id=\"edge1\" class=\"edge\">\n<title>0&#45;&gt;1</title>\n<path fill=\"none\" stroke=\"black\" d=\"M232.9,-341.91C226.74,-333.01 220.16,-323.51 213.81,-314.33\"/>\n<polygon fill=\"black\" stroke=\"black\" points=\"216.62,-312.25 208.05,-306.02 210.87,-316.24 216.62,-312.25\"/>\n<text text-anchor=\"middle\" x=\"203.58\" y=\"-326.92\" font-family=\"Helvetica,sans-Serif\" font-size=\"14.00\">True</text>\n</g>\n<!-- 4 -->\n<g id=\"node5\" class=\"node\">\n<title>4</title>\n<path fill=\"#f4fef8\" stroke=\"black\" d=\"M393.5,-306C393.5,-306 292.5,-306 292.5,-306 286.5,-306 280.5,-300 280.5,-294 280.5,-294 280.5,-235 280.5,-235 280.5,-229 286.5,-223 292.5,-223 292.5,-223 393.5,-223 393.5,-223 399.5,-223 405.5,-229 405.5,-235 405.5,-235 405.5,-294 405.5,-294 405.5,-300 399.5,-306 393.5,-306\"/>\n<text text-anchor=\"middle\" x=\"343\" y=\"-290.8\" font-family=\"Helvetica,sans-Serif\" font-size=\"14.00\">Proline &lt;= 724.5</text>\n<text text-anchor=\"middle\" x=\"343\" y=\"-275.8\" font-family=\"Helvetica,sans-Serif\" font-size=\"14.00\">entropy = 0.999</text>\n<text text-anchor=\"middle\" x=\"343\" y=\"-260.8\" font-family=\"Helvetica,sans-Serif\" font-size=\"14.00\">samples = 72</text>\n<text text-anchor=\"middle\" x=\"343\" y=\"-245.8\" font-family=\"Helvetica,sans-Serif\" font-size=\"14.00\">value = [35, 37, 0]</text>\n<text text-anchor=\"middle\" x=\"343\" y=\"-230.8\" font-family=\"Helvetica,sans-Serif\" font-size=\"14.00\">class = 2</text>\n</g>\n<!-- 0&#45;&gt;4 -->\n<g id=\"edge4\" class=\"edge\">\n<title>0&#45;&gt;4</title>\n<path fill=\"none\" stroke=\"black\" d=\"M289.45,-341.91C295.68,-333.01 302.34,-323.51 308.78,-314.33\"/>\n<polygon fill=\"black\" stroke=\"black\" points=\"311.73,-316.22 314.6,-306.02 306,-312.2 311.73,-316.22\"/>\n<text text-anchor=\"middle\" x=\"318.93\" y=\"-326.94\" font-family=\"Helvetica,sans-Serif\" font-size=\"14.00\">False</text>\n</g>\n<!-- 2 -->\n<g id=\"node3\" class=\"node\">\n<title>2</title>\n<path fill=\"#39e581\" stroke=\"black\" d=\"M98,-179.5C98,-179.5 12,-179.5 12,-179.5 6,-179.5 0,-173.5 0,-167.5 0,-167.5 0,-123.5 0,-123.5 0,-117.5 6,-111.5 12,-111.5 12,-111.5 98,-111.5 98,-111.5 104,-111.5 110,-117.5 110,-123.5 110,-123.5 110,-167.5 110,-167.5 110,-173.5 104,-179.5 98,-179.5\"/>\n<text text-anchor=\"middle\" x=\"55\" y=\"-164.3\" font-family=\"Helvetica,sans-Serif\" font-size=\"14.00\">entropy = 0.0</text>\n<text text-anchor=\"middle\" x=\"55\" y=\"-149.3\" font-family=\"Helvetica,sans-Serif\" font-size=\"14.00\">samples = 5</text>\n<text text-anchor=\"middle\" x=\"55\" y=\"-134.3\" font-family=\"Helvetica,sans-Serif\" font-size=\"14.00\">value = [0, 5, 0]</text>\n<text text-anchor=\"middle\" x=\"55\" y=\"-119.3\" font-family=\"Helvetica,sans-Serif\" font-size=\"14.00\">class = 2</text>\n</g>\n<!-- 1&#45;&gt;2 -->\n<g id=\"edge2\" class=\"edge\">\n<title>1&#45;&gt;2</title>\n<path fill=\"none\" stroke=\"black\" d=\"M136.63,-222.91C124.14,-211.21 110.51,-198.46 98.03,-186.78\"/>\n<polygon fill=\"black\" stroke=\"black\" points=\"100.13,-183.95 90.43,-179.67 95.34,-189.06 100.13,-183.95\"/>\n</g>\n<!-- 3 -->\n<g id=\"node4\" class=\"node\">\n<title>3</title>\n<path fill=\"#8139e5\" stroke=\"black\" d=\"M233.5,-179.5C233.5,-179.5 140.5,-179.5 140.5,-179.5 134.5,-179.5 128.5,-173.5 128.5,-167.5 128.5,-167.5 128.5,-123.5 128.5,-123.5 128.5,-117.5 134.5,-111.5 140.5,-111.5 140.5,-111.5 233.5,-111.5 233.5,-111.5 239.5,-111.5 245.5,-117.5 245.5,-123.5 245.5,-123.5 245.5,-167.5 245.5,-167.5 245.5,-173.5 239.5,-179.5 233.5,-179.5\"/>\n<text text-anchor=\"middle\" x=\"187\" y=\"-164.3\" font-family=\"Helvetica,sans-Serif\" font-size=\"14.00\">entropy = 0.0</text>\n<text text-anchor=\"middle\" x=\"187\" y=\"-149.3\" font-family=\"Helvetica,sans-Serif\" font-size=\"14.00\">samples = 29</text>\n<text text-anchor=\"middle\" x=\"187\" y=\"-134.3\" font-family=\"Helvetica,sans-Serif\" font-size=\"14.00\">value = [0, 0, 29]</text>\n<text text-anchor=\"middle\" x=\"187\" y=\"-119.3\" font-family=\"Helvetica,sans-Serif\" font-size=\"14.00\">class = 3</text>\n</g>\n<!-- 1&#45;&gt;3 -->\n<g id=\"edge3\" class=\"edge\">\n<title>1&#45;&gt;3</title>\n<path fill=\"none\" stroke=\"black\" d=\"M182.43,-222.91C183.07,-212.2 183.76,-200.62 184.41,-189.78\"/>\n<polygon fill=\"black\" stroke=\"black\" points=\"187.91,-189.86 185.02,-179.67 180.92,-189.44 187.91,-189.86\"/>\n</g>\n<!-- 5 -->\n<g id=\"node6\" class=\"node\">\n<title>5</title>\n<path fill=\"#39e581\" stroke=\"black\" d=\"M382.5,-179.5C382.5,-179.5 289.5,-179.5 289.5,-179.5 283.5,-179.5 277.5,-173.5 277.5,-167.5 277.5,-167.5 277.5,-123.5 277.5,-123.5 277.5,-117.5 283.5,-111.5 289.5,-111.5 289.5,-111.5 382.5,-111.5 382.5,-111.5 388.5,-111.5 394.5,-117.5 394.5,-123.5 394.5,-123.5 394.5,-167.5 394.5,-167.5 394.5,-173.5 388.5,-179.5 382.5,-179.5\"/>\n<text text-anchor=\"middle\" x=\"336\" y=\"-164.3\" font-family=\"Helvetica,sans-Serif\" font-size=\"14.00\">entropy = 0.0</text>\n<text text-anchor=\"middle\" x=\"336\" y=\"-149.3\" font-family=\"Helvetica,sans-Serif\" font-size=\"14.00\">samples = 33</text>\n<text text-anchor=\"middle\" x=\"336\" y=\"-134.3\" font-family=\"Helvetica,sans-Serif\" font-size=\"14.00\">value = [0, 33, 0]</text>\n<text text-anchor=\"middle\" x=\"336\" y=\"-119.3\" font-family=\"Helvetica,sans-Serif\" font-size=\"14.00\">class = 2</text>\n</g>\n<!-- 4&#45;&gt;5 -->\n<g id=\"edge5\" class=\"edge\">\n<title>4&#45;&gt;5</title>\n<path fill=\"none\" stroke=\"black\" d=\"M340.57,-222.91C339.93,-212.2 339.24,-200.62 338.59,-189.78\"/>\n<polygon fill=\"black\" stroke=\"black\" points=\"342.08,-189.44 337.98,-179.67 335.09,-189.86 342.08,-189.44\"/>\n</g>\n<!-- 6 -->\n<g id=\"node7\" class=\"node\">\n<title>6</title>\n<path fill=\"#e88f50\" stroke=\"black\" d=\"M565,-187C565,-187 425,-187 425,-187 419,-187 413,-181 413,-175 413,-175 413,-116 413,-116 413,-110 419,-104 425,-104 425,-104 565,-104 565,-104 571,-104 577,-110 577,-116 577,-116 577,-175 577,-175 577,-181 571,-187 565,-187\"/>\n<text text-anchor=\"middle\" x=\"495\" y=\"-171.8\" font-family=\"Helvetica,sans-Serif\" font-size=\"14.00\">Color_intensity &lt;= 3.465</text>\n<text text-anchor=\"middle\" x=\"495\" y=\"-156.8\" font-family=\"Helvetica,sans-Serif\" font-size=\"14.00\">entropy = 0.477</text>\n<text text-anchor=\"middle\" x=\"495\" y=\"-141.8\" font-family=\"Helvetica,sans-Serif\" font-size=\"14.00\">samples = 39</text>\n<text text-anchor=\"middle\" x=\"495\" y=\"-126.8\" font-family=\"Helvetica,sans-Serif\" font-size=\"14.00\">value = [35, 4, 0]</text>\n<text text-anchor=\"middle\" x=\"495\" y=\"-111.8\" font-family=\"Helvetica,sans-Serif\" font-size=\"14.00\">class = 1</text>\n</g>\n<!-- 4&#45;&gt;6 -->\n<g id=\"edge6\" class=\"edge\">\n<title>4&#45;&gt;6</title>\n<path fill=\"none\" stroke=\"black\" d=\"M395.74,-222.91C408.12,-213.38 421.41,-203.15 434.11,-193.37\"/>\n<polygon fill=\"black\" stroke=\"black\" points=\"436.57,-195.89 442.36,-187.02 432.3,-190.35 436.57,-195.89\"/>\n</g>\n<!-- 7 -->\n<g id=\"node8\" class=\"node\">\n<title>7</title>\n<path fill=\"#39e581\" stroke=\"black\" d=\"M472,-68C472,-68 386,-68 386,-68 380,-68 374,-62 374,-56 374,-56 374,-12 374,-12 374,-6 380,0 386,0 386,0 472,0 472,0 478,0 484,-6 484,-12 484,-12 484,-56 484,-56 484,-62 478,-68 472,-68\"/>\n<text text-anchor=\"middle\" x=\"429\" y=\"-52.8\" font-family=\"Helvetica,sans-Serif\" font-size=\"14.00\">entropy = 0.0</text>\n<text text-anchor=\"middle\" x=\"429\" y=\"-37.8\" font-family=\"Helvetica,sans-Serif\" font-size=\"14.00\">samples = 4</text>\n<text text-anchor=\"middle\" x=\"429\" y=\"-22.8\" font-family=\"Helvetica,sans-Serif\" font-size=\"14.00\">value = [0, 4, 0]</text>\n<text text-anchor=\"middle\" x=\"429\" y=\"-7.8\" font-family=\"Helvetica,sans-Serif\" font-size=\"14.00\">class = 2</text>\n</g>\n<!-- 6&#45;&gt;7 -->\n<g id=\"edge7\" class=\"edge\">\n<title>6&#45;&gt;7</title>\n<path fill=\"none\" stroke=\"black\" d=\"M470.42,-103.73C465.15,-94.97 459.56,-85.7 454.26,-76.91\"/>\n<polygon fill=\"black\" stroke=\"black\" points=\"457.23,-75.06 449.07,-68.3 451.24,-78.67 457.23,-75.06\"/>\n</g>\n<!-- 8 -->\n<g id=\"node9\" class=\"node\">\n<title>8</title>\n<path fill=\"#e58139\" stroke=\"black\" d=\"M607.5,-68C607.5,-68 514.5,-68 514.5,-68 508.5,-68 502.5,-62 502.5,-56 502.5,-56 502.5,-12 502.5,-12 502.5,-6 508.5,0 514.5,0 514.5,0 607.5,0 607.5,0 613.5,0 619.5,-6 619.5,-12 619.5,-12 619.5,-56 619.5,-56 619.5,-62 613.5,-68 607.5,-68\"/>\n<text text-anchor=\"middle\" x=\"561\" y=\"-52.8\" font-family=\"Helvetica,sans-Serif\" font-size=\"14.00\">entropy = 0.0</text>\n<text text-anchor=\"middle\" x=\"561\" y=\"-37.8\" font-family=\"Helvetica,sans-Serif\" font-size=\"14.00\">samples = 35</text>\n<text text-anchor=\"middle\" x=\"561\" y=\"-22.8\" font-family=\"Helvetica,sans-Serif\" font-size=\"14.00\">value = [35, 0, 0]</text>\n<text text-anchor=\"middle\" x=\"561\" y=\"-7.8\" font-family=\"Helvetica,sans-Serif\" font-size=\"14.00\">class = 1</text>\n</g>\n<!-- 6&#45;&gt;8 -->\n<g id=\"edge8\" class=\"edge\">\n<title>6&#45;&gt;8</title>\n<path fill=\"none\" stroke=\"black\" d=\"M519.58,-103.73C524.85,-94.97 530.44,-85.7 535.74,-76.91\"/>\n<polygon fill=\"black\" stroke=\"black\" points=\"538.76,-78.67 540.93,-68.3 532.77,-75.06 538.76,-78.67\"/>\n</g>\n</g>\n</svg>\n",
            "text/plain": [
              "<graphviz.sources.Source at 0x7f8ce1fc4d90>"
            ]
          },
          "metadata": {},
          "execution_count": 60
        }
      ],
      "source": [
        "graph"
      ]
    },
    {
      "cell_type": "code",
      "execution_count": 61,
      "metadata": {
        "execution": {
          "iopub.execute_input": "2023-12-06T15:54:51.134776Z",
          "iopub.status.busy": "2023-12-06T15:54:51.134336Z",
          "iopub.status.idle": "2023-12-06T15:54:51.257393Z",
          "shell.execute_reply": "2023-12-06T15:54:51.255963Z",
          "shell.execute_reply.started": "2023-12-06T15:54:51.134742Z"
        },
        "trusted": true,
        "colab": {
          "base_uri": "https://localhost:8080/",
          "height": 35
        },
        "id": "Z4HIBfRJVz4G",
        "outputId": "cf1cf5f1-b115-4cde-b292-4ad3afb16b00"
      },
      "outputs": [
        {
          "output_type": "execute_result",
          "data": {
            "text/plain": [
              "'Graph/descision_tree_60_40.png'"
            ],
            "application/vnd.google.colaboratory.intrinsic+json": {
              "type": "string"
            }
          },
          "metadata": {},
          "execution_count": 61
        }
      ],
      "source": [
        "graph.render(filename=f'descision_tree_60_40',format='png',directory = f\"{filepathgraph}\")"
      ]
    },
    {
      "cell_type": "markdown",
      "metadata": {
        "id": "FlWGj2mfVz4G"
      },
      "source": [
        "## 80/20 train/test"
      ]
    },
    {
      "cell_type": "code",
      "execution_count": 62,
      "metadata": {
        "execution": {
          "iopub.execute_input": "2023-12-06T15:54:53.556419Z",
          "iopub.status.busy": "2023-12-06T15:54:53.556032Z",
          "iopub.status.idle": "2023-12-06T15:54:53.562850Z",
          "shell.execute_reply": "2023-12-06T15:54:53.561319Z",
          "shell.execute_reply.started": "2023-12-06T15:54:53.556390Z"
        },
        "trusted": true,
        "id": "vuU5xaQqVz4P"
      },
      "outputs": [],
      "source": [
        "feature_train, feature_test, label_train, label_test = dataset[2]"
      ]
    },
    {
      "cell_type": "code",
      "execution_count": 63,
      "metadata": {
        "execution": {
          "iopub.execute_input": "2023-12-06T15:54:55.723469Z",
          "iopub.status.busy": "2023-12-06T15:54:55.723060Z",
          "iopub.status.idle": "2023-12-06T15:54:55.740074Z",
          "shell.execute_reply": "2023-12-06T15:54:55.738391Z",
          "shell.execute_reply.started": "2023-12-06T15:54:55.723439Z"
        },
        "trusted": true,
        "colab": {
          "base_uri": "https://localhost:8080/",
          "height": 75
        },
        "id": "f9Z3h9YlVz4Q",
        "outputId": "744a6de8-7992-4ac2-c0bf-78da63aaceaf"
      },
      "outputs": [
        {
          "output_type": "execute_result",
          "data": {
            "text/plain": [
              "DecisionTreeClassifier(criterion='entropy')"
            ],
            "text/html": [
              "<style>#sk-container-id-6 {color: black;background-color: white;}#sk-container-id-6 pre{padding: 0;}#sk-container-id-6 div.sk-toggleable {background-color: white;}#sk-container-id-6 label.sk-toggleable__label {cursor: pointer;display: block;width: 100%;margin-bottom: 0;padding: 0.3em;box-sizing: border-box;text-align: center;}#sk-container-id-6 label.sk-toggleable__label-arrow:before {content: \"▸\";float: left;margin-right: 0.25em;color: #696969;}#sk-container-id-6 label.sk-toggleable__label-arrow:hover:before {color: black;}#sk-container-id-6 div.sk-estimator:hover label.sk-toggleable__label-arrow:before {color: black;}#sk-container-id-6 div.sk-toggleable__content {max-height: 0;max-width: 0;overflow: hidden;text-align: left;background-color: #f0f8ff;}#sk-container-id-6 div.sk-toggleable__content pre {margin: 0.2em;color: black;border-radius: 0.25em;background-color: #f0f8ff;}#sk-container-id-6 input.sk-toggleable__control:checked~div.sk-toggleable__content {max-height: 200px;max-width: 100%;overflow: auto;}#sk-container-id-6 input.sk-toggleable__control:checked~label.sk-toggleable__label-arrow:before {content: \"▾\";}#sk-container-id-6 div.sk-estimator input.sk-toggleable__control:checked~label.sk-toggleable__label {background-color: #d4ebff;}#sk-container-id-6 div.sk-label input.sk-toggleable__control:checked~label.sk-toggleable__label {background-color: #d4ebff;}#sk-container-id-6 input.sk-hidden--visually {border: 0;clip: rect(1px 1px 1px 1px);clip: rect(1px, 1px, 1px, 1px);height: 1px;margin: -1px;overflow: hidden;padding: 0;position: absolute;width: 1px;}#sk-container-id-6 div.sk-estimator {font-family: monospace;background-color: #f0f8ff;border: 1px dotted black;border-radius: 0.25em;box-sizing: border-box;margin-bottom: 0.5em;}#sk-container-id-6 div.sk-estimator:hover {background-color: #d4ebff;}#sk-container-id-6 div.sk-parallel-item::after {content: \"\";width: 100%;border-bottom: 1px solid gray;flex-grow: 1;}#sk-container-id-6 div.sk-label:hover label.sk-toggleable__label {background-color: #d4ebff;}#sk-container-id-6 div.sk-serial::before {content: \"\";position: absolute;border-left: 1px solid gray;box-sizing: border-box;top: 0;bottom: 0;left: 50%;z-index: 0;}#sk-container-id-6 div.sk-serial {display: flex;flex-direction: column;align-items: center;background-color: white;padding-right: 0.2em;padding-left: 0.2em;position: relative;}#sk-container-id-6 div.sk-item {position: relative;z-index: 1;}#sk-container-id-6 div.sk-parallel {display: flex;align-items: stretch;justify-content: center;background-color: white;position: relative;}#sk-container-id-6 div.sk-item::before, #sk-container-id-6 div.sk-parallel-item::before {content: \"\";position: absolute;border-left: 1px solid gray;box-sizing: border-box;top: 0;bottom: 0;left: 50%;z-index: -1;}#sk-container-id-6 div.sk-parallel-item {display: flex;flex-direction: column;z-index: 1;position: relative;background-color: white;}#sk-container-id-6 div.sk-parallel-item:first-child::after {align-self: flex-end;width: 50%;}#sk-container-id-6 div.sk-parallel-item:last-child::after {align-self: flex-start;width: 50%;}#sk-container-id-6 div.sk-parallel-item:only-child::after {width: 0;}#sk-container-id-6 div.sk-dashed-wrapped {border: 1px dashed gray;margin: 0 0.4em 0.5em 0.4em;box-sizing: border-box;padding-bottom: 0.4em;background-color: white;}#sk-container-id-6 div.sk-label label {font-family: monospace;font-weight: bold;display: inline-block;line-height: 1.2em;}#sk-container-id-6 div.sk-label-container {text-align: center;}#sk-container-id-6 div.sk-container {/* jupyter's `normalize.less` sets `[hidden] { display: none; }` but bootstrap.min.css set `[hidden] { display: none !important; }` so we also need the `!important` here to be able to override the default hidden behavior on the sphinx rendered scikit-learn.org. See: https://github.com/scikit-learn/scikit-learn/issues/21755 */display: inline-block !important;position: relative;}#sk-container-id-6 div.sk-text-repr-fallback {display: none;}</style><div id=\"sk-container-id-6\" class=\"sk-top-container\"><div class=\"sk-text-repr-fallback\"><pre>DecisionTreeClassifier(criterion=&#x27;entropy&#x27;)</pre><b>In a Jupyter environment, please rerun this cell to show the HTML representation or trust the notebook. <br />On GitHub, the HTML representation is unable to render, please try loading this page with nbviewer.org.</b></div><div class=\"sk-container\" hidden><div class=\"sk-item\"><div class=\"sk-estimator sk-toggleable\"><input class=\"sk-toggleable__control sk-hidden--visually\" id=\"sk-estimator-id-6\" type=\"checkbox\" checked><label for=\"sk-estimator-id-6\" class=\"sk-toggleable__label sk-toggleable__label-arrow\">DecisionTreeClassifier</label><div class=\"sk-toggleable__content\"><pre>DecisionTreeClassifier(criterion=&#x27;entropy&#x27;)</pre></div></div></div></div></div>"
            ]
          },
          "metadata": {},
          "execution_count": 63
        }
      ],
      "source": [
        "clf2 = tree.DecisionTreeClassifier(criterion='entropy')\n",
        "clf2.fit(feature_train,label_train)"
      ]
    },
    {
      "cell_type": "code",
      "execution_count": 64,
      "metadata": {
        "execution": {
          "iopub.execute_input": "2023-12-06T15:54:57.663726Z",
          "iopub.status.busy": "2023-12-06T15:54:57.663240Z",
          "iopub.status.idle": "2023-12-06T15:54:57.675482Z",
          "shell.execute_reply": "2023-12-06T15:54:57.673951Z",
          "shell.execute_reply.started": "2023-12-06T15:54:57.663684Z"
        },
        "trusted": true,
        "id": "7uh21OB2Vz4Q"
      },
      "outputs": [],
      "source": [
        "graph_data = tree.export_graphviz(clf2,\n",
        "                            filled=True,\n",
        "                            rounded=True,\n",
        "                            feature_names=X.columns,\n",
        "                            class_names=clf2.classes_.astype(str)\n",
        "                            )\n",
        "\n",
        "graph = graphviz.Source(graph_data)"
      ]
    },
    {
      "cell_type": "code",
      "execution_count": 65,
      "metadata": {
        "execution": {
          "iopub.execute_input": "2023-12-06T15:55:00.116263Z",
          "iopub.status.busy": "2023-12-06T15:55:00.115199Z",
          "iopub.status.idle": "2023-12-06T15:55:00.152847Z",
          "shell.execute_reply": "2023-12-06T15:55:00.151190Z",
          "shell.execute_reply.started": "2023-12-06T15:55:00.116218Z"
        },
        "trusted": true,
        "colab": {
          "base_uri": "https://localhost:8080/",
          "height": 757
        },
        "id": "fvG5Dv6tVz4S",
        "outputId": "dfada0c1-45d3-4097-d4e1-952135d58134"
      },
      "outputs": [
        {
          "output_type": "execute_result",
          "data": {
            "image/svg+xml": "<?xml version=\"1.0\" encoding=\"UTF-8\" standalone=\"no\"?>\n<!DOCTYPE svg PUBLIC \"-//W3C//DTD SVG 1.1//EN\"\n \"http://www.w3.org/Graphics/SVG/1.1/DTD/svg11.dtd\">\n<!-- Generated by graphviz version 2.43.0 (0)\n -->\n<!-- Title: Tree Pages: 1 -->\n<svg width=\"702pt\" height=\"552pt\"\n viewBox=\"0.00 0.00 701.50 552.00\" xmlns=\"http://www.w3.org/2000/svg\" xmlns:xlink=\"http://www.w3.org/1999/xlink\">\n<g id=\"graph0\" class=\"graph\" transform=\"scale(1 1) rotate(0) translate(4 548)\">\n<title>Tree</title>\n<polygon fill=\"white\" stroke=\"transparent\" points=\"-4,4 -4,-548 697.5,-548 697.5,4 -4,4\"/>\n<!-- 0 -->\n<g id=\"node1\" class=\"node\">\n<title>0</title>\n<path fill=\"#eafcf2\" stroke=\"black\" d=\"M320,-544C320,-544 204,-544 204,-544 198,-544 192,-538 192,-532 192,-532 192,-473 192,-473 192,-467 198,-461 204,-461 204,-461 320,-461 320,-461 326,-461 332,-467 332,-473 332,-473 332,-532 332,-532 332,-538 326,-544 320,-544\"/>\n<text text-anchor=\"middle\" x=\"262\" y=\"-528.8\" font-family=\"Helvetica,sans-Serif\" font-size=\"14.00\">Flavanoids &lt;= 1.425</text>\n<text text-anchor=\"middle\" x=\"262\" y=\"-513.8\" font-family=\"Helvetica,sans-Serif\" font-size=\"14.00\">entropy = 1.566</text>\n<text text-anchor=\"middle\" x=\"262\" y=\"-498.8\" font-family=\"Helvetica,sans-Serif\" font-size=\"14.00\">samples = 142</text>\n<text text-anchor=\"middle\" x=\"262\" y=\"-483.8\" font-family=\"Helvetica,sans-Serif\" font-size=\"14.00\">value = [47, 57, 38]</text>\n<text text-anchor=\"middle\" x=\"262\" y=\"-468.8\" font-family=\"Helvetica,sans-Serif\" font-size=\"14.00\">class = 2</text>\n</g>\n<!-- 1 -->\n<g id=\"node2\" class=\"node\">\n<title>1</title>\n<path fill=\"#9f68eb\" stroke=\"black\" d=\"M251,-425C251,-425 111,-425 111,-425 105,-425 99,-419 99,-413 99,-413 99,-354 99,-354 99,-348 105,-342 111,-342 111,-342 251,-342 251,-342 257,-342 263,-348 263,-354 263,-354 263,-413 263,-413 263,-419 257,-425 251,-425\"/>\n<text text-anchor=\"middle\" x=\"181\" y=\"-409.8\" font-family=\"Helvetica,sans-Serif\" font-size=\"14.00\">Color_intensity &lt;= 3.725</text>\n<text text-anchor=\"middle\" x=\"181\" y=\"-394.8\" font-family=\"Helvetica,sans-Serif\" font-size=\"14.00\">entropy = 0.705</text>\n<text text-anchor=\"middle\" x=\"181\" y=\"-379.8\" font-family=\"Helvetica,sans-Serif\" font-size=\"14.00\">samples = 47</text>\n<text text-anchor=\"middle\" x=\"181\" y=\"-364.8\" font-family=\"Helvetica,sans-Serif\" font-size=\"14.00\">value = [0, 9, 38]</text>\n<text text-anchor=\"middle\" x=\"181\" y=\"-349.8\" font-family=\"Helvetica,sans-Serif\" font-size=\"14.00\">class = 3</text>\n</g>\n<!-- 0&#45;&gt;1 -->\n<g id=\"edge1\" class=\"edge\">\n<title>0&#45;&gt;1</title>\n<path fill=\"none\" stroke=\"black\" d=\"M233.9,-460.91C227.74,-452.01 221.16,-442.51 214.81,-433.33\"/>\n<polygon fill=\"black\" stroke=\"black\" points=\"217.62,-431.25 209.05,-425.02 211.87,-435.24 217.62,-431.25\"/>\n<text text-anchor=\"middle\" x=\"204.58\" y=\"-445.92\" font-family=\"Helvetica,sans-Serif\" font-size=\"14.00\">True</text>\n</g>\n<!-- 4 -->\n<g id=\"node5\" class=\"node\">\n<title>4</title>\n<path fill=\"#fbfefc\" stroke=\"black\" d=\"M394.5,-425C394.5,-425 293.5,-425 293.5,-425 287.5,-425 281.5,-419 281.5,-413 281.5,-413 281.5,-354 281.5,-354 281.5,-348 287.5,-342 293.5,-342 293.5,-342 394.5,-342 394.5,-342 400.5,-342 406.5,-348 406.5,-354 406.5,-354 406.5,-413 406.5,-413 406.5,-419 400.5,-425 394.5,-425\"/>\n<text text-anchor=\"middle\" x=\"344\" y=\"-409.8\" font-family=\"Helvetica,sans-Serif\" font-size=\"14.00\">Proline &lt;= 724.5</text>\n<text text-anchor=\"middle\" x=\"344\" y=\"-394.8\" font-family=\"Helvetica,sans-Serif\" font-size=\"14.00\">entropy = 1.0</text>\n<text text-anchor=\"middle\" x=\"344\" y=\"-379.8\" font-family=\"Helvetica,sans-Serif\" font-size=\"14.00\">samples = 95</text>\n<text text-anchor=\"middle\" x=\"344\" y=\"-364.8\" font-family=\"Helvetica,sans-Serif\" font-size=\"14.00\">value = [47, 48, 0]</text>\n<text text-anchor=\"middle\" x=\"344\" y=\"-349.8\" font-family=\"Helvetica,sans-Serif\" font-size=\"14.00\">class = 2</text>\n</g>\n<!-- 0&#45;&gt;4 -->\n<g id=\"edge4\" class=\"edge\">\n<title>0&#45;&gt;4</title>\n<path fill=\"none\" stroke=\"black\" d=\"M290.45,-460.91C296.68,-452.01 303.34,-442.51 309.78,-433.33\"/>\n<polygon fill=\"black\" stroke=\"black\" points=\"312.73,-435.22 315.6,-425.02 307,-431.2 312.73,-435.22\"/>\n<text text-anchor=\"middle\" x=\"319.93\" y=\"-445.94\" font-family=\"Helvetica,sans-Serif\" font-size=\"14.00\">False</text>\n</g>\n<!-- 2 -->\n<g id=\"node3\" class=\"node\">\n<title>2</title>\n<path fill=\"#39e581\" stroke=\"black\" d=\"M98,-298.5C98,-298.5 12,-298.5 12,-298.5 6,-298.5 0,-292.5 0,-286.5 0,-286.5 0,-242.5 0,-242.5 0,-236.5 6,-230.5 12,-230.5 12,-230.5 98,-230.5 98,-230.5 104,-230.5 110,-236.5 110,-242.5 110,-242.5 110,-286.5 110,-286.5 110,-292.5 104,-298.5 98,-298.5\"/>\n<text text-anchor=\"middle\" x=\"55\" y=\"-283.3\" font-family=\"Helvetica,sans-Serif\" font-size=\"14.00\">entropy = 0.0</text>\n<text text-anchor=\"middle\" x=\"55\" y=\"-268.3\" font-family=\"Helvetica,sans-Serif\" font-size=\"14.00\">samples = 9</text>\n<text text-anchor=\"middle\" x=\"55\" y=\"-253.3\" font-family=\"Helvetica,sans-Serif\" font-size=\"14.00\">value = [0, 9, 0]</text>\n<text text-anchor=\"middle\" x=\"55\" y=\"-238.3\" font-family=\"Helvetica,sans-Serif\" font-size=\"14.00\">class = 2</text>\n</g>\n<!-- 1&#45;&gt;2 -->\n<g id=\"edge2\" class=\"edge\">\n<title>1&#45;&gt;2</title>\n<path fill=\"none\" stroke=\"black\" d=\"M137.28,-341.91C124.69,-330.21 110.95,-317.46 98.38,-305.78\"/>\n<polygon fill=\"black\" stroke=\"black\" points=\"100.43,-302.91 90.72,-298.67 95.66,-308.04 100.43,-302.91\"/>\n</g>\n<!-- 3 -->\n<g id=\"node4\" class=\"node\">\n<title>3</title>\n<path fill=\"#8139e5\" stroke=\"black\" d=\"M233.5,-298.5C233.5,-298.5 140.5,-298.5 140.5,-298.5 134.5,-298.5 128.5,-292.5 128.5,-286.5 128.5,-286.5 128.5,-242.5 128.5,-242.5 128.5,-236.5 134.5,-230.5 140.5,-230.5 140.5,-230.5 233.5,-230.5 233.5,-230.5 239.5,-230.5 245.5,-236.5 245.5,-242.5 245.5,-242.5 245.5,-286.5 245.5,-286.5 245.5,-292.5 239.5,-298.5 233.5,-298.5\"/>\n<text text-anchor=\"middle\" x=\"187\" y=\"-283.3\" font-family=\"Helvetica,sans-Serif\" font-size=\"14.00\">entropy = 0.0</text>\n<text text-anchor=\"middle\" x=\"187\" y=\"-268.3\" font-family=\"Helvetica,sans-Serif\" font-size=\"14.00\">samples = 38</text>\n<text text-anchor=\"middle\" x=\"187\" y=\"-253.3\" font-family=\"Helvetica,sans-Serif\" font-size=\"14.00\">value = [0, 0, 38]</text>\n<text text-anchor=\"middle\" x=\"187\" y=\"-238.3\" font-family=\"Helvetica,sans-Serif\" font-size=\"14.00\">class = 3</text>\n</g>\n<!-- 1&#45;&gt;3 -->\n<g id=\"edge3\" class=\"edge\">\n<title>1&#45;&gt;3</title>\n<path fill=\"none\" stroke=\"black\" d=\"M183.08,-341.91C183.63,-331.2 184.22,-319.62 184.78,-308.78\"/>\n<polygon fill=\"black\" stroke=\"black\" points=\"188.28,-308.83 185.3,-298.67 181.29,-308.47 188.28,-308.83\"/>\n</g>\n<!-- 5 -->\n<g id=\"node6\" class=\"node\">\n<title>5</title>\n<path fill=\"#3de684\" stroke=\"black\" d=\"M392.5,-306C392.5,-306 285.5,-306 285.5,-306 279.5,-306 273.5,-300 273.5,-294 273.5,-294 273.5,-235 273.5,-235 273.5,-229 279.5,-223 285.5,-223 285.5,-223 392.5,-223 392.5,-223 398.5,-223 404.5,-229 404.5,-235 404.5,-235 404.5,-294 404.5,-294 404.5,-300 398.5,-306 392.5,-306\"/>\n<text text-anchor=\"middle\" x=\"339\" y=\"-290.8\" font-family=\"Helvetica,sans-Serif\" font-size=\"14.00\">Malicacid &lt;= 3.925</text>\n<text text-anchor=\"middle\" x=\"339\" y=\"-275.8\" font-family=\"Helvetica,sans-Serif\" font-size=\"14.00\">entropy = 0.151</text>\n<text text-anchor=\"middle\" x=\"339\" y=\"-260.8\" font-family=\"Helvetica,sans-Serif\" font-size=\"14.00\">samples = 46</text>\n<text text-anchor=\"middle\" x=\"339\" y=\"-245.8\" font-family=\"Helvetica,sans-Serif\" font-size=\"14.00\">value = [1, 45, 0]</text>\n<text text-anchor=\"middle\" x=\"339\" y=\"-230.8\" font-family=\"Helvetica,sans-Serif\" font-size=\"14.00\">class = 2</text>\n</g>\n<!-- 4&#45;&gt;5 -->\n<g id=\"edge5\" class=\"edge\">\n<title>4&#45;&gt;5</title>\n<path fill=\"none\" stroke=\"black\" d=\"M342.27,-341.91C341.91,-333.56 341.53,-324.67 341.16,-316.02\"/>\n<polygon fill=\"black\" stroke=\"black\" points=\"344.66,-315.86 340.73,-306.02 337.66,-316.16 344.66,-315.86\"/>\n</g>\n<!-- 10 -->\n<g id=\"node11\" class=\"node\">\n<title>10</title>\n<path fill=\"#e78946\" stroke=\"black\" d=\"M575,-306C575,-306 435,-306 435,-306 429,-306 423,-300 423,-294 423,-294 423,-235 423,-235 423,-229 429,-223 435,-223 435,-223 575,-223 575,-223 581,-223 587,-229 587,-235 587,-235 587,-294 587,-294 587,-300 581,-306 575,-306\"/>\n<text text-anchor=\"middle\" x=\"505\" y=\"-290.8\" font-family=\"Helvetica,sans-Serif\" font-size=\"14.00\">Color_intensity &lt;= 3.435</text>\n<text text-anchor=\"middle\" x=\"505\" y=\"-275.8\" font-family=\"Helvetica,sans-Serif\" font-size=\"14.00\">entropy = 0.332</text>\n<text text-anchor=\"middle\" x=\"505\" y=\"-260.8\" font-family=\"Helvetica,sans-Serif\" font-size=\"14.00\">samples = 49</text>\n<text text-anchor=\"middle\" x=\"505\" y=\"-245.8\" font-family=\"Helvetica,sans-Serif\" font-size=\"14.00\">value = [46, 3, 0]</text>\n<text text-anchor=\"middle\" x=\"505\" y=\"-230.8\" font-family=\"Helvetica,sans-Serif\" font-size=\"14.00\">class = 1</text>\n</g>\n<!-- 4&#45;&gt;10 -->\n<g id=\"edge10\" class=\"edge\">\n<title>4&#45;&gt;10</title>\n<path fill=\"none\" stroke=\"black\" d=\"M399.86,-341.91C413.1,-332.29 427.32,-321.95 440.89,-312.09\"/>\n<polygon fill=\"black\" stroke=\"black\" points=\"443.21,-314.73 449.24,-306.02 439.09,-309.07 443.21,-314.73\"/>\n</g>\n<!-- 6 -->\n<g id=\"node7\" class=\"node\">\n<title>6</title>\n<path fill=\"#39e581\" stroke=\"black\" d=\"M222.5,-179.5C222.5,-179.5 129.5,-179.5 129.5,-179.5 123.5,-179.5 117.5,-173.5 117.5,-167.5 117.5,-167.5 117.5,-123.5 117.5,-123.5 117.5,-117.5 123.5,-111.5 129.5,-111.5 129.5,-111.5 222.5,-111.5 222.5,-111.5 228.5,-111.5 234.5,-117.5 234.5,-123.5 234.5,-123.5 234.5,-167.5 234.5,-167.5 234.5,-173.5 228.5,-179.5 222.5,-179.5\"/>\n<text text-anchor=\"middle\" x=\"176\" y=\"-164.3\" font-family=\"Helvetica,sans-Serif\" font-size=\"14.00\">entropy = 0.0</text>\n<text text-anchor=\"middle\" x=\"176\" y=\"-149.3\" font-family=\"Helvetica,sans-Serif\" font-size=\"14.00\">samples = 43</text>\n<text text-anchor=\"middle\" x=\"176\" y=\"-134.3\" font-family=\"Helvetica,sans-Serif\" font-size=\"14.00\">value = [0, 43, 0]</text>\n<text text-anchor=\"middle\" x=\"176\" y=\"-119.3\" font-family=\"Helvetica,sans-Serif\" font-size=\"14.00\">class = 2</text>\n</g>\n<!-- 5&#45;&gt;6 -->\n<g id=\"edge6\" class=\"edge\">\n<title>5&#45;&gt;6</title>\n<path fill=\"none\" stroke=\"black\" d=\"M282.45,-222.91C265.69,-210.88 247.38,-197.73 230.74,-185.79\"/>\n<polygon fill=\"black\" stroke=\"black\" points=\"232.37,-182.65 222.21,-179.67 228.29,-188.34 232.37,-182.65\"/>\n</g>\n<!-- 7 -->\n<g id=\"node8\" class=\"node\">\n<title>7</title>\n<path fill=\"#9cf2c0\" stroke=\"black\" d=\"M415.5,-187C415.5,-187 264.5,-187 264.5,-187 258.5,-187 252.5,-181 252.5,-175 252.5,-175 252.5,-116 252.5,-116 252.5,-110 258.5,-104 264.5,-104 264.5,-104 415.5,-104 415.5,-104 421.5,-104 427.5,-110 427.5,-116 427.5,-116 427.5,-175 427.5,-175 427.5,-181 421.5,-187 415.5,-187\"/>\n<text text-anchor=\"middle\" x=\"340\" y=\"-171.8\" font-family=\"Helvetica,sans-Serif\" font-size=\"14.00\">Proanthocyanins &lt;= 1.835</text>\n<text text-anchor=\"middle\" x=\"340\" y=\"-156.8\" font-family=\"Helvetica,sans-Serif\" font-size=\"14.00\">entropy = 0.918</text>\n<text text-anchor=\"middle\" x=\"340\" y=\"-141.8\" font-family=\"Helvetica,sans-Serif\" font-size=\"14.00\">samples = 3</text>\n<text text-anchor=\"middle\" x=\"340\" y=\"-126.8\" font-family=\"Helvetica,sans-Serif\" font-size=\"14.00\">value = [1, 2, 0]</text>\n<text text-anchor=\"middle\" x=\"340\" y=\"-111.8\" font-family=\"Helvetica,sans-Serif\" font-size=\"14.00\">class = 2</text>\n</g>\n<!-- 5&#45;&gt;7 -->\n<g id=\"edge7\" class=\"edge\">\n<title>5&#45;&gt;7</title>\n<path fill=\"none\" stroke=\"black\" d=\"M339.35,-222.91C339.42,-214.65 339.49,-205.86 339.57,-197.3\"/>\n<polygon fill=\"black\" stroke=\"black\" points=\"343.07,-197.05 339.65,-187.02 336.07,-196.99 343.07,-197.05\"/>\n</g>\n<!-- 8 -->\n<g id=\"node9\" class=\"node\">\n<title>8</title>\n<path fill=\"#e58139\" stroke=\"black\" d=\"M319,-68C319,-68 233,-68 233,-68 227,-68 221,-62 221,-56 221,-56 221,-12 221,-12 221,-6 227,0 233,0 233,0 319,0 319,0 325,0 331,-6 331,-12 331,-12 331,-56 331,-56 331,-62 325,-68 319,-68\"/>\n<text text-anchor=\"middle\" x=\"276\" y=\"-52.8\" font-family=\"Helvetica,sans-Serif\" font-size=\"14.00\">entropy = 0.0</text>\n<text text-anchor=\"middle\" x=\"276\" y=\"-37.8\" font-family=\"Helvetica,sans-Serif\" font-size=\"14.00\">samples = 1</text>\n<text text-anchor=\"middle\" x=\"276\" y=\"-22.8\" font-family=\"Helvetica,sans-Serif\" font-size=\"14.00\">value = [1, 0, 0]</text>\n<text text-anchor=\"middle\" x=\"276\" y=\"-7.8\" font-family=\"Helvetica,sans-Serif\" font-size=\"14.00\">class = 1</text>\n</g>\n<!-- 7&#45;&gt;8 -->\n<g id=\"edge8\" class=\"edge\">\n<title>7&#45;&gt;8</title>\n<path fill=\"none\" stroke=\"black\" d=\"M316.17,-103.73C311.1,-95.06 305.75,-85.9 300.65,-77.18\"/>\n<polygon fill=\"black\" stroke=\"black\" points=\"303.53,-75.17 295.46,-68.3 297.49,-78.7 303.53,-75.17\"/>\n</g>\n<!-- 9 -->\n<g id=\"node10\" class=\"node\">\n<title>9</title>\n<path fill=\"#39e581\" stroke=\"black\" d=\"M447,-68C447,-68 361,-68 361,-68 355,-68 349,-62 349,-56 349,-56 349,-12 349,-12 349,-6 355,0 361,0 361,0 447,0 447,0 453,0 459,-6 459,-12 459,-12 459,-56 459,-56 459,-62 453,-68 447,-68\"/>\n<text text-anchor=\"middle\" x=\"404\" y=\"-52.8\" font-family=\"Helvetica,sans-Serif\" font-size=\"14.00\">entropy = 0.0</text>\n<text text-anchor=\"middle\" x=\"404\" y=\"-37.8\" font-family=\"Helvetica,sans-Serif\" font-size=\"14.00\">samples = 2</text>\n<text text-anchor=\"middle\" x=\"404\" y=\"-22.8\" font-family=\"Helvetica,sans-Serif\" font-size=\"14.00\">value = [0, 2, 0]</text>\n<text text-anchor=\"middle\" x=\"404\" y=\"-7.8\" font-family=\"Helvetica,sans-Serif\" font-size=\"14.00\">class = 2</text>\n</g>\n<!-- 7&#45;&gt;9 -->\n<g id=\"edge9\" class=\"edge\">\n<title>7&#45;&gt;9</title>\n<path fill=\"none\" stroke=\"black\" d=\"M363.83,-103.73C368.9,-95.06 374.25,-85.9 379.35,-77.18\"/>\n<polygon fill=\"black\" stroke=\"black\" points=\"382.51,-78.7 384.54,-68.3 376.47,-75.17 382.51,-78.7\"/>\n</g>\n<!-- 11 -->\n<g id=\"node12\" class=\"node\">\n<title>11</title>\n<path fill=\"#39e581\" stroke=\"black\" d=\"M546,-179.5C546,-179.5 460,-179.5 460,-179.5 454,-179.5 448,-173.5 448,-167.5 448,-167.5 448,-123.5 448,-123.5 448,-117.5 454,-111.5 460,-111.5 460,-111.5 546,-111.5 546,-111.5 552,-111.5 558,-117.5 558,-123.5 558,-123.5 558,-167.5 558,-167.5 558,-173.5 552,-179.5 546,-179.5\"/>\n<text text-anchor=\"middle\" x=\"503\" y=\"-164.3\" font-family=\"Helvetica,sans-Serif\" font-size=\"14.00\">entropy = 0.0</text>\n<text text-anchor=\"middle\" x=\"503\" y=\"-149.3\" font-family=\"Helvetica,sans-Serif\" font-size=\"14.00\">samples = 3</text>\n<text text-anchor=\"middle\" x=\"503\" y=\"-134.3\" font-family=\"Helvetica,sans-Serif\" font-size=\"14.00\">value = [0, 3, 0]</text>\n<text text-anchor=\"middle\" x=\"503\" y=\"-119.3\" font-family=\"Helvetica,sans-Serif\" font-size=\"14.00\">class = 2</text>\n</g>\n<!-- 10&#45;&gt;11 -->\n<g id=\"edge11\" class=\"edge\">\n<title>10&#45;&gt;11</title>\n<path fill=\"none\" stroke=\"black\" d=\"M504.31,-222.91C504.12,-212.2 503.93,-200.62 503.74,-189.78\"/>\n<polygon fill=\"black\" stroke=\"black\" points=\"507.24,-189.61 503.57,-179.67 500.24,-189.73 507.24,-189.61\"/>\n</g>\n<!-- 12 -->\n<g id=\"node13\" class=\"node\">\n<title>12</title>\n<path fill=\"#e58139\" stroke=\"black\" d=\"M681.5,-179.5C681.5,-179.5 588.5,-179.5 588.5,-179.5 582.5,-179.5 576.5,-173.5 576.5,-167.5 576.5,-167.5 576.5,-123.5 576.5,-123.5 576.5,-117.5 582.5,-111.5 588.5,-111.5 588.5,-111.5 681.5,-111.5 681.5,-111.5 687.5,-111.5 693.5,-117.5 693.5,-123.5 693.5,-123.5 693.5,-167.5 693.5,-167.5 693.5,-173.5 687.5,-179.5 681.5,-179.5\"/>\n<text text-anchor=\"middle\" x=\"635\" y=\"-164.3\" font-family=\"Helvetica,sans-Serif\" font-size=\"14.00\">entropy = 0.0</text>\n<text text-anchor=\"middle\" x=\"635\" y=\"-149.3\" font-family=\"Helvetica,sans-Serif\" font-size=\"14.00\">samples = 46</text>\n<text text-anchor=\"middle\" x=\"635\" y=\"-134.3\" font-family=\"Helvetica,sans-Serif\" font-size=\"14.00\">value = [46, 0, 0]</text>\n<text text-anchor=\"middle\" x=\"635\" y=\"-119.3\" font-family=\"Helvetica,sans-Serif\" font-size=\"14.00\">class = 1</text>\n</g>\n<!-- 10&#45;&gt;12 -->\n<g id=\"edge12\" class=\"edge\">\n<title>10&#45;&gt;12</title>\n<path fill=\"none\" stroke=\"black\" d=\"M550.1,-222.91C563.22,-211.1 577.54,-198.22 590.61,-186.45\"/>\n<polygon fill=\"black\" stroke=\"black\" points=\"593.06,-188.96 598.15,-179.67 588.37,-183.76 593.06,-188.96\"/>\n</g>\n</g>\n</svg>\n",
            "text/plain": [
              "<graphviz.sources.Source at 0x7f8ce1fdf790>"
            ]
          },
          "metadata": {},
          "execution_count": 65
        }
      ],
      "source": [
        "graph"
      ]
    },
    {
      "cell_type": "code",
      "execution_count": 66,
      "metadata": {
        "execution": {
          "iopub.execute_input": "2023-12-06T15:55:03.031501Z",
          "iopub.status.busy": "2023-12-06T15:55:03.031066Z",
          "iopub.status.idle": "2023-12-06T15:55:03.134912Z",
          "shell.execute_reply": "2023-12-06T15:55:03.133330Z",
          "shell.execute_reply.started": "2023-12-06T15:55:03.031468Z"
        },
        "trusted": true,
        "colab": {
          "base_uri": "https://localhost:8080/",
          "height": 35
        },
        "id": "K_kMUr81Vz4U",
        "outputId": "51df7568-b6c2-4dc2-e04d-f7e927df25f8"
      },
      "outputs": [
        {
          "output_type": "execute_result",
          "data": {
            "text/plain": [
              "'Graph/descision_tree_80_20.png'"
            ],
            "application/vnd.google.colaboratory.intrinsic+json": {
              "type": "string"
            }
          },
          "metadata": {},
          "execution_count": 66
        }
      ],
      "source": [
        "graph.render(filename=f'descision_tree_80_20',format='png',directory = f\"{filepathgraph}\")"
      ]
    },
    {
      "cell_type": "markdown",
      "metadata": {
        "id": "P4gZbsOrVz4V"
      },
      "source": [
        "## 90/10 train/test"
      ]
    },
    {
      "cell_type": "code",
      "execution_count": 67,
      "metadata": {
        "execution": {
          "iopub.execute_input": "2023-12-06T15:55:05.036613Z",
          "iopub.status.busy": "2023-12-06T15:55:05.036123Z",
          "iopub.status.idle": "2023-12-06T15:55:05.044043Z",
          "shell.execute_reply": "2023-12-06T15:55:05.041631Z",
          "shell.execute_reply.started": "2023-12-06T15:55:05.036577Z"
        },
        "trusted": true,
        "id": "3PZ0VftwVz4V"
      },
      "outputs": [],
      "source": [
        "feature_train, feature_test, label_train, label_test = dataset[3]"
      ]
    },
    {
      "cell_type": "code",
      "execution_count": 68,
      "metadata": {
        "execution": {
          "iopub.execute_input": "2023-12-06T15:55:07.094345Z",
          "iopub.status.busy": "2023-12-06T15:55:07.093838Z",
          "iopub.status.idle": "2023-12-06T15:55:07.111398Z",
          "shell.execute_reply": "2023-12-06T15:55:07.109746Z",
          "shell.execute_reply.started": "2023-12-06T15:55:07.094309Z"
        },
        "trusted": true,
        "colab": {
          "base_uri": "https://localhost:8080/",
          "height": 75
        },
        "id": "0MdM0bdXVz4W",
        "outputId": "6d154811-217a-4427-c4dd-21eb662221a3"
      },
      "outputs": [
        {
          "output_type": "execute_result",
          "data": {
            "text/plain": [
              "DecisionTreeClassifier(criterion='entropy')"
            ],
            "text/html": [
              "<style>#sk-container-id-7 {color: black;background-color: white;}#sk-container-id-7 pre{padding: 0;}#sk-container-id-7 div.sk-toggleable {background-color: white;}#sk-container-id-7 label.sk-toggleable__label {cursor: pointer;display: block;width: 100%;margin-bottom: 0;padding: 0.3em;box-sizing: border-box;text-align: center;}#sk-container-id-7 label.sk-toggleable__label-arrow:before {content: \"▸\";float: left;margin-right: 0.25em;color: #696969;}#sk-container-id-7 label.sk-toggleable__label-arrow:hover:before {color: black;}#sk-container-id-7 div.sk-estimator:hover label.sk-toggleable__label-arrow:before {color: black;}#sk-container-id-7 div.sk-toggleable__content {max-height: 0;max-width: 0;overflow: hidden;text-align: left;background-color: #f0f8ff;}#sk-container-id-7 div.sk-toggleable__content pre {margin: 0.2em;color: black;border-radius: 0.25em;background-color: #f0f8ff;}#sk-container-id-7 input.sk-toggleable__control:checked~div.sk-toggleable__content {max-height: 200px;max-width: 100%;overflow: auto;}#sk-container-id-7 input.sk-toggleable__control:checked~label.sk-toggleable__label-arrow:before {content: \"▾\";}#sk-container-id-7 div.sk-estimator input.sk-toggleable__control:checked~label.sk-toggleable__label {background-color: #d4ebff;}#sk-container-id-7 div.sk-label input.sk-toggleable__control:checked~label.sk-toggleable__label {background-color: #d4ebff;}#sk-container-id-7 input.sk-hidden--visually {border: 0;clip: rect(1px 1px 1px 1px);clip: rect(1px, 1px, 1px, 1px);height: 1px;margin: -1px;overflow: hidden;padding: 0;position: absolute;width: 1px;}#sk-container-id-7 div.sk-estimator {font-family: monospace;background-color: #f0f8ff;border: 1px dotted black;border-radius: 0.25em;box-sizing: border-box;margin-bottom: 0.5em;}#sk-container-id-7 div.sk-estimator:hover {background-color: #d4ebff;}#sk-container-id-7 div.sk-parallel-item::after {content: \"\";width: 100%;border-bottom: 1px solid gray;flex-grow: 1;}#sk-container-id-7 div.sk-label:hover label.sk-toggleable__label {background-color: #d4ebff;}#sk-container-id-7 div.sk-serial::before {content: \"\";position: absolute;border-left: 1px solid gray;box-sizing: border-box;top: 0;bottom: 0;left: 50%;z-index: 0;}#sk-container-id-7 div.sk-serial {display: flex;flex-direction: column;align-items: center;background-color: white;padding-right: 0.2em;padding-left: 0.2em;position: relative;}#sk-container-id-7 div.sk-item {position: relative;z-index: 1;}#sk-container-id-7 div.sk-parallel {display: flex;align-items: stretch;justify-content: center;background-color: white;position: relative;}#sk-container-id-7 div.sk-item::before, #sk-container-id-7 div.sk-parallel-item::before {content: \"\";position: absolute;border-left: 1px solid gray;box-sizing: border-box;top: 0;bottom: 0;left: 50%;z-index: -1;}#sk-container-id-7 div.sk-parallel-item {display: flex;flex-direction: column;z-index: 1;position: relative;background-color: white;}#sk-container-id-7 div.sk-parallel-item:first-child::after {align-self: flex-end;width: 50%;}#sk-container-id-7 div.sk-parallel-item:last-child::after {align-self: flex-start;width: 50%;}#sk-container-id-7 div.sk-parallel-item:only-child::after {width: 0;}#sk-container-id-7 div.sk-dashed-wrapped {border: 1px dashed gray;margin: 0 0.4em 0.5em 0.4em;box-sizing: border-box;padding-bottom: 0.4em;background-color: white;}#sk-container-id-7 div.sk-label label {font-family: monospace;font-weight: bold;display: inline-block;line-height: 1.2em;}#sk-container-id-7 div.sk-label-container {text-align: center;}#sk-container-id-7 div.sk-container {/* jupyter's `normalize.less` sets `[hidden] { display: none; }` but bootstrap.min.css set `[hidden] { display: none !important; }` so we also need the `!important` here to be able to override the default hidden behavior on the sphinx rendered scikit-learn.org. See: https://github.com/scikit-learn/scikit-learn/issues/21755 */display: inline-block !important;position: relative;}#sk-container-id-7 div.sk-text-repr-fallback {display: none;}</style><div id=\"sk-container-id-7\" class=\"sk-top-container\"><div class=\"sk-text-repr-fallback\"><pre>DecisionTreeClassifier(criterion=&#x27;entropy&#x27;)</pre><b>In a Jupyter environment, please rerun this cell to show the HTML representation or trust the notebook. <br />On GitHub, the HTML representation is unable to render, please try loading this page with nbviewer.org.</b></div><div class=\"sk-container\" hidden><div class=\"sk-item\"><div class=\"sk-estimator sk-toggleable\"><input class=\"sk-toggleable__control sk-hidden--visually\" id=\"sk-estimator-id-7\" type=\"checkbox\" checked><label for=\"sk-estimator-id-7\" class=\"sk-toggleable__label sk-toggleable__label-arrow\">DecisionTreeClassifier</label><div class=\"sk-toggleable__content\"><pre>DecisionTreeClassifier(criterion=&#x27;entropy&#x27;)</pre></div></div></div></div></div>"
            ]
          },
          "metadata": {},
          "execution_count": 68
        }
      ],
      "source": [
        "clf3 = tree.DecisionTreeClassifier(criterion='entropy')\n",
        "clf3.fit(feature_train,label_train)"
      ]
    },
    {
      "cell_type": "code",
      "execution_count": 69,
      "metadata": {
        "execution": {
          "iopub.execute_input": "2023-12-06T16:26:38.015710Z",
          "iopub.status.busy": "2023-12-06T16:26:38.014197Z",
          "iopub.status.idle": "2023-12-06T16:26:38.028000Z",
          "shell.execute_reply": "2023-12-06T16:26:38.026747Z",
          "shell.execute_reply.started": "2023-12-06T16:26:38.015655Z"
        },
        "trusted": true,
        "id": "GcjbZI6SVz4W"
      },
      "outputs": [],
      "source": [
        "graph_data = tree.export_graphviz(clf3,\n",
        "                            filled=True,\n",
        "                            rounded=True,\n",
        "                            feature_names=X.columns,\n",
        "                            class_names=clf3.classes_.astype(str)\n",
        "                            )\n",
        "\n",
        "graph = graphviz.Source(graph_data)"
      ]
    },
    {
      "cell_type": "code",
      "execution_count": 70,
      "metadata": {
        "execution": {
          "iopub.execute_input": "2023-12-06T16:26:40.802066Z",
          "iopub.status.busy": "2023-12-06T16:26:40.801534Z",
          "iopub.status.idle": "2023-12-06T16:26:40.845028Z",
          "shell.execute_reply": "2023-12-06T16:26:40.843332Z",
          "shell.execute_reply.started": "2023-12-06T16:26:40.802028Z"
        },
        "trusted": true,
        "colab": {
          "base_uri": "https://localhost:8080/",
          "height": 757
        },
        "id": "qgjc1uJ9Vz4W",
        "outputId": "4ee0a80e-fe33-46e5-c789-f278e5c115c0"
      },
      "outputs": [
        {
          "output_type": "execute_result",
          "data": {
            "image/svg+xml": "<?xml version=\"1.0\" encoding=\"UTF-8\" standalone=\"no\"?>\n<!DOCTYPE svg PUBLIC \"-//W3C//DTD SVG 1.1//EN\"\n \"http://www.w3.org/Graphics/SVG/1.1/DTD/svg11.dtd\">\n<!-- Generated by graphviz version 2.43.0 (0)\n -->\n<!-- Title: Tree Pages: 1 -->\n<svg width=\"700pt\" height=\"552pt\"\n viewBox=\"0.00 0.00 700.00 552.00\" xmlns=\"http://www.w3.org/2000/svg\" xmlns:xlink=\"http://www.w3.org/1999/xlink\">\n<g id=\"graph0\" class=\"graph\" transform=\"scale(1 1) rotate(0) translate(4 548)\">\n<title>Tree</title>\n<polygon fill=\"white\" stroke=\"transparent\" points=\"-4,4 -4,-548 696,-548 696,4 -4,4\"/>\n<!-- 0 -->\n<g id=\"node1\" class=\"node\">\n<title>0</title>\n<path fill=\"#ebfcf2\" stroke=\"black\" d=\"M326.5,-544C326.5,-544 210.5,-544 210.5,-544 204.5,-544 198.5,-538 198.5,-532 198.5,-532 198.5,-473 198.5,-473 198.5,-467 204.5,-461 210.5,-461 210.5,-461 326.5,-461 326.5,-461 332.5,-461 338.5,-467 338.5,-473 338.5,-473 338.5,-532 338.5,-532 338.5,-538 332.5,-544 326.5,-544\"/>\n<text text-anchor=\"middle\" x=\"268.5\" y=\"-528.8\" font-family=\"Helvetica,sans-Serif\" font-size=\"14.00\">Flavanoids &lt;= 1.425</text>\n<text text-anchor=\"middle\" x=\"268.5\" y=\"-513.8\" font-family=\"Helvetica,sans-Serif\" font-size=\"14.00\">entropy = 1.566</text>\n<text text-anchor=\"middle\" x=\"268.5\" y=\"-498.8\" font-family=\"Helvetica,sans-Serif\" font-size=\"14.00\">samples = 160</text>\n<text text-anchor=\"middle\" x=\"268.5\" y=\"-483.8\" font-family=\"Helvetica,sans-Serif\" font-size=\"14.00\">value = [53, 64, 43]</text>\n<text text-anchor=\"middle\" x=\"268.5\" y=\"-468.8\" font-family=\"Helvetica,sans-Serif\" font-size=\"14.00\">class = 2</text>\n</g>\n<!-- 1 -->\n<g id=\"node2\" class=\"node\">\n<title>1</title>\n<path fill=\"#9e67eb\" stroke=\"black\" d=\"M257.5,-425C257.5,-425 117.5,-425 117.5,-425 111.5,-425 105.5,-419 105.5,-413 105.5,-413 105.5,-354 105.5,-354 105.5,-348 111.5,-342 117.5,-342 117.5,-342 257.5,-342 257.5,-342 263.5,-342 269.5,-348 269.5,-354 269.5,-354 269.5,-413 269.5,-413 269.5,-419 263.5,-425 257.5,-425\"/>\n<text text-anchor=\"middle\" x=\"187.5\" y=\"-409.8\" font-family=\"Helvetica,sans-Serif\" font-size=\"14.00\">Color_intensity &lt;= 3.725</text>\n<text text-anchor=\"middle\" x=\"187.5\" y=\"-394.8\" font-family=\"Helvetica,sans-Serif\" font-size=\"14.00\">entropy = 0.699</text>\n<text text-anchor=\"middle\" x=\"187.5\" y=\"-379.8\" font-family=\"Helvetica,sans-Serif\" font-size=\"14.00\">samples = 53</text>\n<text text-anchor=\"middle\" x=\"187.5\" y=\"-364.8\" font-family=\"Helvetica,sans-Serif\" font-size=\"14.00\">value = [0, 10, 43]</text>\n<text text-anchor=\"middle\" x=\"187.5\" y=\"-349.8\" font-family=\"Helvetica,sans-Serif\" font-size=\"14.00\">class = 3</text>\n</g>\n<!-- 0&#45;&gt;1 -->\n<g id=\"edge1\" class=\"edge\">\n<title>0&#45;&gt;1</title>\n<path fill=\"none\" stroke=\"black\" d=\"M240.4,-460.91C234.24,-452.01 227.66,-442.51 221.31,-433.33\"/>\n<polygon fill=\"black\" stroke=\"black\" points=\"224.12,-431.25 215.55,-425.02 218.37,-435.24 224.12,-431.25\"/>\n<text text-anchor=\"middle\" x=\"211.08\" y=\"-445.92\" font-family=\"Helvetica,sans-Serif\" font-size=\"14.00\">True</text>\n</g>\n<!-- 4 -->\n<g id=\"node5\" class=\"node\">\n<title>4</title>\n<path fill=\"#fbfffd\" stroke=\"black\" d=\"M401,-425C401,-425 300,-425 300,-425 294,-425 288,-419 288,-413 288,-413 288,-354 288,-354 288,-348 294,-342 300,-342 300,-342 401,-342 401,-342 407,-342 413,-348 413,-354 413,-354 413,-413 413,-413 413,-419 407,-425 401,-425\"/>\n<text text-anchor=\"middle\" x=\"350.5\" y=\"-409.8\" font-family=\"Helvetica,sans-Serif\" font-size=\"14.00\">Proline &lt;= 724.5</text>\n<text text-anchor=\"middle\" x=\"350.5\" y=\"-394.8\" font-family=\"Helvetica,sans-Serif\" font-size=\"14.00\">entropy = 1.0</text>\n<text text-anchor=\"middle\" x=\"350.5\" y=\"-379.8\" font-family=\"Helvetica,sans-Serif\" font-size=\"14.00\">samples = 107</text>\n<text text-anchor=\"middle\" x=\"350.5\" y=\"-364.8\" font-family=\"Helvetica,sans-Serif\" font-size=\"14.00\">value = [53, 54, 0]</text>\n<text text-anchor=\"middle\" x=\"350.5\" y=\"-349.8\" font-family=\"Helvetica,sans-Serif\" font-size=\"14.00\">class = 2</text>\n</g>\n<!-- 0&#45;&gt;4 -->\n<g id=\"edge4\" class=\"edge\">\n<title>0&#45;&gt;4</title>\n<path fill=\"none\" stroke=\"black\" d=\"M296.95,-460.91C303.18,-452.01 309.84,-442.51 316.28,-433.33\"/>\n<polygon fill=\"black\" stroke=\"black\" points=\"319.23,-435.22 322.1,-425.02 313.5,-431.2 319.23,-435.22\"/>\n<text text-anchor=\"middle\" x=\"326.43\" y=\"-445.94\" font-family=\"Helvetica,sans-Serif\" font-size=\"14.00\">False</text>\n</g>\n<!-- 2 -->\n<g id=\"node3\" class=\"node\">\n<title>2</title>\n<path fill=\"#39e581\" stroke=\"black\" d=\"M105,-298.5C105,-298.5 12,-298.5 12,-298.5 6,-298.5 0,-292.5 0,-286.5 0,-286.5 0,-242.5 0,-242.5 0,-236.5 6,-230.5 12,-230.5 12,-230.5 105,-230.5 105,-230.5 111,-230.5 117,-236.5 117,-242.5 117,-242.5 117,-286.5 117,-286.5 117,-292.5 111,-298.5 105,-298.5\"/>\n<text text-anchor=\"middle\" x=\"58.5\" y=\"-283.3\" font-family=\"Helvetica,sans-Serif\" font-size=\"14.00\">entropy = 0.0</text>\n<text text-anchor=\"middle\" x=\"58.5\" y=\"-268.3\" font-family=\"Helvetica,sans-Serif\" font-size=\"14.00\">samples = 10</text>\n<text text-anchor=\"middle\" x=\"58.5\" y=\"-253.3\" font-family=\"Helvetica,sans-Serif\" font-size=\"14.00\">value = [0, 10, 0]</text>\n<text text-anchor=\"middle\" x=\"58.5\" y=\"-238.3\" font-family=\"Helvetica,sans-Serif\" font-size=\"14.00\">class = 2</text>\n</g>\n<!-- 1&#45;&gt;2 -->\n<g id=\"edge2\" class=\"edge\">\n<title>1&#45;&gt;2</title>\n<path fill=\"none\" stroke=\"black\" d=\"M142.74,-341.91C129.73,-330.1 115.52,-317.22 102.55,-305.45\"/>\n<polygon fill=\"black\" stroke=\"black\" points=\"104.83,-302.79 95.07,-298.67 100.12,-307.98 104.83,-302.79\"/>\n</g>\n<!-- 3 -->\n<g id=\"node4\" class=\"node\">\n<title>3</title>\n<path fill=\"#8139e5\" stroke=\"black\" d=\"M240,-298.5C240,-298.5 147,-298.5 147,-298.5 141,-298.5 135,-292.5 135,-286.5 135,-286.5 135,-242.5 135,-242.5 135,-236.5 141,-230.5 147,-230.5 147,-230.5 240,-230.5 240,-230.5 246,-230.5 252,-236.5 252,-242.5 252,-242.5 252,-286.5 252,-286.5 252,-292.5 246,-298.5 240,-298.5\"/>\n<text text-anchor=\"middle\" x=\"193.5\" y=\"-283.3\" font-family=\"Helvetica,sans-Serif\" font-size=\"14.00\">entropy = 0.0</text>\n<text text-anchor=\"middle\" x=\"193.5\" y=\"-268.3\" font-family=\"Helvetica,sans-Serif\" font-size=\"14.00\">samples = 43</text>\n<text text-anchor=\"middle\" x=\"193.5\" y=\"-253.3\" font-family=\"Helvetica,sans-Serif\" font-size=\"14.00\">value = [0, 0, 43]</text>\n<text text-anchor=\"middle\" x=\"193.5\" y=\"-238.3\" font-family=\"Helvetica,sans-Serif\" font-size=\"14.00\">class = 3</text>\n</g>\n<!-- 1&#45;&gt;3 -->\n<g id=\"edge3\" class=\"edge\">\n<title>1&#45;&gt;3</title>\n<path fill=\"none\" stroke=\"black\" d=\"M189.58,-341.91C190.13,-331.2 190.72,-319.62 191.28,-308.78\"/>\n<polygon fill=\"black\" stroke=\"black\" points=\"194.78,-308.83 191.8,-298.67 187.79,-308.47 194.78,-308.83\"/>\n</g>\n<!-- 5 -->\n<g id=\"node6\" class=\"node\">\n<title>5</title>\n<path fill=\"#3de684\" stroke=\"black\" d=\"M395.5,-306C395.5,-306 293.5,-306 293.5,-306 287.5,-306 281.5,-300 281.5,-294 281.5,-294 281.5,-235 281.5,-235 281.5,-229 287.5,-223 293.5,-223 293.5,-223 395.5,-223 395.5,-223 401.5,-223 407.5,-229 407.5,-235 407.5,-235 407.5,-294 407.5,-294 407.5,-300 401.5,-306 395.5,-306\"/>\n<text text-anchor=\"middle\" x=\"344.5\" y=\"-290.8\" font-family=\"Helvetica,sans-Serif\" font-size=\"14.00\">Alcohol &lt;= 13.175</text>\n<text text-anchor=\"middle\" x=\"344.5\" y=\"-275.8\" font-family=\"Helvetica,sans-Serif\" font-size=\"14.00\">entropy = 0.139</text>\n<text text-anchor=\"middle\" x=\"344.5\" y=\"-260.8\" font-family=\"Helvetica,sans-Serif\" font-size=\"14.00\">samples = 51</text>\n<text text-anchor=\"middle\" x=\"344.5\" y=\"-245.8\" font-family=\"Helvetica,sans-Serif\" font-size=\"14.00\">value = [1, 50, 0]</text>\n<text text-anchor=\"middle\" x=\"344.5\" y=\"-230.8\" font-family=\"Helvetica,sans-Serif\" font-size=\"14.00\">class = 2</text>\n</g>\n<!-- 4&#45;&gt;5 -->\n<g id=\"edge5\" class=\"edge\">\n<title>4&#45;&gt;5</title>\n<path fill=\"none\" stroke=\"black\" d=\"M348.42,-341.91C347.99,-333.56 347.53,-324.67 347.09,-316.02\"/>\n<polygon fill=\"black\" stroke=\"black\" points=\"350.59,-315.83 346.58,-306.02 343.59,-316.19 350.59,-315.83\"/>\n</g>\n<!-- 10 -->\n<g id=\"node11\" class=\"node\">\n<title>10</title>\n<path fill=\"#e78b48\" stroke=\"black\" d=\"M569.5,-306C569.5,-306 437.5,-306 437.5,-306 431.5,-306 425.5,-300 425.5,-294 425.5,-294 425.5,-235 425.5,-235 425.5,-229 431.5,-223 437.5,-223 437.5,-223 569.5,-223 569.5,-223 575.5,-223 581.5,-229 581.5,-235 581.5,-235 581.5,-294 581.5,-294 581.5,-300 575.5,-306 569.5,-306\"/>\n<text text-anchor=\"middle\" x=\"503.5\" y=\"-290.8\" font-family=\"Helvetica,sans-Serif\" font-size=\"14.00\">Color_intensity &lt;= 3.46</text>\n<text text-anchor=\"middle\" x=\"503.5\" y=\"-275.8\" font-family=\"Helvetica,sans-Serif\" font-size=\"14.00\">entropy = 0.371</text>\n<text text-anchor=\"middle\" x=\"503.5\" y=\"-260.8\" font-family=\"Helvetica,sans-Serif\" font-size=\"14.00\">samples = 56</text>\n<text text-anchor=\"middle\" x=\"503.5\" y=\"-245.8\" font-family=\"Helvetica,sans-Serif\" font-size=\"14.00\">value = [52, 4, 0]</text>\n<text text-anchor=\"middle\" x=\"503.5\" y=\"-230.8\" font-family=\"Helvetica,sans-Serif\" font-size=\"14.00\">class = 1</text>\n</g>\n<!-- 4&#45;&gt;10 -->\n<g id=\"edge10\" class=\"edge\">\n<title>4&#45;&gt;10</title>\n<path fill=\"none\" stroke=\"black\" d=\"M403.58,-341.91C416.04,-332.38 429.42,-322.15 442.21,-312.37\"/>\n<polygon fill=\"black\" stroke=\"black\" points=\"444.69,-314.88 450.51,-306.02 440.44,-309.32 444.69,-314.88\"/>\n</g>\n<!-- 6 -->\n<g id=\"node7\" class=\"node\">\n<title>6</title>\n<path fill=\"#39e581\" stroke=\"black\" d=\"M238,-179.5C238,-179.5 145,-179.5 145,-179.5 139,-179.5 133,-173.5 133,-167.5 133,-167.5 133,-123.5 133,-123.5 133,-117.5 139,-111.5 145,-111.5 145,-111.5 238,-111.5 238,-111.5 244,-111.5 250,-117.5 250,-123.5 250,-123.5 250,-167.5 250,-167.5 250,-173.5 244,-179.5 238,-179.5\"/>\n<text text-anchor=\"middle\" x=\"191.5\" y=\"-164.3\" font-family=\"Helvetica,sans-Serif\" font-size=\"14.00\">entropy = 0.0</text>\n<text text-anchor=\"middle\" x=\"191.5\" y=\"-149.3\" font-family=\"Helvetica,sans-Serif\" font-size=\"14.00\">samples = 47</text>\n<text text-anchor=\"middle\" x=\"191.5\" y=\"-134.3\" font-family=\"Helvetica,sans-Serif\" font-size=\"14.00\">value = [0, 47, 0]</text>\n<text text-anchor=\"middle\" x=\"191.5\" y=\"-119.3\" font-family=\"Helvetica,sans-Serif\" font-size=\"14.00\">class = 2</text>\n</g>\n<!-- 5&#45;&gt;6 -->\n<g id=\"edge6\" class=\"edge\">\n<title>5&#45;&gt;6</title>\n<path fill=\"none\" stroke=\"black\" d=\"M291.42,-222.91C275.69,-210.88 258.5,-197.73 242.88,-185.79\"/>\n<polygon fill=\"black\" stroke=\"black\" points=\"244.94,-182.96 234.87,-179.67 240.69,-188.52 244.94,-182.96\"/>\n</g>\n<!-- 7 -->\n<g id=\"node8\" class=\"node\">\n<title>7</title>\n<path fill=\"#7beeab\" stroke=\"black\" d=\"M412.5,-187C412.5,-187 280.5,-187 280.5,-187 274.5,-187 268.5,-181 268.5,-175 268.5,-175 268.5,-116 268.5,-116 268.5,-110 274.5,-104 280.5,-104 280.5,-104 412.5,-104 412.5,-104 418.5,-104 424.5,-110 424.5,-116 424.5,-116 424.5,-175 424.5,-175 424.5,-181 418.5,-187 412.5,-187\"/>\n<text text-anchor=\"middle\" x=\"346.5\" y=\"-171.8\" font-family=\"Helvetica,sans-Serif\" font-size=\"14.00\">Color_intensity &lt;= 4.08</text>\n<text text-anchor=\"middle\" x=\"346.5\" y=\"-156.8\" font-family=\"Helvetica,sans-Serif\" font-size=\"14.00\">entropy = 0.811</text>\n<text text-anchor=\"middle\" x=\"346.5\" y=\"-141.8\" font-family=\"Helvetica,sans-Serif\" font-size=\"14.00\">samples = 4</text>\n<text text-anchor=\"middle\" x=\"346.5\" y=\"-126.8\" font-family=\"Helvetica,sans-Serif\" font-size=\"14.00\">value = [1, 3, 0]</text>\n<text text-anchor=\"middle\" x=\"346.5\" y=\"-111.8\" font-family=\"Helvetica,sans-Serif\" font-size=\"14.00\">class = 2</text>\n</g>\n<!-- 5&#45;&gt;7 -->\n<g id=\"edge7\" class=\"edge\">\n<title>5&#45;&gt;7</title>\n<path fill=\"none\" stroke=\"black\" d=\"M345.19,-222.91C345.34,-214.56 345.49,-205.67 345.64,-197.02\"/>\n<polygon fill=\"black\" stroke=\"black\" points=\"349.14,-197.08 345.81,-187.02 342.14,-196.96 349.14,-197.08\"/>\n</g>\n<!-- 8 -->\n<g id=\"node9\" class=\"node\">\n<title>8</title>\n<path fill=\"#39e581\" stroke=\"black\" d=\"M325.5,-68C325.5,-68 239.5,-68 239.5,-68 233.5,-68 227.5,-62 227.5,-56 227.5,-56 227.5,-12 227.5,-12 227.5,-6 233.5,0 239.5,0 239.5,0 325.5,0 325.5,0 331.5,0 337.5,-6 337.5,-12 337.5,-12 337.5,-56 337.5,-56 337.5,-62 331.5,-68 325.5,-68\"/>\n<text text-anchor=\"middle\" x=\"282.5\" y=\"-52.8\" font-family=\"Helvetica,sans-Serif\" font-size=\"14.00\">entropy = 0.0</text>\n<text text-anchor=\"middle\" x=\"282.5\" y=\"-37.8\" font-family=\"Helvetica,sans-Serif\" font-size=\"14.00\">samples = 3</text>\n<text text-anchor=\"middle\" x=\"282.5\" y=\"-22.8\" font-family=\"Helvetica,sans-Serif\" font-size=\"14.00\">value = [0, 3, 0]</text>\n<text text-anchor=\"middle\" x=\"282.5\" y=\"-7.8\" font-family=\"Helvetica,sans-Serif\" font-size=\"14.00\">class = 2</text>\n</g>\n<!-- 7&#45;&gt;8 -->\n<g id=\"edge8\" class=\"edge\">\n<title>7&#45;&gt;8</title>\n<path fill=\"none\" stroke=\"black\" d=\"M322.67,-103.73C317.6,-95.06 312.25,-85.9 307.15,-77.18\"/>\n<polygon fill=\"black\" stroke=\"black\" points=\"310.03,-75.17 301.96,-68.3 303.99,-78.7 310.03,-75.17\"/>\n</g>\n<!-- 9 -->\n<g id=\"node10\" class=\"node\">\n<title>9</title>\n<path fill=\"#e58139\" stroke=\"black\" d=\"M453.5,-68C453.5,-68 367.5,-68 367.5,-68 361.5,-68 355.5,-62 355.5,-56 355.5,-56 355.5,-12 355.5,-12 355.5,-6 361.5,0 367.5,0 367.5,0 453.5,0 453.5,0 459.5,0 465.5,-6 465.5,-12 465.5,-12 465.5,-56 465.5,-56 465.5,-62 459.5,-68 453.5,-68\"/>\n<text text-anchor=\"middle\" x=\"410.5\" y=\"-52.8\" font-family=\"Helvetica,sans-Serif\" font-size=\"14.00\">entropy = 0.0</text>\n<text text-anchor=\"middle\" x=\"410.5\" y=\"-37.8\" font-family=\"Helvetica,sans-Serif\" font-size=\"14.00\">samples = 1</text>\n<text text-anchor=\"middle\" x=\"410.5\" y=\"-22.8\" font-family=\"Helvetica,sans-Serif\" font-size=\"14.00\">value = [1, 0, 0]</text>\n<text text-anchor=\"middle\" x=\"410.5\" y=\"-7.8\" font-family=\"Helvetica,sans-Serif\" font-size=\"14.00\">class = 1</text>\n</g>\n<!-- 7&#45;&gt;9 -->\n<g id=\"edge9\" class=\"edge\">\n<title>7&#45;&gt;9</title>\n<path fill=\"none\" stroke=\"black\" d=\"M370.33,-103.73C375.4,-95.06 380.75,-85.9 385.85,-77.18\"/>\n<polygon fill=\"black\" stroke=\"black\" points=\"389.01,-78.7 391.04,-68.3 382.97,-75.17 389.01,-78.7\"/>\n</g>\n<!-- 11 -->\n<g id=\"node12\" class=\"node\">\n<title>11</title>\n<path fill=\"#39e581\" stroke=\"black\" d=\"M544.5,-179.5C544.5,-179.5 458.5,-179.5 458.5,-179.5 452.5,-179.5 446.5,-173.5 446.5,-167.5 446.5,-167.5 446.5,-123.5 446.5,-123.5 446.5,-117.5 452.5,-111.5 458.5,-111.5 458.5,-111.5 544.5,-111.5 544.5,-111.5 550.5,-111.5 556.5,-117.5 556.5,-123.5 556.5,-123.5 556.5,-167.5 556.5,-167.5 556.5,-173.5 550.5,-179.5 544.5,-179.5\"/>\n<text text-anchor=\"middle\" x=\"501.5\" y=\"-164.3\" font-family=\"Helvetica,sans-Serif\" font-size=\"14.00\">entropy = 0.0</text>\n<text text-anchor=\"middle\" x=\"501.5\" y=\"-149.3\" font-family=\"Helvetica,sans-Serif\" font-size=\"14.00\">samples = 4</text>\n<text text-anchor=\"middle\" x=\"501.5\" y=\"-134.3\" font-family=\"Helvetica,sans-Serif\" font-size=\"14.00\">value = [0, 4, 0]</text>\n<text text-anchor=\"middle\" x=\"501.5\" y=\"-119.3\" font-family=\"Helvetica,sans-Serif\" font-size=\"14.00\">class = 2</text>\n</g>\n<!-- 10&#45;&gt;11 -->\n<g id=\"edge11\" class=\"edge\">\n<title>10&#45;&gt;11</title>\n<path fill=\"none\" stroke=\"black\" d=\"M502.81,-222.91C502.62,-212.2 502.43,-200.62 502.24,-189.78\"/>\n<polygon fill=\"black\" stroke=\"black\" points=\"505.74,-189.61 502.07,-179.67 498.74,-189.73 505.74,-189.61\"/>\n</g>\n<!-- 12 -->\n<g id=\"node13\" class=\"node\">\n<title>12</title>\n<path fill=\"#e58139\" stroke=\"black\" d=\"M680,-179.5C680,-179.5 587,-179.5 587,-179.5 581,-179.5 575,-173.5 575,-167.5 575,-167.5 575,-123.5 575,-123.5 575,-117.5 581,-111.5 587,-111.5 587,-111.5 680,-111.5 680,-111.5 686,-111.5 692,-117.5 692,-123.5 692,-123.5 692,-167.5 692,-167.5 692,-173.5 686,-179.5 680,-179.5\"/>\n<text text-anchor=\"middle\" x=\"633.5\" y=\"-164.3\" font-family=\"Helvetica,sans-Serif\" font-size=\"14.00\">entropy = 0.0</text>\n<text text-anchor=\"middle\" x=\"633.5\" y=\"-149.3\" font-family=\"Helvetica,sans-Serif\" font-size=\"14.00\">samples = 52</text>\n<text text-anchor=\"middle\" x=\"633.5\" y=\"-134.3\" font-family=\"Helvetica,sans-Serif\" font-size=\"14.00\">value = [52, 0, 0]</text>\n<text text-anchor=\"middle\" x=\"633.5\" y=\"-119.3\" font-family=\"Helvetica,sans-Serif\" font-size=\"14.00\">class = 1</text>\n</g>\n<!-- 10&#45;&gt;12 -->\n<g id=\"edge12\" class=\"edge\">\n<title>10&#45;&gt;12</title>\n<path fill=\"none\" stroke=\"black\" d=\"M548.6,-222.91C561.72,-211.1 576.04,-198.22 589.11,-186.45\"/>\n<polygon fill=\"black\" stroke=\"black\" points=\"591.56,-188.96 596.65,-179.67 586.87,-183.76 591.56,-188.96\"/>\n</g>\n</g>\n</svg>\n",
            "text/plain": [
              "<graphviz.sources.Source at 0x7f8ce1fc4d30>"
            ]
          },
          "metadata": {},
          "execution_count": 70
        }
      ],
      "source": [
        "graph"
      ]
    },
    {
      "cell_type": "code",
      "execution_count": 71,
      "metadata": {
        "execution": {
          "iopub.execute_input": "2023-12-06T15:55:18.998054Z",
          "iopub.status.busy": "2023-12-06T15:55:18.997631Z",
          "iopub.status.idle": "2023-12-06T15:55:19.115025Z",
          "shell.execute_reply": "2023-12-06T15:55:19.113968Z",
          "shell.execute_reply.started": "2023-12-06T15:55:18.998022Z"
        },
        "trusted": true,
        "colab": {
          "base_uri": "https://localhost:8080/",
          "height": 35
        },
        "id": "Sbs98z_MVz4X",
        "outputId": "60603065-d01e-400f-f42e-674f51514001"
      },
      "outputs": [
        {
          "output_type": "execute_result",
          "data": {
            "text/plain": [
              "'Graph/descision_tree_90_10.png'"
            ],
            "application/vnd.google.colaboratory.intrinsic+json": {
              "type": "string"
            }
          },
          "metadata": {},
          "execution_count": 71
        }
      ],
      "source": [
        "graph.render(filename=f'descision_tree_90_10',format='png',directory = f\"{filepathgraph}\")"
      ]
    },
    {
      "cell_type": "markdown",
      "metadata": {
        "id": "eMMQBoCkVz4X"
      },
      "source": [
        "# 4.Evaluating the decision tree classifiers"
      ]
    },
    {
      "cell_type": "code",
      "execution_count": 72,
      "metadata": {
        "execution": {
          "iopub.execute_input": "2023-12-06T16:08:08.017236Z",
          "iopub.status.busy": "2023-12-06T16:08:08.015664Z",
          "iopub.status.idle": "2023-12-06T16:08:08.023728Z",
          "shell.execute_reply": "2023-12-06T16:08:08.021930Z",
          "shell.execute_reply.started": "2023-12-06T16:08:08.017180Z"
        },
        "trusted": true,
        "id": "stsHhjgKVz4X"
      },
      "outputs": [],
      "source": [
        "from sklearn.metrics import classification_report, confusion_matrix, ConfusionMatrixDisplay"
      ]
    },
    {
      "cell_type": "code",
      "execution_count": 73,
      "metadata": {
        "execution": {
          "iopub.execute_input": "2023-12-07T02:42:18.763648Z",
          "iopub.status.busy": "2023-12-07T02:42:18.763204Z",
          "iopub.status.idle": "2023-12-07T02:42:18.770120Z",
          "shell.execute_reply": "2023-12-07T02:42:18.768652Z",
          "shell.execute_reply.started": "2023-12-07T02:42:18.763616Z"
        },
        "trusted": true,
        "id": "knmA7efIVz4Y"
      },
      "outputs": [],
      "source": [
        "filepathmatrix = \"ConfustionMatrix\"\n",
        "if not os.path.isdir(filepathmatrix):\n",
        "    os.mkdir(filepathmatrix)"
      ]
    },
    {
      "cell_type": "code",
      "source": [
        "filereport = \"ClassificationReport\"\n",
        "if not os.path.isdir(filereport):\n",
        "    os.mkdir(filereport)"
      ],
      "metadata": {
        "id": "TK6GUaqomDYT"
      },
      "execution_count": 74,
      "outputs": []
    },
    {
      "cell_type": "markdown",
      "metadata": {
        "id": "y1wFwJPgVz4Y"
      },
      "source": [
        "## 40/60"
      ]
    },
    {
      "cell_type": "code",
      "execution_count": 75,
      "metadata": {
        "execution": {
          "iopub.execute_input": "2023-12-07T02:46:38.854803Z",
          "iopub.status.busy": "2023-12-07T02:46:38.854355Z",
          "iopub.status.idle": "2023-12-07T02:46:38.905777Z",
          "shell.execute_reply": "2023-12-07T02:46:38.903722Z",
          "shell.execute_reply.started": "2023-12-07T02:46:38.854770Z"
        },
        "trusted": true,
        "colab": {
          "base_uri": "https://localhost:8080/",
          "height": 238
        },
        "id": "XyMpLN4-Vz4Y",
        "outputId": "c2e0bf2e-badc-42d2-fedc-22ae75e5101d"
      },
      "outputs": [
        {
          "output_type": "execute_result",
          "data": {
            "text/plain": [
              "              precision    recall  f1-score    support\n",
              "1              1.000000  0.914286  0.955224   35.00000\n",
              "2              0.792453  0.976744  0.875000   43.00000\n",
              "3              0.954545  0.724138  0.823529   29.00000\n",
              "accuracy       0.887850  0.887850  0.887850    0.88785\n",
              "macro avg      0.915666  0.871723  0.884584  107.00000\n",
              "weighted avg   0.904274  0.887850  0.887291  107.00000"
            ],
            "text/html": [
              "\n",
              "  <div id=\"df-bd968b67-41d5-47c3-ace9-c23f247249f0\" class=\"colab-df-container\">\n",
              "    <div>\n",
              "<style scoped>\n",
              "    .dataframe tbody tr th:only-of-type {\n",
              "        vertical-align: middle;\n",
              "    }\n",
              "\n",
              "    .dataframe tbody tr th {\n",
              "        vertical-align: top;\n",
              "    }\n",
              "\n",
              "    .dataframe thead th {\n",
              "        text-align: right;\n",
              "    }\n",
              "</style>\n",
              "<table border=\"1\" class=\"dataframe\">\n",
              "  <thead>\n",
              "    <tr style=\"text-align: right;\">\n",
              "      <th></th>\n",
              "      <th>precision</th>\n",
              "      <th>recall</th>\n",
              "      <th>f1-score</th>\n",
              "      <th>support</th>\n",
              "    </tr>\n",
              "  </thead>\n",
              "  <tbody>\n",
              "    <tr>\n",
              "      <th>1</th>\n",
              "      <td>1.000000</td>\n",
              "      <td>0.914286</td>\n",
              "      <td>0.955224</td>\n",
              "      <td>35.00000</td>\n",
              "    </tr>\n",
              "    <tr>\n",
              "      <th>2</th>\n",
              "      <td>0.792453</td>\n",
              "      <td>0.976744</td>\n",
              "      <td>0.875000</td>\n",
              "      <td>43.00000</td>\n",
              "    </tr>\n",
              "    <tr>\n",
              "      <th>3</th>\n",
              "      <td>0.954545</td>\n",
              "      <td>0.724138</td>\n",
              "      <td>0.823529</td>\n",
              "      <td>29.00000</td>\n",
              "    </tr>\n",
              "    <tr>\n",
              "      <th>accuracy</th>\n",
              "      <td>0.887850</td>\n",
              "      <td>0.887850</td>\n",
              "      <td>0.887850</td>\n",
              "      <td>0.88785</td>\n",
              "    </tr>\n",
              "    <tr>\n",
              "      <th>macro avg</th>\n",
              "      <td>0.915666</td>\n",
              "      <td>0.871723</td>\n",
              "      <td>0.884584</td>\n",
              "      <td>107.00000</td>\n",
              "    </tr>\n",
              "    <tr>\n",
              "      <th>weighted avg</th>\n",
              "      <td>0.904274</td>\n",
              "      <td>0.887850</td>\n",
              "      <td>0.887291</td>\n",
              "      <td>107.00000</td>\n",
              "    </tr>\n",
              "  </tbody>\n",
              "</table>\n",
              "</div>\n",
              "    <div class=\"colab-df-buttons\">\n",
              "\n",
              "  <div class=\"colab-df-container\">\n",
              "    <button class=\"colab-df-convert\" onclick=\"convertToInteractive('df-bd968b67-41d5-47c3-ace9-c23f247249f0')\"\n",
              "            title=\"Convert this dataframe to an interactive table.\"\n",
              "            style=\"display:none;\">\n",
              "\n",
              "  <svg xmlns=\"http://www.w3.org/2000/svg\" height=\"24px\" viewBox=\"0 -960 960 960\">\n",
              "    <path d=\"M120-120v-720h720v720H120Zm60-500h600v-160H180v160Zm220 220h160v-160H400v160Zm0 220h160v-160H400v160ZM180-400h160v-160H180v160Zm440 0h160v-160H620v160ZM180-180h160v-160H180v160Zm440 0h160v-160H620v160Z\"/>\n",
              "  </svg>\n",
              "    </button>\n",
              "\n",
              "  <style>\n",
              "    .colab-df-container {\n",
              "      display:flex;\n",
              "      gap: 12px;\n",
              "    }\n",
              "\n",
              "    .colab-df-convert {\n",
              "      background-color: #E8F0FE;\n",
              "      border: none;\n",
              "      border-radius: 50%;\n",
              "      cursor: pointer;\n",
              "      display: none;\n",
              "      fill: #1967D2;\n",
              "      height: 32px;\n",
              "      padding: 0 0 0 0;\n",
              "      width: 32px;\n",
              "    }\n",
              "\n",
              "    .colab-df-convert:hover {\n",
              "      background-color: #E2EBFA;\n",
              "      box-shadow: 0px 1px 2px rgba(60, 64, 67, 0.3), 0px 1px 3px 1px rgba(60, 64, 67, 0.15);\n",
              "      fill: #174EA6;\n",
              "    }\n",
              "\n",
              "    .colab-df-buttons div {\n",
              "      margin-bottom: 4px;\n",
              "    }\n",
              "\n",
              "    [theme=dark] .colab-df-convert {\n",
              "      background-color: #3B4455;\n",
              "      fill: #D2E3FC;\n",
              "    }\n",
              "\n",
              "    [theme=dark] .colab-df-convert:hover {\n",
              "      background-color: #434B5C;\n",
              "      box-shadow: 0px 1px 3px 1px rgba(0, 0, 0, 0.15);\n",
              "      filter: drop-shadow(0px 1px 2px rgba(0, 0, 0, 0.3));\n",
              "      fill: #FFFFFF;\n",
              "    }\n",
              "  </style>\n",
              "\n",
              "    <script>\n",
              "      const buttonEl =\n",
              "        document.querySelector('#df-bd968b67-41d5-47c3-ace9-c23f247249f0 button.colab-df-convert');\n",
              "      buttonEl.style.display =\n",
              "        google.colab.kernel.accessAllowed ? 'block' : 'none';\n",
              "\n",
              "      async function convertToInteractive(key) {\n",
              "        const element = document.querySelector('#df-bd968b67-41d5-47c3-ace9-c23f247249f0');\n",
              "        const dataTable =\n",
              "          await google.colab.kernel.invokeFunction('convertToInteractive',\n",
              "                                                    [key], {});\n",
              "        if (!dataTable) return;\n",
              "\n",
              "        const docLinkHtml = 'Like what you see? Visit the ' +\n",
              "          '<a target=\"_blank\" href=https://colab.research.google.com/notebooks/data_table.ipynb>data table notebook</a>'\n",
              "          + ' to learn more about interactive tables.';\n",
              "        element.innerHTML = '';\n",
              "        dataTable['output_type'] = 'display_data';\n",
              "        await google.colab.output.renderOutput(dataTable, element);\n",
              "        const docLink = document.createElement('div');\n",
              "        docLink.innerHTML = docLinkHtml;\n",
              "        element.appendChild(docLink);\n",
              "      }\n",
              "    </script>\n",
              "  </div>\n",
              "\n",
              "\n",
              "<div id=\"df-35d186bd-91b8-49be-9151-9c3cbacb4174\">\n",
              "  <button class=\"colab-df-quickchart\" onclick=\"quickchart('df-35d186bd-91b8-49be-9151-9c3cbacb4174')\"\n",
              "            title=\"Suggest charts\"\n",
              "            style=\"display:none;\">\n",
              "\n",
              "<svg xmlns=\"http://www.w3.org/2000/svg\" height=\"24px\"viewBox=\"0 0 24 24\"\n",
              "     width=\"24px\">\n",
              "    <g>\n",
              "        <path d=\"M19 3H5c-1.1 0-2 .9-2 2v14c0 1.1.9 2 2 2h14c1.1 0 2-.9 2-2V5c0-1.1-.9-2-2-2zM9 17H7v-7h2v7zm4 0h-2V7h2v10zm4 0h-2v-4h2v4z\"/>\n",
              "    </g>\n",
              "</svg>\n",
              "  </button>\n",
              "\n",
              "<style>\n",
              "  .colab-df-quickchart {\n",
              "      --bg-color: #E8F0FE;\n",
              "      --fill-color: #1967D2;\n",
              "      --hover-bg-color: #E2EBFA;\n",
              "      --hover-fill-color: #174EA6;\n",
              "      --disabled-fill-color: #AAA;\n",
              "      --disabled-bg-color: #DDD;\n",
              "  }\n",
              "\n",
              "  [theme=dark] .colab-df-quickchart {\n",
              "      --bg-color: #3B4455;\n",
              "      --fill-color: #D2E3FC;\n",
              "      --hover-bg-color: #434B5C;\n",
              "      --hover-fill-color: #FFFFFF;\n",
              "      --disabled-bg-color: #3B4455;\n",
              "      --disabled-fill-color: #666;\n",
              "  }\n",
              "\n",
              "  .colab-df-quickchart {\n",
              "    background-color: var(--bg-color);\n",
              "    border: none;\n",
              "    border-radius: 50%;\n",
              "    cursor: pointer;\n",
              "    display: none;\n",
              "    fill: var(--fill-color);\n",
              "    height: 32px;\n",
              "    padding: 0;\n",
              "    width: 32px;\n",
              "  }\n",
              "\n",
              "  .colab-df-quickchart:hover {\n",
              "    background-color: var(--hover-bg-color);\n",
              "    box-shadow: 0 1px 2px rgba(60, 64, 67, 0.3), 0 1px 3px 1px rgba(60, 64, 67, 0.15);\n",
              "    fill: var(--button-hover-fill-color);\n",
              "  }\n",
              "\n",
              "  .colab-df-quickchart-complete:disabled,\n",
              "  .colab-df-quickchart-complete:disabled:hover {\n",
              "    background-color: var(--disabled-bg-color);\n",
              "    fill: var(--disabled-fill-color);\n",
              "    box-shadow: none;\n",
              "  }\n",
              "\n",
              "  .colab-df-spinner {\n",
              "    border: 2px solid var(--fill-color);\n",
              "    border-color: transparent;\n",
              "    border-bottom-color: var(--fill-color);\n",
              "    animation:\n",
              "      spin 1s steps(1) infinite;\n",
              "  }\n",
              "\n",
              "  @keyframes spin {\n",
              "    0% {\n",
              "      border-color: transparent;\n",
              "      border-bottom-color: var(--fill-color);\n",
              "      border-left-color: var(--fill-color);\n",
              "    }\n",
              "    20% {\n",
              "      border-color: transparent;\n",
              "      border-left-color: var(--fill-color);\n",
              "      border-top-color: var(--fill-color);\n",
              "    }\n",
              "    30% {\n",
              "      border-color: transparent;\n",
              "      border-left-color: var(--fill-color);\n",
              "      border-top-color: var(--fill-color);\n",
              "      border-right-color: var(--fill-color);\n",
              "    }\n",
              "    40% {\n",
              "      border-color: transparent;\n",
              "      border-right-color: var(--fill-color);\n",
              "      border-top-color: var(--fill-color);\n",
              "    }\n",
              "    60% {\n",
              "      border-color: transparent;\n",
              "      border-right-color: var(--fill-color);\n",
              "    }\n",
              "    80% {\n",
              "      border-color: transparent;\n",
              "      border-right-color: var(--fill-color);\n",
              "      border-bottom-color: var(--fill-color);\n",
              "    }\n",
              "    90% {\n",
              "      border-color: transparent;\n",
              "      border-bottom-color: var(--fill-color);\n",
              "    }\n",
              "  }\n",
              "</style>\n",
              "\n",
              "  <script>\n",
              "    async function quickchart(key) {\n",
              "      const quickchartButtonEl =\n",
              "        document.querySelector('#' + key + ' button');\n",
              "      quickchartButtonEl.disabled = true;  // To prevent multiple clicks.\n",
              "      quickchartButtonEl.classList.add('colab-df-spinner');\n",
              "      try {\n",
              "        const charts = await google.colab.kernel.invokeFunction(\n",
              "            'suggestCharts', [key], {});\n",
              "      } catch (error) {\n",
              "        console.error('Error during call to suggestCharts:', error);\n",
              "      }\n",
              "      quickchartButtonEl.classList.remove('colab-df-spinner');\n",
              "      quickchartButtonEl.classList.add('colab-df-quickchart-complete');\n",
              "    }\n",
              "    (() => {\n",
              "      let quickchartButtonEl =\n",
              "        document.querySelector('#df-35d186bd-91b8-49be-9151-9c3cbacb4174 button');\n",
              "      quickchartButtonEl.style.display =\n",
              "        google.colab.kernel.accessAllowed ? 'block' : 'none';\n",
              "    })();\n",
              "  </script>\n",
              "</div>\n",
              "    </div>\n",
              "  </div>\n"
            ]
          },
          "metadata": {},
          "execution_count": 75
        }
      ],
      "source": [
        "y_predict = clf0.predict(dataset[0][1])\n",
        "report = classification_report(dataset[0][3],y_predict,  output_dict=True)\n",
        "result = pd.DataFrame(report).transpose()\n",
        "result.to_csv(f\"{filereport}/40_60.csv\")\n",
        "result"
      ]
    },
    {
      "cell_type": "code",
      "execution_count": 76,
      "metadata": {
        "execution": {
          "iopub.execute_input": "2023-12-06T16:10:02.931075Z",
          "iopub.status.busy": "2023-12-06T16:10:02.930515Z",
          "iopub.status.idle": "2023-12-06T16:10:03.461912Z",
          "shell.execute_reply": "2023-12-06T16:10:03.459953Z",
          "shell.execute_reply.started": "2023-12-06T16:10:02.931034Z"
        },
        "trusted": true,
        "colab": {
          "base_uri": "https://localhost:8080/",
          "height": 449
        },
        "id": "-WwRm2yAVz4Z",
        "outputId": "5522396f-a9fb-43fb-fc22-14b5aa4ba7ce"
      },
      "outputs": [
        {
          "output_type": "display_data",
          "data": {
            "text/plain": [
              "<Figure size 640x480 with 2 Axes>"
            ],
            "image/png": "[encoded data removed]"
          },
          "metadata": {}
        }
      ],
      "source": [
        "ConfusionMatrixDisplay.from_predictions(dataset[0][3],y_predict,labels = clf0.classes_)\n",
        "plt.savefig(f\"{filepathmatrix}/confusionmaxtrix_40_60\")"
      ]
    },
    {
      "cell_type": "markdown",
      "metadata": {
        "id": "9SYKKGjdVz4a"
      },
      "source": [
        "## 60/40"
      ]
    },
    {
      "cell_type": "code",
      "execution_count": 78,
      "metadata": {
        "execution": {
          "iopub.execute_input": "2023-12-06T16:11:54.420678Z",
          "iopub.status.busy": "2023-12-06T16:11:54.420155Z",
          "iopub.status.idle": "2023-12-06T16:11:54.446530Z",
          "shell.execute_reply": "2023-12-06T16:11:54.444988Z",
          "shell.execute_reply.started": "2023-12-06T16:11:54.420640Z"
        },
        "trusted": true,
        "colab": {
          "base_uri": "https://localhost:8080/",
          "height": 238
        },
        "id": "vwaequznVz4b",
        "outputId": "b4f49ee1-de26-4f95-cb14-90337fb19993"
      },
      "outputs": [
        {
          "output_type": "execute_result",
          "data": {
            "text/plain": [
              "              precision    recall  f1-score    support\n",
              "1              1.000000  0.958333  0.978723  24.000000\n",
              "2              0.852941  1.000000  0.920635  29.000000\n",
              "3              1.000000  0.789474  0.882353  19.000000\n",
              "accuracy       0.930556  0.930556  0.930556   0.930556\n",
              "macro avg      0.950980  0.915936  0.927237  72.000000\n",
              "weighted avg   0.940768  0.930556  0.929896  72.000000"
            ],
            "text/html": [
              "\n",
              "  <div id=\"df-b44c36b9-6654-4c90-a6fb-b2c6a3858d68\" class=\"colab-df-container\">\n",
              "    <div>\n",
              "<style scoped>\n",
              "    .dataframe tbody tr th:only-of-type {\n",
              "        vertical-align: middle;\n",
              "    }\n",
              "\n",
              "    .dataframe tbody tr th {\n",
              "        vertical-align: top;\n",
              "    }\n",
              "\n",
              "    .dataframe thead th {\n",
              "        text-align: right;\n",
              "    }\n",
              "</style>\n",
              "<table border=\"1\" class=\"dataframe\">\n",
              "  <thead>\n",
              "    <tr style=\"text-align: right;\">\n",
              "      <th></th>\n",
              "      <th>precision</th>\n",
              "      <th>recall</th>\n",
              "      <th>f1-score</th>\n",
              "      <th>support</th>\n",
              "    </tr>\n",
              "  </thead>\n",
              "  <tbody>\n",
              "    <tr>\n",
              "      <th>1</th>\n",
              "      <td>1.000000</td>\n",
              "      <td>0.958333</td>\n",
              "      <td>0.978723</td>\n",
              "      <td>24.000000</td>\n",
              "    </tr>\n",
              "    <tr>\n",
              "      <th>2</th>\n",
              "      <td>0.852941</td>\n",
              "      <td>1.000000</td>\n",
              "      <td>0.920635</td>\n",
              "      <td>29.000000</td>\n",
              "    </tr>\n",
              "    <tr>\n",
              "      <th>3</th>\n",
              "      <td>1.000000</td>\n",
              "      <td>0.789474</td>\n",
              "      <td>0.882353</td>\n",
              "      <td>19.000000</td>\n",
              "    </tr>\n",
              "    <tr>\n",
              "      <th>accuracy</th>\n",
              "      <td>0.930556</td>\n",
              "      <td>0.930556</td>\n",
              "      <td>0.930556</td>\n",
              "      <td>0.930556</td>\n",
              "    </tr>\n",
              "    <tr>\n",
              "      <th>macro avg</th>\n",
              "      <td>0.950980</td>\n",
              "      <td>0.915936</td>\n",
              "      <td>0.927237</td>\n",
              "      <td>72.000000</td>\n",
              "    </tr>\n",
              "    <tr>\n",
              "      <th>weighted avg</th>\n",
              "      <td>0.940768</td>\n",
              "      <td>0.930556</td>\n",
              "      <td>0.929896</td>\n",
              "      <td>72.000000</td>\n",
              "    </tr>\n",
              "  </tbody>\n",
              "</table>\n",
              "</div>\n",
              "    <div class=\"colab-df-buttons\">\n",
              "\n",
              "  <div class=\"colab-df-container\">\n",
              "    <button class=\"colab-df-convert\" onclick=\"convertToInteractive('df-b44c36b9-6654-4c90-a6fb-b2c6a3858d68')\"\n",
              "            title=\"Convert this dataframe to an interactive table.\"\n",
              "            style=\"display:none;\">\n",
              "\n",
              "  <svg xmlns=\"http://www.w3.org/2000/svg\" height=\"24px\" viewBox=\"0 -960 960 960\">\n",
              "    <path d=\"M120-120v-720h720v720H120Zm60-500h600v-160H180v160Zm220 220h160v-160H400v160Zm0 220h160v-160H400v160ZM180-400h160v-160H180v160Zm440 0h160v-160H620v160ZM180-180h160v-160H180v160Zm440 0h160v-160H620v160Z\"/>\n",
              "  </svg>\n",
              "    </button>\n",
              "\n",
              "  <style>\n",
              "    .colab-df-container {\n",
              "      display:flex;\n",
              "      gap: 12px;\n",
              "    }\n",
              "\n",
              "    .colab-df-convert {\n",
              "      background-color: #E8F0FE;\n",
              "      border: none;\n",
              "      border-radius: 50%;\n",
              "      cursor: pointer;\n",
              "      display: none;\n",
              "      fill: #1967D2;\n",
              "      height: 32px;\n",
              "      padding: 0 0 0 0;\n",
              "      width: 32px;\n",
              "    }\n",
              "\n",
              "    .colab-df-convert:hover {\n",
              "      background-color: #E2EBFA;\n",
              "      box-shadow: 0px 1px 2px rgba(60, 64, 67, 0.3), 0px 1px 3px 1px rgba(60, 64, 67, 0.15);\n",
              "      fill: #174EA6;\n",
              "    }\n",
              "\n",
              "    .colab-df-buttons div {\n",
              "      margin-bottom: 4px;\n",
              "    }\n",
              "\n",
              "    [theme=dark] .colab-df-convert {\n",
              "      background-color: #3B4455;\n",
              "      fill: #D2E3FC;\n",
              "    }\n",
              "\n",
              "    [theme=dark] .colab-df-convert:hover {\n",
              "      background-color: #434B5C;\n",
              "      box-shadow: 0px 1px 3px 1px rgba(0, 0, 0, 0.15);\n",
              "      filter: drop-shadow(0px 1px 2px rgba(0, 0, 0, 0.3));\n",
              "      fill: #FFFFFF;\n",
              "    }\n",
              "  </style>\n",
              "\n",
              "    <script>\n",
              "      const buttonEl =\n",
              "        document.querySelector('#df-b44c36b9-6654-4c90-a6fb-b2c6a3858d68 button.colab-df-convert');\n",
              "      buttonEl.style.display =\n",
              "        google.colab.kernel.accessAllowed ? 'block' : 'none';\n",
              "\n",
              "      async function convertToInteractive(key) {\n",
              "        const element = document.querySelector('#df-b44c36b9-6654-4c90-a6fb-b2c6a3858d68');\n",
              "        const dataTable =\n",
              "          await google.colab.kernel.invokeFunction('convertToInteractive',\n",
              "                                                    [key], {});\n",
              "        if (!dataTable) return;\n",
              "\n",
              "        const docLinkHtml = 'Like what you see? Visit the ' +\n",
              "          '<a target=\"_blank\" href=https://colab.research.google.com/notebooks/data_table.ipynb>data table notebook</a>'\n",
              "          + ' to learn more about interactive tables.';\n",
              "        element.innerHTML = '';\n",
              "        dataTable['output_type'] = 'display_data';\n",
              "        await google.colab.output.renderOutput(dataTable, element);\n",
              "        const docLink = document.createElement('div');\n",
              "        docLink.innerHTML = docLinkHtml;\n",
              "        element.appendChild(docLink);\n",
              "      }\n",
              "    </script>\n",
              "  </div>\n",
              "\n",
              "\n",
              "<div id=\"df-9c1fa172-56ce-45fc-bc1a-b7169890ed63\">\n",
              "  <button class=\"colab-df-quickchart\" onclick=\"quickchart('df-9c1fa172-56ce-45fc-bc1a-b7169890ed63')\"\n",
              "            title=\"Suggest charts\"\n",
              "            style=\"display:none;\">\n",
              "\n",
              "<svg xmlns=\"http://www.w3.org/2000/svg\" height=\"24px\"viewBox=\"0 0 24 24\"\n",
              "     width=\"24px\">\n",
              "    <g>\n",
              "        <path d=\"M19 3H5c-1.1 0-2 .9-2 2v14c0 1.1.9 2 2 2h14c1.1 0 2-.9 2-2V5c0-1.1-.9-2-2-2zM9 17H7v-7h2v7zm4 0h-2V7h2v10zm4 0h-2v-4h2v4z\"/>\n",
              "    </g>\n",
              "</svg>\n",
              "  </button>\n",
              "\n",
              "<style>\n",
              "  .colab-df-quickchart {\n",
              "      --bg-color: #E8F0FE;\n",
              "      --fill-color: #1967D2;\n",
              "      --hover-bg-color: #E2EBFA;\n",
              "      --hover-fill-color: #174EA6;\n",
              "      --disabled-fill-color: #AAA;\n",
              "      --disabled-bg-color: #DDD;\n",
              "  }\n",
              "\n",
              "  [theme=dark] .colab-df-quickchart {\n",
              "      --bg-color: #3B4455;\n",
              "      --fill-color: #D2E3FC;\n",
              "      --hover-bg-color: #434B5C;\n",
              "      --hover-fill-color: #FFFFFF;\n",
              "      --disabled-bg-color: #3B4455;\n",
              "      --disabled-fill-color: #666;\n",
              "  }\n",
              "\n",
              "  .colab-df-quickchart {\n",
              "    background-color: var(--bg-color);\n",
              "    border: none;\n",
              "    border-radius: 50%;\n",
              "    cursor: pointer;\n",
              "    display: none;\n",
              "    fill: var(--fill-color);\n",
              "    height: 32px;\n",
              "    padding: 0;\n",
              "    width: 32px;\n",
              "  }\n",
              "\n",
              "  .colab-df-quickchart:hover {\n",
              "    background-color: var(--hover-bg-color);\n",
              "    box-shadow: 0 1px 2px rgba(60, 64, 67, 0.3), 0 1px 3px 1px rgba(60, 64, 67, 0.15);\n",
              "    fill: var(--button-hover-fill-color);\n",
              "  }\n",
              "\n",
              "  .colab-df-quickchart-complete:disabled,\n",
              "  .colab-df-quickchart-complete:disabled:hover {\n",
              "    background-color: var(--disabled-bg-color);\n",
              "    fill: var(--disabled-fill-color);\n",
              "    box-shadow: none;\n",
              "  }\n",
              "\n",
              "  .colab-df-spinner {\n",
              "    border: 2px solid var(--fill-color);\n",
              "    border-color: transparent;\n",
              "    border-bottom-color: var(--fill-color);\n",
              "    animation:\n",
              "      spin 1s steps(1) infinite;\n",
              "  }\n",
              "\n",
              "  @keyframes spin {\n",
              "    0% {\n",
              "      border-color: transparent;\n",
              "      border-bottom-color: var(--fill-color);\n",
              "      border-left-color: var(--fill-color);\n",
              "    }\n",
              "    20% {\n",
              "      border-color: transparent;\n",
              "      border-left-color: var(--fill-color);\n",
              "      border-top-color: var(--fill-color);\n",
              "    }\n",
              "    30% {\n",
              "      border-color: transparent;\n",
              "      border-left-color: var(--fill-color);\n",
              "      border-top-color: var(--fill-color);\n",
              "      border-right-color: var(--fill-color);\n",
              "    }\n",
              "    40% {\n",
              "      border-color: transparent;\n",
              "      border-right-color: var(--fill-color);\n",
              "      border-top-color: var(--fill-color);\n",
              "    }\n",
              "    60% {\n",
              "      border-color: transparent;\n",
              "      border-right-color: var(--fill-color);\n",
              "    }\n",
              "    80% {\n",
              "      border-color: transparent;\n",
              "      border-right-color: var(--fill-color);\n",
              "      border-bottom-color: var(--fill-color);\n",
              "    }\n",
              "    90% {\n",
              "      border-color: transparent;\n",
              "      border-bottom-color: var(--fill-color);\n",
              "    }\n",
              "  }\n",
              "</style>\n",
              "\n",
              "  <script>\n",
              "    async function quickchart(key) {\n",
              "      const quickchartButtonEl =\n",
              "        document.querySelector('#' + key + ' button');\n",
              "      quickchartButtonEl.disabled = true;  // To prevent multiple clicks.\n",
              "      quickchartButtonEl.classList.add('colab-df-spinner');\n",
              "      try {\n",
              "        const charts = await google.colab.kernel.invokeFunction(\n",
              "            'suggestCharts', [key], {});\n",
              "      } catch (error) {\n",
              "        console.error('Error during call to suggestCharts:', error);\n",
              "      }\n",
              "      quickchartButtonEl.classList.remove('colab-df-spinner');\n",
              "      quickchartButtonEl.classList.add('colab-df-quickchart-complete');\n",
              "    }\n",
              "    (() => {\n",
              "      let quickchartButtonEl =\n",
              "        document.querySelector('#df-9c1fa172-56ce-45fc-bc1a-b7169890ed63 button');\n",
              "      quickchartButtonEl.style.display =\n",
              "        google.colab.kernel.accessAllowed ? 'block' : 'none';\n",
              "    })();\n",
              "  </script>\n",
              "</div>\n",
              "    </div>\n",
              "  </div>\n"
            ]
          },
          "metadata": {},
          "execution_count": 78
        }
      ],
      "source": [
        "y_predict = clf1.predict(dataset[1][1])\n",
        "report = classification_report(dataset[1][3],y_predict, output_dict = True)\n",
        "result = pd.DataFrame(report).transpose()\n",
        "result.to_csv(f\"{filereport}/60_40.csv\")\n",
        "result"
      ]
    },
    {
      "cell_type": "code",
      "execution_count": 79,
      "metadata": {
        "execution": {
          "iopub.execute_input": "2023-12-06T16:12:24.245936Z",
          "iopub.status.busy": "2023-12-06T16:12:24.245424Z",
          "iopub.status.idle": "2023-12-06T16:12:24.697081Z",
          "shell.execute_reply": "2023-12-06T16:12:24.695897Z",
          "shell.execute_reply.started": "2023-12-06T16:12:24.245899Z"
        },
        "trusted": true,
        "colab": {
          "base_uri": "https://localhost:8080/",
          "height": 449
        },
        "id": "NOtLRIo_Vz4b",
        "outputId": "85ba1541-9943-4d25-ef52-67221e767a7a"
      },
      "outputs": [
        {
          "output_type": "display_data",
          "data": {
            "text/plain": [
              "<Figure size 640x480 with 2 Axes>"
            ],
            "image/png": "[encoded data removed]"
          },
          "metadata": {}
        }
      ],
      "source": [
        "ConfusionMatrixDisplay.from_predictions(dataset[1][3],y_predict,labels = clf1.classes_)\n",
        "plt.savefig(f\"{filepathmatrix}/confusionmaxtrix_60_40\")"
      ]
    },
    {
      "cell_type": "markdown",
      "metadata": {
        "id": "2c6XxsjGVz4c"
      },
      "source": [
        "## 80/20"
      ]
    },
    {
      "cell_type": "code",
      "execution_count": 80,
      "metadata": {
        "execution": {
          "iopub.execute_input": "2023-12-06T16:13:51.589364Z",
          "iopub.status.busy": "2023-12-06T16:13:51.588911Z",
          "iopub.status.idle": "2023-12-06T16:13:51.612375Z",
          "shell.execute_reply": "2023-12-06T16:13:51.611119Z",
          "shell.execute_reply.started": "2023-12-06T16:13:51.589320Z"
        },
        "trusted": true,
        "colab": {
          "base_uri": "https://localhost:8080/",
          "height": 238
        },
        "id": "eXZYYyzMVz4d",
        "outputId": "d1b37d58-1ac4-4a84-e241-fb93ac9c0a88"
      },
      "outputs": [
        {
          "output_type": "execute_result",
          "data": {
            "text/plain": [
              "              precision    recall  f1-score    support\n",
              "1              0.857143  1.000000  0.923077  12.000000\n",
              "2              0.916667  0.785714  0.846154  14.000000\n",
              "3              0.900000  0.900000  0.900000  10.000000\n",
              "accuracy       0.888889  0.888889  0.888889   0.888889\n",
              "macro avg      0.891270  0.895238  0.889744  36.000000\n",
              "weighted avg   0.892196  0.888889  0.886752  36.000000"
            ],
            "text/html": [
              "\n",
              "  <div id=\"df-57c35de7-1a42-415e-80d8-4ebfa0faacd5\" class=\"colab-df-container\">\n",
              "    <div>\n",
              "<style scoped>\n",
              "    .dataframe tbody tr th:only-of-type {\n",
              "        vertical-align: middle;\n",
              "    }\n",
              "\n",
              "    .dataframe tbody tr th {\n",
              "        vertical-align: top;\n",
              "    }\n",
              "\n",
              "    .dataframe thead th {\n",
              "        text-align: right;\n",
              "    }\n",
              "</style>\n",
              "<table border=\"1\" class=\"dataframe\">\n",
              "  <thead>\n",
              "    <tr style=\"text-align: right;\">\n",
              "      <th></th>\n",
              "      <th>precision</th>\n",
              "      <th>recall</th>\n",
              "      <th>f1-score</th>\n",
              "      <th>support</th>\n",
              "    </tr>\n",
              "  </thead>\n",
              "  <tbody>\n",
              "    <tr>\n",
              "      <th>1</th>\n",
              "      <td>0.857143</td>\n",
              "      <td>1.000000</td>\n",
              "      <td>0.923077</td>\n",
              "      <td>12.000000</td>\n",
              "    </tr>\n",
              "    <tr>\n",
              "      <th>2</th>\n",
              "      <td>0.916667</td>\n",
              "      <td>0.785714</td>\n",
              "      <td>0.846154</td>\n",
              "      <td>14.000000</td>\n",
              "    </tr>\n",
              "    <tr>\n",
              "      <th>3</th>\n",
              "      <td>0.900000</td>\n",
              "      <td>0.900000</td>\n",
              "      <td>0.900000</td>\n",
              "      <td>10.000000</td>\n",
              "    </tr>\n",
              "    <tr>\n",
              "      <th>accuracy</th>\n",
              "      <td>0.888889</td>\n",
              "      <td>0.888889</td>\n",
              "      <td>0.888889</td>\n",
              "      <td>0.888889</td>\n",
              "    </tr>\n",
              "    <tr>\n",
              "      <th>macro avg</th>\n",
              "      <td>0.891270</td>\n",
              "      <td>0.895238</td>\n",
              "      <td>0.889744</td>\n",
              "      <td>36.000000</td>\n",
              "    </tr>\n",
              "    <tr>\n",
              "      <th>weighted avg</th>\n",
              "      <td>0.892196</td>\n",
              "      <td>0.888889</td>\n",
              "      <td>0.886752</td>\n",
              "      <td>36.000000</td>\n",
              "    </tr>\n",
              "  </tbody>\n",
              "</table>\n",
              "</div>\n",
              "    <div class=\"colab-df-buttons\">\n",
              "\n",
              "  <div class=\"colab-df-container\">\n",
              "    <button class=\"colab-df-convert\" onclick=\"convertToInteractive('df-57c35de7-1a42-415e-80d8-4ebfa0faacd5')\"\n",
              "            title=\"Convert this dataframe to an interactive table.\"\n",
              "            style=\"display:none;\">\n",
              "\n",
              "  <svg xmlns=\"http://www.w3.org/2000/svg\" height=\"24px\" viewBox=\"0 -960 960 960\">\n",
              "    <path d=\"M120-120v-720h720v720H120Zm60-500h600v-160H180v160Zm220 220h160v-160H400v160Zm0 220h160v-160H400v160ZM180-400h160v-160H180v160Zm440 0h160v-160H620v160ZM180-180h160v-160H180v160Zm440 0h160v-160H620v160Z\"/>\n",
              "  </svg>\n",
              "    </button>\n",
              "\n",
              "  <style>\n",
              "    .colab-df-container {\n",
              "      display:flex;\n",
              "      gap: 12px;\n",
              "    }\n",
              "\n",
              "    .colab-df-convert {\n",
              "      background-color: #E8F0FE;\n",
              "      border: none;\n",
              "      border-radius: 50%;\n",
              "      cursor: pointer;\n",
              "      display: none;\n",
              "      fill: #1967D2;\n",
              "      height: 32px;\n",
              "      padding: 0 0 0 0;\n",
              "      width: 32px;\n",
              "    }\n",
              "\n",
              "    .colab-df-convert:hover {\n",
              "      background-color: #E2EBFA;\n",
              "      box-shadow: 0px 1px 2px rgba(60, 64, 67, 0.3), 0px 1px 3px 1px rgba(60, 64, 67, 0.15);\n",
              "      fill: #174EA6;\n",
              "    }\n",
              "\n",
              "    .colab-df-buttons div {\n",
              "      margin-bottom: 4px;\n",
              "    }\n",
              "\n",
              "    [theme=dark] .colab-df-convert {\n",
              "      background-color: #3B4455;\n",
              "      fill: #D2E3FC;\n",
              "    }\n",
              "\n",
              "    [theme=dark] .colab-df-convert:hover {\n",
              "      background-color: #434B5C;\n",
              "      box-shadow: 0px 1px 3px 1px rgba(0, 0, 0, 0.15);\n",
              "      filter: drop-shadow(0px 1px 2px rgba(0, 0, 0, 0.3));\n",
              "      fill: #FFFFFF;\n",
              "    }\n",
              "  </style>\n",
              "\n",
              "    <script>\n",
              "      const buttonEl =\n",
              "        document.querySelector('#df-57c35de7-1a42-415e-80d8-4ebfa0faacd5 button.colab-df-convert');\n",
              "      buttonEl.style.display =\n",
              "        google.colab.kernel.accessAllowed ? 'block' : 'none';\n",
              "\n",
              "      async function convertToInteractive(key) {\n",
              "        const element = document.querySelector('#df-57c35de7-1a42-415e-80d8-4ebfa0faacd5');\n",
              "        const dataTable =\n",
              "          await google.colab.kernel.invokeFunction('convertToInteractive',\n",
              "                                                    [key], {});\n",
              "        if (!dataTable) return;\n",
              "\n",
              "        const docLinkHtml = 'Like what you see? Visit the ' +\n",
              "          '<a target=\"_blank\" href=https://colab.research.google.com/notebooks/data_table.ipynb>data table notebook</a>'\n",
              "          + ' to learn more about interactive tables.';\n",
              "        element.innerHTML = '';\n",
              "        dataTable['output_type'] = 'display_data';\n",
              "        await google.colab.output.renderOutput(dataTable, element);\n",
              "        const docLink = document.createElement('div');\n",
              "        docLink.innerHTML = docLinkHtml;\n",
              "        element.appendChild(docLink);\n",
              "      }\n",
              "    </script>\n",
              "  </div>\n",
              "\n",
              "\n",
              "<div id=\"df-2d5b11fb-8e28-4210-98de-44e0ab2c3c1a\">\n",
              "  <button class=\"colab-df-quickchart\" onclick=\"quickchart('df-2d5b11fb-8e28-4210-98de-44e0ab2c3c1a')\"\n",
              "            title=\"Suggest charts\"\n",
              "            style=\"display:none;\">\n",
              "\n",
              "<svg xmlns=\"http://www.w3.org/2000/svg\" height=\"24px\"viewBox=\"0 0 24 24\"\n",
              "     width=\"24px\">\n",
              "    <g>\n",
              "        <path d=\"M19 3H5c-1.1 0-2 .9-2 2v14c0 1.1.9 2 2 2h14c1.1 0 2-.9 2-2V5c0-1.1-.9-2-2-2zM9 17H7v-7h2v7zm4 0h-2V7h2v10zm4 0h-2v-4h2v4z\"/>\n",
              "    </g>\n",
              "</svg>\n",
              "  </button>\n",
              "\n",
              "<style>\n",
              "  .colab-df-quickchart {\n",
              "      --bg-color: #E8F0FE;\n",
              "      --fill-color: #1967D2;\n",
              "      --hover-bg-color: #E2EBFA;\n",
              "      --hover-fill-color: #174EA6;\n",
              "      --disabled-fill-color: #AAA;\n",
              "      --disabled-bg-color: #DDD;\n",
              "  }\n",
              "\n",
              "  [theme=dark] .colab-df-quickchart {\n",
              "      --bg-color: #3B4455;\n",
              "      --fill-color: #D2E3FC;\n",
              "      --hover-bg-color: #434B5C;\n",
              "      --hover-fill-color: #FFFFFF;\n",
              "      --disabled-bg-color: #3B4455;\n",
              "      --disabled-fill-color: #666;\n",
              "  }\n",
              "\n",
              "  .colab-df-quickchart {\n",
              "    background-color: var(--bg-color);\n",
              "    border: none;\n",
              "    border-radius: 50%;\n",
              "    cursor: pointer;\n",
              "    display: none;\n",
              "    fill: var(--fill-color);\n",
              "    height: 32px;\n",
              "    padding: 0;\n",
              "    width: 32px;\n",
              "  }\n",
              "\n",
              "  .colab-df-quickchart:hover {\n",
              "    background-color: var(--hover-bg-color);\n",
              "    box-shadow: 0 1px 2px rgba(60, 64, 67, 0.3), 0 1px 3px 1px rgba(60, 64, 67, 0.15);\n",
              "    fill: var(--button-hover-fill-color);\n",
              "  }\n",
              "\n",
              "  .colab-df-quickchart-complete:disabled,\n",
              "  .colab-df-quickchart-complete:disabled:hover {\n",
              "    background-color: var(--disabled-bg-color);\n",
              "    fill: var(--disabled-fill-color);\n",
              "    box-shadow: none;\n",
              "  }\n",
              "\n",
              "  .colab-df-spinner {\n",
              "    border: 2px solid var(--fill-color);\n",
              "    border-color: transparent;\n",
              "    border-bottom-color: var(--fill-color);\n",
              "    animation:\n",
              "      spin 1s steps(1) infinite;\n",
              "  }\n",
              "\n",
              "  @keyframes spin {\n",
              "    0% {\n",
              "      border-color: transparent;\n",
              "      border-bottom-color: var(--fill-color);\n",
              "      border-left-color: var(--fill-color);\n",
              "    }\n",
              "    20% {\n",
              "      border-color: transparent;\n",
              "      border-left-color: var(--fill-color);\n",
              "      border-top-color: var(--fill-color);\n",
              "    }\n",
              "    30% {\n",
              "      border-color: transparent;\n",
              "      border-left-color: var(--fill-color);\n",
              "      border-top-color: var(--fill-color);\n",
              "      border-right-color: var(--fill-color);\n",
              "    }\n",
              "    40% {\n",
              "      border-color: transparent;\n",
              "      border-right-color: var(--fill-color);\n",
              "      border-top-color: var(--fill-color);\n",
              "    }\n",
              "    60% {\n",
              "      border-color: transparent;\n",
              "      border-right-color: var(--fill-color);\n",
              "    }\n",
              "    80% {\n",
              "      border-color: transparent;\n",
              "      border-right-color: var(--fill-color);\n",
              "      border-bottom-color: var(--fill-color);\n",
              "    }\n",
              "    90% {\n",
              "      border-color: transparent;\n",
              "      border-bottom-color: var(--fill-color);\n",
              "    }\n",
              "  }\n",
              "</style>\n",
              "\n",
              "  <script>\n",
              "    async function quickchart(key) {\n",
              "      const quickchartButtonEl =\n",
              "        document.querySelector('#' + key + ' button');\n",
              "      quickchartButtonEl.disabled = true;  // To prevent multiple clicks.\n",
              "      quickchartButtonEl.classList.add('colab-df-spinner');\n",
              "      try {\n",
              "        const charts = await google.colab.kernel.invokeFunction(\n",
              "            'suggestCharts', [key], {});\n",
              "      } catch (error) {\n",
              "        console.error('Error during call to suggestCharts:', error);\n",
              "      }\n",
              "      quickchartButtonEl.classList.remove('colab-df-spinner');\n",
              "      quickchartButtonEl.classList.add('colab-df-quickchart-complete');\n",
              "    }\n",
              "    (() => {\n",
              "      let quickchartButtonEl =\n",
              "        document.querySelector('#df-2d5b11fb-8e28-4210-98de-44e0ab2c3c1a button');\n",
              "      quickchartButtonEl.style.display =\n",
              "        google.colab.kernel.accessAllowed ? 'block' : 'none';\n",
              "    })();\n",
              "  </script>\n",
              "</div>\n",
              "    </div>\n",
              "  </div>\n"
            ]
          },
          "metadata": {},
          "execution_count": 80
        }
      ],
      "source": [
        "y_predict = clf2.predict(dataset[2][1])\n",
        "report = classification_report(dataset[2][3],y_predict, output_dict = True)\n",
        "result = pd.DataFrame(report).transpose()\n",
        "result.to_csv(f\"{filereport}/80_20.csv\")\n",
        "result"
      ]
    },
    {
      "cell_type": "code",
      "execution_count": 81,
      "metadata": {
        "execution": {
          "iopub.execute_input": "2023-12-06T16:14:28.342385Z",
          "iopub.status.busy": "2023-12-06T16:14:28.340985Z",
          "iopub.status.idle": "2023-12-06T16:14:28.789573Z",
          "shell.execute_reply": "2023-12-06T16:14:28.788218Z",
          "shell.execute_reply.started": "2023-12-06T16:14:28.342326Z"
        },
        "trusted": true,
        "colab": {
          "base_uri": "https://localhost:8080/",
          "height": 455
        },
        "id": "M0eWuvCkVz4d",
        "outputId": "c99c9259-e588-4af3-9f8d-0f2051f44ea0"
      },
      "outputs": [
        {
          "output_type": "display_data",
          "data": {
            "text/plain": [
              "<Figure size 640x480 with 2 Axes>"
            ],
            "image/png": "[encoded data removed]"
          },
          "metadata": {}
        }
      ],
      "source": [
        "ConfusionMatrixDisplay.from_predictions(dataset[2][3],y_predict,labels = clf2.classes_)\n",
        "plt.savefig(f\"{filepathmatrix}/confusionmaxtrix_80_20\")"
      ]
    },
    {
      "cell_type": "markdown",
      "metadata": {
        "id": "lam-d8BaVz4e"
      },
      "source": [
        "## 90/10"
      ]
    },
    {
      "cell_type": "code",
      "execution_count": 82,
      "metadata": {
        "execution": {
          "iopub.execute_input": "2023-12-06T16:15:33.004574Z",
          "iopub.status.busy": "2023-12-06T16:15:33.004071Z",
          "iopub.status.idle": "2023-12-06T16:15:33.032610Z",
          "shell.execute_reply": "2023-12-06T16:15:33.031660Z",
          "shell.execute_reply.started": "2023-12-06T16:15:33.004531Z"
        },
        "trusted": true,
        "colab": {
          "base_uri": "https://localhost:8080/",
          "height": 238
        },
        "id": "L-2oQM6EVz4f",
        "outputId": "48f73228-0619-4534-c6e6-c89775c46285"
      },
      "outputs": [
        {
          "output_type": "execute_result",
          "data": {
            "text/plain": [
              "              precision    recall  f1-score    support\n",
              "1              0.857143  1.000000  0.923077   6.000000\n",
              "2              1.000000  0.857143  0.923077   7.000000\n",
              "3              0.800000  0.800000  0.800000   5.000000\n",
              "accuracy       0.888889  0.888889  0.888889   0.888889\n",
              "macro avg      0.885714  0.885714  0.882051  18.000000\n",
              "weighted avg   0.896825  0.888889  0.888889  18.000000"
            ],
            "text/html": [
              "\n",
              "  <div id=\"df-cd363d95-93ff-47b4-ab3b-7b47365d3e1a\" class=\"colab-df-container\">\n",
              "    <div>\n",
              "<style scoped>\n",
              "    .dataframe tbody tr th:only-of-type {\n",
              "        vertical-align: middle;\n",
              "    }\n",
              "\n",
              "    .dataframe tbody tr th {\n",
              "        vertical-align: top;\n",
              "    }\n",
              "\n",
              "    .dataframe thead th {\n",
              "        text-align: right;\n",
              "    }\n",
              "</style>\n",
              "<table border=\"1\" class=\"dataframe\">\n",
              "  <thead>\n",
              "    <tr style=\"text-align: right;\">\n",
              "      <th></th>\n",
              "      <th>precision</th>\n",
              "      <th>recall</th>\n",
              "      <th>f1-score</th>\n",
              "      <th>support</th>\n",
              "    </tr>\n",
              "  </thead>\n",
              "  <tbody>\n",
              "    <tr>\n",
              "      <th>1</th>\n",
              "      <td>0.857143</td>\n",
              "      <td>1.000000</td>\n",
              "      <td>0.923077</td>\n",
              "      <td>6.000000</td>\n",
              "    </tr>\n",
              "    <tr>\n",
              "      <th>2</th>\n",
              "      <td>1.000000</td>\n",
              "      <td>0.857143</td>\n",
              "      <td>0.923077</td>\n",
              "      <td>7.000000</td>\n",
              "    </tr>\n",
              "    <tr>\n",
              "      <th>3</th>\n",
              "      <td>0.800000</td>\n",
              "      <td>0.800000</td>\n",
              "      <td>0.800000</td>\n",
              "      <td>5.000000</td>\n",
              "    </tr>\n",
              "    <tr>\n",
              "      <th>accuracy</th>\n",
              "      <td>0.888889</td>\n",
              "      <td>0.888889</td>\n",
              "      <td>0.888889</td>\n",
              "      <td>0.888889</td>\n",
              "    </tr>\n",
              "    <tr>\n",
              "      <th>macro avg</th>\n",
              "      <td>0.885714</td>\n",
              "      <td>0.885714</td>\n",
              "      <td>0.882051</td>\n",
              "      <td>18.000000</td>\n",
              "    </tr>\n",
              "    <tr>\n",
              "      <th>weighted avg</th>\n",
              "      <td>0.896825</td>\n",
              "      <td>0.888889</td>\n",
              "      <td>0.888889</td>\n",
              "      <td>18.000000</td>\n",
              "    </tr>\n",
              "  </tbody>\n",
              "</table>\n",
              "</div>\n",
              "    <div class=\"colab-df-buttons\">\n",
              "\n",
              "  <div class=\"colab-df-container\">\n",
              "    <button class=\"colab-df-convert\" onclick=\"convertToInteractive('df-cd363d95-93ff-47b4-ab3b-7b47365d3e1a')\"\n",
              "            title=\"Convert this dataframe to an interactive table.\"\n",
              "            style=\"display:none;\">\n",
              "\n",
              "  <svg xmlns=\"http://www.w3.org/2000/svg\" height=\"24px\" viewBox=\"0 -960 960 960\">\n",
              "    <path d=\"M120-120v-720h720v720H120Zm60-500h600v-160H180v160Zm220 220h160v-160H400v160Zm0 220h160v-160H400v160ZM180-400h160v-160H180v160Zm440 0h160v-160H620v160ZM180-180h160v-160H180v160Zm440 0h160v-160H620v160Z\"/>\n",
              "  </svg>\n",
              "    </button>\n",
              "\n",
              "  <style>\n",
              "    .colab-df-container {\n",
              "      display:flex;\n",
              "      gap: 12px;\n",
              "    }\n",
              "\n",
              "    .colab-df-convert {\n",
              "      background-color: #E8F0FE;\n",
              "      border: none;\n",
              "      border-radius: 50%;\n",
              "      cursor: pointer;\n",
              "      display: none;\n",
              "      fill: #1967D2;\n",
              "      height: 32px;\n",
              "      padding: 0 0 0 0;\n",
              "      width: 32px;\n",
              "    }\n",
              "\n",
              "    .colab-df-convert:hover {\n",
              "      background-color: #E2EBFA;\n",
              "      box-shadow: 0px 1px 2px rgba(60, 64, 67, 0.3), 0px 1px 3px 1px rgba(60, 64, 67, 0.15);\n",
              "      fill: #174EA6;\n",
              "    }\n",
              "\n",
              "    .colab-df-buttons div {\n",
              "      margin-bottom: 4px;\n",
              "    }\n",
              "\n",
              "    [theme=dark] .colab-df-convert {\n",
              "      background-color: #3B4455;\n",
              "      fill: #D2E3FC;\n",
              "    }\n",
              "\n",
              "    [theme=dark] .colab-df-convert:hover {\n",
              "      background-color: #434B5C;\n",
              "      box-shadow: 0px 1px 3px 1px rgba(0, 0, 0, 0.15);\n",
              "      filter: drop-shadow(0px 1px 2px rgba(0, 0, 0, 0.3));\n",
              "      fill: #FFFFFF;\n",
              "    }\n",
              "  </style>\n",
              "\n",
              "    <script>\n",
              "      const buttonEl =\n",
              "        document.querySelector('#df-cd363d95-93ff-47b4-ab3b-7b47365d3e1a button.colab-df-convert');\n",
              "      buttonEl.style.display =\n",
              "        google.colab.kernel.accessAllowed ? 'block' : 'none';\n",
              "\n",
              "      async function convertToInteractive(key) {\n",
              "        const element = document.querySelector('#df-cd363d95-93ff-47b4-ab3b-7b47365d3e1a');\n",
              "        const dataTable =\n",
              "          await google.colab.kernel.invokeFunction('convertToInteractive',\n",
              "                                                    [key], {});\n",
              "        if (!dataTable) return;\n",
              "\n",
              "        const docLinkHtml = 'Like what you see? Visit the ' +\n",
              "          '<a target=\"_blank\" href=https://colab.research.google.com/notebooks/data_table.ipynb>data table notebook</a>'\n",
              "          + ' to learn more about interactive tables.';\n",
              "        element.innerHTML = '';\n",
              "        dataTable['output_type'] = 'display_data';\n",
              "        await google.colab.output.renderOutput(dataTable, element);\n",
              "        const docLink = document.createElement('div');\n",
              "        docLink.innerHTML = docLinkHtml;\n",
              "        element.appendChild(docLink);\n",
              "      }\n",
              "    </script>\n",
              "  </div>\n",
              "\n",
              "\n",
              "<div id=\"df-cc9498d5-a422-44f3-9c9a-22071978611a\">\n",
              "  <button class=\"colab-df-quickchart\" onclick=\"quickchart('df-cc9498d5-a422-44f3-9c9a-22071978611a')\"\n",
              "            title=\"Suggest charts\"\n",
              "            style=\"display:none;\">\n",
              "\n",
              "<svg xmlns=\"http://www.w3.org/2000/svg\" height=\"24px\"viewBox=\"0 0 24 24\"\n",
              "     width=\"24px\">\n",
              "    <g>\n",
              "        <path d=\"M19 3H5c-1.1 0-2 .9-2 2v14c0 1.1.9 2 2 2h14c1.1 0 2-.9 2-2V5c0-1.1-.9-2-2-2zM9 17H7v-7h2v7zm4 0h-2V7h2v10zm4 0h-2v-4h2v4z\"/>\n",
              "    </g>\n",
              "</svg>\n",
              "  </button>\n",
              "\n",
              "<style>\n",
              "  .colab-df-quickchart {\n",
              "      --bg-color: #E8F0FE;\n",
              "      --fill-color: #1967D2;\n",
              "      --hover-bg-color: #E2EBFA;\n",
              "      --hover-fill-color: #174EA6;\n",
              "      --disabled-fill-color: #AAA;\n",
              "      --disabled-bg-color: #DDD;\n",
              "  }\n",
              "\n",
              "  [theme=dark] .colab-df-quickchart {\n",
              "      --bg-color: #3B4455;\n",
              "      --fill-color: #D2E3FC;\n",
              "      --hover-bg-color: #434B5C;\n",
              "      --hover-fill-color: #FFFFFF;\n",
              "      --disabled-bg-color: #3B4455;\n",
              "      --disabled-fill-color: #666;\n",
              "  }\n",
              "\n",
              "  .colab-df-quickchart {\n",
              "    background-color: var(--bg-color);\n",
              "    border: none;\n",
              "    border-radius: 50%;\n",
              "    cursor: pointer;\n",
              "    display: none;\n",
              "    fill: var(--fill-color);\n",
              "    height: 32px;\n",
              "    padding: 0;\n",
              "    width: 32px;\n",
              "  }\n",
              "\n",
              "  .colab-df-quickchart:hover {\n",
              "    background-color: var(--hover-bg-color);\n",
              "    box-shadow: 0 1px 2px rgba(60, 64, 67, 0.3), 0 1px 3px 1px rgba(60, 64, 67, 0.15);\n",
              "    fill: var(--button-hover-fill-color);\n",
              "  }\n",
              "\n",
              "  .colab-df-quickchart-complete:disabled,\n",
              "  .colab-df-quickchart-complete:disabled:hover {\n",
              "    background-color: var(--disabled-bg-color);\n",
              "    fill: var(--disabled-fill-color);\n",
              "    box-shadow: none;\n",
              "  }\n",
              "\n",
              "  .colab-df-spinner {\n",
              "    border: 2px solid var(--fill-color);\n",
              "    border-color: transparent;\n",
              "    border-bottom-color: var(--fill-color);\n",
              "    animation:\n",
              "      spin 1s steps(1) infinite;\n",
              "  }\n",
              "\n",
              "  @keyframes spin {\n",
              "    0% {\n",
              "      border-color: transparent;\n",
              "      border-bottom-color: var(--fill-color);\n",
              "      border-left-color: var(--fill-color);\n",
              "    }\n",
              "    20% {\n",
              "      border-color: transparent;\n",
              "      border-left-color: var(--fill-color);\n",
              "      border-top-color: var(--fill-color);\n",
              "    }\n",
              "    30% {\n",
              "      border-color: transparent;\n",
              "      border-left-color: var(--fill-color);\n",
              "      border-top-color: var(--fill-color);\n",
              "      border-right-color: var(--fill-color);\n",
              "    }\n",
              "    40% {\n",
              "      border-color: transparent;\n",
              "      border-right-color: var(--fill-color);\n",
              "      border-top-color: var(--fill-color);\n",
              "    }\n",
              "    60% {\n",
              "      border-color: transparent;\n",
              "      border-right-color: var(--fill-color);\n",
              "    }\n",
              "    80% {\n",
              "      border-color: transparent;\n",
              "      border-right-color: var(--fill-color);\n",
              "      border-bottom-color: var(--fill-color);\n",
              "    }\n",
              "    90% {\n",
              "      border-color: transparent;\n",
              "      border-bottom-color: var(--fill-color);\n",
              "    }\n",
              "  }\n",
              "</style>\n",
              "\n",
              "  <script>\n",
              "    async function quickchart(key) {\n",
              "      const quickchartButtonEl =\n",
              "        document.querySelector('#' + key + ' button');\n",
              "      quickchartButtonEl.disabled = true;  // To prevent multiple clicks.\n",
              "      quickchartButtonEl.classList.add('colab-df-spinner');\n",
              "      try {\n",
              "        const charts = await google.colab.kernel.invokeFunction(\n",
              "            'suggestCharts', [key], {});\n",
              "      } catch (error) {\n",
              "        console.error('Error during call to suggestCharts:', error);\n",
              "      }\n",
              "      quickchartButtonEl.classList.remove('colab-df-spinner');\n",
              "      quickchartButtonEl.classList.add('colab-df-quickchart-complete');\n",
              "    }\n",
              "    (() => {\n",
              "      let quickchartButtonEl =\n",
              "        document.querySelector('#df-cc9498d5-a422-44f3-9c9a-22071978611a button');\n",
              "      quickchartButtonEl.style.display =\n",
              "        google.colab.kernel.accessAllowed ? 'block' : 'none';\n",
              "    })();\n",
              "  </script>\n",
              "</div>\n",
              "    </div>\n",
              "  </div>\n"
            ]
          },
          "metadata": {},
          "execution_count": 82
        }
      ],
      "source": [
        "y_predict = clf3.predict(dataset[3][1])\n",
        "report = classification_report(dataset[3][3],y_predict, output_dict = True)\n",
        "result = pd.DataFrame(report).transpose()\n",
        "result.to_csv(f\"{filereport}/90_10.csv\")\n",
        "result"
      ]
    },
    {
      "cell_type": "code",
      "execution_count": 83,
      "metadata": {
        "execution": {
          "iopub.execute_input": "2023-12-06T16:15:37.692183Z",
          "iopub.status.busy": "2023-12-06T16:15:37.691275Z",
          "iopub.status.idle": "2023-12-06T16:15:38.147992Z",
          "shell.execute_reply": "2023-12-06T16:15:38.146730Z",
          "shell.execute_reply.started": "2023-12-06T16:15:37.692135Z"
        },
        "trusted": true,
        "colab": {
          "base_uri": "https://localhost:8080/",
          "height": 455
        },
        "id": "EFyolFZ-Vz4f",
        "outputId": "dc83b5c5-e27b-4fab-9790-9c83c9ebd3c6"
      },
      "outputs": [
        {
          "output_type": "display_data",
          "data": {
            "text/plain": [
              "<Figure size 640x480 with 2 Axes>"
            ],
            "image/png": "[encoded data removed]"
          },
          "metadata": {}
        }
      ],
      "source": [
        "ConfusionMatrixDisplay.from_predictions(dataset[3][3],y_predict,labels = clf3.classes_)\n",
        "plt.savefig(f\"{filepathmatrix}/confusionmaxtrix_90_10\")"
      ]
    },
    {
      "cell_type": "markdown",
      "metadata": {
        "id": "1ztuDbeTVz4g"
      },
      "source": [
        "# 5. The depth and accuracy of a decision tree"
      ]
    },
    {
      "cell_type": "code",
      "execution_count": null,
      "metadata": {
        "execution": {
          "iopub.execute_input": "2023-12-06T16:24:19.019547Z",
          "iopub.status.busy": "2023-12-06T16:24:19.019135Z",
          "iopub.status.idle": "2023-12-06T16:24:19.025102Z",
          "shell.execute_reply": "2023-12-06T16:24:19.023843Z",
          "shell.execute_reply.started": "2023-12-06T16:24:19.019516Z"
        },
        "trusted": true,
        "id": "icbb9R2YVz4g"
      },
      "outputs": [],
      "source": [
        "from sklearn.metrics import accuracy_score"
      ]
    },
    {
      "cell_type": "code",
      "execution_count": null,
      "metadata": {
        "id": "iCN5tKaNVz4h"
      },
      "outputs": [],
      "source": [
        "feature_train, feature_test, label_train, label_test = dataset[2]"
      ]
    },
    {
      "cell_type": "code",
      "execution_count": null,
      "metadata": {
        "execution": {
          "iopub.execute_input": "2023-12-06T16:35:13.501988Z",
          "iopub.status.busy": "2023-12-06T16:35:13.501402Z",
          "iopub.status.idle": "2023-12-06T16:35:13.509236Z",
          "shell.execute_reply": "2023-12-06T16:35:13.507728Z",
          "shell.execute_reply.started": "2023-12-06T16:35:13.501943Z"
        },
        "trusted": true,
        "id": "C0J-NnrZVz4h"
      },
      "outputs": [],
      "source": [
        "accuracy = []"
      ]
    },
    {
      "cell_type": "code",
      "source": [
        "filepathdepth = \"MaxDepth\"\n",
        "if not os.path.isdir(filepathdepth):\n",
        "    os.mkdir(filepathdepth)"
      ],
      "metadata": {
        "id": "DTADHIuCJ4FL"
      },
      "execution_count": null,
      "outputs": []
    },
    {
      "cell_type": "markdown",
      "metadata": {
        "id": "HtAhSVQHVz4i"
      },
      "source": [
        "## max_depth = None"
      ]
    },
    {
      "cell_type": "code",
      "execution_count": null,
      "metadata": {
        "execution": {
          "iopub.execute_input": "2023-12-06T16:23:21.412584Z",
          "iopub.status.busy": "2023-12-06T16:23:21.412114Z",
          "iopub.status.idle": "2023-12-06T16:23:21.429572Z",
          "shell.execute_reply": "2023-12-06T16:23:21.428526Z",
          "shell.execute_reply.started": "2023-12-06T16:23:21.412549Z"
        },
        "trusted": true,
        "colab": {
          "base_uri": "https://localhost:8080/",
          "height": 75
        },
        "id": "ggq76R6GVz4i",
        "outputId": "6cf30c34-1520-441b-d5d5-0cace293047a"
      },
      "outputs": [
        {
          "output_type": "execute_result",
          "data": {
            "text/plain": [
              "DecisionTreeClassifier(criterion='entropy')"
            ],
            "text/html": [
              "<style>#sk-container-id-39 {color: black;background-color: white;}#sk-container-id-39 pre{padding: 0;}#sk-container-id-39 div.sk-toggleable {background-color: white;}#sk-container-id-39 label.sk-toggleable__label {cursor: pointer;display: block;width: 100%;margin-bottom: 0;padding: 0.3em;box-sizing: border-box;text-align: center;}#sk-container-id-39 label.sk-toggleable__label-arrow:before {content: \"▸\";float: left;margin-right: 0.25em;color: #696969;}#sk-container-id-39 label.sk-toggleable__label-arrow:hover:before {color: black;}#sk-container-id-39 div.sk-estimator:hover label.sk-toggleable__label-arrow:before {color: black;}#sk-container-id-39 div.sk-toggleable__content {max-height: 0;max-width: 0;overflow: hidden;text-align: left;background-color: #f0f8ff;}#sk-container-id-39 div.sk-toggleable__content pre {margin: 0.2em;color: black;border-radius: 0.25em;background-color: #f0f8ff;}#sk-container-id-39 input.sk-toggleable__control:checked~div.sk-toggleable__content {max-height: 200px;max-width: 100%;overflow: auto;}#sk-container-id-39 input.sk-toggleable__control:checked~label.sk-toggleable__label-arrow:before {content: \"▾\";}#sk-container-id-39 div.sk-estimator input.sk-toggleable__control:checked~label.sk-toggleable__label {background-color: #d4ebff;}#sk-container-id-39 div.sk-label input.sk-toggleable__control:checked~label.sk-toggleable__label {background-color: #d4ebff;}#sk-container-id-39 input.sk-hidden--visually {border: 0;clip: rect(1px 1px 1px 1px);clip: rect(1px, 1px, 1px, 1px);height: 1px;margin: -1px;overflow: hidden;padding: 0;position: absolute;width: 1px;}#sk-container-id-39 div.sk-estimator {font-family: monospace;background-color: #f0f8ff;border: 1px dotted black;border-radius: 0.25em;box-sizing: border-box;margin-bottom: 0.5em;}#sk-container-id-39 div.sk-estimator:hover {background-color: #d4ebff;}#sk-container-id-39 div.sk-parallel-item::after {content: \"\";width: 100%;border-bottom: 1px solid gray;flex-grow: 1;}#sk-container-id-39 div.sk-label:hover label.sk-toggleable__label {background-color: #d4ebff;}#sk-container-id-39 div.sk-serial::before {content: \"\";position: absolute;border-left: 1px solid gray;box-sizing: border-box;top: 0;bottom: 0;left: 50%;z-index: 0;}#sk-container-id-39 div.sk-serial {display: flex;flex-direction: column;align-items: center;background-color: white;padding-right: 0.2em;padding-left: 0.2em;position: relative;}#sk-container-id-39 div.sk-item {position: relative;z-index: 1;}#sk-container-id-39 div.sk-parallel {display: flex;align-items: stretch;justify-content: center;background-color: white;position: relative;}#sk-container-id-39 div.sk-item::before, #sk-container-id-39 div.sk-parallel-item::before {content: \"\";position: absolute;border-left: 1px solid gray;box-sizing: border-box;top: 0;bottom: 0;left: 50%;z-index: -1;}#sk-container-id-39 div.sk-parallel-item {display: flex;flex-direction: column;z-index: 1;position: relative;background-color: white;}#sk-container-id-39 div.sk-parallel-item:first-child::after {align-self: flex-end;width: 50%;}#sk-container-id-39 div.sk-parallel-item:last-child::after {align-self: flex-start;width: 50%;}#sk-container-id-39 div.sk-parallel-item:only-child::after {width: 0;}#sk-container-id-39 div.sk-dashed-wrapped {border: 1px dashed gray;margin: 0 0.4em 0.5em 0.4em;box-sizing: border-box;padding-bottom: 0.4em;background-color: white;}#sk-container-id-39 div.sk-label label {font-family: monospace;font-weight: bold;display: inline-block;line-height: 1.2em;}#sk-container-id-39 div.sk-label-container {text-align: center;}#sk-container-id-39 div.sk-container {/* jupyter's `normalize.less` sets `[hidden] { display: none; }` but bootstrap.min.css set `[hidden] { display: none !important; }` so we also need the `!important` here to be able to override the default hidden behavior on the sphinx rendered scikit-learn.org. See: https://github.com/scikit-learn/scikit-learn/issues/21755 */display: inline-block !important;position: relative;}#sk-container-id-39 div.sk-text-repr-fallback {display: none;}</style><div id=\"sk-container-id-39\" class=\"sk-top-container\"><div class=\"sk-text-repr-fallback\"><pre>DecisionTreeClassifier(criterion=&#x27;entropy&#x27;)</pre><b>In a Jupyter environment, please rerun this cell to show the HTML representation or trust the notebook. <br />On GitHub, the HTML representation is unable to render, please try loading this page with nbviewer.org.</b></div><div class=\"sk-container\" hidden><div class=\"sk-item\"><div class=\"sk-estimator sk-toggleable\"><input class=\"sk-toggleable__control sk-hidden--visually\" id=\"sk-estimator-id-39\" type=\"checkbox\" checked><label for=\"sk-estimator-id-39\" class=\"sk-toggleable__label sk-toggleable__label-arrow\">DecisionTreeClassifier</label><div class=\"sk-toggleable__content\"><pre>DecisionTreeClassifier(criterion=&#x27;entropy&#x27;)</pre></div></div></div></div></div>"
            ]
          },
          "metadata": {},
          "execution_count": 203
        }
      ],
      "source": [
        "clf = tree.DecisionTreeClassifier(criterion=\"entropy\")\n",
        "clf.fit(feature_train,label_train)"
      ]
    },
    {
      "cell_type": "code",
      "execution_count": null,
      "metadata": {
        "execution": {
          "iopub.execute_input": "2023-12-06T16:24:42.357773Z",
          "iopub.status.busy": "2023-12-06T16:24:42.357294Z",
          "iopub.status.idle": "2023-12-06T16:24:42.377789Z",
          "shell.execute_reply": "2023-12-06T16:24:42.375388Z",
          "shell.execute_reply.started": "2023-12-06T16:24:42.357732Z"
        },
        "trusted": true,
        "colab": {
          "base_uri": "https://localhost:8080/"
        },
        "id": "WT6Mft6hVz4j",
        "outputId": "2ae31024-52b7-4cb2-ab5e-b3168cd0467d"
      },
      "outputs": [
        {
          "output_type": "execute_result",
          "data": {
            "text/plain": [
              "0.8888888888888888"
            ]
          },
          "metadata": {},
          "execution_count": 204
        }
      ],
      "source": [
        "y_predict = clf.predict(feature_test)\n",
        "a = accuracy_score(label_test,y_predict)\n",
        "a"
      ]
    },
    {
      "cell_type": "code",
      "source": [
        "accuracy.append(a)"
      ],
      "metadata": {
        "id": "6zB5O8giM8P6"
      },
      "execution_count": null,
      "outputs": []
    },
    {
      "cell_type": "code",
      "execution_count": null,
      "metadata": {
        "execution": {
          "iopub.execute_input": "2023-12-06T16:28:35.943913Z",
          "iopub.status.busy": "2023-12-06T16:28:35.943251Z",
          "iopub.status.idle": "2023-12-06T16:28:35.999497Z",
          "shell.execute_reply": "2023-12-06T16:28:35.997285Z",
          "shell.execute_reply.started": "2023-12-06T16:28:35.943845Z"
        },
        "trusted": true,
        "colab": {
          "base_uri": "https://localhost:8080/",
          "height": 777
        },
        "id": "dIvd2GzlVz4j",
        "outputId": "3e335eab-7ec8-48c9-ec76-9fd1abcf1a23"
      },
      "outputs": [
        {
          "output_type": "execute_result",
          "data": {
            "image/svg+xml": "<?xml version=\"1.0\" encoding=\"UTF-8\" standalone=\"no\"?>\n<!DOCTYPE svg PUBLIC \"-//W3C//DTD SVG 1.1//EN\"\n \"http://www.w3.org/Graphics/SVG/1.1/DTD/svg11.dtd\">\n<!-- Generated by graphviz version 2.43.0 (0)\n -->\n<!-- Title: Tree Pages: 1 -->\n<svg width=\"711pt\" height=\"552pt\"\n viewBox=\"0.00 0.00 710.50 552.00\" xmlns=\"http://www.w3.org/2000/svg\" xmlns:xlink=\"http://www.w3.org/1999/xlink\">\n<g id=\"graph0\" class=\"graph\" transform=\"scale(1 1) rotate(0) translate(4 548)\">\n<title>Tree</title>\n<polygon fill=\"white\" stroke=\"transparent\" points=\"-4,4 -4,-548 706.5,-548 706.5,4 -4,4\"/>\n<!-- 0 -->\n<g id=\"node1\" class=\"node\">\n<title>0</title>\n<path fill=\"#eafcf2\" stroke=\"black\" d=\"M320,-544C320,-544 204,-544 204,-544 198,-544 192,-538 192,-532 192,-532 192,-473 192,-473 192,-467 198,-461 204,-461 204,-461 320,-461 320,-461 326,-461 332,-467 332,-473 332,-473 332,-532 332,-532 332,-538 326,-544 320,-544\"/>\n<text text-anchor=\"middle\" x=\"262\" y=\"-528.8\" font-family=\"Helvetica,sans-Serif\" font-size=\"14.00\">Flavanoids &lt;= 1.425</text>\n<text text-anchor=\"middle\" x=\"262\" y=\"-513.8\" font-family=\"Helvetica,sans-Serif\" font-size=\"14.00\">entropy = 1.566</text>\n<text text-anchor=\"middle\" x=\"262\" y=\"-498.8\" font-family=\"Helvetica,sans-Serif\" font-size=\"14.00\">samples = 142</text>\n<text text-anchor=\"middle\" x=\"262\" y=\"-483.8\" font-family=\"Helvetica,sans-Serif\" font-size=\"14.00\">value = [47, 57, 38]</text>\n<text text-anchor=\"middle\" x=\"262\" y=\"-468.8\" font-family=\"Helvetica,sans-Serif\" font-size=\"14.00\">class = 2</text>\n</g>\n<!-- 1 -->\n<g id=\"node2\" class=\"node\">\n<title>1</title>\n<path fill=\"#9f68eb\" stroke=\"black\" d=\"M251,-425C251,-425 111,-425 111,-425 105,-425 99,-419 99,-413 99,-413 99,-354 99,-354 99,-348 105,-342 111,-342 111,-342 251,-342 251,-342 257,-342 263,-348 263,-354 263,-354 263,-413 263,-413 263,-419 257,-425 251,-425\"/>\n<text text-anchor=\"middle\" x=\"181\" y=\"-409.8\" font-family=\"Helvetica,sans-Serif\" font-size=\"14.00\">Color_intensity &lt;= 3.725</text>\n<text text-anchor=\"middle\" x=\"181\" y=\"-394.8\" font-family=\"Helvetica,sans-Serif\" font-size=\"14.00\">entropy = 0.705</text>\n<text text-anchor=\"middle\" x=\"181\" y=\"-379.8\" font-family=\"Helvetica,sans-Serif\" font-size=\"14.00\">samples = 47</text>\n<text text-anchor=\"middle\" x=\"181\" y=\"-364.8\" font-family=\"Helvetica,sans-Serif\" font-size=\"14.00\">value = [0, 9, 38]</text>\n<text text-anchor=\"middle\" x=\"181\" y=\"-349.8\" font-family=\"Helvetica,sans-Serif\" font-size=\"14.00\">class = 3</text>\n</g>\n<!-- 0&#45;&gt;1 -->\n<g id=\"edge1\" class=\"edge\">\n<title>0&#45;&gt;1</title>\n<path fill=\"none\" stroke=\"black\" d=\"M233.9,-460.91C227.74,-452.01 221.16,-442.51 214.81,-433.33\"/>\n<polygon fill=\"black\" stroke=\"black\" points=\"217.62,-431.25 209.05,-425.02 211.87,-435.24 217.62,-431.25\"/>\n<text text-anchor=\"middle\" x=\"204.58\" y=\"-445.92\" font-family=\"Helvetica,sans-Serif\" font-size=\"14.00\">True</text>\n</g>\n<!-- 4 -->\n<g id=\"node5\" class=\"node\">\n<title>4</title>\n<path fill=\"#fbfefc\" stroke=\"black\" d=\"M394.5,-425C394.5,-425 293.5,-425 293.5,-425 287.5,-425 281.5,-419 281.5,-413 281.5,-413 281.5,-354 281.5,-354 281.5,-348 287.5,-342 293.5,-342 293.5,-342 394.5,-342 394.5,-342 400.5,-342 406.5,-348 406.5,-354 406.5,-354 406.5,-413 406.5,-413 406.5,-419 400.5,-425 394.5,-425\"/>\n<text text-anchor=\"middle\" x=\"344\" y=\"-409.8\" font-family=\"Helvetica,sans-Serif\" font-size=\"14.00\">Proline &lt;= 724.5</text>\n<text text-anchor=\"middle\" x=\"344\" y=\"-394.8\" font-family=\"Helvetica,sans-Serif\" font-size=\"14.00\">entropy = 1.0</text>\n<text text-anchor=\"middle\" x=\"344\" y=\"-379.8\" font-family=\"Helvetica,sans-Serif\" font-size=\"14.00\">samples = 95</text>\n<text text-anchor=\"middle\" x=\"344\" y=\"-364.8\" font-family=\"Helvetica,sans-Serif\" font-size=\"14.00\">value = [47, 48, 0]</text>\n<text text-anchor=\"middle\" x=\"344\" y=\"-349.8\" font-family=\"Helvetica,sans-Serif\" font-size=\"14.00\">class = 2</text>\n</g>\n<!-- 0&#45;&gt;4 -->\n<g id=\"edge4\" class=\"edge\">\n<title>0&#45;&gt;4</title>\n<path fill=\"none\" stroke=\"black\" d=\"M290.45,-460.91C296.68,-452.01 303.34,-442.51 309.78,-433.33\"/>\n<polygon fill=\"black\" stroke=\"black\" points=\"312.73,-435.22 315.6,-425.02 307,-431.2 312.73,-435.22\"/>\n<text text-anchor=\"middle\" x=\"319.93\" y=\"-445.94\" font-family=\"Helvetica,sans-Serif\" font-size=\"14.00\">False</text>\n</g>\n<!-- 2 -->\n<g id=\"node3\" class=\"node\">\n<title>2</title>\n<path fill=\"#39e581\" stroke=\"black\" d=\"M98,-298.5C98,-298.5 12,-298.5 12,-298.5 6,-298.5 0,-292.5 0,-286.5 0,-286.5 0,-242.5 0,-242.5 0,-236.5 6,-230.5 12,-230.5 12,-230.5 98,-230.5 98,-230.5 104,-230.5 110,-236.5 110,-242.5 110,-242.5 110,-286.5 110,-286.5 110,-292.5 104,-298.5 98,-298.5\"/>\n<text text-anchor=\"middle\" x=\"55\" y=\"-283.3\" font-family=\"Helvetica,sans-Serif\" font-size=\"14.00\">entropy = 0.0</text>\n<text text-anchor=\"middle\" x=\"55\" y=\"-268.3\" font-family=\"Helvetica,sans-Serif\" font-size=\"14.00\">samples = 9</text>\n<text text-anchor=\"middle\" x=\"55\" y=\"-253.3\" font-family=\"Helvetica,sans-Serif\" font-size=\"14.00\">value = [0, 9, 0]</text>\n<text text-anchor=\"middle\" x=\"55\" y=\"-238.3\" font-family=\"Helvetica,sans-Serif\" font-size=\"14.00\">class = 2</text>\n</g>\n<!-- 1&#45;&gt;2 -->\n<g id=\"edge2\" class=\"edge\">\n<title>1&#45;&gt;2</title>\n<path fill=\"none\" stroke=\"black\" d=\"M137.28,-341.91C124.69,-330.21 110.95,-317.46 98.38,-305.78\"/>\n<polygon fill=\"black\" stroke=\"black\" points=\"100.43,-302.91 90.72,-298.67 95.66,-308.04 100.43,-302.91\"/>\n</g>\n<!-- 3 -->\n<g id=\"node4\" class=\"node\">\n<title>3</title>\n<path fill=\"#8139e5\" stroke=\"black\" d=\"M233.5,-298.5C233.5,-298.5 140.5,-298.5 140.5,-298.5 134.5,-298.5 128.5,-292.5 128.5,-286.5 128.5,-286.5 128.5,-242.5 128.5,-242.5 128.5,-236.5 134.5,-230.5 140.5,-230.5 140.5,-230.5 233.5,-230.5 233.5,-230.5 239.5,-230.5 245.5,-236.5 245.5,-242.5 245.5,-242.5 245.5,-286.5 245.5,-286.5 245.5,-292.5 239.5,-298.5 233.5,-298.5\"/>\n<text text-anchor=\"middle\" x=\"187\" y=\"-283.3\" font-family=\"Helvetica,sans-Serif\" font-size=\"14.00\">entropy = 0.0</text>\n<text text-anchor=\"middle\" x=\"187\" y=\"-268.3\" font-family=\"Helvetica,sans-Serif\" font-size=\"14.00\">samples = 38</text>\n<text text-anchor=\"middle\" x=\"187\" y=\"-253.3\" font-family=\"Helvetica,sans-Serif\" font-size=\"14.00\">value = [0, 0, 38]</text>\n<text text-anchor=\"middle\" x=\"187\" y=\"-238.3\" font-family=\"Helvetica,sans-Serif\" font-size=\"14.00\">class = 3</text>\n</g>\n<!-- 1&#45;&gt;3 -->\n<g id=\"edge3\" class=\"edge\">\n<title>1&#45;&gt;3</title>\n<path fill=\"none\" stroke=\"black\" d=\"M183.08,-341.91C183.63,-331.2 184.22,-319.62 184.78,-308.78\"/>\n<polygon fill=\"black\" stroke=\"black\" points=\"188.28,-308.83 185.3,-298.67 181.29,-308.47 188.28,-308.83\"/>\n</g>\n<!-- 5 -->\n<g id=\"node6\" class=\"node\">\n<title>5</title>\n<path fill=\"#3de684\" stroke=\"black\" d=\"M392.5,-306C392.5,-306 285.5,-306 285.5,-306 279.5,-306 273.5,-300 273.5,-294 273.5,-294 273.5,-235 273.5,-235 273.5,-229 279.5,-223 285.5,-223 285.5,-223 392.5,-223 392.5,-223 398.5,-223 404.5,-229 404.5,-235 404.5,-235 404.5,-294 404.5,-294 404.5,-300 398.5,-306 392.5,-306\"/>\n<text text-anchor=\"middle\" x=\"339\" y=\"-290.8\" font-family=\"Helvetica,sans-Serif\" font-size=\"14.00\">Malicacid &lt;= 3.925</text>\n<text text-anchor=\"middle\" x=\"339\" y=\"-275.8\" font-family=\"Helvetica,sans-Serif\" font-size=\"14.00\">entropy = 0.151</text>\n<text text-anchor=\"middle\" x=\"339\" y=\"-260.8\" font-family=\"Helvetica,sans-Serif\" font-size=\"14.00\">samples = 46</text>\n<text text-anchor=\"middle\" x=\"339\" y=\"-245.8\" font-family=\"Helvetica,sans-Serif\" font-size=\"14.00\">value = [1, 45, 0]</text>\n<text text-anchor=\"middle\" x=\"339\" y=\"-230.8\" font-family=\"Helvetica,sans-Serif\" font-size=\"14.00\">class = 2</text>\n</g>\n<!-- 4&#45;&gt;5 -->\n<g id=\"edge5\" class=\"edge\">\n<title>4&#45;&gt;5</title>\n<path fill=\"none\" stroke=\"black\" d=\"M342.27,-341.91C341.91,-333.56 341.53,-324.67 341.16,-316.02\"/>\n<polygon fill=\"black\" stroke=\"black\" points=\"344.66,-315.86 340.73,-306.02 337.66,-316.16 344.66,-315.86\"/>\n</g>\n<!-- 10 -->\n<g id=\"node11\" class=\"node\">\n<title>10</title>\n<path fill=\"#e78946\" stroke=\"black\" d=\"M582,-306C582,-306 442,-306 442,-306 436,-306 430,-300 430,-294 430,-294 430,-235 430,-235 430,-229 436,-223 442,-223 442,-223 582,-223 582,-223 588,-223 594,-229 594,-235 594,-235 594,-294 594,-294 594,-300 588,-306 582,-306\"/>\n<text text-anchor=\"middle\" x=\"512\" y=\"-290.8\" font-family=\"Helvetica,sans-Serif\" font-size=\"14.00\">Color_intensity &lt;= 3.435</text>\n<text text-anchor=\"middle\" x=\"512\" y=\"-275.8\" font-family=\"Helvetica,sans-Serif\" font-size=\"14.00\">entropy = 0.332</text>\n<text text-anchor=\"middle\" x=\"512\" y=\"-260.8\" font-family=\"Helvetica,sans-Serif\" font-size=\"14.00\">samples = 49</text>\n<text text-anchor=\"middle\" x=\"512\" y=\"-245.8\" font-family=\"Helvetica,sans-Serif\" font-size=\"14.00\">value = [46, 3, 0]</text>\n<text text-anchor=\"middle\" x=\"512\" y=\"-230.8\" font-family=\"Helvetica,sans-Serif\" font-size=\"14.00\">class = 1</text>\n</g>\n<!-- 4&#45;&gt;10 -->\n<g id=\"edge10\" class=\"edge\">\n<title>4&#45;&gt;10</title>\n<path fill=\"none\" stroke=\"black\" d=\"M402.29,-341.91C416.23,-332.2 431.22,-321.76 445.5,-311.81\"/>\n<polygon fill=\"black\" stroke=\"black\" points=\"447.61,-314.61 453.82,-306.02 443.61,-308.86 447.61,-314.61\"/>\n</g>\n<!-- 6 -->\n<g id=\"node7\" class=\"node\">\n<title>6</title>\n<path fill=\"#39e581\" stroke=\"black\" d=\"M208.5,-179.5C208.5,-179.5 115.5,-179.5 115.5,-179.5 109.5,-179.5 103.5,-173.5 103.5,-167.5 103.5,-167.5 103.5,-123.5 103.5,-123.5 103.5,-117.5 109.5,-111.5 115.5,-111.5 115.5,-111.5 208.5,-111.5 208.5,-111.5 214.5,-111.5 220.5,-117.5 220.5,-123.5 220.5,-123.5 220.5,-167.5 220.5,-167.5 220.5,-173.5 214.5,-179.5 208.5,-179.5\"/>\n<text text-anchor=\"middle\" x=\"162\" y=\"-164.3\" font-family=\"Helvetica,sans-Serif\" font-size=\"14.00\">entropy = 0.0</text>\n<text text-anchor=\"middle\" x=\"162\" y=\"-149.3\" font-family=\"Helvetica,sans-Serif\" font-size=\"14.00\">samples = 43</text>\n<text text-anchor=\"middle\" x=\"162\" y=\"-134.3\" font-family=\"Helvetica,sans-Serif\" font-size=\"14.00\">value = [0, 43, 0]</text>\n<text text-anchor=\"middle\" x=\"162\" y=\"-119.3\" font-family=\"Helvetica,sans-Serif\" font-size=\"14.00\">class = 2</text>\n</g>\n<!-- 5&#45;&gt;6 -->\n<g id=\"edge6\" class=\"edge\">\n<title>5&#45;&gt;6</title>\n<path fill=\"none\" stroke=\"black\" d=\"M277.59,-222.91C259.23,-210.77 239.14,-197.49 220.94,-185.46\"/>\n<polygon fill=\"black\" stroke=\"black\" points=\"222.45,-182.26 212.18,-179.67 218.59,-188.1 222.45,-182.26\"/>\n</g>\n<!-- 7 -->\n<g id=\"node8\" class=\"node\">\n<title>7</title>\n<path fill=\"#9cf2c0\" stroke=\"black\" d=\"M427,-187C427,-187 251,-187 251,-187 245,-187 239,-181 239,-175 239,-175 239,-116 239,-116 239,-110 245,-104 251,-104 251,-104 427,-104 427,-104 433,-104 439,-110 439,-116 439,-116 439,-175 439,-175 439,-181 433,-187 427,-187\"/>\n<text text-anchor=\"middle\" x=\"339\" y=\"-171.8\" font-family=\"Helvetica,sans-Serif\" font-size=\"14.00\">Nonflavanoid_phenols &lt;= 0.31</text>\n<text text-anchor=\"middle\" x=\"339\" y=\"-156.8\" font-family=\"Helvetica,sans-Serif\" font-size=\"14.00\">entropy = 0.918</text>\n<text text-anchor=\"middle\" x=\"339\" y=\"-141.8\" font-family=\"Helvetica,sans-Serif\" font-size=\"14.00\">samples = 3</text>\n<text text-anchor=\"middle\" x=\"339\" y=\"-126.8\" font-family=\"Helvetica,sans-Serif\" font-size=\"14.00\">value = [1, 2, 0]</text>\n<text text-anchor=\"middle\" x=\"339\" y=\"-111.8\" font-family=\"Helvetica,sans-Serif\" font-size=\"14.00\">class = 2</text>\n</g>\n<!-- 5&#45;&gt;7 -->\n<g id=\"edge7\" class=\"edge\">\n<title>5&#45;&gt;7</title>\n<path fill=\"none\" stroke=\"black\" d=\"M339,-222.91C339,-214.65 339,-205.86 339,-197.3\"/>\n<polygon fill=\"black\" stroke=\"black\" points=\"342.5,-197.02 339,-187.02 335.5,-197.02 342.5,-197.02\"/>\n</g>\n<!-- 8 -->\n<g id=\"node9\" class=\"node\">\n<title>8</title>\n<path fill=\"#39e581\" stroke=\"black\" d=\"M318,-68C318,-68 232,-68 232,-68 226,-68 220,-62 220,-56 220,-56 220,-12 220,-12 220,-6 226,0 232,0 232,0 318,0 318,0 324,0 330,-6 330,-12 330,-12 330,-56 330,-56 330,-62 324,-68 318,-68\"/>\n<text text-anchor=\"middle\" x=\"275\" y=\"-52.8\" font-family=\"Helvetica,sans-Serif\" font-size=\"14.00\">entropy = 0.0</text>\n<text text-anchor=\"middle\" x=\"275\" y=\"-37.8\" font-family=\"Helvetica,sans-Serif\" font-size=\"14.00\">samples = 2</text>\n<text text-anchor=\"middle\" x=\"275\" y=\"-22.8\" font-family=\"Helvetica,sans-Serif\" font-size=\"14.00\">value = [0, 2, 0]</text>\n<text text-anchor=\"middle\" x=\"275\" y=\"-7.8\" font-family=\"Helvetica,sans-Serif\" font-size=\"14.00\">class = 2</text>\n</g>\n<!-- 7&#45;&gt;8 -->\n<g id=\"edge8\" class=\"edge\">\n<title>7&#45;&gt;8</title>\n<path fill=\"none\" stroke=\"black\" d=\"M315.17,-103.73C310.1,-95.06 304.75,-85.9 299.65,-77.18\"/>\n<polygon fill=\"black\" stroke=\"black\" points=\"302.53,-75.17 294.46,-68.3 296.49,-78.7 302.53,-75.17\"/>\n</g>\n<!-- 9 -->\n<g id=\"node10\" class=\"node\">\n<title>9</title>\n<path fill=\"#e58139\" stroke=\"black\" d=\"M446,-68C446,-68 360,-68 360,-68 354,-68 348,-62 348,-56 348,-56 348,-12 348,-12 348,-6 354,0 360,0 360,0 446,0 446,0 452,0 458,-6 458,-12 458,-12 458,-56 458,-56 458,-62 452,-68 446,-68\"/>\n<text text-anchor=\"middle\" x=\"403\" y=\"-52.8\" font-family=\"Helvetica,sans-Serif\" font-size=\"14.00\">entropy = 0.0</text>\n<text text-anchor=\"middle\" x=\"403\" y=\"-37.8\" font-family=\"Helvetica,sans-Serif\" font-size=\"14.00\">samples = 1</text>\n<text text-anchor=\"middle\" x=\"403\" y=\"-22.8\" font-family=\"Helvetica,sans-Serif\" font-size=\"14.00\">value = [1, 0, 0]</text>\n<text text-anchor=\"middle\" x=\"403\" y=\"-7.8\" font-family=\"Helvetica,sans-Serif\" font-size=\"14.00\">class = 1</text>\n</g>\n<!-- 7&#45;&gt;9 -->\n<g id=\"edge9\" class=\"edge\">\n<title>7&#45;&gt;9</title>\n<path fill=\"none\" stroke=\"black\" d=\"M362.83,-103.73C367.9,-95.06 373.25,-85.9 378.35,-77.18\"/>\n<polygon fill=\"black\" stroke=\"black\" points=\"381.51,-78.7 383.54,-68.3 375.47,-75.17 381.51,-78.7\"/>\n</g>\n<!-- 11 -->\n<g id=\"node12\" class=\"node\">\n<title>11</title>\n<path fill=\"#39e581\" stroke=\"black\" d=\"M555,-179.5C555,-179.5 469,-179.5 469,-179.5 463,-179.5 457,-173.5 457,-167.5 457,-167.5 457,-123.5 457,-123.5 457,-117.5 463,-111.5 469,-111.5 469,-111.5 555,-111.5 555,-111.5 561,-111.5 567,-117.5 567,-123.5 567,-123.5 567,-167.5 567,-167.5 567,-173.5 561,-179.5 555,-179.5\"/>\n<text text-anchor=\"middle\" x=\"512\" y=\"-164.3\" font-family=\"Helvetica,sans-Serif\" font-size=\"14.00\">entropy = 0.0</text>\n<text text-anchor=\"middle\" x=\"512\" y=\"-149.3\" font-family=\"Helvetica,sans-Serif\" font-size=\"14.00\">samples = 3</text>\n<text text-anchor=\"middle\" x=\"512\" y=\"-134.3\" font-family=\"Helvetica,sans-Serif\" font-size=\"14.00\">value = [0, 3, 0]</text>\n<text text-anchor=\"middle\" x=\"512\" y=\"-119.3\" font-family=\"Helvetica,sans-Serif\" font-size=\"14.00\">class = 2</text>\n</g>\n<!-- 10&#45;&gt;11 -->\n<g id=\"edge11\" class=\"edge\">\n<title>10&#45;&gt;11</title>\n<path fill=\"none\" stroke=\"black\" d=\"M512,-222.91C512,-212.2 512,-200.62 512,-189.78\"/>\n<polygon fill=\"black\" stroke=\"black\" points=\"515.5,-189.67 512,-179.67 508.5,-189.67 515.5,-189.67\"/>\n</g>\n<!-- 12 -->\n<g id=\"node13\" class=\"node\">\n<title>12</title>\n<path fill=\"#e58139\" stroke=\"black\" d=\"M690.5,-179.5C690.5,-179.5 597.5,-179.5 597.5,-179.5 591.5,-179.5 585.5,-173.5 585.5,-167.5 585.5,-167.5 585.5,-123.5 585.5,-123.5 585.5,-117.5 591.5,-111.5 597.5,-111.5 597.5,-111.5 690.5,-111.5 690.5,-111.5 696.5,-111.5 702.5,-117.5 702.5,-123.5 702.5,-123.5 702.5,-167.5 702.5,-167.5 702.5,-173.5 696.5,-179.5 690.5,-179.5\"/>\n<text text-anchor=\"middle\" x=\"644\" y=\"-164.3\" font-family=\"Helvetica,sans-Serif\" font-size=\"14.00\">entropy = 0.0</text>\n<text text-anchor=\"middle\" x=\"644\" y=\"-149.3\" font-family=\"Helvetica,sans-Serif\" font-size=\"14.00\">samples = 46</text>\n<text text-anchor=\"middle\" x=\"644\" y=\"-134.3\" font-family=\"Helvetica,sans-Serif\" font-size=\"14.00\">value = [46, 0, 0]</text>\n<text text-anchor=\"middle\" x=\"644\" y=\"-119.3\" font-family=\"Helvetica,sans-Serif\" font-size=\"14.00\">class = 1</text>\n</g>\n<!-- 10&#45;&gt;12 -->\n<g id=\"edge12\" class=\"edge\">\n<title>10&#45;&gt;12</title>\n<path fill=\"none\" stroke=\"black\" d=\"M557.8,-222.91C571.12,-211.1 585.65,-198.22 598.93,-186.45\"/>\n<polygon fill=\"black\" stroke=\"black\" points=\"601.42,-188.92 606.58,-179.67 596.78,-183.68 601.42,-188.92\"/>\n</g>\n</g>\n</svg>\n",
            "text/plain": [
              "<graphviz.sources.Source at 0x7e5218fe4700>"
            ]
          },
          "metadata": {},
          "execution_count": 206
        }
      ],
      "source": [
        "graph_data = tree.export_graphviz(clf,\n",
        "                            filled=True,\n",
        "                            rounded=True,\n",
        "                            feature_names=X.columns,\n",
        "                            class_names=clf.classes_.astype(str)\n",
        "                            )\n",
        "\n",
        "graph = graphviz.Source(graph_data)\n",
        "graph.render(filename=f'descision_tree_None',format='png',directory = f\"{filepathdepth}\")\n",
        "graph"
      ]
    },
    {
      "cell_type": "markdown",
      "metadata": {
        "id": "ClBc4Y1_Vz4k"
      },
      "source": [
        "## max_depth = 2"
      ]
    },
    {
      "cell_type": "code",
      "execution_count": null,
      "metadata": {
        "execution": {
          "iopub.execute_input": "2023-12-06T16:30:32.864586Z",
          "iopub.status.busy": "2023-12-06T16:30:32.864019Z",
          "iopub.status.idle": "2023-12-06T16:30:32.884433Z",
          "shell.execute_reply": "2023-12-06T16:30:32.882831Z",
          "shell.execute_reply.started": "2023-12-06T16:30:32.864546Z"
        },
        "trusted": true,
        "colab": {
          "base_uri": "https://localhost:8080/",
          "height": 75
        },
        "id": "d4toTRcUVz4k",
        "outputId": "764d01dd-1170-454a-fd3d-52116d39695c"
      },
      "outputs": [
        {
          "output_type": "execute_result",
          "data": {
            "text/plain": [
              "DecisionTreeClassifier(criterion='entropy', max_depth=2)"
            ],
            "text/html": [
              "<style>#sk-container-id-40 {color: black;background-color: white;}#sk-container-id-40 pre{padding: 0;}#sk-container-id-40 div.sk-toggleable {background-color: white;}#sk-container-id-40 label.sk-toggleable__label {cursor: pointer;display: block;width: 100%;margin-bottom: 0;padding: 0.3em;box-sizing: border-box;text-align: center;}#sk-container-id-40 label.sk-toggleable__label-arrow:before {content: \"▸\";float: left;margin-right: 0.25em;color: #696969;}#sk-container-id-40 label.sk-toggleable__label-arrow:hover:before {color: black;}#sk-container-id-40 div.sk-estimator:hover label.sk-toggleable__label-arrow:before {color: black;}#sk-container-id-40 div.sk-toggleable__content {max-height: 0;max-width: 0;overflow: hidden;text-align: left;background-color: #f0f8ff;}#sk-container-id-40 div.sk-toggleable__content pre {margin: 0.2em;color: black;border-radius: 0.25em;background-color: #f0f8ff;}#sk-container-id-40 input.sk-toggleable__control:checked~div.sk-toggleable__content {max-height: 200px;max-width: 100%;overflow: auto;}#sk-container-id-40 input.sk-toggleable__control:checked~label.sk-toggleable__label-arrow:before {content: \"▾\";}#sk-container-id-40 div.sk-estimator input.sk-toggleable__control:checked~label.sk-toggleable__label {background-color: #d4ebff;}#sk-container-id-40 div.sk-label input.sk-toggleable__control:checked~label.sk-toggleable__label {background-color: #d4ebff;}#sk-container-id-40 input.sk-hidden--visually {border: 0;clip: rect(1px 1px 1px 1px);clip: rect(1px, 1px, 1px, 1px);height: 1px;margin: -1px;overflow: hidden;padding: 0;position: absolute;width: 1px;}#sk-container-id-40 div.sk-estimator {font-family: monospace;background-color: #f0f8ff;border: 1px dotted black;border-radius: 0.25em;box-sizing: border-box;margin-bottom: 0.5em;}#sk-container-id-40 div.sk-estimator:hover {background-color: #d4ebff;}#sk-container-id-40 div.sk-parallel-item::after {content: \"\";width: 100%;border-bottom: 1px solid gray;flex-grow: 1;}#sk-container-id-40 div.sk-label:hover label.sk-toggleable__label {background-color: #d4ebff;}#sk-container-id-40 div.sk-serial::before {content: \"\";position: absolute;border-left: 1px solid gray;box-sizing: border-box;top: 0;bottom: 0;left: 50%;z-index: 0;}#sk-container-id-40 div.sk-serial {display: flex;flex-direction: column;align-items: center;background-color: white;padding-right: 0.2em;padding-left: 0.2em;position: relative;}#sk-container-id-40 div.sk-item {position: relative;z-index: 1;}#sk-container-id-40 div.sk-parallel {display: flex;align-items: stretch;justify-content: center;background-color: white;position: relative;}#sk-container-id-40 div.sk-item::before, #sk-container-id-40 div.sk-parallel-item::before {content: \"\";position: absolute;border-left: 1px solid gray;box-sizing: border-box;top: 0;bottom: 0;left: 50%;z-index: -1;}#sk-container-id-40 div.sk-parallel-item {display: flex;flex-direction: column;z-index: 1;position: relative;background-color: white;}#sk-container-id-40 div.sk-parallel-item:first-child::after {align-self: flex-end;width: 50%;}#sk-container-id-40 div.sk-parallel-item:last-child::after {align-self: flex-start;width: 50%;}#sk-container-id-40 div.sk-parallel-item:only-child::after {width: 0;}#sk-container-id-40 div.sk-dashed-wrapped {border: 1px dashed gray;margin: 0 0.4em 0.5em 0.4em;box-sizing: border-box;padding-bottom: 0.4em;background-color: white;}#sk-container-id-40 div.sk-label label {font-family: monospace;font-weight: bold;display: inline-block;line-height: 1.2em;}#sk-container-id-40 div.sk-label-container {text-align: center;}#sk-container-id-40 div.sk-container {/* jupyter's `normalize.less` sets `[hidden] { display: none; }` but bootstrap.min.css set `[hidden] { display: none !important; }` so we also need the `!important` here to be able to override the default hidden behavior on the sphinx rendered scikit-learn.org. See: https://github.com/scikit-learn/scikit-learn/issues/21755 */display: inline-block !important;position: relative;}#sk-container-id-40 div.sk-text-repr-fallback {display: none;}</style><div id=\"sk-container-id-40\" class=\"sk-top-container\"><div class=\"sk-text-repr-fallback\"><pre>DecisionTreeClassifier(criterion=&#x27;entropy&#x27;, max_depth=2)</pre><b>In a Jupyter environment, please rerun this cell to show the HTML representation or trust the notebook. <br />On GitHub, the HTML representation is unable to render, please try loading this page with nbviewer.org.</b></div><div class=\"sk-container\" hidden><div class=\"sk-item\"><div class=\"sk-estimator sk-toggleable\"><input class=\"sk-toggleable__control sk-hidden--visually\" id=\"sk-estimator-id-40\" type=\"checkbox\" checked><label for=\"sk-estimator-id-40\" class=\"sk-toggleable__label sk-toggleable__label-arrow\">DecisionTreeClassifier</label><div class=\"sk-toggleable__content\"><pre>DecisionTreeClassifier(criterion=&#x27;entropy&#x27;, max_depth=2)</pre></div></div></div></div></div>"
            ]
          },
          "metadata": {},
          "execution_count": 207
        }
      ],
      "source": [
        "clf = tree.DecisionTreeClassifier(criterion=\"entropy\", max_depth = 2)\n",
        "clf.fit(feature_train,label_train)"
      ]
    },
    {
      "cell_type": "code",
      "execution_count": null,
      "metadata": {
        "execution": {
          "iopub.execute_input": "2023-12-06T16:30:35.246242Z",
          "iopub.status.busy": "2023-12-06T16:30:35.245831Z",
          "iopub.status.idle": "2023-12-06T16:30:35.266027Z",
          "shell.execute_reply": "2023-12-06T16:30:35.264425Z",
          "shell.execute_reply.started": "2023-12-06T16:30:35.246212Z"
        },
        "trusted": true,
        "colab": {
          "base_uri": "https://localhost:8080/"
        },
        "id": "Bt1QGkIQVz4l",
        "outputId": "22a154da-ff4b-4d85-eb3c-d89a12ce3076"
      },
      "outputs": [
        {
          "output_type": "execute_result",
          "data": {
            "text/plain": [
              "0.9166666666666666"
            ]
          },
          "metadata": {},
          "execution_count": 208
        }
      ],
      "source": [
        "y_predict = clf.predict(feature_test)\n",
        "a = accuracy_score(label_test,y_predict)\n",
        "a"
      ]
    },
    {
      "cell_type": "code",
      "source": [
        "accuracy.append(a)"
      ],
      "metadata": {
        "id": "MhIwUqwTNG1L"
      },
      "execution_count": null,
      "outputs": []
    },
    {
      "cell_type": "code",
      "execution_count": null,
      "metadata": {
        "execution": {
          "iopub.execute_input": "2023-12-06T16:30:37.343833Z",
          "iopub.status.busy": "2023-12-06T16:30:37.343355Z",
          "iopub.status.idle": "2023-12-06T16:30:37.383605Z",
          "shell.execute_reply": "2023-12-06T16:30:37.382171Z",
          "shell.execute_reply.started": "2023-12-06T16:30:37.343799Z"
        },
        "trusted": true,
        "colab": {
          "base_uri": "https://localhost:8080/",
          "height": 440
        },
        "id": "wpEXs8OhVz4l",
        "outputId": "e09492e2-93ec-4103-a154-481631feb6dd"
      },
      "outputs": [
        {
          "output_type": "execute_result",
          "data": {
            "image/svg+xml": "<?xml version=\"1.0\" encoding=\"UTF-8\" standalone=\"no\"?>\n<!DOCTYPE svg PUBLIC \"-//W3C//DTD SVG 1.1//EN\"\n \"http://www.w3.org/Graphics/SVG/1.1/DTD/svg11.dtd\">\n<!-- Generated by graphviz version 2.43.0 (0)\n -->\n<!-- Title: Tree Pages: 1 -->\n<svg width=\"538pt\" height=\"314pt\"\n viewBox=\"0.00 0.00 537.50 314.00\" xmlns=\"http://www.w3.org/2000/svg\" xmlns:xlink=\"http://www.w3.org/1999/xlink\">\n<g id=\"graph0\" class=\"graph\" transform=\"scale(1 1) rotate(0) translate(4 310)\">\n<title>Tree</title>\n<polygon fill=\"white\" stroke=\"transparent\" points=\"-4,4 -4,-310 533.5,-310 533.5,4 -4,4\"/>\n<!-- 0 -->\n<g id=\"node1\" class=\"node\">\n<title>0</title>\n<path fill=\"#eafcf2\" stroke=\"black\" d=\"M319,-306C319,-306 203,-306 203,-306 197,-306 191,-300 191,-294 191,-294 191,-235 191,-235 191,-229 197,-223 203,-223 203,-223 319,-223 319,-223 325,-223 331,-229 331,-235 331,-235 331,-294 331,-294 331,-300 325,-306 319,-306\"/>\n<text text-anchor=\"middle\" x=\"261\" y=\"-290.8\" font-family=\"Helvetica,sans-Serif\" font-size=\"14.00\">Flavanoids &lt;= 1.425</text>\n<text text-anchor=\"middle\" x=\"261\" y=\"-275.8\" font-family=\"Helvetica,sans-Serif\" font-size=\"14.00\">entropy = 1.566</text>\n<text text-anchor=\"middle\" x=\"261\" y=\"-260.8\" font-family=\"Helvetica,sans-Serif\" font-size=\"14.00\">samples = 142</text>\n<text text-anchor=\"middle\" x=\"261\" y=\"-245.8\" font-family=\"Helvetica,sans-Serif\" font-size=\"14.00\">value = [47, 57, 38]</text>\n<text text-anchor=\"middle\" x=\"261\" y=\"-230.8\" font-family=\"Helvetica,sans-Serif\" font-size=\"14.00\">class = 2</text>\n</g>\n<!-- 1 -->\n<g id=\"node2\" class=\"node\">\n<title>1</title>\n<path fill=\"#9f68eb\" stroke=\"black\" d=\"M250,-187C250,-187 110,-187 110,-187 104,-187 98,-181 98,-175 98,-175 98,-116 98,-116 98,-110 104,-104 110,-104 110,-104 250,-104 250,-104 256,-104 262,-110 262,-116 262,-116 262,-175 262,-175 262,-181 256,-187 250,-187\"/>\n<text text-anchor=\"middle\" x=\"180\" y=\"-171.8\" font-family=\"Helvetica,sans-Serif\" font-size=\"14.00\">Color_intensity &lt;= 3.725</text>\n<text text-anchor=\"middle\" x=\"180\" y=\"-156.8\" font-family=\"Helvetica,sans-Serif\" font-size=\"14.00\">entropy = 0.705</text>\n<text text-anchor=\"middle\" x=\"180\" y=\"-141.8\" font-family=\"Helvetica,sans-Serif\" font-size=\"14.00\">samples = 47</text>\n<text text-anchor=\"middle\" x=\"180\" y=\"-126.8\" font-family=\"Helvetica,sans-Serif\" font-size=\"14.00\">value = [0, 9, 38]</text>\n<text text-anchor=\"middle\" x=\"180\" y=\"-111.8\" font-family=\"Helvetica,sans-Serif\" font-size=\"14.00\">class = 3</text>\n</g>\n<!-- 0&#45;&gt;1 -->\n<g id=\"edge1\" class=\"edge\">\n<title>0&#45;&gt;1</title>\n<path fill=\"none\" stroke=\"black\" d=\"M232.9,-222.91C226.74,-214.01 220.16,-204.51 213.81,-195.33\"/>\n<polygon fill=\"black\" stroke=\"black\" points=\"216.62,-193.25 208.05,-187.02 210.87,-197.24 216.62,-193.25\"/>\n<text text-anchor=\"middle\" x=\"203.58\" y=\"-207.92\" font-family=\"Helvetica,sans-Serif\" font-size=\"14.00\">True</text>\n</g>\n<!-- 4 -->\n<g id=\"node5\" class=\"node\">\n<title>4</title>\n<path fill=\"#fbfefc\" stroke=\"black\" d=\"M393.5,-187C393.5,-187 292.5,-187 292.5,-187 286.5,-187 280.5,-181 280.5,-175 280.5,-175 280.5,-116 280.5,-116 280.5,-110 286.5,-104 292.5,-104 292.5,-104 393.5,-104 393.5,-104 399.5,-104 405.5,-110 405.5,-116 405.5,-116 405.5,-175 405.5,-175 405.5,-181 399.5,-187 393.5,-187\"/>\n<text text-anchor=\"middle\" x=\"343\" y=\"-171.8\" font-family=\"Helvetica,sans-Serif\" font-size=\"14.00\">Proline &lt;= 724.5</text>\n<text text-anchor=\"middle\" x=\"343\" y=\"-156.8\" font-family=\"Helvetica,sans-Serif\" font-size=\"14.00\">entropy = 1.0</text>\n<text text-anchor=\"middle\" x=\"343\" y=\"-141.8\" font-family=\"Helvetica,sans-Serif\" font-size=\"14.00\">samples = 95</text>\n<text text-anchor=\"middle\" x=\"343\" y=\"-126.8\" font-family=\"Helvetica,sans-Serif\" font-size=\"14.00\">value = [47, 48, 0]</text>\n<text text-anchor=\"middle\" x=\"343\" y=\"-111.8\" font-family=\"Helvetica,sans-Serif\" font-size=\"14.00\">class = 2</text>\n</g>\n<!-- 0&#45;&gt;4 -->\n<g id=\"edge4\" class=\"edge\">\n<title>0&#45;&gt;4</title>\n<path fill=\"none\" stroke=\"black\" d=\"M289.45,-222.91C295.68,-214.01 302.34,-204.51 308.78,-195.33\"/>\n<polygon fill=\"black\" stroke=\"black\" points=\"311.73,-197.22 314.6,-187.02 306,-193.2 311.73,-197.22\"/>\n<text text-anchor=\"middle\" x=\"318.93\" y=\"-207.94\" font-family=\"Helvetica,sans-Serif\" font-size=\"14.00\">False</text>\n</g>\n<!-- 2 -->\n<g id=\"node3\" class=\"node\">\n<title>2</title>\n<path fill=\"#39e581\" stroke=\"black\" d=\"M98,-68C98,-68 12,-68 12,-68 6,-68 0,-62 0,-56 0,-56 0,-12 0,-12 0,-6 6,0 12,0 12,0 98,0 98,0 104,0 110,-6 110,-12 110,-12 110,-56 110,-56 110,-62 104,-68 98,-68\"/>\n<text text-anchor=\"middle\" x=\"55\" y=\"-52.8\" font-family=\"Helvetica,sans-Serif\" font-size=\"14.00\">entropy = 0.0</text>\n<text text-anchor=\"middle\" x=\"55\" y=\"-37.8\" font-family=\"Helvetica,sans-Serif\" font-size=\"14.00\">samples = 9</text>\n<text text-anchor=\"middle\" x=\"55\" y=\"-22.8\" font-family=\"Helvetica,sans-Serif\" font-size=\"14.00\">value = [0, 9, 0]</text>\n<text text-anchor=\"middle\" x=\"55\" y=\"-7.8\" font-family=\"Helvetica,sans-Serif\" font-size=\"14.00\">class = 2</text>\n</g>\n<!-- 1&#45;&gt;2 -->\n<g id=\"edge2\" class=\"edge\">\n<title>1&#45;&gt;2</title>\n<path fill=\"none\" stroke=\"black\" d=\"M133.45,-103.73C122.73,-94.33 111.33,-84.35 100.65,-74.99\"/>\n<polygon fill=\"black\" stroke=\"black\" points=\"102.84,-72.26 93.01,-68.3 98.23,-77.52 102.84,-72.26\"/>\n</g>\n<!-- 3 -->\n<g id=\"node4\" class=\"node\">\n<title>3</title>\n<path fill=\"#8139e5\" stroke=\"black\" d=\"M233.5,-68C233.5,-68 140.5,-68 140.5,-68 134.5,-68 128.5,-62 128.5,-56 128.5,-56 128.5,-12 128.5,-12 128.5,-6 134.5,0 140.5,0 140.5,0 233.5,0 233.5,0 239.5,0 245.5,-6 245.5,-12 245.5,-12 245.5,-56 245.5,-56 245.5,-62 239.5,-68 233.5,-68\"/>\n<text text-anchor=\"middle\" x=\"187\" y=\"-52.8\" font-family=\"Helvetica,sans-Serif\" font-size=\"14.00\">entropy = 0.0</text>\n<text text-anchor=\"middle\" x=\"187\" y=\"-37.8\" font-family=\"Helvetica,sans-Serif\" font-size=\"14.00\">samples = 38</text>\n<text text-anchor=\"middle\" x=\"187\" y=\"-22.8\" font-family=\"Helvetica,sans-Serif\" font-size=\"14.00\">value = [0, 0, 38]</text>\n<text text-anchor=\"middle\" x=\"187\" y=\"-7.8\" font-family=\"Helvetica,sans-Serif\" font-size=\"14.00\">class = 3</text>\n</g>\n<!-- 1&#45;&gt;3 -->\n<g id=\"edge3\" class=\"edge\">\n<title>1&#45;&gt;3</title>\n<path fill=\"none\" stroke=\"black\" d=\"M182.61,-103.73C183.14,-95.43 183.7,-86.67 184.23,-78.28\"/>\n<polygon fill=\"black\" stroke=\"black\" points=\"187.73,-78.5 184.87,-68.3 180.74,-78.06 187.73,-78.5\"/>\n</g>\n<!-- 5 -->\n<g id=\"node6\" class=\"node\">\n<title>5</title>\n<path fill=\"#3de684\" stroke=\"black\" d=\"M382.5,-68C382.5,-68 289.5,-68 289.5,-68 283.5,-68 277.5,-62 277.5,-56 277.5,-56 277.5,-12 277.5,-12 277.5,-6 283.5,0 289.5,0 289.5,0 382.5,0 382.5,0 388.5,0 394.5,-6 394.5,-12 394.5,-12 394.5,-56 394.5,-56 394.5,-62 388.5,-68 382.5,-68\"/>\n<text text-anchor=\"middle\" x=\"336\" y=\"-52.8\" font-family=\"Helvetica,sans-Serif\" font-size=\"14.00\">entropy = 0.151</text>\n<text text-anchor=\"middle\" x=\"336\" y=\"-37.8\" font-family=\"Helvetica,sans-Serif\" font-size=\"14.00\">samples = 46</text>\n<text text-anchor=\"middle\" x=\"336\" y=\"-22.8\" font-family=\"Helvetica,sans-Serif\" font-size=\"14.00\">value = [1, 45, 0]</text>\n<text text-anchor=\"middle\" x=\"336\" y=\"-7.8\" font-family=\"Helvetica,sans-Serif\" font-size=\"14.00\">class = 2</text>\n</g>\n<!-- 4&#45;&gt;5 -->\n<g id=\"edge5\" class=\"edge\">\n<title>4&#45;&gt;5</title>\n<path fill=\"none\" stroke=\"black\" d=\"M340.39,-103.73C339.86,-95.43 339.3,-86.67 338.77,-78.28\"/>\n<polygon fill=\"black\" stroke=\"black\" points=\"342.26,-78.06 338.13,-68.3 335.27,-78.5 342.26,-78.06\"/>\n</g>\n<!-- 6 -->\n<g id=\"node7\" class=\"node\">\n<title>6</title>\n<path fill=\"#e78946\" stroke=\"black\" d=\"M517.5,-68C517.5,-68 424.5,-68 424.5,-68 418.5,-68 412.5,-62 412.5,-56 412.5,-56 412.5,-12 412.5,-12 412.5,-6 418.5,0 424.5,0 424.5,0 517.5,0 517.5,0 523.5,0 529.5,-6 529.5,-12 529.5,-12 529.5,-56 529.5,-56 529.5,-62 523.5,-68 517.5,-68\"/>\n<text text-anchor=\"middle\" x=\"471\" y=\"-52.8\" font-family=\"Helvetica,sans-Serif\" font-size=\"14.00\">entropy = 0.332</text>\n<text text-anchor=\"middle\" x=\"471\" y=\"-37.8\" font-family=\"Helvetica,sans-Serif\" font-size=\"14.00\">samples = 49</text>\n<text text-anchor=\"middle\" x=\"471\" y=\"-22.8\" font-family=\"Helvetica,sans-Serif\" font-size=\"14.00\">value = [46, 3, 0]</text>\n<text text-anchor=\"middle\" x=\"471\" y=\"-7.8\" font-family=\"Helvetica,sans-Serif\" font-size=\"14.00\">class = 1</text>\n</g>\n<!-- 4&#45;&gt;6 -->\n<g id=\"edge6\" class=\"edge\">\n<title>4&#45;&gt;6</title>\n<path fill=\"none\" stroke=\"black\" d=\"M390.66,-103.73C401.64,-94.33 413.31,-84.35 424.26,-74.99\"/>\n<polygon fill=\"black\" stroke=\"black\" points=\"426.75,-77.46 432.07,-68.3 422.2,-72.14 426.75,-77.46\"/>\n</g>\n</g>\n</svg>\n",
            "text/plain": [
              "<graphviz.sources.Source at 0x7e5218fe72b0>"
            ]
          },
          "metadata": {},
          "execution_count": 210
        }
      ],
      "source": [
        "graph_data = tree.export_graphviz(clf,\n",
        "                            filled=True,\n",
        "                            rounded=True,\n",
        "                            feature_names=X.columns,\n",
        "                            class_names=clf.classes_.astype(str)\n",
        "                            )\n",
        "\n",
        "graph = graphviz.Source(graph_data)\n",
        "graph.render(filename=f'descision_tree_2',format='png',directory = f\"{filepathdepth}\")\n",
        "graph"
      ]
    },
    {
      "cell_type": "markdown",
      "metadata": {
        "id": "Uj9MK-DqVz4m"
      },
      "source": [
        "## max_depth = 3"
      ]
    },
    {
      "cell_type": "code",
      "execution_count": null,
      "metadata": {
        "execution": {
          "iopub.execute_input": "2023-12-06T16:31:58.164951Z",
          "iopub.status.busy": "2023-12-06T16:31:58.164131Z",
          "iopub.status.idle": "2023-12-06T16:31:58.184732Z",
          "shell.execute_reply": "2023-12-06T16:31:58.182984Z",
          "shell.execute_reply.started": "2023-12-06T16:31:58.164756Z"
        },
        "trusted": true,
        "colab": {
          "base_uri": "https://localhost:8080/",
          "height": 75
        },
        "id": "iiQ4d7JZVz4m",
        "outputId": "f925f21e-8b3a-426b-e39f-a5e011989125"
      },
      "outputs": [
        {
          "output_type": "execute_result",
          "data": {
            "text/plain": [
              "DecisionTreeClassifier(criterion='entropy', max_depth=3)"
            ],
            "text/html": [
              "<style>#sk-container-id-41 {color: black;background-color: white;}#sk-container-id-41 pre{padding: 0;}#sk-container-id-41 div.sk-toggleable {background-color: white;}#sk-container-id-41 label.sk-toggleable__label {cursor: pointer;display: block;width: 100%;margin-bottom: 0;padding: 0.3em;box-sizing: border-box;text-align: center;}#sk-container-id-41 label.sk-toggleable__label-arrow:before {content: \"▸\";float: left;margin-right: 0.25em;color: #696969;}#sk-container-id-41 label.sk-toggleable__label-arrow:hover:before {color: black;}#sk-container-id-41 div.sk-estimator:hover label.sk-toggleable__label-arrow:before {color: black;}#sk-container-id-41 div.sk-toggleable__content {max-height: 0;max-width: 0;overflow: hidden;text-align: left;background-color: #f0f8ff;}#sk-container-id-41 div.sk-toggleable__content pre {margin: 0.2em;color: black;border-radius: 0.25em;background-color: #f0f8ff;}#sk-container-id-41 input.sk-toggleable__control:checked~div.sk-toggleable__content {max-height: 200px;max-width: 100%;overflow: auto;}#sk-container-id-41 input.sk-toggleable__control:checked~label.sk-toggleable__label-arrow:before {content: \"▾\";}#sk-container-id-41 div.sk-estimator input.sk-toggleable__control:checked~label.sk-toggleable__label {background-color: #d4ebff;}#sk-container-id-41 div.sk-label input.sk-toggleable__control:checked~label.sk-toggleable__label {background-color: #d4ebff;}#sk-container-id-41 input.sk-hidden--visually {border: 0;clip: rect(1px 1px 1px 1px);clip: rect(1px, 1px, 1px, 1px);height: 1px;margin: -1px;overflow: hidden;padding: 0;position: absolute;width: 1px;}#sk-container-id-41 div.sk-estimator {font-family: monospace;background-color: #f0f8ff;border: 1px dotted black;border-radius: 0.25em;box-sizing: border-box;margin-bottom: 0.5em;}#sk-container-id-41 div.sk-estimator:hover {background-color: #d4ebff;}#sk-container-id-41 div.sk-parallel-item::after {content: \"\";width: 100%;border-bottom: 1px solid gray;flex-grow: 1;}#sk-container-id-41 div.sk-label:hover label.sk-toggleable__label {background-color: #d4ebff;}#sk-container-id-41 div.sk-serial::before {content: \"\";position: absolute;border-left: 1px solid gray;box-sizing: border-box;top: 0;bottom: 0;left: 50%;z-index: 0;}#sk-container-id-41 div.sk-serial {display: flex;flex-direction: column;align-items: center;background-color: white;padding-right: 0.2em;padding-left: 0.2em;position: relative;}#sk-container-id-41 div.sk-item {position: relative;z-index: 1;}#sk-container-id-41 div.sk-parallel {display: flex;align-items: stretch;justify-content: center;background-color: white;position: relative;}#sk-container-id-41 div.sk-item::before, #sk-container-id-41 div.sk-parallel-item::before {content: \"\";position: absolute;border-left: 1px solid gray;box-sizing: border-box;top: 0;bottom: 0;left: 50%;z-index: -1;}#sk-container-id-41 div.sk-parallel-item {display: flex;flex-direction: column;z-index: 1;position: relative;background-color: white;}#sk-container-id-41 div.sk-parallel-item:first-child::after {align-self: flex-end;width: 50%;}#sk-container-id-41 div.sk-parallel-item:last-child::after {align-self: flex-start;width: 50%;}#sk-container-id-41 div.sk-parallel-item:only-child::after {width: 0;}#sk-container-id-41 div.sk-dashed-wrapped {border: 1px dashed gray;margin: 0 0.4em 0.5em 0.4em;box-sizing: border-box;padding-bottom: 0.4em;background-color: white;}#sk-container-id-41 div.sk-label label {font-family: monospace;font-weight: bold;display: inline-block;line-height: 1.2em;}#sk-container-id-41 div.sk-label-container {text-align: center;}#sk-container-id-41 div.sk-container {/* jupyter's `normalize.less` sets `[hidden] { display: none; }` but bootstrap.min.css set `[hidden] { display: none !important; }` so we also need the `!important` here to be able to override the default hidden behavior on the sphinx rendered scikit-learn.org. See: https://github.com/scikit-learn/scikit-learn/issues/21755 */display: inline-block !important;position: relative;}#sk-container-id-41 div.sk-text-repr-fallback {display: none;}</style><div id=\"sk-container-id-41\" class=\"sk-top-container\"><div class=\"sk-text-repr-fallback\"><pre>DecisionTreeClassifier(criterion=&#x27;entropy&#x27;, max_depth=3)</pre><b>In a Jupyter environment, please rerun this cell to show the HTML representation or trust the notebook. <br />On GitHub, the HTML representation is unable to render, please try loading this page with nbviewer.org.</b></div><div class=\"sk-container\" hidden><div class=\"sk-item\"><div class=\"sk-estimator sk-toggleable\"><input class=\"sk-toggleable__control sk-hidden--visually\" id=\"sk-estimator-id-41\" type=\"checkbox\" checked><label for=\"sk-estimator-id-41\" class=\"sk-toggleable__label sk-toggleable__label-arrow\">DecisionTreeClassifier</label><div class=\"sk-toggleable__content\"><pre>DecisionTreeClassifier(criterion=&#x27;entropy&#x27;, max_depth=3)</pre></div></div></div></div></div>"
            ]
          },
          "metadata": {},
          "execution_count": 211
        }
      ],
      "source": [
        "clf = tree.DecisionTreeClassifier(criterion=\"entropy\", max_depth = 3)\n",
        "clf.fit(feature_train,label_train)"
      ]
    },
    {
      "cell_type": "code",
      "execution_count": null,
      "metadata": {
        "execution": {
          "iopub.execute_input": "2023-12-06T16:32:00.111576Z",
          "iopub.status.busy": "2023-12-06T16:32:00.111056Z",
          "iopub.status.idle": "2023-12-06T16:32:00.128592Z",
          "shell.execute_reply": "2023-12-06T16:32:00.127167Z",
          "shell.execute_reply.started": "2023-12-06T16:32:00.111540Z"
        },
        "trusted": true,
        "colab": {
          "base_uri": "https://localhost:8080/"
        },
        "id": "_3o-SAgTVz4m",
        "outputId": "cfffb73a-0ada-4bd7-caaf-56163c3509b6"
      },
      "outputs": [
        {
          "output_type": "execute_result",
          "data": {
            "text/plain": [
              "0.9444444444444444"
            ]
          },
          "metadata": {},
          "execution_count": 212
        }
      ],
      "source": [
        "y_predict = clf.predict(feature_test)\n",
        "a = accuracy_score(label_test,y_predict)\n",
        "a"
      ]
    },
    {
      "cell_type": "code",
      "source": [
        "accuracy.append(a)"
      ],
      "metadata": {
        "id": "ttaCJuxMNM5B"
      },
      "execution_count": null,
      "outputs": []
    },
    {
      "cell_type": "code",
      "execution_count": null,
      "metadata": {
        "execution": {
          "iopub.execute_input": "2023-12-06T16:32:02.618153Z",
          "iopub.status.busy": "2023-12-06T16:32:02.617671Z",
          "iopub.status.idle": "2023-12-06T16:32:02.664501Z",
          "shell.execute_reply": "2023-12-06T16:32:02.662757Z",
          "shell.execute_reply.started": "2023-12-06T16:32:02.618120Z"
        },
        "trusted": true,
        "colab": {
          "base_uri": "https://localhost:8080/",
          "height": 619
        },
        "id": "RW-A3GSJVz4n",
        "outputId": "57fb2c9c-9042-4fff-ccbc-1f150f0fcd29"
      },
      "outputs": [
        {
          "output_type": "execute_result",
          "data": {
            "image/svg+xml": "<?xml version=\"1.0\" encoding=\"UTF-8\" standalone=\"no\"?>\n<!DOCTYPE svg PUBLIC \"-//W3C//DTD SVG 1.1//EN\"\n \"http://www.w3.org/Graphics/SVG/1.1/DTD/svg11.dtd\">\n<!-- Generated by graphviz version 2.43.0 (0)\n -->\n<!-- Title: Tree Pages: 1 -->\n<svg width=\"694pt\" height=\"433pt\"\n viewBox=\"0.00 0.00 693.50 433.00\" xmlns=\"http://www.w3.org/2000/svg\" xmlns:xlink=\"http://www.w3.org/1999/xlink\">\n<g id=\"graph0\" class=\"graph\" transform=\"scale(1 1) rotate(0) translate(4 429)\">\n<title>Tree</title>\n<polygon fill=\"white\" stroke=\"transparent\" points=\"-4,4 -4,-429 689.5,-429 689.5,4 -4,4\"/>\n<!-- 0 -->\n<g id=\"node1\" class=\"node\">\n<title>0</title>\n<path fill=\"#eafcf2\" stroke=\"black\" d=\"M320,-425C320,-425 204,-425 204,-425 198,-425 192,-419 192,-413 192,-413 192,-354 192,-354 192,-348 198,-342 204,-342 204,-342 320,-342 320,-342 326,-342 332,-348 332,-354 332,-354 332,-413 332,-413 332,-419 326,-425 320,-425\"/>\n<text text-anchor=\"middle\" x=\"262\" y=\"-409.8\" font-family=\"Helvetica,sans-Serif\" font-size=\"14.00\">Flavanoids &lt;= 1.425</text>\n<text text-anchor=\"middle\" x=\"262\" y=\"-394.8\" font-family=\"Helvetica,sans-Serif\" font-size=\"14.00\">entropy = 1.566</text>\n<text text-anchor=\"middle\" x=\"262\" y=\"-379.8\" font-family=\"Helvetica,sans-Serif\" font-size=\"14.00\">samples = 142</text>\n<text text-anchor=\"middle\" x=\"262\" y=\"-364.8\" font-family=\"Helvetica,sans-Serif\" font-size=\"14.00\">value = [47, 57, 38]</text>\n<text text-anchor=\"middle\" x=\"262\" y=\"-349.8\" font-family=\"Helvetica,sans-Serif\" font-size=\"14.00\">class = 2</text>\n</g>\n<!-- 1 -->\n<g id=\"node2\" class=\"node\">\n<title>1</title>\n<path fill=\"#9f68eb\" stroke=\"black\" d=\"M251,-306C251,-306 111,-306 111,-306 105,-306 99,-300 99,-294 99,-294 99,-235 99,-235 99,-229 105,-223 111,-223 111,-223 251,-223 251,-223 257,-223 263,-229 263,-235 263,-235 263,-294 263,-294 263,-300 257,-306 251,-306\"/>\n<text text-anchor=\"middle\" x=\"181\" y=\"-290.8\" font-family=\"Helvetica,sans-Serif\" font-size=\"14.00\">Color_intensity &lt;= 3.725</text>\n<text text-anchor=\"middle\" x=\"181\" y=\"-275.8\" font-family=\"Helvetica,sans-Serif\" font-size=\"14.00\">entropy = 0.705</text>\n<text text-anchor=\"middle\" x=\"181\" y=\"-260.8\" font-family=\"Helvetica,sans-Serif\" font-size=\"14.00\">samples = 47</text>\n<text text-anchor=\"middle\" x=\"181\" y=\"-245.8\" font-family=\"Helvetica,sans-Serif\" font-size=\"14.00\">value = [0, 9, 38]</text>\n<text text-anchor=\"middle\" x=\"181\" y=\"-230.8\" font-family=\"Helvetica,sans-Serif\" font-size=\"14.00\">class = 3</text>\n</g>\n<!-- 0&#45;&gt;1 -->\n<g id=\"edge1\" class=\"edge\">\n<title>0&#45;&gt;1</title>\n<path fill=\"none\" stroke=\"black\" d=\"M233.9,-341.91C227.74,-333.01 221.16,-323.51 214.81,-314.33\"/>\n<polygon fill=\"black\" stroke=\"black\" points=\"217.62,-312.25 209.05,-306.02 211.87,-316.24 217.62,-312.25\"/>\n<text text-anchor=\"middle\" x=\"204.58\" y=\"-326.92\" font-family=\"Helvetica,sans-Serif\" font-size=\"14.00\">True</text>\n</g>\n<!-- 4 -->\n<g id=\"node5\" class=\"node\">\n<title>4</title>\n<path fill=\"#fbfefc\" stroke=\"black\" d=\"M394.5,-306C394.5,-306 293.5,-306 293.5,-306 287.5,-306 281.5,-300 281.5,-294 281.5,-294 281.5,-235 281.5,-235 281.5,-229 287.5,-223 293.5,-223 293.5,-223 394.5,-223 394.5,-223 400.5,-223 406.5,-229 406.5,-235 406.5,-235 406.5,-294 406.5,-294 406.5,-300 400.5,-306 394.5,-306\"/>\n<text text-anchor=\"middle\" x=\"344\" y=\"-290.8\" font-family=\"Helvetica,sans-Serif\" font-size=\"14.00\">Proline &lt;= 724.5</text>\n<text text-anchor=\"middle\" x=\"344\" y=\"-275.8\" font-family=\"Helvetica,sans-Serif\" font-size=\"14.00\">entropy = 1.0</text>\n<text text-anchor=\"middle\" x=\"344\" y=\"-260.8\" font-family=\"Helvetica,sans-Serif\" font-size=\"14.00\">samples = 95</text>\n<text text-anchor=\"middle\" x=\"344\" y=\"-245.8\" font-family=\"Helvetica,sans-Serif\" font-size=\"14.00\">value = [47, 48, 0]</text>\n<text text-anchor=\"middle\" x=\"344\" y=\"-230.8\" font-family=\"Helvetica,sans-Serif\" font-size=\"14.00\">class = 2</text>\n</g>\n<!-- 0&#45;&gt;4 -->\n<g id=\"edge4\" class=\"edge\">\n<title>0&#45;&gt;4</title>\n<path fill=\"none\" stroke=\"black\" d=\"M290.45,-341.91C296.68,-333.01 303.34,-323.51 309.78,-314.33\"/>\n<polygon fill=\"black\" stroke=\"black\" points=\"312.73,-316.22 315.6,-306.02 307,-312.2 312.73,-316.22\"/>\n<text text-anchor=\"middle\" x=\"319.93\" y=\"-326.94\" font-family=\"Helvetica,sans-Serif\" font-size=\"14.00\">False</text>\n</g>\n<!-- 2 -->\n<g id=\"node3\" class=\"node\">\n<title>2</title>\n<path fill=\"#39e581\" stroke=\"black\" d=\"M98,-179.5C98,-179.5 12,-179.5 12,-179.5 6,-179.5 0,-173.5 0,-167.5 0,-167.5 0,-123.5 0,-123.5 0,-117.5 6,-111.5 12,-111.5 12,-111.5 98,-111.5 98,-111.5 104,-111.5 110,-117.5 110,-123.5 110,-123.5 110,-167.5 110,-167.5 110,-173.5 104,-179.5 98,-179.5\"/>\n<text text-anchor=\"middle\" x=\"55\" y=\"-164.3\" font-family=\"Helvetica,sans-Serif\" font-size=\"14.00\">entropy = 0.0</text>\n<text text-anchor=\"middle\" x=\"55\" y=\"-149.3\" font-family=\"Helvetica,sans-Serif\" font-size=\"14.00\">samples = 9</text>\n<text text-anchor=\"middle\" x=\"55\" y=\"-134.3\" font-family=\"Helvetica,sans-Serif\" font-size=\"14.00\">value = [0, 9, 0]</text>\n<text text-anchor=\"middle\" x=\"55\" y=\"-119.3\" font-family=\"Helvetica,sans-Serif\" font-size=\"14.00\">class = 2</text>\n</g>\n<!-- 1&#45;&gt;2 -->\n<g id=\"edge2\" class=\"edge\">\n<title>1&#45;&gt;2</title>\n<path fill=\"none\" stroke=\"black\" d=\"M137.28,-222.91C124.69,-211.21 110.95,-198.46 98.38,-186.78\"/>\n<polygon fill=\"black\" stroke=\"black\" points=\"100.43,-183.91 90.72,-179.67 95.66,-189.04 100.43,-183.91\"/>\n</g>\n<!-- 3 -->\n<g id=\"node4\" class=\"node\">\n<title>3</title>\n<path fill=\"#8139e5\" stroke=\"black\" d=\"M233.5,-179.5C233.5,-179.5 140.5,-179.5 140.5,-179.5 134.5,-179.5 128.5,-173.5 128.5,-167.5 128.5,-167.5 128.5,-123.5 128.5,-123.5 128.5,-117.5 134.5,-111.5 140.5,-111.5 140.5,-111.5 233.5,-111.5 233.5,-111.5 239.5,-111.5 245.5,-117.5 245.5,-123.5 245.5,-123.5 245.5,-167.5 245.5,-167.5 245.5,-173.5 239.5,-179.5 233.5,-179.5\"/>\n<text text-anchor=\"middle\" x=\"187\" y=\"-164.3\" font-family=\"Helvetica,sans-Serif\" font-size=\"14.00\">entropy = 0.0</text>\n<text text-anchor=\"middle\" x=\"187\" y=\"-149.3\" font-family=\"Helvetica,sans-Serif\" font-size=\"14.00\">samples = 38</text>\n<text text-anchor=\"middle\" x=\"187\" y=\"-134.3\" font-family=\"Helvetica,sans-Serif\" font-size=\"14.00\">value = [0, 0, 38]</text>\n<text text-anchor=\"middle\" x=\"187\" y=\"-119.3\" font-family=\"Helvetica,sans-Serif\" font-size=\"14.00\">class = 3</text>\n</g>\n<!-- 1&#45;&gt;3 -->\n<g id=\"edge3\" class=\"edge\">\n<title>1&#45;&gt;3</title>\n<path fill=\"none\" stroke=\"black\" d=\"M183.08,-222.91C183.63,-212.2 184.22,-200.62 184.78,-189.78\"/>\n<polygon fill=\"black\" stroke=\"black\" points=\"188.28,-189.83 185.3,-179.67 181.29,-189.47 188.28,-189.83\"/>\n</g>\n<!-- 5 -->\n<g id=\"node6\" class=\"node\">\n<title>5</title>\n<path fill=\"#3de684\" stroke=\"black\" d=\"M392.5,-187C392.5,-187 285.5,-187 285.5,-187 279.5,-187 273.5,-181 273.5,-175 273.5,-175 273.5,-116 273.5,-116 273.5,-110 279.5,-104 285.5,-104 285.5,-104 392.5,-104 392.5,-104 398.5,-104 404.5,-110 404.5,-116 404.5,-116 404.5,-175 404.5,-175 404.5,-181 398.5,-187 392.5,-187\"/>\n<text text-anchor=\"middle\" x=\"339\" y=\"-171.8\" font-family=\"Helvetica,sans-Serif\" font-size=\"14.00\">Malicacid &lt;= 3.925</text>\n<text text-anchor=\"middle\" x=\"339\" y=\"-156.8\" font-family=\"Helvetica,sans-Serif\" font-size=\"14.00\">entropy = 0.151</text>\n<text text-anchor=\"middle\" x=\"339\" y=\"-141.8\" font-family=\"Helvetica,sans-Serif\" font-size=\"14.00\">samples = 46</text>\n<text text-anchor=\"middle\" x=\"339\" y=\"-126.8\" font-family=\"Helvetica,sans-Serif\" font-size=\"14.00\">value = [1, 45, 0]</text>\n<text text-anchor=\"middle\" x=\"339\" y=\"-111.8\" font-family=\"Helvetica,sans-Serif\" font-size=\"14.00\">class = 2</text>\n</g>\n<!-- 4&#45;&gt;5 -->\n<g id=\"edge5\" class=\"edge\">\n<title>4&#45;&gt;5</title>\n<path fill=\"none\" stroke=\"black\" d=\"M342.27,-222.91C341.91,-214.56 341.53,-205.67 341.16,-197.02\"/>\n<polygon fill=\"black\" stroke=\"black\" points=\"344.66,-196.86 340.73,-187.02 337.66,-197.16 344.66,-196.86\"/>\n</g>\n<!-- 8 -->\n<g id=\"node9\" class=\"node\">\n<title>8</title>\n<path fill=\"#e78946\" stroke=\"black\" d=\"M575,-187C575,-187 435,-187 435,-187 429,-187 423,-181 423,-175 423,-175 423,-116 423,-116 423,-110 429,-104 435,-104 435,-104 575,-104 575,-104 581,-104 587,-110 587,-116 587,-116 587,-175 587,-175 587,-181 581,-187 575,-187\"/>\n<text text-anchor=\"middle\" x=\"505\" y=\"-171.8\" font-family=\"Helvetica,sans-Serif\" font-size=\"14.00\">Color_intensity &lt;= 3.435</text>\n<text text-anchor=\"middle\" x=\"505\" y=\"-156.8\" font-family=\"Helvetica,sans-Serif\" font-size=\"14.00\">entropy = 0.332</text>\n<text text-anchor=\"middle\" x=\"505\" y=\"-141.8\" font-family=\"Helvetica,sans-Serif\" font-size=\"14.00\">samples = 49</text>\n<text text-anchor=\"middle\" x=\"505\" y=\"-126.8\" font-family=\"Helvetica,sans-Serif\" font-size=\"14.00\">value = [46, 3, 0]</text>\n<text text-anchor=\"middle\" x=\"505\" y=\"-111.8\" font-family=\"Helvetica,sans-Serif\" font-size=\"14.00\">class = 1</text>\n</g>\n<!-- 4&#45;&gt;8 -->\n<g id=\"edge8\" class=\"edge\">\n<title>4&#45;&gt;8</title>\n<path fill=\"none\" stroke=\"black\" d=\"M399.86,-222.91C413.1,-213.29 427.32,-202.95 440.89,-193.09\"/>\n<polygon fill=\"black\" stroke=\"black\" points=\"443.21,-195.73 449.24,-187.02 439.09,-190.07 443.21,-195.73\"/>\n</g>\n<!-- 6 -->\n<g id=\"node7\" class=\"node\">\n<title>6</title>\n<path fill=\"#39e581\" stroke=\"black\" d=\"M262.5,-68C262.5,-68 169.5,-68 169.5,-68 163.5,-68 157.5,-62 157.5,-56 157.5,-56 157.5,-12 157.5,-12 157.5,-6 163.5,0 169.5,0 169.5,0 262.5,0 262.5,0 268.5,0 274.5,-6 274.5,-12 274.5,-12 274.5,-56 274.5,-56 274.5,-62 268.5,-68 262.5,-68\"/>\n<text text-anchor=\"middle\" x=\"216\" y=\"-52.8\" font-family=\"Helvetica,sans-Serif\" font-size=\"14.00\">entropy = 0.0</text>\n<text text-anchor=\"middle\" x=\"216\" y=\"-37.8\" font-family=\"Helvetica,sans-Serif\" font-size=\"14.00\">samples = 43</text>\n<text text-anchor=\"middle\" x=\"216\" y=\"-22.8\" font-family=\"Helvetica,sans-Serif\" font-size=\"14.00\">value = [0, 43, 0]</text>\n<text text-anchor=\"middle\" x=\"216\" y=\"-7.8\" font-family=\"Helvetica,sans-Serif\" font-size=\"14.00\">class = 2</text>\n</g>\n<!-- 5&#45;&gt;6 -->\n<g id=\"edge6\" class=\"edge\">\n<title>5&#45;&gt;6</title>\n<path fill=\"none\" stroke=\"black\" d=\"M293.2,-103.73C282.65,-94.33 271.43,-84.35 260.92,-74.99\"/>\n<polygon fill=\"black\" stroke=\"black\" points=\"263.2,-72.33 253.41,-68.3 258.55,-77.56 263.2,-72.33\"/>\n</g>\n<!-- 7 -->\n<g id=\"node8\" class=\"node\">\n<title>7</title>\n<path fill=\"#9cf2c0\" stroke=\"black\" d=\"M391.5,-68C391.5,-68 304.5,-68 304.5,-68 298.5,-68 292.5,-62 292.5,-56 292.5,-56 292.5,-12 292.5,-12 292.5,-6 298.5,0 304.5,0 304.5,0 391.5,0 391.5,0 397.5,0 403.5,-6 403.5,-12 403.5,-12 403.5,-56 403.5,-56 403.5,-62 397.5,-68 391.5,-68\"/>\n<text text-anchor=\"middle\" x=\"348\" y=\"-52.8\" font-family=\"Helvetica,sans-Serif\" font-size=\"14.00\">entropy = 0.918</text>\n<text text-anchor=\"middle\" x=\"348\" y=\"-37.8\" font-family=\"Helvetica,sans-Serif\" font-size=\"14.00\">samples = 3</text>\n<text text-anchor=\"middle\" x=\"348\" y=\"-22.8\" font-family=\"Helvetica,sans-Serif\" font-size=\"14.00\">value = [1, 2, 0]</text>\n<text text-anchor=\"middle\" x=\"348\" y=\"-7.8\" font-family=\"Helvetica,sans-Serif\" font-size=\"14.00\">class = 2</text>\n</g>\n<!-- 5&#45;&gt;7 -->\n<g id=\"edge7\" class=\"edge\">\n<title>5&#45;&gt;7</title>\n<path fill=\"none\" stroke=\"black\" d=\"M342.35,-103.73C343.03,-95.43 343.75,-86.67 344.44,-78.28\"/>\n<polygon fill=\"black\" stroke=\"black\" points=\"347.93,-78.55 345.26,-68.3 340.96,-77.98 347.93,-78.55\"/>\n</g>\n<!-- 9 -->\n<g id=\"node10\" class=\"node\">\n<title>9</title>\n<path fill=\"#39e581\" stroke=\"black\" d=\"M538,-68C538,-68 452,-68 452,-68 446,-68 440,-62 440,-56 440,-56 440,-12 440,-12 440,-6 446,0 452,0 452,0 538,0 538,0 544,0 550,-6 550,-12 550,-12 550,-56 550,-56 550,-62 544,-68 538,-68\"/>\n<text text-anchor=\"middle\" x=\"495\" y=\"-52.8\" font-family=\"Helvetica,sans-Serif\" font-size=\"14.00\">entropy = 0.0</text>\n<text text-anchor=\"middle\" x=\"495\" y=\"-37.8\" font-family=\"Helvetica,sans-Serif\" font-size=\"14.00\">samples = 3</text>\n<text text-anchor=\"middle\" x=\"495\" y=\"-22.8\" font-family=\"Helvetica,sans-Serif\" font-size=\"14.00\">value = [0, 3, 0]</text>\n<text text-anchor=\"middle\" x=\"495\" y=\"-7.8\" font-family=\"Helvetica,sans-Serif\" font-size=\"14.00\">class = 2</text>\n</g>\n<!-- 8&#45;&gt;9 -->\n<g id=\"edge9\" class=\"edge\">\n<title>8&#45;&gt;9</title>\n<path fill=\"none\" stroke=\"black\" d=\"M501.28,-103.73C500.52,-95.43 499.72,-86.67 498.95,-78.28\"/>\n<polygon fill=\"black\" stroke=\"black\" points=\"502.44,-77.94 498.04,-68.3 495.47,-78.58 502.44,-77.94\"/>\n</g>\n<!-- 10 -->\n<g id=\"node11\" class=\"node\">\n<title>10</title>\n<path fill=\"#e58139\" stroke=\"black\" d=\"M673.5,-68C673.5,-68 580.5,-68 580.5,-68 574.5,-68 568.5,-62 568.5,-56 568.5,-56 568.5,-12 568.5,-12 568.5,-6 574.5,0 580.5,0 580.5,0 673.5,0 673.5,0 679.5,0 685.5,-6 685.5,-12 685.5,-12 685.5,-56 685.5,-56 685.5,-62 679.5,-68 673.5,-68\"/>\n<text text-anchor=\"middle\" x=\"627\" y=\"-52.8\" font-family=\"Helvetica,sans-Serif\" font-size=\"14.00\">entropy = 0.0</text>\n<text text-anchor=\"middle\" x=\"627\" y=\"-37.8\" font-family=\"Helvetica,sans-Serif\" font-size=\"14.00\">samples = 46</text>\n<text text-anchor=\"middle\" x=\"627\" y=\"-22.8\" font-family=\"Helvetica,sans-Serif\" font-size=\"14.00\">value = [46, 0, 0]</text>\n<text text-anchor=\"middle\" x=\"627\" y=\"-7.8\" font-family=\"Helvetica,sans-Serif\" font-size=\"14.00\">class = 1</text>\n</g>\n<!-- 8&#45;&gt;10 -->\n<g id=\"edge10\" class=\"edge\">\n<title>8&#45;&gt;10</title>\n<path fill=\"none\" stroke=\"black\" d=\"M550.43,-103.73C560.9,-94.33 572.02,-84.35 582.45,-74.99\"/>\n<polygon fill=\"black\" stroke=\"black\" points=\"584.79,-77.58 589.9,-68.3 580.12,-72.37 584.79,-77.58\"/>\n</g>\n</g>\n</svg>\n",
            "text/plain": [
              "<graphviz.sources.Source at 0x7e5218fe7d90>"
            ]
          },
          "metadata": {},
          "execution_count": 214
        }
      ],
      "source": [
        "graph_data = tree.export_graphviz(clf,\n",
        "                            filled=True,\n",
        "                            rounded=True,\n",
        "                            feature_names=X.columns,\n",
        "                            class_names=clf.classes_.astype(str)\n",
        "                            )\n",
        "\n",
        "graph = graphviz.Source(graph_data)\n",
        "graph.render(filename=f'descision_tree_3',format='png',directory = f\"{filepathdepth}\")\n",
        "graph"
      ]
    },
    {
      "cell_type": "markdown",
      "metadata": {
        "id": "Bq81B0RMVz4n"
      },
      "source": [
        "## max_depth = 4"
      ]
    },
    {
      "cell_type": "code",
      "execution_count": null,
      "metadata": {
        "execution": {
          "iopub.execute_input": "2023-12-06T16:34:56.994983Z",
          "iopub.status.busy": "2023-12-06T16:34:56.994491Z",
          "iopub.status.idle": "2023-12-06T16:34:57.013158Z",
          "shell.execute_reply": "2023-12-06T16:34:57.011716Z",
          "shell.execute_reply.started": "2023-12-06T16:34:56.994949Z"
        },
        "trusted": true,
        "colab": {
          "base_uri": "https://localhost:8080/",
          "height": 75
        },
        "id": "nAMYWacHVz4n",
        "outputId": "b8fe1157-9e4a-46da-a23f-a4d056e13267"
      },
      "outputs": [
        {
          "output_type": "execute_result",
          "data": {
            "text/plain": [
              "DecisionTreeClassifier(criterion='entropy', max_depth=4)"
            ],
            "text/html": [
              "<style>#sk-container-id-44 {color: black;background-color: white;}#sk-container-id-44 pre{padding: 0;}#sk-container-id-44 div.sk-toggleable {background-color: white;}#sk-container-id-44 label.sk-toggleable__label {cursor: pointer;display: block;width: 100%;margin-bottom: 0;padding: 0.3em;box-sizing: border-box;text-align: center;}#sk-container-id-44 label.sk-toggleable__label-arrow:before {content: \"▸\";float: left;margin-right: 0.25em;color: #696969;}#sk-container-id-44 label.sk-toggleable__label-arrow:hover:before {color: black;}#sk-container-id-44 div.sk-estimator:hover label.sk-toggleable__label-arrow:before {color: black;}#sk-container-id-44 div.sk-toggleable__content {max-height: 0;max-width: 0;overflow: hidden;text-align: left;background-color: #f0f8ff;}#sk-container-id-44 div.sk-toggleable__content pre {margin: 0.2em;color: black;border-radius: 0.25em;background-color: #f0f8ff;}#sk-container-id-44 input.sk-toggleable__control:checked~div.sk-toggleable__content {max-height: 200px;max-width: 100%;overflow: auto;}#sk-container-id-44 input.sk-toggleable__control:checked~label.sk-toggleable__label-arrow:before {content: \"▾\";}#sk-container-id-44 div.sk-estimator input.sk-toggleable__control:checked~label.sk-toggleable__label {background-color: #d4ebff;}#sk-container-id-44 div.sk-label input.sk-toggleable__control:checked~label.sk-toggleable__label {background-color: #d4ebff;}#sk-container-id-44 input.sk-hidden--visually {border: 0;clip: rect(1px 1px 1px 1px);clip: rect(1px, 1px, 1px, 1px);height: 1px;margin: -1px;overflow: hidden;padding: 0;position: absolute;width: 1px;}#sk-container-id-44 div.sk-estimator {font-family: monospace;background-color: #f0f8ff;border: 1px dotted black;border-radius: 0.25em;box-sizing: border-box;margin-bottom: 0.5em;}#sk-container-id-44 div.sk-estimator:hover {background-color: #d4ebff;}#sk-container-id-44 div.sk-parallel-item::after {content: \"\";width: 100%;border-bottom: 1px solid gray;flex-grow: 1;}#sk-container-id-44 div.sk-label:hover label.sk-toggleable__label {background-color: #d4ebff;}#sk-container-id-44 div.sk-serial::before {content: \"\";position: absolute;border-left: 1px solid gray;box-sizing: border-box;top: 0;bottom: 0;left: 50%;z-index: 0;}#sk-container-id-44 div.sk-serial {display: flex;flex-direction: column;align-items: center;background-color: white;padding-right: 0.2em;padding-left: 0.2em;position: relative;}#sk-container-id-44 div.sk-item {position: relative;z-index: 1;}#sk-container-id-44 div.sk-parallel {display: flex;align-items: stretch;justify-content: center;background-color: white;position: relative;}#sk-container-id-44 div.sk-item::before, #sk-container-id-44 div.sk-parallel-item::before {content: \"\";position: absolute;border-left: 1px solid gray;box-sizing: border-box;top: 0;bottom: 0;left: 50%;z-index: -1;}#sk-container-id-44 div.sk-parallel-item {display: flex;flex-direction: column;z-index: 1;position: relative;background-color: white;}#sk-container-id-44 div.sk-parallel-item:first-child::after {align-self: flex-end;width: 50%;}#sk-container-id-44 div.sk-parallel-item:last-child::after {align-self: flex-start;width: 50%;}#sk-container-id-44 div.sk-parallel-item:only-child::after {width: 0;}#sk-container-id-44 div.sk-dashed-wrapped {border: 1px dashed gray;margin: 0 0.4em 0.5em 0.4em;box-sizing: border-box;padding-bottom: 0.4em;background-color: white;}#sk-container-id-44 div.sk-label label {font-family: monospace;font-weight: bold;display: inline-block;line-height: 1.2em;}#sk-container-id-44 div.sk-label-container {text-align: center;}#sk-container-id-44 div.sk-container {/* jupyter's `normalize.less` sets `[hidden] { display: none; }` but bootstrap.min.css set `[hidden] { display: none !important; }` so we also need the `!important` here to be able to override the default hidden behavior on the sphinx rendered scikit-learn.org. See: https://github.com/scikit-learn/scikit-learn/issues/21755 */display: inline-block !important;position: relative;}#sk-container-id-44 div.sk-text-repr-fallback {display: none;}</style><div id=\"sk-container-id-44\" class=\"sk-top-container\"><div class=\"sk-text-repr-fallback\"><pre>DecisionTreeClassifier(criterion=&#x27;entropy&#x27;, max_depth=4)</pre><b>In a Jupyter environment, please rerun this cell to show the HTML representation or trust the notebook. <br />On GitHub, the HTML representation is unable to render, please try loading this page with nbviewer.org.</b></div><div class=\"sk-container\" hidden><div class=\"sk-item\"><div class=\"sk-estimator sk-toggleable\"><input class=\"sk-toggleable__control sk-hidden--visually\" id=\"sk-estimator-id-44\" type=\"checkbox\" checked><label for=\"sk-estimator-id-44\" class=\"sk-toggleable__label sk-toggleable__label-arrow\">DecisionTreeClassifier</label><div class=\"sk-toggleable__content\"><pre>DecisionTreeClassifier(criterion=&#x27;entropy&#x27;, max_depth=4)</pre></div></div></div></div></div>"
            ]
          },
          "metadata": {},
          "execution_count": 219
        }
      ],
      "source": [
        "clf = tree.DecisionTreeClassifier(criterion=\"entropy\", max_depth = 4)\n",
        "clf.fit(feature_train,label_train)"
      ]
    },
    {
      "cell_type": "code",
      "execution_count": null,
      "metadata": {
        "execution": {
          "iopub.execute_input": "2023-12-06T16:35:20.179735Z",
          "iopub.status.busy": "2023-12-06T16:35:20.179270Z",
          "iopub.status.idle": "2023-12-06T16:35:20.196450Z",
          "shell.execute_reply": "2023-12-06T16:35:20.194860Z",
          "shell.execute_reply.started": "2023-12-06T16:35:20.179702Z"
        },
        "trusted": true,
        "colab": {
          "base_uri": "https://localhost:8080/"
        },
        "id": "-k2Xb0eSVz4o",
        "outputId": "24a1aae8-3a4d-413b-abed-550fc04f2604"
      },
      "outputs": [
        {
          "output_type": "execute_result",
          "data": {
            "text/plain": [
              "0.8888888888888888"
            ]
          },
          "metadata": {},
          "execution_count": 220
        }
      ],
      "source": [
        "y_predict = clf.predict(feature_test)\n",
        "a = accuracy_score(label_test,y_predict)\n",
        "a"
      ]
    },
    {
      "cell_type": "code",
      "source": [
        "accuracy.append(a)"
      ],
      "metadata": {
        "id": "EqZt8_-MNSld"
      },
      "execution_count": null,
      "outputs": []
    },
    {
      "cell_type": "code",
      "execution_count": null,
      "metadata": {
        "execution": {
          "iopub.execute_input": "2023-12-06T16:35:22.660484Z",
          "iopub.status.busy": "2023-12-06T16:35:22.660038Z",
          "iopub.status.idle": "2023-12-06T16:35:22.705214Z",
          "shell.execute_reply": "2023-12-06T16:35:22.703710Z",
          "shell.execute_reply.started": "2023-12-06T16:35:22.660450Z"
        },
        "trusted": true,
        "colab": {
          "base_uri": "https://localhost:8080/",
          "height": 777
        },
        "id": "9szHWaK1Vz4o",
        "outputId": "09031f0a-81fa-4739-a4c3-70aa407d0f93"
      },
      "outputs": [
        {
          "output_type": "execute_result",
          "data": {
            "image/svg+xml": "<?xml version=\"1.0\" encoding=\"UTF-8\" standalone=\"no\"?>\n<!DOCTYPE svg PUBLIC \"-//W3C//DTD SVG 1.1//EN\"\n \"http://www.w3.org/Graphics/SVG/1.1/DTD/svg11.dtd\">\n<!-- Generated by graphviz version 2.43.0 (0)\n -->\n<!-- Title: Tree Pages: 1 -->\n<svg width=\"702pt\" height=\"552pt\"\n viewBox=\"0.00 0.00 701.50 552.00\" xmlns=\"http://www.w3.org/2000/svg\" xmlns:xlink=\"http://www.w3.org/1999/xlink\">\n<g id=\"graph0\" class=\"graph\" transform=\"scale(1 1) rotate(0) translate(4 548)\">\n<title>Tree</title>\n<polygon fill=\"white\" stroke=\"transparent\" points=\"-4,4 -4,-548 697.5,-548 697.5,4 -4,4\"/>\n<!-- 0 -->\n<g id=\"node1\" class=\"node\">\n<title>0</title>\n<path fill=\"#eafcf2\" stroke=\"black\" d=\"M320,-544C320,-544 204,-544 204,-544 198,-544 192,-538 192,-532 192,-532 192,-473 192,-473 192,-467 198,-461 204,-461 204,-461 320,-461 320,-461 326,-461 332,-467 332,-473 332,-473 332,-532 332,-532 332,-538 326,-544 320,-544\"/>\n<text text-anchor=\"middle\" x=\"262\" y=\"-528.8\" font-family=\"Helvetica,sans-Serif\" font-size=\"14.00\">Flavanoids &lt;= 1.425</text>\n<text text-anchor=\"middle\" x=\"262\" y=\"-513.8\" font-family=\"Helvetica,sans-Serif\" font-size=\"14.00\">entropy = 1.566</text>\n<text text-anchor=\"middle\" x=\"262\" y=\"-498.8\" font-family=\"Helvetica,sans-Serif\" font-size=\"14.00\">samples = 142</text>\n<text text-anchor=\"middle\" x=\"262\" y=\"-483.8\" font-family=\"Helvetica,sans-Serif\" font-size=\"14.00\">value = [47, 57, 38]</text>\n<text text-anchor=\"middle\" x=\"262\" y=\"-468.8\" font-family=\"Helvetica,sans-Serif\" font-size=\"14.00\">class = 2</text>\n</g>\n<!-- 1 -->\n<g id=\"node2\" class=\"node\">\n<title>1</title>\n<path fill=\"#9f68eb\" stroke=\"black\" d=\"M251,-425C251,-425 111,-425 111,-425 105,-425 99,-419 99,-413 99,-413 99,-354 99,-354 99,-348 105,-342 111,-342 111,-342 251,-342 251,-342 257,-342 263,-348 263,-354 263,-354 263,-413 263,-413 263,-419 257,-425 251,-425\"/>\n<text text-anchor=\"middle\" x=\"181\" y=\"-409.8\" font-family=\"Helvetica,sans-Serif\" font-size=\"14.00\">Color_intensity &lt;= 3.725</text>\n<text text-anchor=\"middle\" x=\"181\" y=\"-394.8\" font-family=\"Helvetica,sans-Serif\" font-size=\"14.00\">entropy = 0.705</text>\n<text text-anchor=\"middle\" x=\"181\" y=\"-379.8\" font-family=\"Helvetica,sans-Serif\" font-size=\"14.00\">samples = 47</text>\n<text text-anchor=\"middle\" x=\"181\" y=\"-364.8\" font-family=\"Helvetica,sans-Serif\" font-size=\"14.00\">value = [0, 9, 38]</text>\n<text text-anchor=\"middle\" x=\"181\" y=\"-349.8\" font-family=\"Helvetica,sans-Serif\" font-size=\"14.00\">class = 3</text>\n</g>\n<!-- 0&#45;&gt;1 -->\n<g id=\"edge1\" class=\"edge\">\n<title>0&#45;&gt;1</title>\n<path fill=\"none\" stroke=\"black\" d=\"M233.9,-460.91C227.74,-452.01 221.16,-442.51 214.81,-433.33\"/>\n<polygon fill=\"black\" stroke=\"black\" points=\"217.62,-431.25 209.05,-425.02 211.87,-435.24 217.62,-431.25\"/>\n<text text-anchor=\"middle\" x=\"204.58\" y=\"-445.92\" font-family=\"Helvetica,sans-Serif\" font-size=\"14.00\">True</text>\n</g>\n<!-- 4 -->\n<g id=\"node5\" class=\"node\">\n<title>4</title>\n<path fill=\"#fbfefc\" stroke=\"black\" d=\"M394.5,-425C394.5,-425 293.5,-425 293.5,-425 287.5,-425 281.5,-419 281.5,-413 281.5,-413 281.5,-354 281.5,-354 281.5,-348 287.5,-342 293.5,-342 293.5,-342 394.5,-342 394.5,-342 400.5,-342 406.5,-348 406.5,-354 406.5,-354 406.5,-413 406.5,-413 406.5,-419 400.5,-425 394.5,-425\"/>\n<text text-anchor=\"middle\" x=\"344\" y=\"-409.8\" font-family=\"Helvetica,sans-Serif\" font-size=\"14.00\">Proline &lt;= 724.5</text>\n<text text-anchor=\"middle\" x=\"344\" y=\"-394.8\" font-family=\"Helvetica,sans-Serif\" font-size=\"14.00\">entropy = 1.0</text>\n<text text-anchor=\"middle\" x=\"344\" y=\"-379.8\" font-family=\"Helvetica,sans-Serif\" font-size=\"14.00\">samples = 95</text>\n<text text-anchor=\"middle\" x=\"344\" y=\"-364.8\" font-family=\"Helvetica,sans-Serif\" font-size=\"14.00\">value = [47, 48, 0]</text>\n<text text-anchor=\"middle\" x=\"344\" y=\"-349.8\" font-family=\"Helvetica,sans-Serif\" font-size=\"14.00\">class = 2</text>\n</g>\n<!-- 0&#45;&gt;4 -->\n<g id=\"edge4\" class=\"edge\">\n<title>0&#45;&gt;4</title>\n<path fill=\"none\" stroke=\"black\" d=\"M290.45,-460.91C296.68,-452.01 303.34,-442.51 309.78,-433.33\"/>\n<polygon fill=\"black\" stroke=\"black\" points=\"312.73,-435.22 315.6,-425.02 307,-431.2 312.73,-435.22\"/>\n<text text-anchor=\"middle\" x=\"319.93\" y=\"-445.94\" font-family=\"Helvetica,sans-Serif\" font-size=\"14.00\">False</text>\n</g>\n<!-- 2 -->\n<g id=\"node3\" class=\"node\">\n<title>2</title>\n<path fill=\"#39e581\" stroke=\"black\" d=\"M98,-298.5C98,-298.5 12,-298.5 12,-298.5 6,-298.5 0,-292.5 0,-286.5 0,-286.5 0,-242.5 0,-242.5 0,-236.5 6,-230.5 12,-230.5 12,-230.5 98,-230.5 98,-230.5 104,-230.5 110,-236.5 110,-242.5 110,-242.5 110,-286.5 110,-286.5 110,-292.5 104,-298.5 98,-298.5\"/>\n<text text-anchor=\"middle\" x=\"55\" y=\"-283.3\" font-family=\"Helvetica,sans-Serif\" font-size=\"14.00\">entropy = 0.0</text>\n<text text-anchor=\"middle\" x=\"55\" y=\"-268.3\" font-family=\"Helvetica,sans-Serif\" font-size=\"14.00\">samples = 9</text>\n<text text-anchor=\"middle\" x=\"55\" y=\"-253.3\" font-family=\"Helvetica,sans-Serif\" font-size=\"14.00\">value = [0, 9, 0]</text>\n<text text-anchor=\"middle\" x=\"55\" y=\"-238.3\" font-family=\"Helvetica,sans-Serif\" font-size=\"14.00\">class = 2</text>\n</g>\n<!-- 1&#45;&gt;2 -->\n<g id=\"edge2\" class=\"edge\">\n<title>1&#45;&gt;2</title>\n<path fill=\"none\" stroke=\"black\" d=\"M137.28,-341.91C124.69,-330.21 110.95,-317.46 98.38,-305.78\"/>\n<polygon fill=\"black\" stroke=\"black\" points=\"100.43,-302.91 90.72,-298.67 95.66,-308.04 100.43,-302.91\"/>\n</g>\n<!-- 3 -->\n<g id=\"node4\" class=\"node\">\n<title>3</title>\n<path fill=\"#8139e5\" stroke=\"black\" d=\"M233.5,-298.5C233.5,-298.5 140.5,-298.5 140.5,-298.5 134.5,-298.5 128.5,-292.5 128.5,-286.5 128.5,-286.5 128.5,-242.5 128.5,-242.5 128.5,-236.5 134.5,-230.5 140.5,-230.5 140.5,-230.5 233.5,-230.5 233.5,-230.5 239.5,-230.5 245.5,-236.5 245.5,-242.5 245.5,-242.5 245.5,-286.5 245.5,-286.5 245.5,-292.5 239.5,-298.5 233.5,-298.5\"/>\n<text text-anchor=\"middle\" x=\"187\" y=\"-283.3\" font-family=\"Helvetica,sans-Serif\" font-size=\"14.00\">entropy = 0.0</text>\n<text text-anchor=\"middle\" x=\"187\" y=\"-268.3\" font-family=\"Helvetica,sans-Serif\" font-size=\"14.00\">samples = 38</text>\n<text text-anchor=\"middle\" x=\"187\" y=\"-253.3\" font-family=\"Helvetica,sans-Serif\" font-size=\"14.00\">value = [0, 0, 38]</text>\n<text text-anchor=\"middle\" x=\"187\" y=\"-238.3\" font-family=\"Helvetica,sans-Serif\" font-size=\"14.00\">class = 3</text>\n</g>\n<!-- 1&#45;&gt;3 -->\n<g id=\"edge3\" class=\"edge\">\n<title>1&#45;&gt;3</title>\n<path fill=\"none\" stroke=\"black\" d=\"M183.08,-341.91C183.63,-331.2 184.22,-319.62 184.78,-308.78\"/>\n<polygon fill=\"black\" stroke=\"black\" points=\"188.28,-308.83 185.3,-298.67 181.29,-308.47 188.28,-308.83\"/>\n</g>\n<!-- 5 -->\n<g id=\"node6\" class=\"node\">\n<title>5</title>\n<path fill=\"#3de684\" stroke=\"black\" d=\"M392.5,-306C392.5,-306 285.5,-306 285.5,-306 279.5,-306 273.5,-300 273.5,-294 273.5,-294 273.5,-235 273.5,-235 273.5,-229 279.5,-223 285.5,-223 285.5,-223 392.5,-223 392.5,-223 398.5,-223 404.5,-229 404.5,-235 404.5,-235 404.5,-294 404.5,-294 404.5,-300 398.5,-306 392.5,-306\"/>\n<text text-anchor=\"middle\" x=\"339\" y=\"-290.8\" font-family=\"Helvetica,sans-Serif\" font-size=\"14.00\">Malicacid &lt;= 3.925</text>\n<text text-anchor=\"middle\" x=\"339\" y=\"-275.8\" font-family=\"Helvetica,sans-Serif\" font-size=\"14.00\">entropy = 0.151</text>\n<text text-anchor=\"middle\" x=\"339\" y=\"-260.8\" font-family=\"Helvetica,sans-Serif\" font-size=\"14.00\">samples = 46</text>\n<text text-anchor=\"middle\" x=\"339\" y=\"-245.8\" font-family=\"Helvetica,sans-Serif\" font-size=\"14.00\">value = [1, 45, 0]</text>\n<text text-anchor=\"middle\" x=\"339\" y=\"-230.8\" font-family=\"Helvetica,sans-Serif\" font-size=\"14.00\">class = 2</text>\n</g>\n<!-- 4&#45;&gt;5 -->\n<g id=\"edge5\" class=\"edge\">\n<title>4&#45;&gt;5</title>\n<path fill=\"none\" stroke=\"black\" d=\"M342.27,-341.91C341.91,-333.56 341.53,-324.67 341.16,-316.02\"/>\n<polygon fill=\"black\" stroke=\"black\" points=\"344.66,-315.86 340.73,-306.02 337.66,-316.16 344.66,-315.86\"/>\n</g>\n<!-- 10 -->\n<g id=\"node11\" class=\"node\">\n<title>10</title>\n<path fill=\"#e78946\" stroke=\"black\" d=\"M575,-306C575,-306 435,-306 435,-306 429,-306 423,-300 423,-294 423,-294 423,-235 423,-235 423,-229 429,-223 435,-223 435,-223 575,-223 575,-223 581,-223 587,-229 587,-235 587,-235 587,-294 587,-294 587,-300 581,-306 575,-306\"/>\n<text text-anchor=\"middle\" x=\"505\" y=\"-290.8\" font-family=\"Helvetica,sans-Serif\" font-size=\"14.00\">Color_intensity &lt;= 3.435</text>\n<text text-anchor=\"middle\" x=\"505\" y=\"-275.8\" font-family=\"Helvetica,sans-Serif\" font-size=\"14.00\">entropy = 0.332</text>\n<text text-anchor=\"middle\" x=\"505\" y=\"-260.8\" font-family=\"Helvetica,sans-Serif\" font-size=\"14.00\">samples = 49</text>\n<text text-anchor=\"middle\" x=\"505\" y=\"-245.8\" font-family=\"Helvetica,sans-Serif\" font-size=\"14.00\">value = [46, 3, 0]</text>\n<text text-anchor=\"middle\" x=\"505\" y=\"-230.8\" font-family=\"Helvetica,sans-Serif\" font-size=\"14.00\">class = 1</text>\n</g>\n<!-- 4&#45;&gt;10 -->\n<g id=\"edge10\" class=\"edge\">\n<title>4&#45;&gt;10</title>\n<path fill=\"none\" stroke=\"black\" d=\"M399.86,-341.91C413.1,-332.29 427.32,-321.95 440.89,-312.09\"/>\n<polygon fill=\"black\" stroke=\"black\" points=\"443.21,-314.73 449.24,-306.02 439.09,-309.07 443.21,-314.73\"/>\n</g>\n<!-- 6 -->\n<g id=\"node7\" class=\"node\">\n<title>6</title>\n<path fill=\"#39e581\" stroke=\"black\" d=\"M222.5,-179.5C222.5,-179.5 129.5,-179.5 129.5,-179.5 123.5,-179.5 117.5,-173.5 117.5,-167.5 117.5,-167.5 117.5,-123.5 117.5,-123.5 117.5,-117.5 123.5,-111.5 129.5,-111.5 129.5,-111.5 222.5,-111.5 222.5,-111.5 228.5,-111.5 234.5,-117.5 234.5,-123.5 234.5,-123.5 234.5,-167.5 234.5,-167.5 234.5,-173.5 228.5,-179.5 222.5,-179.5\"/>\n<text text-anchor=\"middle\" x=\"176\" y=\"-164.3\" font-family=\"Helvetica,sans-Serif\" font-size=\"14.00\">entropy = 0.0</text>\n<text text-anchor=\"middle\" x=\"176\" y=\"-149.3\" font-family=\"Helvetica,sans-Serif\" font-size=\"14.00\">samples = 43</text>\n<text text-anchor=\"middle\" x=\"176\" y=\"-134.3\" font-family=\"Helvetica,sans-Serif\" font-size=\"14.00\">value = [0, 43, 0]</text>\n<text text-anchor=\"middle\" x=\"176\" y=\"-119.3\" font-family=\"Helvetica,sans-Serif\" font-size=\"14.00\">class = 2</text>\n</g>\n<!-- 5&#45;&gt;6 -->\n<g id=\"edge6\" class=\"edge\">\n<title>5&#45;&gt;6</title>\n<path fill=\"none\" stroke=\"black\" d=\"M282.45,-222.91C265.69,-210.88 247.38,-197.73 230.74,-185.79\"/>\n<polygon fill=\"black\" stroke=\"black\" points=\"232.37,-182.65 222.21,-179.67 228.29,-188.34 232.37,-182.65\"/>\n</g>\n<!-- 7 -->\n<g id=\"node8\" class=\"node\">\n<title>7</title>\n<path fill=\"#9cf2c0\" stroke=\"black\" d=\"M415.5,-187C415.5,-187 264.5,-187 264.5,-187 258.5,-187 252.5,-181 252.5,-175 252.5,-175 252.5,-116 252.5,-116 252.5,-110 258.5,-104 264.5,-104 264.5,-104 415.5,-104 415.5,-104 421.5,-104 427.5,-110 427.5,-116 427.5,-116 427.5,-175 427.5,-175 427.5,-181 421.5,-187 415.5,-187\"/>\n<text text-anchor=\"middle\" x=\"340\" y=\"-171.8\" font-family=\"Helvetica,sans-Serif\" font-size=\"14.00\">Proanthocyanins &lt;= 1.835</text>\n<text text-anchor=\"middle\" x=\"340\" y=\"-156.8\" font-family=\"Helvetica,sans-Serif\" font-size=\"14.00\">entropy = 0.918</text>\n<text text-anchor=\"middle\" x=\"340\" y=\"-141.8\" font-family=\"Helvetica,sans-Serif\" font-size=\"14.00\">samples = 3</text>\n<text text-anchor=\"middle\" x=\"340\" y=\"-126.8\" font-family=\"Helvetica,sans-Serif\" font-size=\"14.00\">value = [1, 2, 0]</text>\n<text text-anchor=\"middle\" x=\"340\" y=\"-111.8\" font-family=\"Helvetica,sans-Serif\" font-size=\"14.00\">class = 2</text>\n</g>\n<!-- 5&#45;&gt;7 -->\n<g id=\"edge7\" class=\"edge\">\n<title>5&#45;&gt;7</title>\n<path fill=\"none\" stroke=\"black\" d=\"M339.35,-222.91C339.42,-214.65 339.49,-205.86 339.57,-197.3\"/>\n<polygon fill=\"black\" stroke=\"black\" points=\"343.07,-197.05 339.65,-187.02 336.07,-196.99 343.07,-197.05\"/>\n</g>\n<!-- 8 -->\n<g id=\"node9\" class=\"node\">\n<title>8</title>\n<path fill=\"#e58139\" stroke=\"black\" d=\"M319,-68C319,-68 233,-68 233,-68 227,-68 221,-62 221,-56 221,-56 221,-12 221,-12 221,-6 227,0 233,0 233,0 319,0 319,0 325,0 331,-6 331,-12 331,-12 331,-56 331,-56 331,-62 325,-68 319,-68\"/>\n<text text-anchor=\"middle\" x=\"276\" y=\"-52.8\" font-family=\"Helvetica,sans-Serif\" font-size=\"14.00\">entropy = 0.0</text>\n<text text-anchor=\"middle\" x=\"276\" y=\"-37.8\" font-family=\"Helvetica,sans-Serif\" font-size=\"14.00\">samples = 1</text>\n<text text-anchor=\"middle\" x=\"276\" y=\"-22.8\" font-family=\"Helvetica,sans-Serif\" font-size=\"14.00\">value = [1, 0, 0]</text>\n<text text-anchor=\"middle\" x=\"276\" y=\"-7.8\" font-family=\"Helvetica,sans-Serif\" font-size=\"14.00\">class = 1</text>\n</g>\n<!-- 7&#45;&gt;8 -->\n<g id=\"edge8\" class=\"edge\">\n<title>7&#45;&gt;8</title>\n<path fill=\"none\" stroke=\"black\" d=\"M316.17,-103.73C311.1,-95.06 305.75,-85.9 300.65,-77.18\"/>\n<polygon fill=\"black\" stroke=\"black\" points=\"303.53,-75.17 295.46,-68.3 297.49,-78.7 303.53,-75.17\"/>\n</g>\n<!-- 9 -->\n<g id=\"node10\" class=\"node\">\n<title>9</title>\n<path fill=\"#39e581\" stroke=\"black\" d=\"M447,-68C447,-68 361,-68 361,-68 355,-68 349,-62 349,-56 349,-56 349,-12 349,-12 349,-6 355,0 361,0 361,0 447,0 447,0 453,0 459,-6 459,-12 459,-12 459,-56 459,-56 459,-62 453,-68 447,-68\"/>\n<text text-anchor=\"middle\" x=\"404\" y=\"-52.8\" font-family=\"Helvetica,sans-Serif\" font-size=\"14.00\">entropy = 0.0</text>\n<text text-anchor=\"middle\" x=\"404\" y=\"-37.8\" font-family=\"Helvetica,sans-Serif\" font-size=\"14.00\">samples = 2</text>\n<text text-anchor=\"middle\" x=\"404\" y=\"-22.8\" font-family=\"Helvetica,sans-Serif\" font-size=\"14.00\">value = [0, 2, 0]</text>\n<text text-anchor=\"middle\" x=\"404\" y=\"-7.8\" font-family=\"Helvetica,sans-Serif\" font-size=\"14.00\">class = 2</text>\n</g>\n<!-- 7&#45;&gt;9 -->\n<g id=\"edge9\" class=\"edge\">\n<title>7&#45;&gt;9</title>\n<path fill=\"none\" stroke=\"black\" d=\"M363.83,-103.73C368.9,-95.06 374.25,-85.9 379.35,-77.18\"/>\n<polygon fill=\"black\" stroke=\"black\" points=\"382.51,-78.7 384.54,-68.3 376.47,-75.17 382.51,-78.7\"/>\n</g>\n<!-- 11 -->\n<g id=\"node12\" class=\"node\">\n<title>11</title>\n<path fill=\"#39e581\" stroke=\"black\" d=\"M546,-179.5C546,-179.5 460,-179.5 460,-179.5 454,-179.5 448,-173.5 448,-167.5 448,-167.5 448,-123.5 448,-123.5 448,-117.5 454,-111.5 460,-111.5 460,-111.5 546,-111.5 546,-111.5 552,-111.5 558,-117.5 558,-123.5 558,-123.5 558,-167.5 558,-167.5 558,-173.5 552,-179.5 546,-179.5\"/>\n<text text-anchor=\"middle\" x=\"503\" y=\"-164.3\" font-family=\"Helvetica,sans-Serif\" font-size=\"14.00\">entropy = 0.0</text>\n<text text-anchor=\"middle\" x=\"503\" y=\"-149.3\" font-family=\"Helvetica,sans-Serif\" font-size=\"14.00\">samples = 3</text>\n<text text-anchor=\"middle\" x=\"503\" y=\"-134.3\" font-family=\"Helvetica,sans-Serif\" font-size=\"14.00\">value = [0, 3, 0]</text>\n<text text-anchor=\"middle\" x=\"503\" y=\"-119.3\" font-family=\"Helvetica,sans-Serif\" font-size=\"14.00\">class = 2</text>\n</g>\n<!-- 10&#45;&gt;11 -->\n<g id=\"edge11\" class=\"edge\">\n<title>10&#45;&gt;11</title>\n<path fill=\"none\" stroke=\"black\" d=\"M504.31,-222.91C504.12,-212.2 503.93,-200.62 503.74,-189.78\"/>\n<polygon fill=\"black\" stroke=\"black\" points=\"507.24,-189.61 503.57,-179.67 500.24,-189.73 507.24,-189.61\"/>\n</g>\n<!-- 12 -->\n<g id=\"node13\" class=\"node\">\n<title>12</title>\n<path fill=\"#e58139\" stroke=\"black\" d=\"M681.5,-179.5C681.5,-179.5 588.5,-179.5 588.5,-179.5 582.5,-179.5 576.5,-173.5 576.5,-167.5 576.5,-167.5 576.5,-123.5 576.5,-123.5 576.5,-117.5 582.5,-111.5 588.5,-111.5 588.5,-111.5 681.5,-111.5 681.5,-111.5 687.5,-111.5 693.5,-117.5 693.5,-123.5 693.5,-123.5 693.5,-167.5 693.5,-167.5 693.5,-173.5 687.5,-179.5 681.5,-179.5\"/>\n<text text-anchor=\"middle\" x=\"635\" y=\"-164.3\" font-family=\"Helvetica,sans-Serif\" font-size=\"14.00\">entropy = 0.0</text>\n<text text-anchor=\"middle\" x=\"635\" y=\"-149.3\" font-family=\"Helvetica,sans-Serif\" font-size=\"14.00\">samples = 46</text>\n<text text-anchor=\"middle\" x=\"635\" y=\"-134.3\" font-family=\"Helvetica,sans-Serif\" font-size=\"14.00\">value = [46, 0, 0]</text>\n<text text-anchor=\"middle\" x=\"635\" y=\"-119.3\" font-family=\"Helvetica,sans-Serif\" font-size=\"14.00\">class = 1</text>\n</g>\n<!-- 10&#45;&gt;12 -->\n<g id=\"edge12\" class=\"edge\">\n<title>10&#45;&gt;12</title>\n<path fill=\"none\" stroke=\"black\" d=\"M550.1,-222.91C563.22,-211.1 577.54,-198.22 590.61,-186.45\"/>\n<polygon fill=\"black\" stroke=\"black\" points=\"593.06,-188.96 598.15,-179.67 588.37,-183.76 593.06,-188.96\"/>\n</g>\n</g>\n</svg>\n",
            "text/plain": [
              "<graphviz.sources.Source at 0x7e5218fe7c70>"
            ]
          },
          "metadata": {},
          "execution_count": 222
        }
      ],
      "source": [
        "graph_data = tree.export_graphviz(clf,\n",
        "                            filled=True,\n",
        "                            rounded=True,\n",
        "                            feature_names=X.columns,\n",
        "                            class_names=clf.classes_.astype(str)\n",
        "                            )\n",
        "\n",
        "graph = graphviz.Source(graph_data)\n",
        "graph.render(filename=f'descision_tree_4',format='png',directory = f\"{filepathdepth}\")\n",
        "graph"
      ]
    },
    {
      "cell_type": "markdown",
      "metadata": {
        "id": "ljEPZmuJVz4p"
      },
      "source": [
        "## max_depth = 5"
      ]
    },
    {
      "cell_type": "code",
      "execution_count": null,
      "metadata": {
        "execution": {
          "iopub.execute_input": "2023-12-06T16:37:07.519008Z",
          "iopub.status.busy": "2023-12-06T16:37:07.518493Z",
          "iopub.status.idle": "2023-12-06T16:37:07.535694Z",
          "shell.execute_reply": "2023-12-06T16:37:07.533958Z",
          "shell.execute_reply.started": "2023-12-06T16:37:07.518974Z"
        },
        "trusted": true,
        "colab": {
          "base_uri": "https://localhost:8080/",
          "height": 75
        },
        "id": "H0R8-VU2Vz4p",
        "outputId": "1344d6f5-b406-4e0e-a4ae-466cfeb6bb76"
      },
      "outputs": [
        {
          "output_type": "execute_result",
          "data": {
            "text/plain": [
              "DecisionTreeClassifier(criterion='entropy', max_depth=5)"
            ],
            "text/html": [
              "<style>#sk-container-id-45 {color: black;background-color: white;}#sk-container-id-45 pre{padding: 0;}#sk-container-id-45 div.sk-toggleable {background-color: white;}#sk-container-id-45 label.sk-toggleable__label {cursor: pointer;display: block;width: 100%;margin-bottom: 0;padding: 0.3em;box-sizing: border-box;text-align: center;}#sk-container-id-45 label.sk-toggleable__label-arrow:before {content: \"▸\";float: left;margin-right: 0.25em;color: #696969;}#sk-container-id-45 label.sk-toggleable__label-arrow:hover:before {color: black;}#sk-container-id-45 div.sk-estimator:hover label.sk-toggleable__label-arrow:before {color: black;}#sk-container-id-45 div.sk-toggleable__content {max-height: 0;max-width: 0;overflow: hidden;text-align: left;background-color: #f0f8ff;}#sk-container-id-45 div.sk-toggleable__content pre {margin: 0.2em;color: black;border-radius: 0.25em;background-color: #f0f8ff;}#sk-container-id-45 input.sk-toggleable__control:checked~div.sk-toggleable__content {max-height: 200px;max-width: 100%;overflow: auto;}#sk-container-id-45 input.sk-toggleable__control:checked~label.sk-toggleable__label-arrow:before {content: \"▾\";}#sk-container-id-45 div.sk-estimator input.sk-toggleable__control:checked~label.sk-toggleable__label {background-color: #d4ebff;}#sk-container-id-45 div.sk-label input.sk-toggleable__control:checked~label.sk-toggleable__label {background-color: #d4ebff;}#sk-container-id-45 input.sk-hidden--visually {border: 0;clip: rect(1px 1px 1px 1px);clip: rect(1px, 1px, 1px, 1px);height: 1px;margin: -1px;overflow: hidden;padding: 0;position: absolute;width: 1px;}#sk-container-id-45 div.sk-estimator {font-family: monospace;background-color: #f0f8ff;border: 1px dotted black;border-radius: 0.25em;box-sizing: border-box;margin-bottom: 0.5em;}#sk-container-id-45 div.sk-estimator:hover {background-color: #d4ebff;}#sk-container-id-45 div.sk-parallel-item::after {content: \"\";width: 100%;border-bottom: 1px solid gray;flex-grow: 1;}#sk-container-id-45 div.sk-label:hover label.sk-toggleable__label {background-color: #d4ebff;}#sk-container-id-45 div.sk-serial::before {content: \"\";position: absolute;border-left: 1px solid gray;box-sizing: border-box;top: 0;bottom: 0;left: 50%;z-index: 0;}#sk-container-id-45 div.sk-serial {display: flex;flex-direction: column;align-items: center;background-color: white;padding-right: 0.2em;padding-left: 0.2em;position: relative;}#sk-container-id-45 div.sk-item {position: relative;z-index: 1;}#sk-container-id-45 div.sk-parallel {display: flex;align-items: stretch;justify-content: center;background-color: white;position: relative;}#sk-container-id-45 div.sk-item::before, #sk-container-id-45 div.sk-parallel-item::before {content: \"\";position: absolute;border-left: 1px solid gray;box-sizing: border-box;top: 0;bottom: 0;left: 50%;z-index: -1;}#sk-container-id-45 div.sk-parallel-item {display: flex;flex-direction: column;z-index: 1;position: relative;background-color: white;}#sk-container-id-45 div.sk-parallel-item:first-child::after {align-self: flex-end;width: 50%;}#sk-container-id-45 div.sk-parallel-item:last-child::after {align-self: flex-start;width: 50%;}#sk-container-id-45 div.sk-parallel-item:only-child::after {width: 0;}#sk-container-id-45 div.sk-dashed-wrapped {border: 1px dashed gray;margin: 0 0.4em 0.5em 0.4em;box-sizing: border-box;padding-bottom: 0.4em;background-color: white;}#sk-container-id-45 div.sk-label label {font-family: monospace;font-weight: bold;display: inline-block;line-height: 1.2em;}#sk-container-id-45 div.sk-label-container {text-align: center;}#sk-container-id-45 div.sk-container {/* jupyter's `normalize.less` sets `[hidden] { display: none; }` but bootstrap.min.css set `[hidden] { display: none !important; }` so we also need the `!important` here to be able to override the default hidden behavior on the sphinx rendered scikit-learn.org. See: https://github.com/scikit-learn/scikit-learn/issues/21755 */display: inline-block !important;position: relative;}#sk-container-id-45 div.sk-text-repr-fallback {display: none;}</style><div id=\"sk-container-id-45\" class=\"sk-top-container\"><div class=\"sk-text-repr-fallback\"><pre>DecisionTreeClassifier(criterion=&#x27;entropy&#x27;, max_depth=5)</pre><b>In a Jupyter environment, please rerun this cell to show the HTML representation or trust the notebook. <br />On GitHub, the HTML representation is unable to render, please try loading this page with nbviewer.org.</b></div><div class=\"sk-container\" hidden><div class=\"sk-item\"><div class=\"sk-estimator sk-toggleable\"><input class=\"sk-toggleable__control sk-hidden--visually\" id=\"sk-estimator-id-45\" type=\"checkbox\" checked><label for=\"sk-estimator-id-45\" class=\"sk-toggleable__label sk-toggleable__label-arrow\">DecisionTreeClassifier</label><div class=\"sk-toggleable__content\"><pre>DecisionTreeClassifier(criterion=&#x27;entropy&#x27;, max_depth=5)</pre></div></div></div></div></div>"
            ]
          },
          "metadata": {},
          "execution_count": 223
        }
      ],
      "source": [
        "clf = tree.DecisionTreeClassifier(criterion=\"entropy\", max_depth = 5)\n",
        "clf.fit(feature_train,label_train)"
      ]
    },
    {
      "cell_type": "code",
      "execution_count": null,
      "metadata": {
        "execution": {
          "iopub.execute_input": "2023-12-06T16:37:09.868756Z",
          "iopub.status.busy": "2023-12-06T16:37:09.868119Z",
          "iopub.status.idle": "2023-12-06T16:37:09.888741Z",
          "shell.execute_reply": "2023-12-06T16:37:09.887031Z",
          "shell.execute_reply.started": "2023-12-06T16:37:09.868722Z"
        },
        "trusted": true,
        "colab": {
          "base_uri": "https://localhost:8080/"
        },
        "id": "KwasNIK-Vz4q",
        "outputId": "6a557fa8-ac31-40e5-8ee7-3bbee3085f6e"
      },
      "outputs": [
        {
          "output_type": "execute_result",
          "data": {
            "text/plain": [
              "0.8888888888888888"
            ]
          },
          "metadata": {},
          "execution_count": 224
        }
      ],
      "source": [
        "y_predict = clf.predict(feature_test)\n",
        "a = accuracy_score(label_test,y_predict)\n",
        "a"
      ]
    },
    {
      "cell_type": "code",
      "source": [
        "accuracy.append(a)"
      ],
      "metadata": {
        "id": "7w0d2b8uNdDb"
      },
      "execution_count": null,
      "outputs": []
    },
    {
      "cell_type": "code",
      "execution_count": null,
      "metadata": {
        "execution": {
          "iopub.execute_input": "2023-12-06T16:37:12.331364Z",
          "iopub.status.busy": "2023-12-06T16:37:12.330946Z",
          "iopub.status.idle": "2023-12-06T16:37:12.377367Z",
          "shell.execute_reply": "2023-12-06T16:37:12.376085Z",
          "shell.execute_reply.started": "2023-12-06T16:37:12.331331Z"
        },
        "trusted": true,
        "colab": {
          "base_uri": "https://localhost:8080/",
          "height": 777
        },
        "id": "Wjdow4CgVz4r",
        "outputId": "ba66cc65-e413-424a-d071-b885b26cb105"
      },
      "outputs": [
        {
          "output_type": "execute_result",
          "data": {
            "image/svg+xml": "<?xml version=\"1.0\" encoding=\"UTF-8\" standalone=\"no\"?>\n<!DOCTYPE svg PUBLIC \"-//W3C//DTD SVG 1.1//EN\"\n \"http://www.w3.org/Graphics/SVG/1.1/DTD/svg11.dtd\">\n<!-- Generated by graphviz version 2.43.0 (0)\n -->\n<!-- Title: Tree Pages: 1 -->\n<svg width=\"702pt\" height=\"552pt\"\n viewBox=\"0.00 0.00 701.50 552.00\" xmlns=\"http://www.w3.org/2000/svg\" xmlns:xlink=\"http://www.w3.org/1999/xlink\">\n<g id=\"graph0\" class=\"graph\" transform=\"scale(1 1) rotate(0) translate(4 548)\">\n<title>Tree</title>\n<polygon fill=\"white\" stroke=\"transparent\" points=\"-4,4 -4,-548 697.5,-548 697.5,4 -4,4\"/>\n<!-- 0 -->\n<g id=\"node1\" class=\"node\">\n<title>0</title>\n<path fill=\"#eafcf2\" stroke=\"black\" d=\"M320,-544C320,-544 204,-544 204,-544 198,-544 192,-538 192,-532 192,-532 192,-473 192,-473 192,-467 198,-461 204,-461 204,-461 320,-461 320,-461 326,-461 332,-467 332,-473 332,-473 332,-532 332,-532 332,-538 326,-544 320,-544\"/>\n<text text-anchor=\"middle\" x=\"262\" y=\"-528.8\" font-family=\"Helvetica,sans-Serif\" font-size=\"14.00\">Flavanoids &lt;= 1.425</text>\n<text text-anchor=\"middle\" x=\"262\" y=\"-513.8\" font-family=\"Helvetica,sans-Serif\" font-size=\"14.00\">entropy = 1.566</text>\n<text text-anchor=\"middle\" x=\"262\" y=\"-498.8\" font-family=\"Helvetica,sans-Serif\" font-size=\"14.00\">samples = 142</text>\n<text text-anchor=\"middle\" x=\"262\" y=\"-483.8\" font-family=\"Helvetica,sans-Serif\" font-size=\"14.00\">value = [47, 57, 38]</text>\n<text text-anchor=\"middle\" x=\"262\" y=\"-468.8\" font-family=\"Helvetica,sans-Serif\" font-size=\"14.00\">class = 2</text>\n</g>\n<!-- 1 -->\n<g id=\"node2\" class=\"node\">\n<title>1</title>\n<path fill=\"#9f68eb\" stroke=\"black\" d=\"M251,-425C251,-425 111,-425 111,-425 105,-425 99,-419 99,-413 99,-413 99,-354 99,-354 99,-348 105,-342 111,-342 111,-342 251,-342 251,-342 257,-342 263,-348 263,-354 263,-354 263,-413 263,-413 263,-419 257,-425 251,-425\"/>\n<text text-anchor=\"middle\" x=\"181\" y=\"-409.8\" font-family=\"Helvetica,sans-Serif\" font-size=\"14.00\">Color_intensity &lt;= 3.725</text>\n<text text-anchor=\"middle\" x=\"181\" y=\"-394.8\" font-family=\"Helvetica,sans-Serif\" font-size=\"14.00\">entropy = 0.705</text>\n<text text-anchor=\"middle\" x=\"181\" y=\"-379.8\" font-family=\"Helvetica,sans-Serif\" font-size=\"14.00\">samples = 47</text>\n<text text-anchor=\"middle\" x=\"181\" y=\"-364.8\" font-family=\"Helvetica,sans-Serif\" font-size=\"14.00\">value = [0, 9, 38]</text>\n<text text-anchor=\"middle\" x=\"181\" y=\"-349.8\" font-family=\"Helvetica,sans-Serif\" font-size=\"14.00\">class = 3</text>\n</g>\n<!-- 0&#45;&gt;1 -->\n<g id=\"edge1\" class=\"edge\">\n<title>0&#45;&gt;1</title>\n<path fill=\"none\" stroke=\"black\" d=\"M233.9,-460.91C227.74,-452.01 221.16,-442.51 214.81,-433.33\"/>\n<polygon fill=\"black\" stroke=\"black\" points=\"217.62,-431.25 209.05,-425.02 211.87,-435.24 217.62,-431.25\"/>\n<text text-anchor=\"middle\" x=\"204.58\" y=\"-445.92\" font-family=\"Helvetica,sans-Serif\" font-size=\"14.00\">True</text>\n</g>\n<!-- 4 -->\n<g id=\"node5\" class=\"node\">\n<title>4</title>\n<path fill=\"#fbfefc\" stroke=\"black\" d=\"M394.5,-425C394.5,-425 293.5,-425 293.5,-425 287.5,-425 281.5,-419 281.5,-413 281.5,-413 281.5,-354 281.5,-354 281.5,-348 287.5,-342 293.5,-342 293.5,-342 394.5,-342 394.5,-342 400.5,-342 406.5,-348 406.5,-354 406.5,-354 406.5,-413 406.5,-413 406.5,-419 400.5,-425 394.5,-425\"/>\n<text text-anchor=\"middle\" x=\"344\" y=\"-409.8\" font-family=\"Helvetica,sans-Serif\" font-size=\"14.00\">Proline &lt;= 724.5</text>\n<text text-anchor=\"middle\" x=\"344\" y=\"-394.8\" font-family=\"Helvetica,sans-Serif\" font-size=\"14.00\">entropy = 1.0</text>\n<text text-anchor=\"middle\" x=\"344\" y=\"-379.8\" font-family=\"Helvetica,sans-Serif\" font-size=\"14.00\">samples = 95</text>\n<text text-anchor=\"middle\" x=\"344\" y=\"-364.8\" font-family=\"Helvetica,sans-Serif\" font-size=\"14.00\">value = [47, 48, 0]</text>\n<text text-anchor=\"middle\" x=\"344\" y=\"-349.8\" font-family=\"Helvetica,sans-Serif\" font-size=\"14.00\">class = 2</text>\n</g>\n<!-- 0&#45;&gt;4 -->\n<g id=\"edge4\" class=\"edge\">\n<title>0&#45;&gt;4</title>\n<path fill=\"none\" stroke=\"black\" d=\"M290.45,-460.91C296.68,-452.01 303.34,-442.51 309.78,-433.33\"/>\n<polygon fill=\"black\" stroke=\"black\" points=\"312.73,-435.22 315.6,-425.02 307,-431.2 312.73,-435.22\"/>\n<text text-anchor=\"middle\" x=\"319.93\" y=\"-445.94\" font-family=\"Helvetica,sans-Serif\" font-size=\"14.00\">False</text>\n</g>\n<!-- 2 -->\n<g id=\"node3\" class=\"node\">\n<title>2</title>\n<path fill=\"#39e581\" stroke=\"black\" d=\"M98,-298.5C98,-298.5 12,-298.5 12,-298.5 6,-298.5 0,-292.5 0,-286.5 0,-286.5 0,-242.5 0,-242.5 0,-236.5 6,-230.5 12,-230.5 12,-230.5 98,-230.5 98,-230.5 104,-230.5 110,-236.5 110,-242.5 110,-242.5 110,-286.5 110,-286.5 110,-292.5 104,-298.5 98,-298.5\"/>\n<text text-anchor=\"middle\" x=\"55\" y=\"-283.3\" font-family=\"Helvetica,sans-Serif\" font-size=\"14.00\">entropy = 0.0</text>\n<text text-anchor=\"middle\" x=\"55\" y=\"-268.3\" font-family=\"Helvetica,sans-Serif\" font-size=\"14.00\">samples = 9</text>\n<text text-anchor=\"middle\" x=\"55\" y=\"-253.3\" font-family=\"Helvetica,sans-Serif\" font-size=\"14.00\">value = [0, 9, 0]</text>\n<text text-anchor=\"middle\" x=\"55\" y=\"-238.3\" font-family=\"Helvetica,sans-Serif\" font-size=\"14.00\">class = 2</text>\n</g>\n<!-- 1&#45;&gt;2 -->\n<g id=\"edge2\" class=\"edge\">\n<title>1&#45;&gt;2</title>\n<path fill=\"none\" stroke=\"black\" d=\"M137.28,-341.91C124.69,-330.21 110.95,-317.46 98.38,-305.78\"/>\n<polygon fill=\"black\" stroke=\"black\" points=\"100.43,-302.91 90.72,-298.67 95.66,-308.04 100.43,-302.91\"/>\n</g>\n<!-- 3 -->\n<g id=\"node4\" class=\"node\">\n<title>3</title>\n<path fill=\"#8139e5\" stroke=\"black\" d=\"M233.5,-298.5C233.5,-298.5 140.5,-298.5 140.5,-298.5 134.5,-298.5 128.5,-292.5 128.5,-286.5 128.5,-286.5 128.5,-242.5 128.5,-242.5 128.5,-236.5 134.5,-230.5 140.5,-230.5 140.5,-230.5 233.5,-230.5 233.5,-230.5 239.5,-230.5 245.5,-236.5 245.5,-242.5 245.5,-242.5 245.5,-286.5 245.5,-286.5 245.5,-292.5 239.5,-298.5 233.5,-298.5\"/>\n<text text-anchor=\"middle\" x=\"187\" y=\"-283.3\" font-family=\"Helvetica,sans-Serif\" font-size=\"14.00\">entropy = 0.0</text>\n<text text-anchor=\"middle\" x=\"187\" y=\"-268.3\" font-family=\"Helvetica,sans-Serif\" font-size=\"14.00\">samples = 38</text>\n<text text-anchor=\"middle\" x=\"187\" y=\"-253.3\" font-family=\"Helvetica,sans-Serif\" font-size=\"14.00\">value = [0, 0, 38]</text>\n<text text-anchor=\"middle\" x=\"187\" y=\"-238.3\" font-family=\"Helvetica,sans-Serif\" font-size=\"14.00\">class = 3</text>\n</g>\n<!-- 1&#45;&gt;3 -->\n<g id=\"edge3\" class=\"edge\">\n<title>1&#45;&gt;3</title>\n<path fill=\"none\" stroke=\"black\" d=\"M183.08,-341.91C183.63,-331.2 184.22,-319.62 184.78,-308.78\"/>\n<polygon fill=\"black\" stroke=\"black\" points=\"188.28,-308.83 185.3,-298.67 181.29,-308.47 188.28,-308.83\"/>\n</g>\n<!-- 5 -->\n<g id=\"node6\" class=\"node\">\n<title>5</title>\n<path fill=\"#3de684\" stroke=\"black\" d=\"M392.5,-306C392.5,-306 285.5,-306 285.5,-306 279.5,-306 273.5,-300 273.5,-294 273.5,-294 273.5,-235 273.5,-235 273.5,-229 279.5,-223 285.5,-223 285.5,-223 392.5,-223 392.5,-223 398.5,-223 404.5,-229 404.5,-235 404.5,-235 404.5,-294 404.5,-294 404.5,-300 398.5,-306 392.5,-306\"/>\n<text text-anchor=\"middle\" x=\"339\" y=\"-290.8\" font-family=\"Helvetica,sans-Serif\" font-size=\"14.00\">Malicacid &lt;= 3.925</text>\n<text text-anchor=\"middle\" x=\"339\" y=\"-275.8\" font-family=\"Helvetica,sans-Serif\" font-size=\"14.00\">entropy = 0.151</text>\n<text text-anchor=\"middle\" x=\"339\" y=\"-260.8\" font-family=\"Helvetica,sans-Serif\" font-size=\"14.00\">samples = 46</text>\n<text text-anchor=\"middle\" x=\"339\" y=\"-245.8\" font-family=\"Helvetica,sans-Serif\" font-size=\"14.00\">value = [1, 45, 0]</text>\n<text text-anchor=\"middle\" x=\"339\" y=\"-230.8\" font-family=\"Helvetica,sans-Serif\" font-size=\"14.00\">class = 2</text>\n</g>\n<!-- 4&#45;&gt;5 -->\n<g id=\"edge5\" class=\"edge\">\n<title>4&#45;&gt;5</title>\n<path fill=\"none\" stroke=\"black\" d=\"M342.27,-341.91C341.91,-333.56 341.53,-324.67 341.16,-316.02\"/>\n<polygon fill=\"black\" stroke=\"black\" points=\"344.66,-315.86 340.73,-306.02 337.66,-316.16 344.66,-315.86\"/>\n</g>\n<!-- 10 -->\n<g id=\"node11\" class=\"node\">\n<title>10</title>\n<path fill=\"#e78946\" stroke=\"black\" d=\"M575,-306C575,-306 435,-306 435,-306 429,-306 423,-300 423,-294 423,-294 423,-235 423,-235 423,-229 429,-223 435,-223 435,-223 575,-223 575,-223 581,-223 587,-229 587,-235 587,-235 587,-294 587,-294 587,-300 581,-306 575,-306\"/>\n<text text-anchor=\"middle\" x=\"505\" y=\"-290.8\" font-family=\"Helvetica,sans-Serif\" font-size=\"14.00\">Color_intensity &lt;= 3.435</text>\n<text text-anchor=\"middle\" x=\"505\" y=\"-275.8\" font-family=\"Helvetica,sans-Serif\" font-size=\"14.00\">entropy = 0.332</text>\n<text text-anchor=\"middle\" x=\"505\" y=\"-260.8\" font-family=\"Helvetica,sans-Serif\" font-size=\"14.00\">samples = 49</text>\n<text text-anchor=\"middle\" x=\"505\" y=\"-245.8\" font-family=\"Helvetica,sans-Serif\" font-size=\"14.00\">value = [46, 3, 0]</text>\n<text text-anchor=\"middle\" x=\"505\" y=\"-230.8\" font-family=\"Helvetica,sans-Serif\" font-size=\"14.00\">class = 1</text>\n</g>\n<!-- 4&#45;&gt;10 -->\n<g id=\"edge10\" class=\"edge\">\n<title>4&#45;&gt;10</title>\n<path fill=\"none\" stroke=\"black\" d=\"M399.86,-341.91C413.1,-332.29 427.32,-321.95 440.89,-312.09\"/>\n<polygon fill=\"black\" stroke=\"black\" points=\"443.21,-314.73 449.24,-306.02 439.09,-309.07 443.21,-314.73\"/>\n</g>\n<!-- 6 -->\n<g id=\"node7\" class=\"node\">\n<title>6</title>\n<path fill=\"#39e581\" stroke=\"black\" d=\"M222.5,-179.5C222.5,-179.5 129.5,-179.5 129.5,-179.5 123.5,-179.5 117.5,-173.5 117.5,-167.5 117.5,-167.5 117.5,-123.5 117.5,-123.5 117.5,-117.5 123.5,-111.5 129.5,-111.5 129.5,-111.5 222.5,-111.5 222.5,-111.5 228.5,-111.5 234.5,-117.5 234.5,-123.5 234.5,-123.5 234.5,-167.5 234.5,-167.5 234.5,-173.5 228.5,-179.5 222.5,-179.5\"/>\n<text text-anchor=\"middle\" x=\"176\" y=\"-164.3\" font-family=\"Helvetica,sans-Serif\" font-size=\"14.00\">entropy = 0.0</text>\n<text text-anchor=\"middle\" x=\"176\" y=\"-149.3\" font-family=\"Helvetica,sans-Serif\" font-size=\"14.00\">samples = 43</text>\n<text text-anchor=\"middle\" x=\"176\" y=\"-134.3\" font-family=\"Helvetica,sans-Serif\" font-size=\"14.00\">value = [0, 43, 0]</text>\n<text text-anchor=\"middle\" x=\"176\" y=\"-119.3\" font-family=\"Helvetica,sans-Serif\" font-size=\"14.00\">class = 2</text>\n</g>\n<!-- 5&#45;&gt;6 -->\n<g id=\"edge6\" class=\"edge\">\n<title>5&#45;&gt;6</title>\n<path fill=\"none\" stroke=\"black\" d=\"M282.45,-222.91C265.69,-210.88 247.38,-197.73 230.74,-185.79\"/>\n<polygon fill=\"black\" stroke=\"black\" points=\"232.37,-182.65 222.21,-179.67 228.29,-188.34 232.37,-182.65\"/>\n</g>\n<!-- 7 -->\n<g id=\"node8\" class=\"node\">\n<title>7</title>\n<path fill=\"#9cf2c0\" stroke=\"black\" d=\"M415.5,-187C415.5,-187 264.5,-187 264.5,-187 258.5,-187 252.5,-181 252.5,-175 252.5,-175 252.5,-116 252.5,-116 252.5,-110 258.5,-104 264.5,-104 264.5,-104 415.5,-104 415.5,-104 421.5,-104 427.5,-110 427.5,-116 427.5,-116 427.5,-175 427.5,-175 427.5,-181 421.5,-187 415.5,-187\"/>\n<text text-anchor=\"middle\" x=\"340\" y=\"-171.8\" font-family=\"Helvetica,sans-Serif\" font-size=\"14.00\">Proanthocyanins &lt;= 1.835</text>\n<text text-anchor=\"middle\" x=\"340\" y=\"-156.8\" font-family=\"Helvetica,sans-Serif\" font-size=\"14.00\">entropy = 0.918</text>\n<text text-anchor=\"middle\" x=\"340\" y=\"-141.8\" font-family=\"Helvetica,sans-Serif\" font-size=\"14.00\">samples = 3</text>\n<text text-anchor=\"middle\" x=\"340\" y=\"-126.8\" font-family=\"Helvetica,sans-Serif\" font-size=\"14.00\">value = [1, 2, 0]</text>\n<text text-anchor=\"middle\" x=\"340\" y=\"-111.8\" font-family=\"Helvetica,sans-Serif\" font-size=\"14.00\">class = 2</text>\n</g>\n<!-- 5&#45;&gt;7 -->\n<g id=\"edge7\" class=\"edge\">\n<title>5&#45;&gt;7</title>\n<path fill=\"none\" stroke=\"black\" d=\"M339.35,-222.91C339.42,-214.65 339.49,-205.86 339.57,-197.3\"/>\n<polygon fill=\"black\" stroke=\"black\" points=\"343.07,-197.05 339.65,-187.02 336.07,-196.99 343.07,-197.05\"/>\n</g>\n<!-- 8 -->\n<g id=\"node9\" class=\"node\">\n<title>8</title>\n<path fill=\"#e58139\" stroke=\"black\" d=\"M319,-68C319,-68 233,-68 233,-68 227,-68 221,-62 221,-56 221,-56 221,-12 221,-12 221,-6 227,0 233,0 233,0 319,0 319,0 325,0 331,-6 331,-12 331,-12 331,-56 331,-56 331,-62 325,-68 319,-68\"/>\n<text text-anchor=\"middle\" x=\"276\" y=\"-52.8\" font-family=\"Helvetica,sans-Serif\" font-size=\"14.00\">entropy = 0.0</text>\n<text text-anchor=\"middle\" x=\"276\" y=\"-37.8\" font-family=\"Helvetica,sans-Serif\" font-size=\"14.00\">samples = 1</text>\n<text text-anchor=\"middle\" x=\"276\" y=\"-22.8\" font-family=\"Helvetica,sans-Serif\" font-size=\"14.00\">value = [1, 0, 0]</text>\n<text text-anchor=\"middle\" x=\"276\" y=\"-7.8\" font-family=\"Helvetica,sans-Serif\" font-size=\"14.00\">class = 1</text>\n</g>\n<!-- 7&#45;&gt;8 -->\n<g id=\"edge8\" class=\"edge\">\n<title>7&#45;&gt;8</title>\n<path fill=\"none\" stroke=\"black\" d=\"M316.17,-103.73C311.1,-95.06 305.75,-85.9 300.65,-77.18\"/>\n<polygon fill=\"black\" stroke=\"black\" points=\"303.53,-75.17 295.46,-68.3 297.49,-78.7 303.53,-75.17\"/>\n</g>\n<!-- 9 -->\n<g id=\"node10\" class=\"node\">\n<title>9</title>\n<path fill=\"#39e581\" stroke=\"black\" d=\"M447,-68C447,-68 361,-68 361,-68 355,-68 349,-62 349,-56 349,-56 349,-12 349,-12 349,-6 355,0 361,0 361,0 447,0 447,0 453,0 459,-6 459,-12 459,-12 459,-56 459,-56 459,-62 453,-68 447,-68\"/>\n<text text-anchor=\"middle\" x=\"404\" y=\"-52.8\" font-family=\"Helvetica,sans-Serif\" font-size=\"14.00\">entropy = 0.0</text>\n<text text-anchor=\"middle\" x=\"404\" y=\"-37.8\" font-family=\"Helvetica,sans-Serif\" font-size=\"14.00\">samples = 2</text>\n<text text-anchor=\"middle\" x=\"404\" y=\"-22.8\" font-family=\"Helvetica,sans-Serif\" font-size=\"14.00\">value = [0, 2, 0]</text>\n<text text-anchor=\"middle\" x=\"404\" y=\"-7.8\" font-family=\"Helvetica,sans-Serif\" font-size=\"14.00\">class = 2</text>\n</g>\n<!-- 7&#45;&gt;9 -->\n<g id=\"edge9\" class=\"edge\">\n<title>7&#45;&gt;9</title>\n<path fill=\"none\" stroke=\"black\" d=\"M363.83,-103.73C368.9,-95.06 374.25,-85.9 379.35,-77.18\"/>\n<polygon fill=\"black\" stroke=\"black\" points=\"382.51,-78.7 384.54,-68.3 376.47,-75.17 382.51,-78.7\"/>\n</g>\n<!-- 11 -->\n<g id=\"node12\" class=\"node\">\n<title>11</title>\n<path fill=\"#39e581\" stroke=\"black\" d=\"M546,-179.5C546,-179.5 460,-179.5 460,-179.5 454,-179.5 448,-173.5 448,-167.5 448,-167.5 448,-123.5 448,-123.5 448,-117.5 454,-111.5 460,-111.5 460,-111.5 546,-111.5 546,-111.5 552,-111.5 558,-117.5 558,-123.5 558,-123.5 558,-167.5 558,-167.5 558,-173.5 552,-179.5 546,-179.5\"/>\n<text text-anchor=\"middle\" x=\"503\" y=\"-164.3\" font-family=\"Helvetica,sans-Serif\" font-size=\"14.00\">entropy = 0.0</text>\n<text text-anchor=\"middle\" x=\"503\" y=\"-149.3\" font-family=\"Helvetica,sans-Serif\" font-size=\"14.00\">samples = 3</text>\n<text text-anchor=\"middle\" x=\"503\" y=\"-134.3\" font-family=\"Helvetica,sans-Serif\" font-size=\"14.00\">value = [0, 3, 0]</text>\n<text text-anchor=\"middle\" x=\"503\" y=\"-119.3\" font-family=\"Helvetica,sans-Serif\" font-size=\"14.00\">class = 2</text>\n</g>\n<!-- 10&#45;&gt;11 -->\n<g id=\"edge11\" class=\"edge\">\n<title>10&#45;&gt;11</title>\n<path fill=\"none\" stroke=\"black\" d=\"M504.31,-222.91C504.12,-212.2 503.93,-200.62 503.74,-189.78\"/>\n<polygon fill=\"black\" stroke=\"black\" points=\"507.24,-189.61 503.57,-179.67 500.24,-189.73 507.24,-189.61\"/>\n</g>\n<!-- 12 -->\n<g id=\"node13\" class=\"node\">\n<title>12</title>\n<path fill=\"#e58139\" stroke=\"black\" d=\"M681.5,-179.5C681.5,-179.5 588.5,-179.5 588.5,-179.5 582.5,-179.5 576.5,-173.5 576.5,-167.5 576.5,-167.5 576.5,-123.5 576.5,-123.5 576.5,-117.5 582.5,-111.5 588.5,-111.5 588.5,-111.5 681.5,-111.5 681.5,-111.5 687.5,-111.5 693.5,-117.5 693.5,-123.5 693.5,-123.5 693.5,-167.5 693.5,-167.5 693.5,-173.5 687.5,-179.5 681.5,-179.5\"/>\n<text text-anchor=\"middle\" x=\"635\" y=\"-164.3\" font-family=\"Helvetica,sans-Serif\" font-size=\"14.00\">entropy = 0.0</text>\n<text text-anchor=\"middle\" x=\"635\" y=\"-149.3\" font-family=\"Helvetica,sans-Serif\" font-size=\"14.00\">samples = 46</text>\n<text text-anchor=\"middle\" x=\"635\" y=\"-134.3\" font-family=\"Helvetica,sans-Serif\" font-size=\"14.00\">value = [46, 0, 0]</text>\n<text text-anchor=\"middle\" x=\"635\" y=\"-119.3\" font-family=\"Helvetica,sans-Serif\" font-size=\"14.00\">class = 1</text>\n</g>\n<!-- 10&#45;&gt;12 -->\n<g id=\"edge12\" class=\"edge\">\n<title>10&#45;&gt;12</title>\n<path fill=\"none\" stroke=\"black\" d=\"M550.1,-222.91C563.22,-211.1 577.54,-198.22 590.61,-186.45\"/>\n<polygon fill=\"black\" stroke=\"black\" points=\"593.06,-188.96 598.15,-179.67 588.37,-183.76 593.06,-188.96\"/>\n</g>\n</g>\n</svg>\n",
            "text/plain": [
              "<graphviz.sources.Source at 0x7e5218fe7a90>"
            ]
          },
          "metadata": {},
          "execution_count": 226
        }
      ],
      "source": [
        "graph_data = tree.export_graphviz(clf,\n",
        "                            filled=True,\n",
        "                            rounded=True,\n",
        "                            feature_names=X.columns,\n",
        "                            class_names=clf.classes_.astype(str)\n",
        "                            )\n",
        "\n",
        "graph = graphviz.Source(graph_data)\n",
        "graph.render(filename=f'descision_tree_5',format='png',directory = f\"{filepathdepth}\")\n",
        "graph"
      ]
    },
    {
      "cell_type": "markdown",
      "metadata": {
        "id": "_l8rf0BsVz4r"
      },
      "source": [
        "## max_depth = 6"
      ]
    },
    {
      "cell_type": "code",
      "execution_count": null,
      "metadata": {
        "execution": {
          "iopub.execute_input": "2023-12-06T16:37:18.227012Z",
          "iopub.status.busy": "2023-12-06T16:37:18.226485Z",
          "iopub.status.idle": "2023-12-06T16:37:18.243640Z",
          "shell.execute_reply": "2023-12-06T16:37:18.242428Z",
          "shell.execute_reply.started": "2023-12-06T16:37:18.226974Z"
        },
        "trusted": true,
        "colab": {
          "base_uri": "https://localhost:8080/",
          "height": 75
        },
        "id": "8otm8xQGVz4s",
        "outputId": "c2483e49-c011-406d-aac9-6d421815f41b"
      },
      "outputs": [
        {
          "output_type": "execute_result",
          "data": {
            "text/plain": [
              "DecisionTreeClassifier(criterion='entropy', max_depth=6)"
            ],
            "text/html": [
              "<style>#sk-container-id-46 {color: black;background-color: white;}#sk-container-id-46 pre{padding: 0;}#sk-container-id-46 div.sk-toggleable {background-color: white;}#sk-container-id-46 label.sk-toggleable__label {cursor: pointer;display: block;width: 100%;margin-bottom: 0;padding: 0.3em;box-sizing: border-box;text-align: center;}#sk-container-id-46 label.sk-toggleable__label-arrow:before {content: \"▸\";float: left;margin-right: 0.25em;color: #696969;}#sk-container-id-46 label.sk-toggleable__label-arrow:hover:before {color: black;}#sk-container-id-46 div.sk-estimator:hover label.sk-toggleable__label-arrow:before {color: black;}#sk-container-id-46 div.sk-toggleable__content {max-height: 0;max-width: 0;overflow: hidden;text-align: left;background-color: #f0f8ff;}#sk-container-id-46 div.sk-toggleable__content pre {margin: 0.2em;color: black;border-radius: 0.25em;background-color: #f0f8ff;}#sk-container-id-46 input.sk-toggleable__control:checked~div.sk-toggleable__content {max-height: 200px;max-width: 100%;overflow: auto;}#sk-container-id-46 input.sk-toggleable__control:checked~label.sk-toggleable__label-arrow:before {content: \"▾\";}#sk-container-id-46 div.sk-estimator input.sk-toggleable__control:checked~label.sk-toggleable__label {background-color: #d4ebff;}#sk-container-id-46 div.sk-label input.sk-toggleable__control:checked~label.sk-toggleable__label {background-color: #d4ebff;}#sk-container-id-46 input.sk-hidden--visually {border: 0;clip: rect(1px 1px 1px 1px);clip: rect(1px, 1px, 1px, 1px);height: 1px;margin: -1px;overflow: hidden;padding: 0;position: absolute;width: 1px;}#sk-container-id-46 div.sk-estimator {font-family: monospace;background-color: #f0f8ff;border: 1px dotted black;border-radius: 0.25em;box-sizing: border-box;margin-bottom: 0.5em;}#sk-container-id-46 div.sk-estimator:hover {background-color: #d4ebff;}#sk-container-id-46 div.sk-parallel-item::after {content: \"\";width: 100%;border-bottom: 1px solid gray;flex-grow: 1;}#sk-container-id-46 div.sk-label:hover label.sk-toggleable__label {background-color: #d4ebff;}#sk-container-id-46 div.sk-serial::before {content: \"\";position: absolute;border-left: 1px solid gray;box-sizing: border-box;top: 0;bottom: 0;left: 50%;z-index: 0;}#sk-container-id-46 div.sk-serial {display: flex;flex-direction: column;align-items: center;background-color: white;padding-right: 0.2em;padding-left: 0.2em;position: relative;}#sk-container-id-46 div.sk-item {position: relative;z-index: 1;}#sk-container-id-46 div.sk-parallel {display: flex;align-items: stretch;justify-content: center;background-color: white;position: relative;}#sk-container-id-46 div.sk-item::before, #sk-container-id-46 div.sk-parallel-item::before {content: \"\";position: absolute;border-left: 1px solid gray;box-sizing: border-box;top: 0;bottom: 0;left: 50%;z-index: -1;}#sk-container-id-46 div.sk-parallel-item {display: flex;flex-direction: column;z-index: 1;position: relative;background-color: white;}#sk-container-id-46 div.sk-parallel-item:first-child::after {align-self: flex-end;width: 50%;}#sk-container-id-46 div.sk-parallel-item:last-child::after {align-self: flex-start;width: 50%;}#sk-container-id-46 div.sk-parallel-item:only-child::after {width: 0;}#sk-container-id-46 div.sk-dashed-wrapped {border: 1px dashed gray;margin: 0 0.4em 0.5em 0.4em;box-sizing: border-box;padding-bottom: 0.4em;background-color: white;}#sk-container-id-46 div.sk-label label {font-family: monospace;font-weight: bold;display: inline-block;line-height: 1.2em;}#sk-container-id-46 div.sk-label-container {text-align: center;}#sk-container-id-46 div.sk-container {/* jupyter's `normalize.less` sets `[hidden] { display: none; }` but bootstrap.min.css set `[hidden] { display: none !important; }` so we also need the `!important` here to be able to override the default hidden behavior on the sphinx rendered scikit-learn.org. See: https://github.com/scikit-learn/scikit-learn/issues/21755 */display: inline-block !important;position: relative;}#sk-container-id-46 div.sk-text-repr-fallback {display: none;}</style><div id=\"sk-container-id-46\" class=\"sk-top-container\"><div class=\"sk-text-repr-fallback\"><pre>DecisionTreeClassifier(criterion=&#x27;entropy&#x27;, max_depth=6)</pre><b>In a Jupyter environment, please rerun this cell to show the HTML representation or trust the notebook. <br />On GitHub, the HTML representation is unable to render, please try loading this page with nbviewer.org.</b></div><div class=\"sk-container\" hidden><div class=\"sk-item\"><div class=\"sk-estimator sk-toggleable\"><input class=\"sk-toggleable__control sk-hidden--visually\" id=\"sk-estimator-id-46\" type=\"checkbox\" checked><label for=\"sk-estimator-id-46\" class=\"sk-toggleable__label sk-toggleable__label-arrow\">DecisionTreeClassifier</label><div class=\"sk-toggleable__content\"><pre>DecisionTreeClassifier(criterion=&#x27;entropy&#x27;, max_depth=6)</pre></div></div></div></div></div>"
            ]
          },
          "metadata": {},
          "execution_count": 228
        }
      ],
      "source": [
        "clf = tree.DecisionTreeClassifier(criterion=\"entropy\", max_depth = 6)\n",
        "clf.fit(feature_train,label_train)"
      ]
    },
    {
      "cell_type": "code",
      "execution_count": null,
      "metadata": {
        "execution": {
          "iopub.execute_input": "2023-12-06T16:37:20.711214Z",
          "iopub.status.busy": "2023-12-06T16:37:20.710559Z",
          "iopub.status.idle": "2023-12-06T16:37:20.727362Z",
          "shell.execute_reply": "2023-12-06T16:37:20.725676Z",
          "shell.execute_reply.started": "2023-12-06T16:37:20.711178Z"
        },
        "trusted": true,
        "colab": {
          "base_uri": "https://localhost:8080/"
        },
        "id": "KWTDVByVVz4s",
        "outputId": "bc07aebf-0051-4ed9-eb0e-d5ecb1ed2250"
      },
      "outputs": [
        {
          "output_type": "execute_result",
          "data": {
            "text/plain": [
              "0.8888888888888888"
            ]
          },
          "metadata": {},
          "execution_count": 229
        }
      ],
      "source": [
        "y_predict = clf.predict(feature_test)\n",
        "a = accuracy_score(label_test,y_predict)\n",
        "a"
      ]
    },
    {
      "cell_type": "code",
      "source": [
        "accuracy.append(a)"
      ],
      "metadata": {
        "id": "WSgwSc0_Njzy"
      },
      "execution_count": null,
      "outputs": []
    },
    {
      "cell_type": "code",
      "execution_count": null,
      "metadata": {
        "execution": {
          "iopub.execute_input": "2023-12-06T16:37:22.921615Z",
          "iopub.status.busy": "2023-12-06T16:37:22.921136Z",
          "iopub.status.idle": "2023-12-06T16:37:22.966144Z",
          "shell.execute_reply": "2023-12-06T16:37:22.965033Z",
          "shell.execute_reply.started": "2023-12-06T16:37:22.921580Z"
        },
        "trusted": true,
        "colab": {
          "base_uri": "https://localhost:8080/",
          "height": 777
        },
        "id": "deavx7tzVz4s",
        "outputId": "0d0f4b0a-4216-4262-f240-b59cfb15d36c"
      },
      "outputs": [
        {
          "output_type": "execute_result",
          "data": {
            "image/svg+xml": "<?xml version=\"1.0\" encoding=\"UTF-8\" standalone=\"no\"?>\n<!DOCTYPE svg PUBLIC \"-//W3C//DTD SVG 1.1//EN\"\n \"http://www.w3.org/Graphics/SVG/1.1/DTD/svg11.dtd\">\n<!-- Generated by graphviz version 2.43.0 (0)\n -->\n<!-- Title: Tree Pages: 1 -->\n<svg width=\"711pt\" height=\"552pt\"\n viewBox=\"0.00 0.00 710.50 552.00\" xmlns=\"http://www.w3.org/2000/svg\" xmlns:xlink=\"http://www.w3.org/1999/xlink\">\n<g id=\"graph0\" class=\"graph\" transform=\"scale(1 1) rotate(0) translate(4 548)\">\n<title>Tree</title>\n<polygon fill=\"white\" stroke=\"transparent\" points=\"-4,4 -4,-548 706.5,-548 706.5,4 -4,4\"/>\n<!-- 0 -->\n<g id=\"node1\" class=\"node\">\n<title>0</title>\n<path fill=\"#eafcf2\" stroke=\"black\" d=\"M320,-544C320,-544 204,-544 204,-544 198,-544 192,-538 192,-532 192,-532 192,-473 192,-473 192,-467 198,-461 204,-461 204,-461 320,-461 320,-461 326,-461 332,-467 332,-473 332,-473 332,-532 332,-532 332,-538 326,-544 320,-544\"/>\n<text text-anchor=\"middle\" x=\"262\" y=\"-528.8\" font-family=\"Helvetica,sans-Serif\" font-size=\"14.00\">Flavanoids &lt;= 1.425</text>\n<text text-anchor=\"middle\" x=\"262\" y=\"-513.8\" font-family=\"Helvetica,sans-Serif\" font-size=\"14.00\">entropy = 1.566</text>\n<text text-anchor=\"middle\" x=\"262\" y=\"-498.8\" font-family=\"Helvetica,sans-Serif\" font-size=\"14.00\">samples = 142</text>\n<text text-anchor=\"middle\" x=\"262\" y=\"-483.8\" font-family=\"Helvetica,sans-Serif\" font-size=\"14.00\">value = [47, 57, 38]</text>\n<text text-anchor=\"middle\" x=\"262\" y=\"-468.8\" font-family=\"Helvetica,sans-Serif\" font-size=\"14.00\">class = 2</text>\n</g>\n<!-- 1 -->\n<g id=\"node2\" class=\"node\">\n<title>1</title>\n<path fill=\"#9f68eb\" stroke=\"black\" d=\"M251,-425C251,-425 111,-425 111,-425 105,-425 99,-419 99,-413 99,-413 99,-354 99,-354 99,-348 105,-342 111,-342 111,-342 251,-342 251,-342 257,-342 263,-348 263,-354 263,-354 263,-413 263,-413 263,-419 257,-425 251,-425\"/>\n<text text-anchor=\"middle\" x=\"181\" y=\"-409.8\" font-family=\"Helvetica,sans-Serif\" font-size=\"14.00\">Color_intensity &lt;= 3.725</text>\n<text text-anchor=\"middle\" x=\"181\" y=\"-394.8\" font-family=\"Helvetica,sans-Serif\" font-size=\"14.00\">entropy = 0.705</text>\n<text text-anchor=\"middle\" x=\"181\" y=\"-379.8\" font-family=\"Helvetica,sans-Serif\" font-size=\"14.00\">samples = 47</text>\n<text text-anchor=\"middle\" x=\"181\" y=\"-364.8\" font-family=\"Helvetica,sans-Serif\" font-size=\"14.00\">value = [0, 9, 38]</text>\n<text text-anchor=\"middle\" x=\"181\" y=\"-349.8\" font-family=\"Helvetica,sans-Serif\" font-size=\"14.00\">class = 3</text>\n</g>\n<!-- 0&#45;&gt;1 -->\n<g id=\"edge1\" class=\"edge\">\n<title>0&#45;&gt;1</title>\n<path fill=\"none\" stroke=\"black\" d=\"M233.9,-460.91C227.74,-452.01 221.16,-442.51 214.81,-433.33\"/>\n<polygon fill=\"black\" stroke=\"black\" points=\"217.62,-431.25 209.05,-425.02 211.87,-435.24 217.62,-431.25\"/>\n<text text-anchor=\"middle\" x=\"204.58\" y=\"-445.92\" font-family=\"Helvetica,sans-Serif\" font-size=\"14.00\">True</text>\n</g>\n<!-- 4 -->\n<g id=\"node5\" class=\"node\">\n<title>4</title>\n<path fill=\"#fbfefc\" stroke=\"black\" d=\"M394.5,-425C394.5,-425 293.5,-425 293.5,-425 287.5,-425 281.5,-419 281.5,-413 281.5,-413 281.5,-354 281.5,-354 281.5,-348 287.5,-342 293.5,-342 293.5,-342 394.5,-342 394.5,-342 400.5,-342 406.5,-348 406.5,-354 406.5,-354 406.5,-413 406.5,-413 406.5,-419 400.5,-425 394.5,-425\"/>\n<text text-anchor=\"middle\" x=\"344\" y=\"-409.8\" font-family=\"Helvetica,sans-Serif\" font-size=\"14.00\">Proline &lt;= 724.5</text>\n<text text-anchor=\"middle\" x=\"344\" y=\"-394.8\" font-family=\"Helvetica,sans-Serif\" font-size=\"14.00\">entropy = 1.0</text>\n<text text-anchor=\"middle\" x=\"344\" y=\"-379.8\" font-family=\"Helvetica,sans-Serif\" font-size=\"14.00\">samples = 95</text>\n<text text-anchor=\"middle\" x=\"344\" y=\"-364.8\" font-family=\"Helvetica,sans-Serif\" font-size=\"14.00\">value = [47, 48, 0]</text>\n<text text-anchor=\"middle\" x=\"344\" y=\"-349.8\" font-family=\"Helvetica,sans-Serif\" font-size=\"14.00\">class = 2</text>\n</g>\n<!-- 0&#45;&gt;4 -->\n<g id=\"edge4\" class=\"edge\">\n<title>0&#45;&gt;4</title>\n<path fill=\"none\" stroke=\"black\" d=\"M290.45,-460.91C296.68,-452.01 303.34,-442.51 309.78,-433.33\"/>\n<polygon fill=\"black\" stroke=\"black\" points=\"312.73,-435.22 315.6,-425.02 307,-431.2 312.73,-435.22\"/>\n<text text-anchor=\"middle\" x=\"319.93\" y=\"-445.94\" font-family=\"Helvetica,sans-Serif\" font-size=\"14.00\">False</text>\n</g>\n<!-- 2 -->\n<g id=\"node3\" class=\"node\">\n<title>2</title>\n<path fill=\"#39e581\" stroke=\"black\" d=\"M98,-298.5C98,-298.5 12,-298.5 12,-298.5 6,-298.5 0,-292.5 0,-286.5 0,-286.5 0,-242.5 0,-242.5 0,-236.5 6,-230.5 12,-230.5 12,-230.5 98,-230.5 98,-230.5 104,-230.5 110,-236.5 110,-242.5 110,-242.5 110,-286.5 110,-286.5 110,-292.5 104,-298.5 98,-298.5\"/>\n<text text-anchor=\"middle\" x=\"55\" y=\"-283.3\" font-family=\"Helvetica,sans-Serif\" font-size=\"14.00\">entropy = 0.0</text>\n<text text-anchor=\"middle\" x=\"55\" y=\"-268.3\" font-family=\"Helvetica,sans-Serif\" font-size=\"14.00\">samples = 9</text>\n<text text-anchor=\"middle\" x=\"55\" y=\"-253.3\" font-family=\"Helvetica,sans-Serif\" font-size=\"14.00\">value = [0, 9, 0]</text>\n<text text-anchor=\"middle\" x=\"55\" y=\"-238.3\" font-family=\"Helvetica,sans-Serif\" font-size=\"14.00\">class = 2</text>\n</g>\n<!-- 1&#45;&gt;2 -->\n<g id=\"edge2\" class=\"edge\">\n<title>1&#45;&gt;2</title>\n<path fill=\"none\" stroke=\"black\" d=\"M137.28,-341.91C124.69,-330.21 110.95,-317.46 98.38,-305.78\"/>\n<polygon fill=\"black\" stroke=\"black\" points=\"100.43,-302.91 90.72,-298.67 95.66,-308.04 100.43,-302.91\"/>\n</g>\n<!-- 3 -->\n<g id=\"node4\" class=\"node\">\n<title>3</title>\n<path fill=\"#8139e5\" stroke=\"black\" d=\"M233.5,-298.5C233.5,-298.5 140.5,-298.5 140.5,-298.5 134.5,-298.5 128.5,-292.5 128.5,-286.5 128.5,-286.5 128.5,-242.5 128.5,-242.5 128.5,-236.5 134.5,-230.5 140.5,-230.5 140.5,-230.5 233.5,-230.5 233.5,-230.5 239.5,-230.5 245.5,-236.5 245.5,-242.5 245.5,-242.5 245.5,-286.5 245.5,-286.5 245.5,-292.5 239.5,-298.5 233.5,-298.5\"/>\n<text text-anchor=\"middle\" x=\"187\" y=\"-283.3\" font-family=\"Helvetica,sans-Serif\" font-size=\"14.00\">entropy = 0.0</text>\n<text text-anchor=\"middle\" x=\"187\" y=\"-268.3\" font-family=\"Helvetica,sans-Serif\" font-size=\"14.00\">samples = 38</text>\n<text text-anchor=\"middle\" x=\"187\" y=\"-253.3\" font-family=\"Helvetica,sans-Serif\" font-size=\"14.00\">value = [0, 0, 38]</text>\n<text text-anchor=\"middle\" x=\"187\" y=\"-238.3\" font-family=\"Helvetica,sans-Serif\" font-size=\"14.00\">class = 3</text>\n</g>\n<!-- 1&#45;&gt;3 -->\n<g id=\"edge3\" class=\"edge\">\n<title>1&#45;&gt;3</title>\n<path fill=\"none\" stroke=\"black\" d=\"M183.08,-341.91C183.63,-331.2 184.22,-319.62 184.78,-308.78\"/>\n<polygon fill=\"black\" stroke=\"black\" points=\"188.28,-308.83 185.3,-298.67 181.29,-308.47 188.28,-308.83\"/>\n</g>\n<!-- 5 -->\n<g id=\"node6\" class=\"node\">\n<title>5</title>\n<path fill=\"#3de684\" stroke=\"black\" d=\"M392.5,-306C392.5,-306 285.5,-306 285.5,-306 279.5,-306 273.5,-300 273.5,-294 273.5,-294 273.5,-235 273.5,-235 273.5,-229 279.5,-223 285.5,-223 285.5,-223 392.5,-223 392.5,-223 398.5,-223 404.5,-229 404.5,-235 404.5,-235 404.5,-294 404.5,-294 404.5,-300 398.5,-306 392.5,-306\"/>\n<text text-anchor=\"middle\" x=\"339\" y=\"-290.8\" font-family=\"Helvetica,sans-Serif\" font-size=\"14.00\">Malicacid &lt;= 3.925</text>\n<text text-anchor=\"middle\" x=\"339\" y=\"-275.8\" font-family=\"Helvetica,sans-Serif\" font-size=\"14.00\">entropy = 0.151</text>\n<text text-anchor=\"middle\" x=\"339\" y=\"-260.8\" font-family=\"Helvetica,sans-Serif\" font-size=\"14.00\">samples = 46</text>\n<text text-anchor=\"middle\" x=\"339\" y=\"-245.8\" font-family=\"Helvetica,sans-Serif\" font-size=\"14.00\">value = [1, 45, 0]</text>\n<text text-anchor=\"middle\" x=\"339\" y=\"-230.8\" font-family=\"Helvetica,sans-Serif\" font-size=\"14.00\">class = 2</text>\n</g>\n<!-- 4&#45;&gt;5 -->\n<g id=\"edge5\" class=\"edge\">\n<title>4&#45;&gt;5</title>\n<path fill=\"none\" stroke=\"black\" d=\"M342.27,-341.91C341.91,-333.56 341.53,-324.67 341.16,-316.02\"/>\n<polygon fill=\"black\" stroke=\"black\" points=\"344.66,-315.86 340.73,-306.02 337.66,-316.16 344.66,-315.86\"/>\n</g>\n<!-- 10 -->\n<g id=\"node11\" class=\"node\">\n<title>10</title>\n<path fill=\"#e78946\" stroke=\"black\" d=\"M582,-306C582,-306 442,-306 442,-306 436,-306 430,-300 430,-294 430,-294 430,-235 430,-235 430,-229 436,-223 442,-223 442,-223 582,-223 582,-223 588,-223 594,-229 594,-235 594,-235 594,-294 594,-294 594,-300 588,-306 582,-306\"/>\n<text text-anchor=\"middle\" x=\"512\" y=\"-290.8\" font-family=\"Helvetica,sans-Serif\" font-size=\"14.00\">Color_intensity &lt;= 3.435</text>\n<text text-anchor=\"middle\" x=\"512\" y=\"-275.8\" font-family=\"Helvetica,sans-Serif\" font-size=\"14.00\">entropy = 0.332</text>\n<text text-anchor=\"middle\" x=\"512\" y=\"-260.8\" font-family=\"Helvetica,sans-Serif\" font-size=\"14.00\">samples = 49</text>\n<text text-anchor=\"middle\" x=\"512\" y=\"-245.8\" font-family=\"Helvetica,sans-Serif\" font-size=\"14.00\">value = [46, 3, 0]</text>\n<text text-anchor=\"middle\" x=\"512\" y=\"-230.8\" font-family=\"Helvetica,sans-Serif\" font-size=\"14.00\">class = 1</text>\n</g>\n<!-- 4&#45;&gt;10 -->\n<g id=\"edge10\" class=\"edge\">\n<title>4&#45;&gt;10</title>\n<path fill=\"none\" stroke=\"black\" d=\"M402.29,-341.91C416.23,-332.2 431.22,-321.76 445.5,-311.81\"/>\n<polygon fill=\"black\" stroke=\"black\" points=\"447.61,-314.61 453.82,-306.02 443.61,-308.86 447.61,-314.61\"/>\n</g>\n<!-- 6 -->\n<g id=\"node7\" class=\"node\">\n<title>6</title>\n<path fill=\"#39e581\" stroke=\"black\" d=\"M208.5,-179.5C208.5,-179.5 115.5,-179.5 115.5,-179.5 109.5,-179.5 103.5,-173.5 103.5,-167.5 103.5,-167.5 103.5,-123.5 103.5,-123.5 103.5,-117.5 109.5,-111.5 115.5,-111.5 115.5,-111.5 208.5,-111.5 208.5,-111.5 214.5,-111.5 220.5,-117.5 220.5,-123.5 220.5,-123.5 220.5,-167.5 220.5,-167.5 220.5,-173.5 214.5,-179.5 208.5,-179.5\"/>\n<text text-anchor=\"middle\" x=\"162\" y=\"-164.3\" font-family=\"Helvetica,sans-Serif\" font-size=\"14.00\">entropy = 0.0</text>\n<text text-anchor=\"middle\" x=\"162\" y=\"-149.3\" font-family=\"Helvetica,sans-Serif\" font-size=\"14.00\">samples = 43</text>\n<text text-anchor=\"middle\" x=\"162\" y=\"-134.3\" font-family=\"Helvetica,sans-Serif\" font-size=\"14.00\">value = [0, 43, 0]</text>\n<text text-anchor=\"middle\" x=\"162\" y=\"-119.3\" font-family=\"Helvetica,sans-Serif\" font-size=\"14.00\">class = 2</text>\n</g>\n<!-- 5&#45;&gt;6 -->\n<g id=\"edge6\" class=\"edge\">\n<title>5&#45;&gt;6</title>\n<path fill=\"none\" stroke=\"black\" d=\"M277.59,-222.91C259.23,-210.77 239.14,-197.49 220.94,-185.46\"/>\n<polygon fill=\"black\" stroke=\"black\" points=\"222.45,-182.26 212.18,-179.67 218.59,-188.1 222.45,-182.26\"/>\n</g>\n<!-- 7 -->\n<g id=\"node8\" class=\"node\">\n<title>7</title>\n<path fill=\"#9cf2c0\" stroke=\"black\" d=\"M427,-187C427,-187 251,-187 251,-187 245,-187 239,-181 239,-175 239,-175 239,-116 239,-116 239,-110 245,-104 251,-104 251,-104 427,-104 427,-104 433,-104 439,-110 439,-116 439,-116 439,-175 439,-175 439,-181 433,-187 427,-187\"/>\n<text text-anchor=\"middle\" x=\"339\" y=\"-171.8\" font-family=\"Helvetica,sans-Serif\" font-size=\"14.00\">Nonflavanoid_phenols &lt;= 0.31</text>\n<text text-anchor=\"middle\" x=\"339\" y=\"-156.8\" font-family=\"Helvetica,sans-Serif\" font-size=\"14.00\">entropy = 0.918</text>\n<text text-anchor=\"middle\" x=\"339\" y=\"-141.8\" font-family=\"Helvetica,sans-Serif\" font-size=\"14.00\">samples = 3</text>\n<text text-anchor=\"middle\" x=\"339\" y=\"-126.8\" font-family=\"Helvetica,sans-Serif\" font-size=\"14.00\">value = [1, 2, 0]</text>\n<text text-anchor=\"middle\" x=\"339\" y=\"-111.8\" font-family=\"Helvetica,sans-Serif\" font-size=\"14.00\">class = 2</text>\n</g>\n<!-- 5&#45;&gt;7 -->\n<g id=\"edge7\" class=\"edge\">\n<title>5&#45;&gt;7</title>\n<path fill=\"none\" stroke=\"black\" d=\"M339,-222.91C339,-214.65 339,-205.86 339,-197.3\"/>\n<polygon fill=\"black\" stroke=\"black\" points=\"342.5,-197.02 339,-187.02 335.5,-197.02 342.5,-197.02\"/>\n</g>\n<!-- 8 -->\n<g id=\"node9\" class=\"node\">\n<title>8</title>\n<path fill=\"#39e581\" stroke=\"black\" d=\"M318,-68C318,-68 232,-68 232,-68 226,-68 220,-62 220,-56 220,-56 220,-12 220,-12 220,-6 226,0 232,0 232,0 318,0 318,0 324,0 330,-6 330,-12 330,-12 330,-56 330,-56 330,-62 324,-68 318,-68\"/>\n<text text-anchor=\"middle\" x=\"275\" y=\"-52.8\" font-family=\"Helvetica,sans-Serif\" font-size=\"14.00\">entropy = 0.0</text>\n<text text-anchor=\"middle\" x=\"275\" y=\"-37.8\" font-family=\"Helvetica,sans-Serif\" font-size=\"14.00\">samples = 2</text>\n<text text-anchor=\"middle\" x=\"275\" y=\"-22.8\" font-family=\"Helvetica,sans-Serif\" font-size=\"14.00\">value = [0, 2, 0]</text>\n<text text-anchor=\"middle\" x=\"275\" y=\"-7.8\" font-family=\"Helvetica,sans-Serif\" font-size=\"14.00\">class = 2</text>\n</g>\n<!-- 7&#45;&gt;8 -->\n<g id=\"edge8\" class=\"edge\">\n<title>7&#45;&gt;8</title>\n<path fill=\"none\" stroke=\"black\" d=\"M315.17,-103.73C310.1,-95.06 304.75,-85.9 299.65,-77.18\"/>\n<polygon fill=\"black\" stroke=\"black\" points=\"302.53,-75.17 294.46,-68.3 296.49,-78.7 302.53,-75.17\"/>\n</g>\n<!-- 9 -->\n<g id=\"node10\" class=\"node\">\n<title>9</title>\n<path fill=\"#e58139\" stroke=\"black\" d=\"M446,-68C446,-68 360,-68 360,-68 354,-68 348,-62 348,-56 348,-56 348,-12 348,-12 348,-6 354,0 360,0 360,0 446,0 446,0 452,0 458,-6 458,-12 458,-12 458,-56 458,-56 458,-62 452,-68 446,-68\"/>\n<text text-anchor=\"middle\" x=\"403\" y=\"-52.8\" font-family=\"Helvetica,sans-Serif\" font-size=\"14.00\">entropy = 0.0</text>\n<text text-anchor=\"middle\" x=\"403\" y=\"-37.8\" font-family=\"Helvetica,sans-Serif\" font-size=\"14.00\">samples = 1</text>\n<text text-anchor=\"middle\" x=\"403\" y=\"-22.8\" font-family=\"Helvetica,sans-Serif\" font-size=\"14.00\">value = [1, 0, 0]</text>\n<text text-anchor=\"middle\" x=\"403\" y=\"-7.8\" font-family=\"Helvetica,sans-Serif\" font-size=\"14.00\">class = 1</text>\n</g>\n<!-- 7&#45;&gt;9 -->\n<g id=\"edge9\" class=\"edge\">\n<title>7&#45;&gt;9</title>\n<path fill=\"none\" stroke=\"black\" d=\"M362.83,-103.73C367.9,-95.06 373.25,-85.9 378.35,-77.18\"/>\n<polygon fill=\"black\" stroke=\"black\" points=\"381.51,-78.7 383.54,-68.3 375.47,-75.17 381.51,-78.7\"/>\n</g>\n<!-- 11 -->\n<g id=\"node12\" class=\"node\">\n<title>11</title>\n<path fill=\"#39e581\" stroke=\"black\" d=\"M555,-179.5C555,-179.5 469,-179.5 469,-179.5 463,-179.5 457,-173.5 457,-167.5 457,-167.5 457,-123.5 457,-123.5 457,-117.5 463,-111.5 469,-111.5 469,-111.5 555,-111.5 555,-111.5 561,-111.5 567,-117.5 567,-123.5 567,-123.5 567,-167.5 567,-167.5 567,-173.5 561,-179.5 555,-179.5\"/>\n<text text-anchor=\"middle\" x=\"512\" y=\"-164.3\" font-family=\"Helvetica,sans-Serif\" font-size=\"14.00\">entropy = 0.0</text>\n<text text-anchor=\"middle\" x=\"512\" y=\"-149.3\" font-family=\"Helvetica,sans-Serif\" font-size=\"14.00\">samples = 3</text>\n<text text-anchor=\"middle\" x=\"512\" y=\"-134.3\" font-family=\"Helvetica,sans-Serif\" font-size=\"14.00\">value = [0, 3, 0]</text>\n<text text-anchor=\"middle\" x=\"512\" y=\"-119.3\" font-family=\"Helvetica,sans-Serif\" font-size=\"14.00\">class = 2</text>\n</g>\n<!-- 10&#45;&gt;11 -->\n<g id=\"edge11\" class=\"edge\">\n<title>10&#45;&gt;11</title>\n<path fill=\"none\" stroke=\"black\" d=\"M512,-222.91C512,-212.2 512,-200.62 512,-189.78\"/>\n<polygon fill=\"black\" stroke=\"black\" points=\"515.5,-189.67 512,-179.67 508.5,-189.67 515.5,-189.67\"/>\n</g>\n<!-- 12 -->\n<g id=\"node13\" class=\"node\">\n<title>12</title>\n<path fill=\"#e58139\" stroke=\"black\" d=\"M690.5,-179.5C690.5,-179.5 597.5,-179.5 597.5,-179.5 591.5,-179.5 585.5,-173.5 585.5,-167.5 585.5,-167.5 585.5,-123.5 585.5,-123.5 585.5,-117.5 591.5,-111.5 597.5,-111.5 597.5,-111.5 690.5,-111.5 690.5,-111.5 696.5,-111.5 702.5,-117.5 702.5,-123.5 702.5,-123.5 702.5,-167.5 702.5,-167.5 702.5,-173.5 696.5,-179.5 690.5,-179.5\"/>\n<text text-anchor=\"middle\" x=\"644\" y=\"-164.3\" font-family=\"Helvetica,sans-Serif\" font-size=\"14.00\">entropy = 0.0</text>\n<text text-anchor=\"middle\" x=\"644\" y=\"-149.3\" font-family=\"Helvetica,sans-Serif\" font-size=\"14.00\">samples = 46</text>\n<text text-anchor=\"middle\" x=\"644\" y=\"-134.3\" font-family=\"Helvetica,sans-Serif\" font-size=\"14.00\">value = [46, 0, 0]</text>\n<text text-anchor=\"middle\" x=\"644\" y=\"-119.3\" font-family=\"Helvetica,sans-Serif\" font-size=\"14.00\">class = 1</text>\n</g>\n<!-- 10&#45;&gt;12 -->\n<g id=\"edge12\" class=\"edge\">\n<title>10&#45;&gt;12</title>\n<path fill=\"none\" stroke=\"black\" d=\"M557.8,-222.91C571.12,-211.1 585.65,-198.22 598.93,-186.45\"/>\n<polygon fill=\"black\" stroke=\"black\" points=\"601.42,-188.92 606.58,-179.67 596.78,-183.68 601.42,-188.92\"/>\n</g>\n</g>\n</svg>\n",
            "text/plain": [
              "<graphviz.sources.Source at 0x7e5220271b40>"
            ]
          },
          "metadata": {},
          "execution_count": 231
        }
      ],
      "source": [
        "graph_data = tree.export_graphviz(clf,\n",
        "                            filled=True,\n",
        "                            rounded=True,\n",
        "                            feature_names=X.columns,\n",
        "                            class_names=clf.classes_.astype(str)\n",
        "                            )\n",
        "\n",
        "graph = graphviz.Source(graph_data)\n",
        "graph.render(filename=f'descision_tree_6',format='png',directory = f\"{filepathdepth}\")\n",
        "graph"
      ]
    },
    {
      "cell_type": "markdown",
      "metadata": {
        "id": "9wPv9tsPVz4t"
      },
      "source": [
        "## max_depth = 7"
      ]
    },
    {
      "cell_type": "code",
      "execution_count": null,
      "metadata": {
        "execution": {
          "iopub.execute_input": "2023-12-06T16:37:51.457704Z",
          "iopub.status.busy": "2023-12-06T16:37:51.457208Z",
          "iopub.status.idle": "2023-12-06T16:37:51.475430Z",
          "shell.execute_reply": "2023-12-06T16:37:51.473977Z",
          "shell.execute_reply.started": "2023-12-06T16:37:51.457668Z"
        },
        "trusted": true,
        "colab": {
          "base_uri": "https://localhost:8080/",
          "height": 75
        },
        "id": "jCm0g2iXVz4u",
        "outputId": "96d93af1-5b05-429e-a966-1897df941b82"
      },
      "outputs": [
        {
          "output_type": "execute_result",
          "data": {
            "text/plain": [
              "DecisionTreeClassifier(criterion='entropy', max_depth=7)"
            ],
            "text/html": [
              "<style>#sk-container-id-48 {color: black;background-color: white;}#sk-container-id-48 pre{padding: 0;}#sk-container-id-48 div.sk-toggleable {background-color: white;}#sk-container-id-48 label.sk-toggleable__label {cursor: pointer;display: block;width: 100%;margin-bottom: 0;padding: 0.3em;box-sizing: border-box;text-align: center;}#sk-container-id-48 label.sk-toggleable__label-arrow:before {content: \"▸\";float: left;margin-right: 0.25em;color: #696969;}#sk-container-id-48 label.sk-toggleable__label-arrow:hover:before {color: black;}#sk-container-id-48 div.sk-estimator:hover label.sk-toggleable__label-arrow:before {color: black;}#sk-container-id-48 div.sk-toggleable__content {max-height: 0;max-width: 0;overflow: hidden;text-align: left;background-color: #f0f8ff;}#sk-container-id-48 div.sk-toggleable__content pre {margin: 0.2em;color: black;border-radius: 0.25em;background-color: #f0f8ff;}#sk-container-id-48 input.sk-toggleable__control:checked~div.sk-toggleable__content {max-height: 200px;max-width: 100%;overflow: auto;}#sk-container-id-48 input.sk-toggleable__control:checked~label.sk-toggleable__label-arrow:before {content: \"▾\";}#sk-container-id-48 div.sk-estimator input.sk-toggleable__control:checked~label.sk-toggleable__label {background-color: #d4ebff;}#sk-container-id-48 div.sk-label input.sk-toggleable__control:checked~label.sk-toggleable__label {background-color: #d4ebff;}#sk-container-id-48 input.sk-hidden--visually {border: 0;clip: rect(1px 1px 1px 1px);clip: rect(1px, 1px, 1px, 1px);height: 1px;margin: -1px;overflow: hidden;padding: 0;position: absolute;width: 1px;}#sk-container-id-48 div.sk-estimator {font-family: monospace;background-color: #f0f8ff;border: 1px dotted black;border-radius: 0.25em;box-sizing: border-box;margin-bottom: 0.5em;}#sk-container-id-48 div.sk-estimator:hover {background-color: #d4ebff;}#sk-container-id-48 div.sk-parallel-item::after {content: \"\";width: 100%;border-bottom: 1px solid gray;flex-grow: 1;}#sk-container-id-48 div.sk-label:hover label.sk-toggleable__label {background-color: #d4ebff;}#sk-container-id-48 div.sk-serial::before {content: \"\";position: absolute;border-left: 1px solid gray;box-sizing: border-box;top: 0;bottom: 0;left: 50%;z-index: 0;}#sk-container-id-48 div.sk-serial {display: flex;flex-direction: column;align-items: center;background-color: white;padding-right: 0.2em;padding-left: 0.2em;position: relative;}#sk-container-id-48 div.sk-item {position: relative;z-index: 1;}#sk-container-id-48 div.sk-parallel {display: flex;align-items: stretch;justify-content: center;background-color: white;position: relative;}#sk-container-id-48 div.sk-item::before, #sk-container-id-48 div.sk-parallel-item::before {content: \"\";position: absolute;border-left: 1px solid gray;box-sizing: border-box;top: 0;bottom: 0;left: 50%;z-index: -1;}#sk-container-id-48 div.sk-parallel-item {display: flex;flex-direction: column;z-index: 1;position: relative;background-color: white;}#sk-container-id-48 div.sk-parallel-item:first-child::after {align-self: flex-end;width: 50%;}#sk-container-id-48 div.sk-parallel-item:last-child::after {align-self: flex-start;width: 50%;}#sk-container-id-48 div.sk-parallel-item:only-child::after {width: 0;}#sk-container-id-48 div.sk-dashed-wrapped {border: 1px dashed gray;margin: 0 0.4em 0.5em 0.4em;box-sizing: border-box;padding-bottom: 0.4em;background-color: white;}#sk-container-id-48 div.sk-label label {font-family: monospace;font-weight: bold;display: inline-block;line-height: 1.2em;}#sk-container-id-48 div.sk-label-container {text-align: center;}#sk-container-id-48 div.sk-container {/* jupyter's `normalize.less` sets `[hidden] { display: none; }` but bootstrap.min.css set `[hidden] { display: none !important; }` so we also need the `!important` here to be able to override the default hidden behavior on the sphinx rendered scikit-learn.org. See: https://github.com/scikit-learn/scikit-learn/issues/21755 */display: inline-block !important;position: relative;}#sk-container-id-48 div.sk-text-repr-fallback {display: none;}</style><div id=\"sk-container-id-48\" class=\"sk-top-container\"><div class=\"sk-text-repr-fallback\"><pre>DecisionTreeClassifier(criterion=&#x27;entropy&#x27;, max_depth=7)</pre><b>In a Jupyter environment, please rerun this cell to show the HTML representation or trust the notebook. <br />On GitHub, the HTML representation is unable to render, please try loading this page with nbviewer.org.</b></div><div class=\"sk-container\" hidden><div class=\"sk-item\"><div class=\"sk-estimator sk-toggleable\"><input class=\"sk-toggleable__control sk-hidden--visually\" id=\"sk-estimator-id-48\" type=\"checkbox\" checked><label for=\"sk-estimator-id-48\" class=\"sk-toggleable__label sk-toggleable__label-arrow\">DecisionTreeClassifier</label><div class=\"sk-toggleable__content\"><pre>DecisionTreeClassifier(criterion=&#x27;entropy&#x27;, max_depth=7)</pre></div></div></div></div></div>"
            ]
          },
          "metadata": {},
          "execution_count": 234
        }
      ],
      "source": [
        "clf = tree.DecisionTreeClassifier(criterion=\"entropy\", max_depth = 7)\n",
        "clf.fit(feature_train,label_train)"
      ]
    },
    {
      "cell_type": "code",
      "execution_count": null,
      "metadata": {
        "execution": {
          "iopub.execute_input": "2023-12-06T16:37:53.662090Z",
          "iopub.status.busy": "2023-12-06T16:37:53.661635Z",
          "iopub.status.idle": "2023-12-06T16:37:53.681736Z",
          "shell.execute_reply": "2023-12-06T16:37:53.680382Z",
          "shell.execute_reply.started": "2023-12-06T16:37:53.662057Z"
        },
        "trusted": true,
        "colab": {
          "base_uri": "https://localhost:8080/"
        },
        "id": "zZW-hdBYVz4u",
        "outputId": "c6b98524-0246-4b24-de40-921ee2494ff2"
      },
      "outputs": [
        {
          "output_type": "execute_result",
          "data": {
            "text/plain": [
              "0.9444444444444444"
            ]
          },
          "metadata": {},
          "execution_count": 235
        }
      ],
      "source": [
        "y_predict = clf.predict(feature_test)\n",
        "a = accuracy_score(label_test,y_predict)\n",
        "a"
      ]
    },
    {
      "cell_type": "code",
      "source": [
        "accuracy.append(a)"
      ],
      "metadata": {
        "id": "unufRexbNqIi"
      },
      "execution_count": null,
      "outputs": []
    },
    {
      "cell_type": "code",
      "execution_count": null,
      "metadata": {
        "execution": {
          "iopub.execute_input": "2023-12-06T16:37:55.439909Z",
          "iopub.status.busy": "2023-12-06T16:37:55.439437Z",
          "iopub.status.idle": "2023-12-06T16:37:55.482656Z",
          "shell.execute_reply": "2023-12-06T16:37:55.481625Z",
          "shell.execute_reply.started": "2023-12-06T16:37:55.439860Z"
        },
        "trusted": true,
        "colab": {
          "base_uri": "https://localhost:8080/",
          "height": 777
        },
        "id": "KIXDMsYCVz4v",
        "outputId": "f759058e-c9b7-4705-bd27-24185f734efe"
      },
      "outputs": [
        {
          "output_type": "execute_result",
          "data": {
            "image/svg+xml": "<?xml version=\"1.0\" encoding=\"UTF-8\" standalone=\"no\"?>\n<!DOCTYPE svg PUBLIC \"-//W3C//DTD SVG 1.1//EN\"\n \"http://www.w3.org/Graphics/SVG/1.1/DTD/svg11.dtd\">\n<!-- Generated by graphviz version 2.43.0 (0)\n -->\n<!-- Title: Tree Pages: 1 -->\n<svg width=\"700pt\" height=\"552pt\"\n viewBox=\"0.00 0.00 699.50 552.00\" xmlns=\"http://www.w3.org/2000/svg\" xmlns:xlink=\"http://www.w3.org/1999/xlink\">\n<g id=\"graph0\" class=\"graph\" transform=\"scale(1 1) rotate(0) translate(4 548)\">\n<title>Tree</title>\n<polygon fill=\"white\" stroke=\"transparent\" points=\"-4,4 -4,-548 695.5,-548 695.5,4 -4,4\"/>\n<!-- 0 -->\n<g id=\"node1\" class=\"node\">\n<title>0</title>\n<path fill=\"#eafcf2\" stroke=\"black\" d=\"M320,-544C320,-544 204,-544 204,-544 198,-544 192,-538 192,-532 192,-532 192,-473 192,-473 192,-467 198,-461 204,-461 204,-461 320,-461 320,-461 326,-461 332,-467 332,-473 332,-473 332,-532 332,-532 332,-538 326,-544 320,-544\"/>\n<text text-anchor=\"middle\" x=\"262\" y=\"-528.8\" font-family=\"Helvetica,sans-Serif\" font-size=\"14.00\">Flavanoids &lt;= 1.425</text>\n<text text-anchor=\"middle\" x=\"262\" y=\"-513.8\" font-family=\"Helvetica,sans-Serif\" font-size=\"14.00\">entropy = 1.566</text>\n<text text-anchor=\"middle\" x=\"262\" y=\"-498.8\" font-family=\"Helvetica,sans-Serif\" font-size=\"14.00\">samples = 142</text>\n<text text-anchor=\"middle\" x=\"262\" y=\"-483.8\" font-family=\"Helvetica,sans-Serif\" font-size=\"14.00\">value = [47, 57, 38]</text>\n<text text-anchor=\"middle\" x=\"262\" y=\"-468.8\" font-family=\"Helvetica,sans-Serif\" font-size=\"14.00\">class = 2</text>\n</g>\n<!-- 1 -->\n<g id=\"node2\" class=\"node\">\n<title>1</title>\n<path fill=\"#9f68eb\" stroke=\"black\" d=\"M251,-425C251,-425 111,-425 111,-425 105,-425 99,-419 99,-413 99,-413 99,-354 99,-354 99,-348 105,-342 111,-342 111,-342 251,-342 251,-342 257,-342 263,-348 263,-354 263,-354 263,-413 263,-413 263,-419 257,-425 251,-425\"/>\n<text text-anchor=\"middle\" x=\"181\" y=\"-409.8\" font-family=\"Helvetica,sans-Serif\" font-size=\"14.00\">Color_intensity &lt;= 3.725</text>\n<text text-anchor=\"middle\" x=\"181\" y=\"-394.8\" font-family=\"Helvetica,sans-Serif\" font-size=\"14.00\">entropy = 0.705</text>\n<text text-anchor=\"middle\" x=\"181\" y=\"-379.8\" font-family=\"Helvetica,sans-Serif\" font-size=\"14.00\">samples = 47</text>\n<text text-anchor=\"middle\" x=\"181\" y=\"-364.8\" font-family=\"Helvetica,sans-Serif\" font-size=\"14.00\">value = [0, 9, 38]</text>\n<text text-anchor=\"middle\" x=\"181\" y=\"-349.8\" font-family=\"Helvetica,sans-Serif\" font-size=\"14.00\">class = 3</text>\n</g>\n<!-- 0&#45;&gt;1 -->\n<g id=\"edge1\" class=\"edge\">\n<title>0&#45;&gt;1</title>\n<path fill=\"none\" stroke=\"black\" d=\"M233.9,-460.91C227.74,-452.01 221.16,-442.51 214.81,-433.33\"/>\n<polygon fill=\"black\" stroke=\"black\" points=\"217.62,-431.25 209.05,-425.02 211.87,-435.24 217.62,-431.25\"/>\n<text text-anchor=\"middle\" x=\"204.58\" y=\"-445.92\" font-family=\"Helvetica,sans-Serif\" font-size=\"14.00\">True</text>\n</g>\n<!-- 4 -->\n<g id=\"node5\" class=\"node\">\n<title>4</title>\n<path fill=\"#fbfefc\" stroke=\"black\" d=\"M394.5,-425C394.5,-425 293.5,-425 293.5,-425 287.5,-425 281.5,-419 281.5,-413 281.5,-413 281.5,-354 281.5,-354 281.5,-348 287.5,-342 293.5,-342 293.5,-342 394.5,-342 394.5,-342 400.5,-342 406.5,-348 406.5,-354 406.5,-354 406.5,-413 406.5,-413 406.5,-419 400.5,-425 394.5,-425\"/>\n<text text-anchor=\"middle\" x=\"344\" y=\"-409.8\" font-family=\"Helvetica,sans-Serif\" font-size=\"14.00\">Proline &lt;= 724.5</text>\n<text text-anchor=\"middle\" x=\"344\" y=\"-394.8\" font-family=\"Helvetica,sans-Serif\" font-size=\"14.00\">entropy = 1.0</text>\n<text text-anchor=\"middle\" x=\"344\" y=\"-379.8\" font-family=\"Helvetica,sans-Serif\" font-size=\"14.00\">samples = 95</text>\n<text text-anchor=\"middle\" x=\"344\" y=\"-364.8\" font-family=\"Helvetica,sans-Serif\" font-size=\"14.00\">value = [47, 48, 0]</text>\n<text text-anchor=\"middle\" x=\"344\" y=\"-349.8\" font-family=\"Helvetica,sans-Serif\" font-size=\"14.00\">class = 2</text>\n</g>\n<!-- 0&#45;&gt;4 -->\n<g id=\"edge4\" class=\"edge\">\n<title>0&#45;&gt;4</title>\n<path fill=\"none\" stroke=\"black\" d=\"M290.45,-460.91C296.68,-452.01 303.34,-442.51 309.78,-433.33\"/>\n<polygon fill=\"black\" stroke=\"black\" points=\"312.73,-435.22 315.6,-425.02 307,-431.2 312.73,-435.22\"/>\n<text text-anchor=\"middle\" x=\"319.93\" y=\"-445.94\" font-family=\"Helvetica,sans-Serif\" font-size=\"14.00\">False</text>\n</g>\n<!-- 2 -->\n<g id=\"node3\" class=\"node\">\n<title>2</title>\n<path fill=\"#39e581\" stroke=\"black\" d=\"M98,-298.5C98,-298.5 12,-298.5 12,-298.5 6,-298.5 0,-292.5 0,-286.5 0,-286.5 0,-242.5 0,-242.5 0,-236.5 6,-230.5 12,-230.5 12,-230.5 98,-230.5 98,-230.5 104,-230.5 110,-236.5 110,-242.5 110,-242.5 110,-286.5 110,-286.5 110,-292.5 104,-298.5 98,-298.5\"/>\n<text text-anchor=\"middle\" x=\"55\" y=\"-283.3\" font-family=\"Helvetica,sans-Serif\" font-size=\"14.00\">entropy = 0.0</text>\n<text text-anchor=\"middle\" x=\"55\" y=\"-268.3\" font-family=\"Helvetica,sans-Serif\" font-size=\"14.00\">samples = 9</text>\n<text text-anchor=\"middle\" x=\"55\" y=\"-253.3\" font-family=\"Helvetica,sans-Serif\" font-size=\"14.00\">value = [0, 9, 0]</text>\n<text text-anchor=\"middle\" x=\"55\" y=\"-238.3\" font-family=\"Helvetica,sans-Serif\" font-size=\"14.00\">class = 2</text>\n</g>\n<!-- 1&#45;&gt;2 -->\n<g id=\"edge2\" class=\"edge\">\n<title>1&#45;&gt;2</title>\n<path fill=\"none\" stroke=\"black\" d=\"M137.28,-341.91C124.69,-330.21 110.95,-317.46 98.38,-305.78\"/>\n<polygon fill=\"black\" stroke=\"black\" points=\"100.43,-302.91 90.72,-298.67 95.66,-308.04 100.43,-302.91\"/>\n</g>\n<!-- 3 -->\n<g id=\"node4\" class=\"node\">\n<title>3</title>\n<path fill=\"#8139e5\" stroke=\"black\" d=\"M233.5,-298.5C233.5,-298.5 140.5,-298.5 140.5,-298.5 134.5,-298.5 128.5,-292.5 128.5,-286.5 128.5,-286.5 128.5,-242.5 128.5,-242.5 128.5,-236.5 134.5,-230.5 140.5,-230.5 140.5,-230.5 233.5,-230.5 233.5,-230.5 239.5,-230.5 245.5,-236.5 245.5,-242.5 245.5,-242.5 245.5,-286.5 245.5,-286.5 245.5,-292.5 239.5,-298.5 233.5,-298.5\"/>\n<text text-anchor=\"middle\" x=\"187\" y=\"-283.3\" font-family=\"Helvetica,sans-Serif\" font-size=\"14.00\">entropy = 0.0</text>\n<text text-anchor=\"middle\" x=\"187\" y=\"-268.3\" font-family=\"Helvetica,sans-Serif\" font-size=\"14.00\">samples = 38</text>\n<text text-anchor=\"middle\" x=\"187\" y=\"-253.3\" font-family=\"Helvetica,sans-Serif\" font-size=\"14.00\">value = [0, 0, 38]</text>\n<text text-anchor=\"middle\" x=\"187\" y=\"-238.3\" font-family=\"Helvetica,sans-Serif\" font-size=\"14.00\">class = 3</text>\n</g>\n<!-- 1&#45;&gt;3 -->\n<g id=\"edge3\" class=\"edge\">\n<title>1&#45;&gt;3</title>\n<path fill=\"none\" stroke=\"black\" d=\"M183.08,-341.91C183.63,-331.2 184.22,-319.62 184.78,-308.78\"/>\n<polygon fill=\"black\" stroke=\"black\" points=\"188.28,-308.83 185.3,-298.67 181.29,-308.47 188.28,-308.83\"/>\n</g>\n<!-- 5 -->\n<g id=\"node6\" class=\"node\">\n<title>5</title>\n<path fill=\"#3de684\" stroke=\"black\" d=\"M392.5,-306C392.5,-306 285.5,-306 285.5,-306 279.5,-306 273.5,-300 273.5,-294 273.5,-294 273.5,-235 273.5,-235 273.5,-229 279.5,-223 285.5,-223 285.5,-223 392.5,-223 392.5,-223 398.5,-223 404.5,-229 404.5,-235 404.5,-235 404.5,-294 404.5,-294 404.5,-300 398.5,-306 392.5,-306\"/>\n<text text-anchor=\"middle\" x=\"339\" y=\"-290.8\" font-family=\"Helvetica,sans-Serif\" font-size=\"14.00\">Malicacid &lt;= 3.925</text>\n<text text-anchor=\"middle\" x=\"339\" y=\"-275.8\" font-family=\"Helvetica,sans-Serif\" font-size=\"14.00\">entropy = 0.151</text>\n<text text-anchor=\"middle\" x=\"339\" y=\"-260.8\" font-family=\"Helvetica,sans-Serif\" font-size=\"14.00\">samples = 46</text>\n<text text-anchor=\"middle\" x=\"339\" y=\"-245.8\" font-family=\"Helvetica,sans-Serif\" font-size=\"14.00\">value = [1, 45, 0]</text>\n<text text-anchor=\"middle\" x=\"339\" y=\"-230.8\" font-family=\"Helvetica,sans-Serif\" font-size=\"14.00\">class = 2</text>\n</g>\n<!-- 4&#45;&gt;5 -->\n<g id=\"edge5\" class=\"edge\">\n<title>4&#45;&gt;5</title>\n<path fill=\"none\" stroke=\"black\" d=\"M342.27,-341.91C341.91,-333.56 341.53,-324.67 341.16,-316.02\"/>\n<polygon fill=\"black\" stroke=\"black\" points=\"344.66,-315.86 340.73,-306.02 337.66,-316.16 344.66,-315.86\"/>\n</g>\n<!-- 10 -->\n<g id=\"node11\" class=\"node\">\n<title>10</title>\n<path fill=\"#e78946\" stroke=\"black\" d=\"M575,-306C575,-306 435,-306 435,-306 429,-306 423,-300 423,-294 423,-294 423,-235 423,-235 423,-229 429,-223 435,-223 435,-223 575,-223 575,-223 581,-223 587,-229 587,-235 587,-235 587,-294 587,-294 587,-300 581,-306 575,-306\"/>\n<text text-anchor=\"middle\" x=\"505\" y=\"-290.8\" font-family=\"Helvetica,sans-Serif\" font-size=\"14.00\">Color_intensity &lt;= 3.435</text>\n<text text-anchor=\"middle\" x=\"505\" y=\"-275.8\" font-family=\"Helvetica,sans-Serif\" font-size=\"14.00\">entropy = 0.332</text>\n<text text-anchor=\"middle\" x=\"505\" y=\"-260.8\" font-family=\"Helvetica,sans-Serif\" font-size=\"14.00\">samples = 49</text>\n<text text-anchor=\"middle\" x=\"505\" y=\"-245.8\" font-family=\"Helvetica,sans-Serif\" font-size=\"14.00\">value = [46, 3, 0]</text>\n<text text-anchor=\"middle\" x=\"505\" y=\"-230.8\" font-family=\"Helvetica,sans-Serif\" font-size=\"14.00\">class = 1</text>\n</g>\n<!-- 4&#45;&gt;10 -->\n<g id=\"edge10\" class=\"edge\">\n<title>4&#45;&gt;10</title>\n<path fill=\"none\" stroke=\"black\" d=\"M399.86,-341.91C413.1,-332.29 427.32,-321.95 440.89,-312.09\"/>\n<polygon fill=\"black\" stroke=\"black\" points=\"443.21,-314.73 449.24,-306.02 439.09,-309.07 443.21,-314.73\"/>\n</g>\n<!-- 6 -->\n<g id=\"node7\" class=\"node\">\n<title>6</title>\n<path fill=\"#39e581\" stroke=\"black\" d=\"M234.5,-179.5C234.5,-179.5 141.5,-179.5 141.5,-179.5 135.5,-179.5 129.5,-173.5 129.5,-167.5 129.5,-167.5 129.5,-123.5 129.5,-123.5 129.5,-117.5 135.5,-111.5 141.5,-111.5 141.5,-111.5 234.5,-111.5 234.5,-111.5 240.5,-111.5 246.5,-117.5 246.5,-123.5 246.5,-123.5 246.5,-167.5 246.5,-167.5 246.5,-173.5 240.5,-179.5 234.5,-179.5\"/>\n<text text-anchor=\"middle\" x=\"188\" y=\"-164.3\" font-family=\"Helvetica,sans-Serif\" font-size=\"14.00\">entropy = 0.0</text>\n<text text-anchor=\"middle\" x=\"188\" y=\"-149.3\" font-family=\"Helvetica,sans-Serif\" font-size=\"14.00\">samples = 43</text>\n<text text-anchor=\"middle\" x=\"188\" y=\"-134.3\" font-family=\"Helvetica,sans-Serif\" font-size=\"14.00\">value = [0, 43, 0]</text>\n<text text-anchor=\"middle\" x=\"188\" y=\"-119.3\" font-family=\"Helvetica,sans-Serif\" font-size=\"14.00\">class = 2</text>\n</g>\n<!-- 5&#45;&gt;6 -->\n<g id=\"edge6\" class=\"edge\">\n<title>5&#45;&gt;6</title>\n<path fill=\"none\" stroke=\"black\" d=\"M286.61,-222.91C271.23,-210.99 254.43,-197.98 239.13,-186.12\"/>\n<polygon fill=\"black\" stroke=\"black\" points=\"240.85,-183.03 230.81,-179.67 236.57,-188.56 240.85,-183.03\"/>\n</g>\n<!-- 7 -->\n<g id=\"node8\" class=\"node\">\n<title>7</title>\n<path fill=\"#9cf2c0\" stroke=\"black\" d=\"M409,-187C409,-187 277,-187 277,-187 271,-187 265,-181 265,-175 265,-175 265,-116 265,-116 265,-110 271,-104 277,-104 277,-104 409,-104 409,-104 415,-104 421,-110 421,-116 421,-116 421,-175 421,-175 421,-181 415,-187 409,-187\"/>\n<text text-anchor=\"middle\" x=\"343\" y=\"-171.8\" font-family=\"Helvetica,sans-Serif\" font-size=\"14.00\">Color_intensity &lt;= 3.58</text>\n<text text-anchor=\"middle\" x=\"343\" y=\"-156.8\" font-family=\"Helvetica,sans-Serif\" font-size=\"14.00\">entropy = 0.918</text>\n<text text-anchor=\"middle\" x=\"343\" y=\"-141.8\" font-family=\"Helvetica,sans-Serif\" font-size=\"14.00\">samples = 3</text>\n<text text-anchor=\"middle\" x=\"343\" y=\"-126.8\" font-family=\"Helvetica,sans-Serif\" font-size=\"14.00\">value = [1, 2, 0]</text>\n<text text-anchor=\"middle\" x=\"343\" y=\"-111.8\" font-family=\"Helvetica,sans-Serif\" font-size=\"14.00\">class = 2</text>\n</g>\n<!-- 5&#45;&gt;7 -->\n<g id=\"edge7\" class=\"edge\">\n<title>5&#45;&gt;7</title>\n<path fill=\"none\" stroke=\"black\" d=\"M340.39,-222.91C340.67,-214.56 340.98,-205.67 341.27,-197.02\"/>\n<polygon fill=\"black\" stroke=\"black\" points=\"344.77,-197.13 341.61,-187.02 337.77,-196.9 344.77,-197.13\"/>\n</g>\n<!-- 8 -->\n<g id=\"node9\" class=\"node\">\n<title>8</title>\n<path fill=\"#39e581\" stroke=\"black\" d=\"M322,-68C322,-68 236,-68 236,-68 230,-68 224,-62 224,-56 224,-56 224,-12 224,-12 224,-6 230,0 236,0 236,0 322,0 322,0 328,0 334,-6 334,-12 334,-12 334,-56 334,-56 334,-62 328,-68 322,-68\"/>\n<text text-anchor=\"middle\" x=\"279\" y=\"-52.8\" font-family=\"Helvetica,sans-Serif\" font-size=\"14.00\">entropy = 0.0</text>\n<text text-anchor=\"middle\" x=\"279\" y=\"-37.8\" font-family=\"Helvetica,sans-Serif\" font-size=\"14.00\">samples = 2</text>\n<text text-anchor=\"middle\" x=\"279\" y=\"-22.8\" font-family=\"Helvetica,sans-Serif\" font-size=\"14.00\">value = [0, 2, 0]</text>\n<text text-anchor=\"middle\" x=\"279\" y=\"-7.8\" font-family=\"Helvetica,sans-Serif\" font-size=\"14.00\">class = 2</text>\n</g>\n<!-- 7&#45;&gt;8 -->\n<g id=\"edge8\" class=\"edge\">\n<title>7&#45;&gt;8</title>\n<path fill=\"none\" stroke=\"black\" d=\"M319.17,-103.73C314.1,-95.06 308.75,-85.9 303.65,-77.18\"/>\n<polygon fill=\"black\" stroke=\"black\" points=\"306.53,-75.17 298.46,-68.3 300.49,-78.7 306.53,-75.17\"/>\n</g>\n<!-- 9 -->\n<g id=\"node10\" class=\"node\">\n<title>9</title>\n<path fill=\"#e58139\" stroke=\"black\" d=\"M450,-68C450,-68 364,-68 364,-68 358,-68 352,-62 352,-56 352,-56 352,-12 352,-12 352,-6 358,0 364,0 364,0 450,0 450,0 456,0 462,-6 462,-12 462,-12 462,-56 462,-56 462,-62 456,-68 450,-68\"/>\n<text text-anchor=\"middle\" x=\"407\" y=\"-52.8\" font-family=\"Helvetica,sans-Serif\" font-size=\"14.00\">entropy = 0.0</text>\n<text text-anchor=\"middle\" x=\"407\" y=\"-37.8\" font-family=\"Helvetica,sans-Serif\" font-size=\"14.00\">samples = 1</text>\n<text text-anchor=\"middle\" x=\"407\" y=\"-22.8\" font-family=\"Helvetica,sans-Serif\" font-size=\"14.00\">value = [1, 0, 0]</text>\n<text text-anchor=\"middle\" x=\"407\" y=\"-7.8\" font-family=\"Helvetica,sans-Serif\" font-size=\"14.00\">class = 1</text>\n</g>\n<!-- 7&#45;&gt;9 -->\n<g id=\"edge9\" class=\"edge\">\n<title>7&#45;&gt;9</title>\n<path fill=\"none\" stroke=\"black\" d=\"M366.83,-103.73C371.9,-95.06 377.25,-85.9 382.35,-77.18\"/>\n<polygon fill=\"black\" stroke=\"black\" points=\"385.51,-78.7 387.54,-68.3 379.47,-75.17 385.51,-78.7\"/>\n</g>\n<!-- 11 -->\n<g id=\"node12\" class=\"node\">\n<title>11</title>\n<path fill=\"#39e581\" stroke=\"black\" d=\"M544,-179.5C544,-179.5 458,-179.5 458,-179.5 452,-179.5 446,-173.5 446,-167.5 446,-167.5 446,-123.5 446,-123.5 446,-117.5 452,-111.5 458,-111.5 458,-111.5 544,-111.5 544,-111.5 550,-111.5 556,-117.5 556,-123.5 556,-123.5 556,-167.5 556,-167.5 556,-173.5 550,-179.5 544,-179.5\"/>\n<text text-anchor=\"middle\" x=\"501\" y=\"-164.3\" font-family=\"Helvetica,sans-Serif\" font-size=\"14.00\">entropy = 0.0</text>\n<text text-anchor=\"middle\" x=\"501\" y=\"-149.3\" font-family=\"Helvetica,sans-Serif\" font-size=\"14.00\">samples = 3</text>\n<text text-anchor=\"middle\" x=\"501\" y=\"-134.3\" font-family=\"Helvetica,sans-Serif\" font-size=\"14.00\">value = [0, 3, 0]</text>\n<text text-anchor=\"middle\" x=\"501\" y=\"-119.3\" font-family=\"Helvetica,sans-Serif\" font-size=\"14.00\">class = 2</text>\n</g>\n<!-- 10&#45;&gt;11 -->\n<g id=\"edge11\" class=\"edge\">\n<title>10&#45;&gt;11</title>\n<path fill=\"none\" stroke=\"black\" d=\"M503.61,-222.91C503.25,-212.2 502.85,-200.62 502.48,-189.78\"/>\n<polygon fill=\"black\" stroke=\"black\" points=\"505.97,-189.54 502.13,-179.67 498.98,-189.78 505.97,-189.54\"/>\n</g>\n<!-- 12 -->\n<g id=\"node13\" class=\"node\">\n<title>12</title>\n<path fill=\"#e58139\" stroke=\"black\" d=\"M679.5,-179.5C679.5,-179.5 586.5,-179.5 586.5,-179.5 580.5,-179.5 574.5,-173.5 574.5,-167.5 574.5,-167.5 574.5,-123.5 574.5,-123.5 574.5,-117.5 580.5,-111.5 586.5,-111.5 586.5,-111.5 679.5,-111.5 679.5,-111.5 685.5,-111.5 691.5,-117.5 691.5,-123.5 691.5,-123.5 691.5,-167.5 691.5,-167.5 691.5,-173.5 685.5,-179.5 679.5,-179.5\"/>\n<text text-anchor=\"middle\" x=\"633\" y=\"-164.3\" font-family=\"Helvetica,sans-Serif\" font-size=\"14.00\">entropy = 0.0</text>\n<text text-anchor=\"middle\" x=\"633\" y=\"-149.3\" font-family=\"Helvetica,sans-Serif\" font-size=\"14.00\">samples = 46</text>\n<text text-anchor=\"middle\" x=\"633\" y=\"-134.3\" font-family=\"Helvetica,sans-Serif\" font-size=\"14.00\">value = [46, 0, 0]</text>\n<text text-anchor=\"middle\" x=\"633\" y=\"-119.3\" font-family=\"Helvetica,sans-Serif\" font-size=\"14.00\">class = 1</text>\n</g>\n<!-- 10&#45;&gt;12 -->\n<g id=\"edge12\" class=\"edge\">\n<title>10&#45;&gt;12</title>\n<path fill=\"none\" stroke=\"black\" d=\"M549.41,-222.91C562.33,-211.1 576.42,-198.22 589.29,-186.45\"/>\n<polygon fill=\"black\" stroke=\"black\" points=\"591.7,-189 596.71,-179.67 586.97,-183.83 591.7,-189\"/>\n</g>\n</g>\n</svg>\n",
            "text/plain": [
              "<graphviz.sources.Source at 0x7e5219b15240>"
            ]
          },
          "metadata": {},
          "execution_count": 237
        }
      ],
      "source": [
        "graph_data = tree.export_graphviz(clf,\n",
        "                            filled=True,\n",
        "                            rounded=True,\n",
        "                            feature_names=X.columns,\n",
        "                            class_names=clf.classes_.astype(str)\n",
        "                            )\n",
        "\n",
        "graph = graphviz.Source(graph_data)\n",
        "graph.render(filename=f'descision_tree_7',format='png',directory = f\"{filepathdepth}\")\n",
        "graph"
      ]
    },
    {
      "cell_type": "code",
      "execution_count": null,
      "metadata": {
        "id": "RpHq-3zSVz4v"
      },
      "outputs": [],
      "source": [
        "dict_depth = {}\n",
        "dict_depth[\"max_depth\"]= [\"accuracy\"]\n",
        "i = 0\n",
        "for acc in accuracy:\n",
        "  if i == 0:\n",
        "    dict_depth[\"None\"] = [str(acc)]\n",
        "    i+=2\n",
        "  else:\n",
        "    dict_depth[str(i)] = [str(acc)]\n",
        "    i+=1"
      ]
    },
    {
      "cell_type": "code",
      "source": [
        "filepathgraph = f\"{filepathdepth}/Accuracy_Max_Depth\"\n",
        "if not os.path.isdir(filepathgraph):\n",
        "    os.mkdir(filepathgraph)"
      ],
      "metadata": {
        "id": "jK45Hb9uIt-H"
      },
      "execution_count": null,
      "outputs": []
    },
    {
      "cell_type": "code",
      "source": [
        "df = pd.DataFrame(dict_depth)\n",
        "df.to_csv(f\"{filepathgraph}/accuracyTable.csv\",index=False)\n"
      ],
      "metadata": {
        "id": "K5VJppMVG5jn"
      },
      "execution_count": null,
      "outputs": []
    },
    {
      "cell_type": "code",
      "source": [
        "df"
      ],
      "metadata": {
        "colab": {
          "base_uri": "https://localhost:8080/",
          "height": 101
        },
        "id": "BLf5yMUDLtnT",
        "outputId": "9e453764-f223-4c33-cdd8-58aab28f3d90"
      },
      "execution_count": null,
      "outputs": [
        {
          "output_type": "execute_result",
          "data": {
            "text/plain": [
              "  max_depth                None                   2                   3  \\\n",
              "0  accuracy  0.8888888888888888  0.9166666666666666  0.9444444444444444   \n",
              "\n",
              "                    4                   5                   6  \\\n",
              "0  0.8888888888888888  0.8888888888888888  0.8888888888888888   \n",
              "\n",
              "                    7  \n",
              "0  0.9444444444444444  "
            ],
            "text/html": [
              "\n",
              "  <div id=\"df-b62759e2-6811-4cf7-b3ad-8c3157ba7e65\" class=\"colab-df-container\">\n",
              "    <div>\n",
              "<style scoped>\n",
              "    .dataframe tbody tr th:only-of-type {\n",
              "        vertical-align: middle;\n",
              "    }\n",
              "\n",
              "    .dataframe tbody tr th {\n",
              "        vertical-align: top;\n",
              "    }\n",
              "\n",
              "    .dataframe thead th {\n",
              "        text-align: right;\n",
              "    }\n",
              "</style>\n",
              "<table border=\"1\" class=\"dataframe\">\n",
              "  <thead>\n",
              "    <tr style=\"text-align: right;\">\n",
              "      <th></th>\n",
              "      <th>max_depth</th>\n",
              "      <th>None</th>\n",
              "      <th>2</th>\n",
              "      <th>3</th>\n",
              "      <th>4</th>\n",
              "      <th>5</th>\n",
              "      <th>6</th>\n",
              "      <th>7</th>\n",
              "    </tr>\n",
              "  </thead>\n",
              "  <tbody>\n",
              "    <tr>\n",
              "      <th>0</th>\n",
              "      <td>accuracy</td>\n",
              "      <td>0.8888888888888888</td>\n",
              "      <td>0.9166666666666666</td>\n",
              "      <td>0.9444444444444444</td>\n",
              "      <td>0.8888888888888888</td>\n",
              "      <td>0.8888888888888888</td>\n",
              "      <td>0.8888888888888888</td>\n",
              "      <td>0.9444444444444444</td>\n",
              "    </tr>\n",
              "  </tbody>\n",
              "</table>\n",
              "</div>\n",
              "    <div class=\"colab-df-buttons\">\n",
              "\n",
              "  <div class=\"colab-df-container\">\n",
              "    <button class=\"colab-df-convert\" onclick=\"convertToInteractive('df-b62759e2-6811-4cf7-b3ad-8c3157ba7e65')\"\n",
              "            title=\"Convert this dataframe to an interactive table.\"\n",
              "            style=\"display:none;\">\n",
              "\n",
              "  <svg xmlns=\"http://www.w3.org/2000/svg\" height=\"24px\" viewBox=\"0 -960 960 960\">\n",
              "    <path d=\"M120-120v-720h720v720H120Zm60-500h600v-160H180v160Zm220 220h160v-160H400v160Zm0 220h160v-160H400v160ZM180-400h160v-160H180v160Zm440 0h160v-160H620v160ZM180-180h160v-160H180v160Zm440 0h160v-160H620v160Z\"/>\n",
              "  </svg>\n",
              "    </button>\n",
              "\n",
              "  <style>\n",
              "    .colab-df-container {\n",
              "      display:flex;\n",
              "      gap: 12px;\n",
              "    }\n",
              "\n",
              "    .colab-df-convert {\n",
              "      background-color: #E8F0FE;\n",
              "      border: none;\n",
              "      border-radius: 50%;\n",
              "      cursor: pointer;\n",
              "      display: none;\n",
              "      fill: #1967D2;\n",
              "      height: 32px;\n",
              "      padding: 0 0 0 0;\n",
              "      width: 32px;\n",
              "    }\n",
              "\n",
              "    .colab-df-convert:hover {\n",
              "      background-color: #E2EBFA;\n",
              "      box-shadow: 0px 1px 2px rgba(60, 64, 67, 0.3), 0px 1px 3px 1px rgba(60, 64, 67, 0.15);\n",
              "      fill: #174EA6;\n",
              "    }\n",
              "\n",
              "    .colab-df-buttons div {\n",
              "      margin-bottom: 4px;\n",
              "    }\n",
              "\n",
              "    [theme=dark] .colab-df-convert {\n",
              "      background-color: #3B4455;\n",
              "      fill: #D2E3FC;\n",
              "    }\n",
              "\n",
              "    [theme=dark] .colab-df-convert:hover {\n",
              "      background-color: #434B5C;\n",
              "      box-shadow: 0px 1px 3px 1px rgba(0, 0, 0, 0.15);\n",
              "      filter: drop-shadow(0px 1px 2px rgba(0, 0, 0, 0.3));\n",
              "      fill: #FFFFFF;\n",
              "    }\n",
              "  </style>\n",
              "\n",
              "    <script>\n",
              "      const buttonEl =\n",
              "        document.querySelector('#df-b62759e2-6811-4cf7-b3ad-8c3157ba7e65 button.colab-df-convert');\n",
              "      buttonEl.style.display =\n",
              "        google.colab.kernel.accessAllowed ? 'block' : 'none';\n",
              "\n",
              "      async function convertToInteractive(key) {\n",
              "        const element = document.querySelector('#df-b62759e2-6811-4cf7-b3ad-8c3157ba7e65');\n",
              "        const dataTable =\n",
              "          await google.colab.kernel.invokeFunction('convertToInteractive',\n",
              "                                                    [key], {});\n",
              "        if (!dataTable) return;\n",
              "\n",
              "        const docLinkHtml = 'Like what you see? Visit the ' +\n",
              "          '<a target=\"_blank\" href=https://colab.research.google.com/notebooks/data_table.ipynb>data table notebook</a>'\n",
              "          + ' to learn more about interactive tables.';\n",
              "        element.innerHTML = '';\n",
              "        dataTable['output_type'] = 'display_data';\n",
              "        await google.colab.output.renderOutput(dataTable, element);\n",
              "        const docLink = document.createElement('div');\n",
              "        docLink.innerHTML = docLinkHtml;\n",
              "        element.appendChild(docLink);\n",
              "      }\n",
              "    </script>\n",
              "  </div>\n",
              "\n",
              "    </div>\n",
              "  </div>\n"
            ]
          },
          "metadata": {},
          "execution_count": 242
        }
      ]
    }
  ],
  "metadata": {
    "kaggle": {
      "accelerator": "none",
      "dataSources": [],
      "dockerImageVersionId": 30587,
      "isGpuEnabled": false,
      "isInternetEnabled": true,
      "language": "python",
      "sourceType": "notebook"
    },
    "kernelspec": {
      "display_name": "Python 3",
      "language": "python",
      "name": "python3"
    },
    "language_info": {
      "codemirror_mode": {
        "name": "ipython",
        "version": 3
      },
      "file_extension": ".py",
      "mimetype": "text/x-python",
      "name": "python",
      "nbconvert_exporter": "python",
      "pygments_lexer": "ipython3",
      "version": "3.12.0"
    },
    "colab": {
      "provenance": []
    }
  },
  "nbformat": 4,
  "nbformat_minor": 0
}